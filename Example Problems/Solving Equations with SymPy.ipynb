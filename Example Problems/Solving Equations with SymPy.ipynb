{
 "cells": [
  {
   "cell_type": "markdown",
   "metadata": {},
   "source": [
    "# Solving Equations with SymPy\n",
    "\n",
    "This notebook shows how to solve equations using the the [SymPy](http://www.sympy.org/en/index.html) library for symbolic mathematics in Python. The notebook introducesj just the features of SymPy to get the job done and enable you to tackle homework problems. \n",
    "\n",
    "## Problem Statement\n",
    "\n",
    "Find a numerical solution to a system of three linear equations in three unknowns.\n",
    "\n",
    "\\begin{eqnarray*}\n",
    "x + 2 y - z & = & 4 \\\\\n",
    "2x + y + z & = & -2 \\\\\n",
    "x + 2 y + z & = & 2\n",
    "\\end{eqnarray*}\n",
    "\n",
    "## Solution\n",
    "\n",
    "### Step 1. Import SymPy\n",
    "\n",
    "In Python (unlike Matlab), it is always necessary to explicitly import libraries before they can be used.  This only needs to be done once per session. In this case we assign a prefix `sym` to the functions imported from SymPy."
   ]
  },
  {
   "cell_type": "code",
   "execution_count": 3,
   "metadata": {
    "collapsed": true
   },
   "outputs": [],
   "source": [
    "import sympy as sym"
   ]
  },
  {
   "cell_type": "markdown",
   "metadata": {},
   "source": [
    "### Step 2. Declare symbolic variables for each unknown.\n",
    "\n",
    "The first SymPy function we need is `var()`.  The simplest way to use the function is by passing a string argument specifying the name of the symbolic variable you wish to use."
   ]
  },
  {
   "cell_type": "code",
   "execution_count": 6,
   "metadata": {
    "collapsed": false
   },
   "outputs": [],
   "source": [
    "x = sym.var('x')\n",
    "y = sym.var('y')\n",
    "z = sym.var('z')"
   ]
  },
  {
   "cell_type": "markdown",
   "metadata": {},
   "source": [
    "Step 3. "
   ]
  },
  {
   "cell_type": "code",
   "execution_count": 5,
   "metadata": {
    "collapsed": true
   },
   "outputs": [],
   "source": [
    "eqn1 = sym.Eq(3*x + 4*y - 2*z, 12.0)\n",
    "eqn2 = sym.Eq(x + z, 14)\n",
    "eqn3 = sym.Eq(y - z, -2)"
   ]
  },
  {
   "cell_type": "code",
   "execution_count": 12,
   "metadata": {
    "collapsed": false
   },
   "outputs": [],
   "source": [
    "soln = sym.solve([eqn1, eqn2, eqn3])"
   ]
  },
  {
   "cell_type": "code",
   "execution_count": 13,
   "metadata": {
    "collapsed": false
   },
   "outputs": [
    {
     "data": {
      "text/plain": [
       "-8.00000000000000"
      ]
     },
     "execution_count": 13,
     "metadata": {},
     "output_type": "execute_result"
    }
   ],
   "source": [
    "soln[x]"
   ]
  },
  {
   "cell_type": "code",
   "execution_count": 14,
   "metadata": {
    "collapsed": false
   },
   "outputs": [
    {
     "data": {
      "text/plain": [
       "20.0000000000000"
      ]
     },
     "execution_count": 14,
     "metadata": {},
     "output_type": "execute_result"
    }
   ],
   "source": [
    "soln[y]"
   ]
  },
  {
   "cell_type": "code",
   "execution_count": 15,
   "metadata": {
    "collapsed": false
   },
   "outputs": [
    {
     "data": {
      "text/plain": [
       "22.0000000000000"
      ]
     },
     "execution_count": 15,
     "metadata": {},
     "output_type": "execute_result"
    }
   ],
   "source": [
    "soln[z]"
   ]
  },
  {
   "cell_type": "code",
   "execution_count": null,
   "metadata": {
    "collapsed": true
   },
   "outputs": [],
   "source": []
  }
 ],
 "metadata": {
  "anaconda-cloud": {},
  "kernelspec": {
   "display_name": "Python [Root]",
   "language": "python",
   "name": "Python [Root]"
  },
  "language_info": {
   "codemirror_mode": {
    "name": "ipython",
    "version": 2
   },
   "file_extension": ".py",
   "mimetype": "text/x-python",
   "name": "python",
   "nbconvert_exporter": "python",
   "pygments_lexer": "ipython2",
   "version": "2.7.12"
  }
 },
 "nbformat": 4,
 "nbformat_minor": 0
}
