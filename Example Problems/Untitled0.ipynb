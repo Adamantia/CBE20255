{
  "nbformat": 4,
  "nbformat_minor": 0,
  "metadata": {
    "colab": {
      "name": "Untitled0.ipynb",
      "version": "0.3.2",
      "provenance": [],
      "include_colab_link": true
    },
    "kernelspec": {
      "name": "python3",
      "display_name": "Python 3"
    }
  },
  "cells": [
    {
      "cell_type": "markdown",
      "metadata": {
        "id": "view-in-github",
        "colab_type": "text"
      },
      "source": [
        "[View in Colaboratory](https://colab.research.google.com/github/jckantor/CBE20255/blob/master/Example%20Problems/Untitled0.ipynb)"
      ]
    },
    {
      "metadata": {
        "id": "1mG42N8fsbtr",
        "colab_type": "text"
      },
      "cell_type": "markdown",
      "source": [
        "# Test CoLab / Github integration\n"
      ]
    },
    {
      "metadata": {
        "id": "EwdFTXsesfy6",
        "colab_type": "code",
        "colab": {
          "base_uri": "https://localhost:8080/",
          "height": 34
        },
        "outputId": "2f140c00-913e-4e7d-8b7f-36e27e59a0d5"
      },
      "cell_type": "code",
      "source": [
        "a = 31\n",
        "print(a + 3)"
      ],
      "execution_count": 1,
      "outputs": [
        {
          "output_type": "stream",
          "text": [
            "34\n"
          ],
          "name": "stdout"
        }
      ]
    },
    {
      "metadata": {
        "id": "PQJDsnAlsh4j",
        "colab_type": "code",
        "colab": {}
      },
      "cell_type": "code",
      "source": [
        ""
      ],
      "execution_count": 0,
      "outputs": []
    }
  ]
}