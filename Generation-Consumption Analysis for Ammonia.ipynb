{
 "metadata": {
  "name": ""
 },
 "nbformat": 3,
 "nbformat_minor": 0,
 "worksheets": [
  {
   "cells": [
    {
     "cell_type": "heading",
     "level": 1,
     "metadata": {},
     "source": [
      "    Generation-Consumption Analysis for Ammonia"
     ]
    },
    {
     "cell_type": "heading",
     "level": 2,
     "metadata": {},
     "source": [
      "Production of Ammonia"
     ]
    },
    {
     "cell_type": "markdown",
     "metadata": {},
     "source": [
      "Steam Reforming of Methane\n",
      "\\\\[CH_4 + H_2O \\longrightarrow CO + 3\\,H_2\\\\]\n",
      "\n",
      "Water Gas Shift\n",
      "\\\\[CO + H_2O \\longrightarrow CO_2 + H_2 \\\\]\n",
      "\n",
      "Haber Reaction\n",
      "\\\\[N_2 + 3\\,H_2 \\longrightarrow 2\\,NH_3\\\\]"
     ]
    },
    {
     "cell_type": "code",
     "collapsed": false,
     "input": [
      "import sympy as sym\n",
      "from sympy import *"
     ],
     "language": "python",
     "metadata": {},
     "outputs": [],
     "prompt_number": 1
    },
    {
     "cell_type": "code",
     "collapsed": false,
     "input": [
      "var('x1')\n",
      "var('x2')\n",
      "var('x3')\n",
      "\n",
      "eqns = [\n",
      "    Eq(2*x3,1),\n",
      "    Eq(3*x1 + x2 -3*x3,0),\n",
      "    Eq(x1 - x2,0)]\n",
      "\n",
      "solve(eqns)"
     ],
     "language": "python",
     "metadata": {},
     "outputs": [
      {
       "metadata": {},
       "output_type": "pyout",
       "prompt_number": 7,
       "text": [
        "{x1: 3/8, x2: 3/8, x3: 1/2}"
       ]
      }
     ],
     "prompt_number": 7
    },
    {
     "cell_type": "code",
     "collapsed": false,
     "input": [],
     "language": "python",
     "metadata": {},
     "outputs": []
    }
   ],
   "metadata": {}
  }
 ]
}