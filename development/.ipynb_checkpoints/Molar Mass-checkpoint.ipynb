{
 "cells": [
  {
   "cell_type": "code",
   "execution_count": 1,
   "metadata": {
    "collapsed": false
   },
   "outputs": [],
   "source": [
    "def element(str,atomicnumber,amu):\n",
    "    return {'name':str, 'atomicnumber':atomicnumber, 'amu':amu}\n",
    "\n",
    "ppds = {};\n",
    "\n",
    "ppds['Q']  = element('charge',         0,   0)\n",
    "ppds['e']  = element('electron',       0,   0)\n",
    "ppds['H']  = element('hydrogen atom',  1,   1.00794)\n",
    "ppds['D']  = element('deuterium',      1,   2.01410178)\n",
    "ppds['T']  = element('tritium',        1,   3.0160492)\n",
    "ppds['He'] = element('helium',         2,   4.0026002)\n",
    "ppds['Li'] = element('lithium',        3,   6.941)\n",
    "ppds['Be'] = element('beryllium',      4,   9.012182)\n",
    "ppds['B']  = element('boron',          5,  10.811)\n",
    "ppds['C']  = element('carbon',         6,  12.011)\n",
    "ppds['N']  = element('nitrogen atom',  7,  14.00674)\n",
    "ppds['O']  = element('oxygen atom',    8,  15.9994)\n",
    "ppds['F']  = element('flourine',       9,  18.99840)\n",
    "ppds['Ne'] = element('neon',          10,  20.1797)\n",
    "ppds['Na'] = element('sodium',        11,  22.989768)\n",
    "ppds['Mg'] = element('magnesium',     12,  24.3050)\n",
    "ppds['Al'] = element('aluminium',     13,  26.981539)\n",
    "ppds['Si'] = element('silicon',       14,  28.0855)\n",
    "ppds['P']  = element('phosphorus',    15,  30.97362)\n",
    "ppds['S']  = element('sulfur',        16,  32.066)\n",
    "ppds['Cl'] = element('chlorine atom', 17,  35.4527)\n",
    "ppds['Ar'] = element('argon',         18,  39.948)\n",
    "ppds['K']  = element('potassium',     19,  39.0983)\n",
    "ppds['Ca'] = element('calcium',       20,  40.078)\n",
    "ppds['Sc'] = element('scandium',      21,  44.95591)\n",
    "ppds['Ti'] = element('titanium',      22,  47.88)\n",
    "ppds['V']  = element('vanadium',      23,  50.9415)\n",
    "ppds['Cr'] = element('chromium',      24,  51.9961)\n",
    "ppds['Mn'] = element('manganese',     25,  54.93085)\n",
    "ppds['Fe'] = element('iron',          26,  55.847)\n",
    "ppds['Co'] = element('cobalt',        27,  58.9332)\n",
    "ppds['Ni'] = element('nickel',        28,  58.69)\n",
    "ppds['Cu'] = element('copper',        29,  63.546)\n",
    "ppds['Zn'] = element('zinc',          30,  65.39)\n",
    "ppds['Ga'] = element('gallium',       31,  69.723)\n",
    "ppds['Ge'] = element('germanium',     32,  72.61)\n",
    "ppds['As'] = element('arsenic',       33,  74.92159)\n",
    "ppds['Se'] = element('selenium',      34,  78.96)\n",
    "ppds['Br'] = element('bromine',       35,  79.904)\n",
    "ppds['Kr'] = element('krypton',       36,  83.80)\n",
    "ppds['Rb'] = element('rubidium',      37,  85.4678)\n",
    "ppds['Sr'] = element('strontium',     38,  87.62)\n",
    "ppds['Y']  = element('yttrium',       39,  88.90585)\n",
    "ppds['Zr'] = element('zirconium',     40,  91.224)\n",
    "ppds['Nb'] = element('niobium',       41,  92.90638)\n",
    "ppds['Mo'] = element('molybdenum',    42,  95.94)\n",
    "ppds['Tc'] = element('technetium',    43,  98)\n",
    "ppds['Ru'] = element('ruthenium',     44, 101.070)\n",
    "ppds['Rh'] = element('rhodium',       45, 102.9055)\n",
    "ppds['Pd'] = element('palladium',     46, 106.42)\n",
    "ppds['Ag'] = element('silver',        47, 107.8682)\n",
    "ppds['Cd'] = element('cadmium',       48, 112.411)\n",
    "ppds['In'] = element('indium',        49, 114.82)\n",
    "ppds['Sn'] = element('tin',           50, 118.71)\n",
    "ppds['Sb'] = element('antimony',      51, 121.75)\n",
    "ppds['Te'] = element('tellurium',     52, 127.60)\n",
    "ppds['I']  = element('iodine',        53, 126.90447)\n",
    "ppds['Xe'] = element('xenon',         54, 131.29)\n",
    "ppds['Cs'] = element('cesium',        55, 132.90543)\n",
    "ppds['Ba'] = element('barium',        56, 137.327)\n",
    "ppds['La'] = element('lanthanum',     57, 138.9055)\n",
    "ppds['Ce'] = element('cerium',        58, 140.115)\n",
    "ppds['Pr'] = element('praseodymium',  59, 140.90765)\n",
    "ppds['Nd'] = element('neodymium',     60, 144.24)\n",
    "ppds['Pm'] = element('promethium',    61, 145)\n",
    "ppds['Sm'] = element('samarium',      62, 150.36)\n",
    "ppds['Eu'] = element('europium',      63, 151.965)\n",
    "ppds['Gd'] = element('gadolinium',    64, 157.25)\n",
    "ppds['Tb'] = element('terbium',       65, 158.92534)\n",
    "ppds['Dy'] = element('dysprosium',    66, 162.50)\n",
    "ppds['Ho'] = element('holmium',       67, 164.92032)\n",
    "ppds['Er'] = element('erbium',        68, 167.26)\n",
    "ppds['Tm'] = element('thulium',       69, 168.93421)\n",
    "ppds['Yb'] = element('ytterbium',     70, 173.04)\n",
    "ppds['Lu'] = element('lutetium',      71, 174.967)\n",
    "ppds['Hf'] = element('hafnium',       72, 178.49)\n",
    "ppds['Ta'] = element('tantalum',      73, 180.9479)\n",
    "ppds['W']  = element('tungsten',      74, 183.85)\n",
    "ppds['Re'] = element('rhenium',       75, 186.207)\n",
    "ppds['Os'] = element('osmium',        76, 190.2)\n",
    "ppds['Ir'] = element('iridium',       77, 192.22)\n",
    "ppds['Pt'] = element('platinum',      78, 195.09)\n",
    "ppds['Au'] = element('gold',          79, 196.96654)\n",
    "ppds['Hg'] = element('mercury',       80, 200.59)\n",
    "ppds['Tl'] = element('thallium',      81, 204.3833)\n",
    "ppds['Pb'] = element('lead',          82, 207.2)\n",
    "ppds['Bi'] = element('bismuth',       83, 208.98037)\n",
    "ppds['Po'] = element('polonium',      84, 209)\n",
    "ppds['At'] = element('astatine',      85, 210)\n",
    "ppds['Rn'] = element('radon',         86, 222)\n",
    "ppds['Fr'] = element('francium',      87, 223)\n",
    "ppds['Ra'] = element('radium',        88, 226.025)\n",
    "ppds['Ac'] = element('actinium',      89, 227.028)\n",
    "ppds['Th'] = element('thorium',       90, 232.0381)\n",
    "ppds['Pa'] = element('protactinium',  91, 231.03588)\n",
    "ppds['U']  = element('uranium',       92, 238.0289)\n",
    "ppds['Np'] = element('neptunium',     93, 237.0482)\n",
    "ppds['Pu'] = element('plutonium',     94, 244)\n",
    "ppds['Am'] = element('americium',     95, 243)\n",
    "ppds['Cm'] = element('curium',        96, 247)\n",
    "ppds['Bk'] = element('berkelium',     97, 247)\n",
    "ppds['Cf'] = element('californium',   98, 251)\n",
    "ppds['Es'] = element('einsteinium',   99, 252)\n",
    "ppds['Fm'] = element('fermium',      100, 257)"
   ]
  },
  {
   "cell_type": "code",
   "execution_count": 2,
   "metadata": {
    "collapsed": false
   },
   "outputs": [],
   "source": [
    "import re\n",
    " \n",
    "def find_closing_paren(tokens):\n",
    "    count = 0\n",
    "    for index, tok in enumerate(tokens):\n",
    "        if tok == ')':\n",
    "            count -= 1\n",
    "            if count == 0:\n",
    "                return index\n",
    "        elif tok == '(':\n",
    "            count += 1\n",
    "    raise ValueError('unmatched parentheses')\n",
    " \n",
    "def parse(tokens, stack):\n",
    "    if len(tokens) == 0:\n",
    "        return sum(stack)\n",
    "    tok = tokens[0]\n",
    "    if tok == '(':\n",
    "        end = find_closing_paren(tokens)\n",
    "        stack.append(parse(tokens[1:end], []))\n",
    "        return parse(tokens[end + 1:], stack)\n",
    "    elif tok.isdigit():\n",
    "        stack[-1] *= int(tok)\n",
    "    else:\n",
    "        stack.append(ppds[tok]['amu'])\n",
    "    return parse(tokens[1:], stack)\n",
    "\n",
    "srex = ('A[lrsgutcm]|B[eraik]?|C[laroudsemf]?|D[y]?|E[urs]|' +\n",
    "    'F[erm]?|G[aed]|H[eofgas]?|I[nr]?|Kr?|L[iaur]|' +\n",
    "    'M[gnodt]?|N[eaibdpos]?|Os?|P[drmtboau]?|R[buhenaf]|' +\n",
    "    'S[icernbmg]?|T[icebmalh]?|U|V|W|X[e]?|Yb?|Z[nr]')\n",
    "\n",
    "def mw(formula):\n",
    "    tokens = re.findall(srex + r'|\\d+|\\(|\\)', formula)\n",
    "    return parse(tokens, [])\n",
    "\n",
    "def charge(formula):\n",
    "    return 0"
   ]
  },
  {
   "cell_type": "code",
   "execution_count": 3,
   "metadata": {
    "collapsed": false
   },
   "outputs": [
    {
     "name": "stdout",
     "output_type": "stream",
     "text": [
      "H2                    2.016\n",
      "H2O                  18.015\n",
      "CH4                  16.043\n",
      "CH3(CH2)18(CH3)     282.553\n",
      "H2SO4                98.079\n",
      "BaCl2               208.232\n"
     ]
    }
   ],
   "source": [
    "test = ['H2','H2O','CH4','CH3(CH2)18(CH3)','H2SO4','BaCl2']\n",
    "\n",
    "for t in test:\n",
    "    print \"{:<18s} {:>8.3f}\".format(t,mw(t))\n",
    "\n"
   ]
  },
  {
   "cell_type": "code",
   "execution_count": 4,
   "metadata": {
    "collapsed": false
   },
   "outputs": [],
   "source": [
    "srex = ('(A[lrsgutcm]|B[eraik]?|C[laroudsemf]?|D[y]?|E[urs]|' +\n",
    "    'F[erm]?|G[aed]|H[eofgas]?|I[nr]?|Kr?|L[iaur]|' +\n",
    "    'M[gnodt]?|N[eaibdpos]?|Os?|P[drmtboau]?|R[buhenaf]|' +\n",
    "    'S[icernbmg]?|T[icebmalh]?|U|V|W|X[e]?|Yb?|Z[nr])' +\n",
    "    '(\\d*\\.\\d+|\\d*)([e+-]?\\d*)')\n",
    "\n",
    "grex = '|\\(([^\\)]*)\\)(\\d*\\.\\d+|\\d*)|\\[([^\\]]*)\\](\\d*\\.\\d+|\\d*)'"
   ]
  },
  {
   "cell_type": "code",
   "execution_count": 5,
   "metadata": {
    "collapsed": false
   },
   "outputs": [],
   "source": [
    "s = '([e+-])(\\d*)'"
   ]
  },
  {
   "cell_type": "code",
   "execution_count": 6,
   "metadata": {
    "collapsed": false
   },
   "outputs": [],
   "source": [
    "q = re.compile(s)"
   ]
  },
  {
   "cell_type": "code",
   "execution_count": 8,
   "metadata": {
    "collapsed": false
   },
   "outputs": [
    {
     "ename": "TypeError",
     "evalue": "expected string or buffer",
     "output_type": "error",
     "traceback": [
      "\u001b[0;31m---------------------------------------------------------------------------\u001b[0m",
      "\u001b[0;31mTypeError\u001b[0m                                 Traceback (most recent call last)",
      "\u001b[0;32m<ipython-input-8-8b788a13d3b2>\u001b[0m in \u001b[0;36m<module>\u001b[0;34m()\u001b[0m\n\u001b[0;32m----> 1\u001b[0;31m \u001b[0mmw\u001b[0m\u001b[0;34m(\u001b[0m\u001b[0;34m[\u001b[0m\u001b[0;34m'CH4'\u001b[0m\u001b[0;34m]\u001b[0m\u001b[0;34m)\u001b[0m\u001b[0;34m\u001b[0m\u001b[0m\n\u001b[0m",
      "\u001b[0;32m<ipython-input-2-a3e51a7e6fb1>\u001b[0m in \u001b[0;36mmw\u001b[0;34m(formula)\u001b[0m\n\u001b[1;32m     32\u001b[0m \u001b[0;34m\u001b[0m\u001b[0m\n\u001b[1;32m     33\u001b[0m \u001b[0;32mdef\u001b[0m \u001b[0mmw\u001b[0m\u001b[0;34m(\u001b[0m\u001b[0mformula\u001b[0m\u001b[0;34m)\u001b[0m\u001b[0;34m:\u001b[0m\u001b[0;34m\u001b[0m\u001b[0m\n\u001b[0;32m---> 34\u001b[0;31m     \u001b[0mtokens\u001b[0m \u001b[0;34m=\u001b[0m \u001b[0mre\u001b[0m\u001b[0;34m.\u001b[0m\u001b[0mfindall\u001b[0m\u001b[0;34m(\u001b[0m\u001b[0msrex\u001b[0m \u001b[0;34m+\u001b[0m \u001b[0;34mr'|\\d+|\\(|\\)'\u001b[0m\u001b[0;34m,\u001b[0m \u001b[0mformula\u001b[0m\u001b[0;34m)\u001b[0m\u001b[0;34m\u001b[0m\u001b[0m\n\u001b[0m\u001b[1;32m     35\u001b[0m     \u001b[0;32mreturn\u001b[0m \u001b[0mparse\u001b[0m\u001b[0;34m(\u001b[0m\u001b[0mtokens\u001b[0m\u001b[0;34m,\u001b[0m \u001b[0;34m[\u001b[0m\u001b[0;34m]\u001b[0m\u001b[0;34m)\u001b[0m\u001b[0;34m\u001b[0m\u001b[0m\n\u001b[1;32m     36\u001b[0m \u001b[0;34m\u001b[0m\u001b[0m\n",
      "\u001b[0;32m/Users/jeff/anaconda/lib/python2.7/re.pyc\u001b[0m in \u001b[0;36mfindall\u001b[0;34m(pattern, string, flags)\u001b[0m\n\u001b[1;32m    179\u001b[0m \u001b[0;34m\u001b[0m\u001b[0m\n\u001b[1;32m    180\u001b[0m     Empty matches are included in the result.\"\"\"\n\u001b[0;32m--> 181\u001b[0;31m     \u001b[0;32mreturn\u001b[0m \u001b[0m_compile\u001b[0m\u001b[0;34m(\u001b[0m\u001b[0mpattern\u001b[0m\u001b[0;34m,\u001b[0m \u001b[0mflags\u001b[0m\u001b[0;34m)\u001b[0m\u001b[0;34m.\u001b[0m\u001b[0mfindall\u001b[0m\u001b[0;34m(\u001b[0m\u001b[0mstring\u001b[0m\u001b[0;34m)\u001b[0m\u001b[0;34m\u001b[0m\u001b[0m\n\u001b[0m\u001b[1;32m    182\u001b[0m \u001b[0;34m\u001b[0m\u001b[0m\n\u001b[1;32m    183\u001b[0m \u001b[0;32mif\u001b[0m \u001b[0msys\u001b[0m\u001b[0;34m.\u001b[0m\u001b[0mhexversion\u001b[0m \u001b[0;34m>=\u001b[0m \u001b[0;36m0x02020000\u001b[0m\u001b[0;34m:\u001b[0m\u001b[0;34m\u001b[0m\u001b[0m\n",
      "\u001b[0;31mTypeError\u001b[0m: expected string or buffer"
     ]
    }
   ],
   "source": [
    "mw(['CH4'])"
   ]
  },
  {
   "cell_type": "code",
   "execution_count": null,
   "metadata": {
    "collapsed": true
   },
   "outputs": [],
   "source": []
  }
 ],
 "metadata": {
  "kernelspec": {
   "display_name": "Python 2",
   "language": "python",
   "name": "python2"
  },
  "language_info": {
   "codemirror_mode": {
    "name": "ipython",
    "version": 2
   },
   "file_extension": ".py",
   "mimetype": "text/x-python",
   "name": "python",
   "nbconvert_exporter": "python",
   "pygments_lexer": "ipython2",
   "version": "2.7.9"
  }
 },
 "nbformat": 4,
 "nbformat_minor": 0
}
