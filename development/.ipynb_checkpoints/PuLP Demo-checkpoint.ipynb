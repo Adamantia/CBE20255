{
 "metadata": {
  "name": ""
 },
 "nbformat": 3,
 "nbformat_minor": 0,
 "worksheets": [
  {
   "cells": [
    {
     "cell_type": "heading",
     "level": 1,
     "metadata": {},
     "source": [
      "Solving Linear Programming Problems with PuLP"
     ]
    },
    {
     "cell_type": "markdown",
     "metadata": {},
     "source": [
      "This [IPython notebook](http://ipython.org/notebook.html) demonstrates the use of the [Python package PuLP](https://pypi.python.org/pypi/PuLP/1.5.4) for the modeling and solution of linear programming problems.\n",
      "\n",
      "J.C. Kantor (Kantor.1@nd.edu)\n",
      "   \n",
      "The latest version of this IPython notebook is available at [http://github.com/jckantor/CBE20255](http://github.com/jckantor/CBE20255)  for noncommercial use under terms of the [Creative Commons Attribution Noncommericial ShareAlike License](http://creativecommons.org/licenses/by-nc-sa/4.0/)."
     ]
    },
    {
     "cell_type": "heading",
     "level": 2,
     "metadata": {},
     "source": [
      "Installing PuLP"
     ]
    },
    {
     "cell_type": "code",
     "collapsed": false,
     "input": [
      "!pip install PuLP"
     ],
     "language": "python",
     "metadata": {},
     "outputs": [
      {
       "output_type": "stream",
       "stream": "stdout",
       "text": [
        "Requirement already satisfied (use --upgrade to upgrade): PuLP in /Applications/anaconda/lib/python2.7/site-packages\r\n",
        "Requirement already satisfied (use --upgrade to upgrade): pyparsing<=1.9.9 in /Applications/anaconda/lib/python2.7/site-packages (from PuLP)\r\n",
        "Cleaning up...\r\n"
       ]
      }
     ],
     "prompt_number": 19
    },
    {
     "cell_type": "heading",
     "level": 2,
     "metadata": {},
     "source": [
      "Example 1: Giapetto's Workshop"
     ]
    },
    {
     "cell_type": "heading",
     "level": 3,
     "metadata": {},
     "source": [
      "Model Formulation"
     ]
    },
    {
     "cell_type": "code",
     "collapsed": false,
     "input": [
      "import pulp\n",
      "\n",
      "# Create problem instance\n",
      "lp = pulp.LpProblem(\"Giapetto's Workshop\", pulp.LpMaximize)\n",
      "\n",
      "# Define Variables with lower bounds of zero\n",
      "x1 = pulp.LpVariable(\"Soldiers\",0)\n",
      "x2 = pulp.LpVariable(\"Trains\",0)\n",
      "\n",
      "# Add Objective\n",
      "lp += 3*x1 + 2*x2, \"Profit\"\n",
      "\n",
      "# Add Constraints\n",
      "lp += 2*x1 + x2 <= 100,\"Finishing Labor\"\n",
      "lp += x1 + x2 <= 80, \"Carpentry Labor\"\n",
      "lp += x1 <= 40, \"Soldier Demand\"\n",
      "\n",
      "# Display Problem\n",
      "lp"
     ],
     "language": "python",
     "metadata": {},
     "outputs": [
      {
       "metadata": {},
       "output_type": "pyout",
       "prompt_number": 6,
       "text": [
        "Giapetto's Workshop:\n",
        "MAXIMIZE\n",
        "3*Soldiers + 2*Trains + 0\n",
        "SUBJECT TO\n",
        "Finishing_Labor: 2 Soldiers + Trains <= 100\n",
        "\n",
        "Carpentry_Labor: Soldiers + Trains <= 80\n",
        "\n",
        "Soldier_Demand: Soldiers <= 40\n",
        "\n",
        "VARIABLES\n",
        "Soldiers Continuous\n",
        "Trains Continuous\n"
       ]
      }
     ],
     "prompt_number": 6
    },
    {
     "cell_type": "heading",
     "level": 3,
     "metadata": {},
     "source": [
      "Model Solution"
     ]
    },
    {
     "cell_type": "code",
     "collapsed": false,
     "input": [
      "lp.solve()\n",
      "\n",
      "LpStatus[lp.status]"
     ],
     "language": "python",
     "metadata": {},
     "outputs": [
      {
       "metadata": {},
       "output_type": "pyout",
       "prompt_number": 22,
       "text": [
        "'Optimal'"
       ]
      }
     ],
     "prompt_number": 22
    },
    {
     "cell_type": "code",
     "collapsed": false,
     "input": [
      "print value(x1)\n",
      "print value(x2)"
     ],
     "language": "python",
     "metadata": {},
     "outputs": [
      {
       "output_type": "stream",
       "stream": "stdout",
       "text": [
        "20.0\n",
        "60.0\n"
       ]
      }
     ],
     "prompt_number": 24
    },
    {
     "cell_type": "code",
     "collapsed": false,
     "input": [
      "for v in lp.variables():\n",
      "    print \"{:<8s}  {:<3.2g}  {:<4} {:12} = {:5}\".format(v.name, v.lowBound, v.upBound, v.cat, v.varValue)\n",
      "    "
     ],
     "language": "python",
     "metadata": {},
     "outputs": [
      {
       "output_type": "stream",
       "stream": "stdout",
       "text": [
        "Soldiers  0    None Continuous   =  20.0\n",
        "Trains    0    None Continuous   =  60.0\n"
       ]
      }
     ],
     "prompt_number": 25
    },
    {
     "cell_type": "code",
     "collapsed": false,
     "input": [
      "for c in lp.constraints:\n",
      "    print c.values()"
     ],
     "language": "python",
     "metadata": {},
     "outputs": [
      {
       "ename": "AttributeError",
       "evalue": "'str' object has no attribute 'values'",
       "output_type": "pyerr",
       "traceback": [
        "\u001b[0;31m---------------------------------------------------------------------------\u001b[0m\n\u001b[0;31mAttributeError\u001b[0m                            Traceback (most recent call last)",
        "\u001b[0;32m<ipython-input-29-a719fd89ce61>\u001b[0m in \u001b[0;36m<module>\u001b[0;34m()\u001b[0m\n\u001b[1;32m      1\u001b[0m \u001b[0;32mfor\u001b[0m \u001b[0mc\u001b[0m \u001b[0;32min\u001b[0m \u001b[0mlp\u001b[0m\u001b[0;34m.\u001b[0m\u001b[0mconstraints\u001b[0m\u001b[0;34m:\u001b[0m\u001b[0;34m\u001b[0m\u001b[0m\n\u001b[0;32m----> 2\u001b[0;31m     \u001b[0;32mprint\u001b[0m \u001b[0mc\u001b[0m\u001b[0;34m.\u001b[0m\u001b[0mvalues\u001b[0m\u001b[0;34m(\u001b[0m\u001b[0;34m)\u001b[0m\u001b[0;34m\u001b[0m\u001b[0m\n\u001b[0m",
        "\u001b[0;31mAttributeError\u001b[0m: 'str' object has no attribute 'values'"
       ]
      }
     ],
     "prompt_number": 29
    },
    {
     "cell_type": "code",
     "collapsed": false,
     "input": [
      "from IPython.display import display\n",
      "display(lp.constraints.values())"
     ],
     "language": "python",
     "metadata": {},
     "outputs": [
      {
       "metadata": {},
       "output_type": "display_data",
       "text": [
        "[2*Soldiers + 1*Trains + -100 <= 0,\n",
        " 1*Soldiers + 1*Trains + -80 <= 0,\n",
        " 1*Soldiers + -40 <= 0]"
       ]
      }
     ],
     "prompt_number": 30
    },
    {
     "cell_type": "code",
     "collapsed": false,
     "input": [
      "value(lp.constraints.values()[2])"
     ],
     "language": "python",
     "metadata": {},
     "outputs": [
      {
       "metadata": {},
       "output_type": "pyout",
       "prompt_number": 144,
       "text": [
        "-20.0"
       ]
      }
     ],
     "prompt_number": 144
    },
    {
     "cell_type": "code",
     "collapsed": false,
     "input": [
      "type(prob.variables())\n",
      "type(prob.constraints)"
     ],
     "language": "python",
     "metadata": {},
     "outputs": [
      {
       "metadata": {},
       "output_type": "pyout",
       "prompt_number": 40,
       "text": [
        "collections.OrderedDict"
       ]
      }
     ],
     "prompt_number": 40
    },
    {
     "cell_type": "code",
     "collapsed": false,
     "input": [
      "for v in prob.variables():\n",
      "    print v.name, v.varValue"
     ],
     "language": "python",
     "metadata": {},
     "outputs": [
      {
       "output_type": "stream",
       "stream": "stdout",
       "text": [
        "Soldiers 20.0\n",
        "Trains 60.0\n"
       ]
      }
     ],
     "prompt_number": 57
    }
   ],
   "metadata": {}
  }
 ]
}