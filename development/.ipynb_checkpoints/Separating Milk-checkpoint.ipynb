{
 "metadata": {
  "name": ""
 },
 "nbformat": 3,
 "nbformat_minor": 0,
 "worksheets": [
  {
   "cells": [
    {
     "cell_type": "heading",
     "level": 1,
     "metadata": {},
     "source": [
      "Separating Milk"
     ]
    },
    {
     "cell_type": "heading",
     "level": 2,
     "metadata": {},
     "source": [
      "Problem Statement"
     ]
    },
    {
     "cell_type": "markdown",
     "metadata": {},
     "source": [
      "5000 lb/hour of regular whole milk containing 3.85 wt% fat, and 8.85 wt% non-fat solids is processed by a continuous centrifuge to produce regular milk, skim milk, non-fat dry milk, and butterfat. \n",
      "\n",
      "<table>\n",
      "<thead><td> Component </td><td> Fat (wt%) </td><td> Non-fat Milk Solids (wt%) </td><td> Price </td></thead>\n",
      "<tr><td> Raw Milk </td><td> 3.85 </td><td> 8.85 </td><td>  -- </td></tr>\n",
      "<tr><td> Regular Milk </td><td> 3.25 </td><td> 8.25 </td><td> 21.48 \\$/cwt </td></tr>\n",
      "<tr><td> Skim Milk </td><td> 0.10 </td><td> 8.25 </td><td> 16.01 \\$/cwt </td></tr>\n",
      "<tr><td> Nonfat Dry Milk </td><td> 0.0 </td><td> 100.0 </td><td> 1.95 \\$/lb </td></tr>\n",
      "<tr><td> Butterfat </td><td> 100 </td><td> 0.0 </td><td> 1.77 \\$/lb </td></tr>\n",
      "</table>\n",
      "  \n",
      "http://dairyline.com/wpbackend/?p=7304\n",
      "http://usda01.library.cornell.edu/usda/current/CLASSCOMPONENTPRICE/CLASSCOMPONENTPRICE-01-02-2014.pdf\n"
     ]
    },
    {
     "cell_type": "heading",
     "level": 2,
     "metadata": {},
     "source": [
      "Solution"
     ]
    },
    {
     "cell_type": "code",
     "collapsed": false,
     "input": [
      "from sympy import *\n",
      "init_printing()"
     ],
     "language": "python",
     "metadata": {},
     "outputs": [],
     "prompt_number": 3
    },
    {
     "cell_type": "code",
     "collapsed": false,
     "input": [
      "var('M1 M2 M3 M4 M5 f1 f2 f3 f4 f5 s1 s2 s3 s4 s5')"
     ],
     "language": "python",
     "metadata": {},
     "outputs": [
      {
       "latex": [
        "$$\\begin{pmatrix}M_{1}, & M_{2}, & M_{3}, & M_{4}, & M_{5}, & f_{1}, & f_{2}, & f_{3}, & f_{4}, & f_{5}, & s_{1}, & s_{2}, & s_{3}, & s_{4}, & s_{5}\\end{pmatrix}$$"
       ],
       "metadata": {},
       "output_type": "pyout",
       "prompt_number": 37,
       "text": [
        "(M\u2081, M\u2082, M\u2083, M\u2084, M\u2085, f\u2081, f\u2082, f\u2083, f\u2084, f\u2085, s\u2081, s\u2082, s\u2083, s\u2084, s\u2085)"
       ]
      }
     ],
     "prompt_number": 37
    },
    {
     "cell_type": "code",
     "collapsed": false,
     "input": [
      "specs = [\n",
      "    Eq(M1, 5000)\n",
      "]"
     ],
     "language": "python",
     "metadata": {},
     "outputs": [],
     "prompt_number": 39
    },
    {
     "cell_type": "code",
     "collapsed": false,
     "input": [
      "mbal = [\n",
      "    Eq(M1, M2 + M3 + M4 + M5),\n",
      "    Eq(0.0385*M1, 0.0325*M2 + 0.001*M3 + 0*M4 + 1.00*M5),\n",
      "    Eq(0.0885*M1, 0.0825*M2 + 0.0825*M3 + 1.00*M4 + 0*M5)\n",
      "]"
     ],
     "language": "python",
     "metadata": {},
     "outputs": [],
     "prompt_number": 40
    },
    {
     "cell_type": "code",
     "collapsed": false,
     "input": [
      "display(specs + mbal)\n",
      "soln = solve(specs + mbal)\n",
      "soln"
     ],
     "language": "python",
     "metadata": {},
     "outputs": [
      {
       "latex": [
        "$$\\begin{bmatrix}M_{1} = 5000, & M_{1} = M_{2} + M_{3} + M_{4} + M_{5}, & 0.0385 M_{1} = 0.0325 M_{2} + 0.001 M_{3} + 1.0 M_{5}, & 0.0885 M_{1} = 0.0825 M_{2} + 0.0825 M_{3} + 1.0 M_{4}\\end{bmatrix}$$"
       ],
       "metadata": {},
       "output_type": "display_data",
       "png": "[encoded data removed]",
       "text": [
        "[M\u2081 = 5000, M\u2081 = M\u2082 + M\u2083 + M\u2084 + M\u2085, 0.0385\u22c5M\u2081 = 0.0325\u22c5M\u2082 + 0.001\u22c5M\u2083 + 1.0\u22c5M\u2085,\n",
        " 0.0885\u22c5M\u2081 = 0.0825\u22c5M\u2082 + 0.0825\u22c5M\u2083 + 1.0\u22c5M\u2084]"
       ]
      },
      {
       "latex": [
        "$$\\begin{Bmatrix}M_{1} : 5000.0, & M_{2} : - 31.711431166472 M_{5} + 5953.41896976774, & M_{3} : 30.6215129103412 M_{5} - 986.116517451667, & M_{4} : 0.0899182561307902 M_{5} + 32.6975476839237\\end{Bmatrix}$$"
       ],
       "metadata": {},
       "output_type": "pyout",
       "png": "[encoded data removed]",
       "prompt_number": 58,
       "text": [
        "{M\u2081: 5000.0, M\u2082: -31.711431166472\u22c5M\u2085 + 5953.41896976774, M\u2083: 30.6215129103412\u22c5\n",
        "M\u2085 - 986.116517451667, M\u2084: 0.0899182561307902\u22c5M\u2085 + 32.6975476839237}"
       ]
      }
     ],
     "prompt_number": 58
    },
    {
     "cell_type": "code",
     "collapsed": false,
     "input": [
      "M1.subs(soln)"
     ],
     "language": "python",
     "metadata": {},
     "outputs": []
    },
    {
     "cell_type": "code",
     "collapsed": false,
     "input": [
      "plot(M2.subs(soln),M3.subs(soln),M4.subs(soln),M5,(M5,0,200))\n",
      "Rev = 21.48*M2/100 + 16.01*M3/100 + 1.95*M4 + 1.77*M4\n",
      "plot(Rev.subs(soln),(M5,0,200))"
     ],
     "language": "python",
     "metadata": {},
     "outputs": [
      {
       "metadata": {},
       "output_type": "display_data",
       "png": "[encoded data removed]",
       "text": [
        "<matplotlib.figure.Figure at 0x1096c8150>"
       ]
      },
      {
       "metadata": {},
       "output_type": "display_data",
       "png": "[encoded data removed]",
       "text": [
        "<matplotlib.figure.Figure at 0x109a0b390>"
       ]
      },
      {
       "metadata": {},
       "output_type": "pyout",
       "prompt_number": 57,
       "text": [
        "<sympy.plotting.plot.Plot at 0x109281250>"
       ]
      }
     ],
     "prompt_number": 57
    },
    {
     "cell_type": "code",
     "collapsed": false,
     "input": [
      "opt = [Eq(M3,0)]\n",
      "\n",
      "soln = solve(specs + mbal + opt)\n",
      "soln"
     ],
     "language": "python",
     "metadata": {},
     "outputs": [
      {
       "latex": [
        "$$\\begin{Bmatrix}M_{1} : 5000.0, & M_{2} : 4932.20338983051, & M_{3} : 0.0, & M_{4} : 35.5932203389831, & M_{5} : 32.2033898305085\\end{Bmatrix}$$"
       ],
       "metadata": {},
       "output_type": "pyout",
       "png": "[encoded data removed]",
       "prompt_number": 60,
       "text": [
        "{M\u2081: 5000.0, M\u2082: 4932.20338983051, M\u2083: 0.0, M\u2084: 35.5932203389831, M\u2085: 32.20338\n",
        "98305085}"
       ]
      }
     ],
     "prompt_number": 60
    },
    {
     "cell_type": "code",
     "collapsed": false,
     "input": [
      "Milk = (W1 + F1).subs(soln)\n",
      "Skim = (W2 + F2).subs(soln)\n",
      "Cream = (W3 + F3).subs(soln)"
     ],
     "language": "python",
     "metadata": {},
     "outputs": [],
     "prompt_number": 35
    },
    {
     "cell_type": "code",
     "collapsed": false,
     "input": [
      "print \"Milk = {:.1f} lb/hour\".format(float(Milk))\n",
      "print \"Skim = {:.1f} lb/hour\".format(float(Skim))\n",
      "print \"Cream = {:.1f} lb/hour\".format(float(Cream))"
     ],
     "language": "python",
     "metadata": {},
     "outputs": [
      {
       "output_type": "stream",
       "stream": "stdout",
       "text": [
        "Milk = 5000.0 kg/hour\n",
        "Skim = 4649.2 kg/hour\n",
        "Cream = 350.8 kg/hour\n"
       ]
      }
     ],
     "prompt_number": 36
    },
    {
     "cell_type": "code",
     "collapsed": false,
     "input": [
      "Milk"
     ],
     "language": "python",
     "metadata": {},
     "outputs": [
      {
       "latex": [
        "$$5000.0$$"
       ],
       "metadata": {},
       "output_type": "pyout",
       "png": "[encoded data removed]",
       "prompt_number": 31,
       "text": [
        "5000.00000000000"
       ]
      }
     ],
     "prompt_number": 31
    },
    {
     "cell_type": "code",
     "collapsed": false,
     "input": [],
     "language": "python",
     "metadata": {},
     "outputs": []
    }
   ],
   "metadata": {}
  }
 ]
}