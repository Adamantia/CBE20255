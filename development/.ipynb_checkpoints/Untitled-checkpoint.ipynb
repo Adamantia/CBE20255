{
 "cells": [
  {
   "cell_type": "markdown",
   "metadata": {},
   "source": [
    "# Analysis of Thermochemical System for Solar Energy Storage"
   ]
  },
  {
   "cell_type": "markdown",
   "metadata": {},
   "source": [
    "## Antoine Equation and Ammonia"
   ]
  },
  {
   "cell_type": "code",
   "execution_count": 7,
   "metadata": {
    "collapsed": false
   },
   "outputs": [
    {
     "data": {
      "image/png": "[encoded data removed]",
      "text/plain": [
       "<matplotlib.figure.Figure at 0x10b4792d0>"
      ]
     },
     "metadata": {},
     "output_type": "display_data"
    }
   ],
   "source": [
    "import numpy as np\n",
    "import matplotlib.pylab as plt\n",
    "%matplotlib inline\n",
    "\n",
    "A = 7.36050\n",
    "B = 926.132\n",
    "C = 240.17\n",
    "\n",
    "def Psat(T):\n",
    "    return 10.0**(A - B/(T + C))/760.0\n",
    "\n",
    "T = np.linspace(-83,60)\n",
    "plt.plot(T,Psat(T))\n",
    "plt.xlabel('Temperature [deg C]')\n",
    "plt.ylabel('Pressure [mmHg]')\n",
    "plt.grid()"
   ]
  },
  {
   "cell_type": "code",
   "execution_count": 11,
   "metadata": {
    "collapsed": true
   },
   "outputs": [],
   "source": [
    "dGf = -16600.0\n",
    "dHf = -46150.0\n",
    "\n",
    "Grxn = -2.0*dGf\n",
    "Hrxn = -2.0*dHf\n",
    "\n",
    "T = 600.0 + 273.15\n",
    "lnK = -((Grxn-Hrxn)/298.15 + Hrxn/T)/8.314\n",
    "K = np.exp(lnK)\n",
    "\n",
    "P = 15.0*1.0e6/101325.0\n",
    "\n"
   ]
  },
  {
   "cell_type": "code",
   "execution_count": 12,
   "metadata": {
    "collapsed": false
   },
   "outputs": [
    {
     "data": {
      "text/plain": [
       "68008.940805357895"
      ]
     },
     "execution_count": 12,
     "metadata": {},
     "output_type": "execute_result"
    }
   ],
   "source": [
    "K"
   ]
  },
  {
   "cell_type": "code",
   "execution_count": null,
   "metadata": {
    "collapsed": true
   },
   "outputs": [],
   "source": []
  }
 ],
 "metadata": {
  "kernelspec": {
   "display_name": "Python 2",
   "language": "python",
   "name": "python2"
  },
  "language_info": {
   "codemirror_mode": {
    "name": "ipython",
    "version": 2
   },
   "file_extension": ".py",
   "mimetype": "text/x-python",
   "name": "python",
   "nbconvert_exporter": "python",
   "pygments_lexer": "ipython2",
   "version": "2.7.11"
  }
 },
 "nbformat": 4,
 "nbformat_minor": 0
}
