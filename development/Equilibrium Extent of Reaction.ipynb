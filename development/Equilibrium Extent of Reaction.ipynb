{
 "metadata": {
  "name": ""
 },
 "nbformat": 3,
 "nbformat_minor": 0,
 "worksheets": [
  {
   "cells": [
    {
     "cell_type": "markdown",
     "metadata": {},
     "source": [
      "# Equilibrium Extent of Reaction: Steam Reforming of Methane\n",
      "\n",
      "J. C. Kantor (Kantor.1@nd.edu)"
     ]
    },
    {
     "cell_type": "code",
     "collapsed": false,
     "input": [
      "%pylab inline"
     ],
     "language": "python",
     "metadata": {},
     "outputs": [
      {
       "output_type": "stream",
       "stream": "stdout",
       "text": [
        "\n",
        "Welcome to pylab, a matplotlib-based Python environment [backend: module://IPython.kernel.zmq.pylab.backend_inline].\n",
        "For more information, type 'help(pylab)'.\n"
       ]
      }
     ],
     "prompt_number": 8
    },
    {
     "cell_type": "markdown",
     "metadata": {},
     "source": [
      "## Problem Statement\n",
      "\n",
      "One process for the production of benzene involves the hydrodealkylation of toluene \n",
      "through the homogeneous gas-phase reaction\n",
      "\n",
      "$$ \\underbrace{C_6H_5CH_3}_{\\mbox{toluene}} + H_2 \\longrightarrow \\underbrace{C_6H_6}_{\\mbox{benzene}} + CH_4 $$\n",
      "\n",
      "To avoid coking, hydrogen is fed to in a 5/1 molar ratio to toluene. The reactor is\n",
      "operated at 650 degrees C and 35 bar. Calculate the equilibrium extent of reaction,\n",
      "and conversion of toluene.\n",
      "\n",
      "## Solution\n",
      "\n",
      "### Strategy\n",
      "\n",
      "A solution to this problem will be computed by first setting up the mass balances to\n",
      "express the reactor comp\n",
      "\n",
      "<table>\n",
      "<thead>\n",
      "  <tr>\n",
      "    <th> Species </th> \n",
      "    <th> $\\Delta\\hat{G}_f^{\\circ}$ <br> [kJ/gmol] </th>\n",
      "    <th> $\\Delta\\hat{H}_f^{\\circ}$ <br> [kJ/gmol] </th>\n",
      "  </tr>\n",
      "</thead>\n",
      "<tbody>\n",
      "  <tr>\n",
      "    <td> Benzene (g) </td>\n",
      "    <td> 129.6 </td>\n",
      "    <td> 82.88 </td>\n",
      "  <tr>\n",
      "  <tr>\n",
      "    <td> Hydrogen (g) </td>\n",
      "    <td> 0 </td>\n",
      "    <td> 0 </td>\n",
      "  <tr>\n",
      "  <tr>\n",
      "    <td> Methane (g) </td>\n",
      "    <td> -50.49 </td>\n",
      "    <td> -74.52 </td>\n",
      "  <tr>\n",
      "  <tr>\n",
      "    <td> Toluene (g) </td>\n",
      "    <td> 122.0 </td>\n",
      "    <td> 50.17 </td>\n",
      "  <tr>\n",
      "</tbody>\n",
      "</table>"
     ]
    },
    {
     "cell_type": "code",
     "collapsed": false,
     "input": [
      "Gf = dict()\n",
      "Hf = dict()\n",
      "\n",
      "Gf['C6H6','g'] = 129600\n",
      "Hf['C6H6','g'] = 82880\n",
      "\n",
      "Gf['H2','g'] = 0\n",
      "Hf['H2','g'] = 0\n",
      "\n",
      "Gf['CH4','g'] = -50490\n",
      "Hf['CH4','g'] = -74520\n",
      "\n",
      "Gf['C7H8','g'] = 122000\n",
      "Hf['C7H8','g'] = 50170"
     ],
     "language": "python",
     "metadata": {},
     "outputs": [],
     "prompt_number": 1
    },
    {
     "cell_type": "code",
     "collapsed": false,
     "input": [
      "rxn = dict()\n",
      "rxn['C6H6','g'] = +1\n",
      "rxn['H2','g'] = -1\n",
      "rxn['CH4','g'] = +1\n",
      "rxn['C7H8','g'] = -1  "
     ],
     "language": "python",
     "metadata": {},
     "outputs": [],
     "prompt_number": 2
    },
    {
     "cell_type": "code",
     "collapsed": false,
     "input": [
      "Hr = 0.0\n",
      "for s in rxn.keys():\n",
      "    Hr += rxn[s]*Hf[s]\n",
      "print \"Hr = {:7.3f} kJ/gmol\".format(Hr/1000)\n",
      "\n",
      "Gr = 0.0\n",
      "for s in rxn.keys():\n",
      "    Gr += rxn[s]*Gf[s]\n",
      "print \"Gr = {:7.3f} kJ/gmol\".format(Gr/1000)"
     ],
     "language": "python",
     "metadata": {},
     "outputs": [
      {
       "output_type": "stream",
       "stream": "stdout",
       "text": [
        "Hr = -41.810 kJ/gmol\n",
        "Gr = -42.890 kJ/gmol\n"
       ]
      }
     ],
     "prompt_number": 3
    },
    {
     "cell_type": "markdown",
     "metadata": {},
     "source": [
      "$$ \\ln K_r = -\\frac{1}{R}\\left[\\frac{\\Delta\\hat{G}_r^{\\circ} - \\Delta\\hat{H}_r^{\\circ}}{298}\n",
      "    + \\frac{\\Delta\\hat{H}_r^{\\circ}}{T}\\right] $$"
     ]
    },
    {
     "cell_type": "code",
     "collapsed": false,
     "input": [
      "R = 8.314 # J/K/gmol\n",
      "lnKr = lambda T: -((Gr-Hr)/298 + Hr/T)/8.314\n",
      "Kr = lambda T: exp(lnKr(T))\n",
      "\n",
      "T = linspace(600+273.15, 1200+273.15, 100)\n",
      "plot(T,map(lnKr,T))\n",
      "xlabel('Temperature [K]');"
     ],
     "language": "python",
     "metadata": {},
     "outputs": [
      {
       "metadata": {},
       "output_type": "display_data",
       "png": "[encoded data removed]",
       "text": [
        "<matplotlib.figure.Figure at 0x10bfb6f90>"
       ]
      }
     ],
     "prompt_number": 15
    },
    {
     "cell_type": "code",
     "collapsed": false,
     "input": [
      "plot(T, map(Kr,T))"
     ],
     "language": "python",
     "metadata": {},
     "outputs": [
      {
       "metadata": {},
       "output_type": "pyout",
       "prompt_number": 16,
       "text": [
        "[<matplotlib.lines.Line2D at 0x10c006e10>]"
       ]
      },
      {
       "metadata": {},
       "output_type": "display_data",
       "png": "[encoded data removed]",
       "text": [
        "<matplotlib.figure.Figure at 0x10bfd5110>"
       ]
      }
     ],
     "prompt_number": 16
    },
    {
     "cell_type": "code",
     "collapsed": false,
     "input": [
      "yB = lambda x: x/6.0\n",
      "yH = lambda x: (5-x)/6.0\n",
      "yM = lambda x: x/6.0\n",
      "yT = lambda x: (1-x)/6.0\n",
      "\n",
      "Ka = lambda x: (yB(x)*yM(x))/(yT(x)*yH(x))\n",
      "\n",
      "Ka(.999"
     ],
     "language": "python",
     "metadata": {},
     "outputs": [
      {
       "metadata": {},
       "output_type": "pyout",
       "prompt_number": 12,
       "text": [
        "249.43789052736795"
       ]
      }
     ],
     "prompt_number": 12
    },
    {
     "cell_type": "code",
     "collapsed": false,
     "input": [],
     "language": "python",
     "metadata": {},
     "outputs": []
    }
   ],
   "metadata": {}
  }
 ]
}