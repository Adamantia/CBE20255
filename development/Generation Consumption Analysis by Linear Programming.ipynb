{
 "metadata": {
  "name": ""
 },
 "nbformat": 3,
 "nbformat_minor": 0,
 "worksheets": [
  {
   "cells": [
    {
     "cell_type": "heading",
     "level": 1,
     "metadata": {},
     "source": [
      "Generation/Consumption Analysis by Linear Programming"
     ]
    },
    {
     "cell_type": "markdown",
     "metadata": {},
     "source": [
      "Generation/Consumption analysis combines technologically feasible chemical reactions into processes for the economic production of chemical goods. This notebook demonstrates generation/consumption analysis using linear programming techniques in Python."
     ]
    },
    {
     "cell_type": "heading",
     "level": 2,
     "metadata": {},
     "source": [
      "Example: Thermochemical Production of Ammonia"
     ]
    },
    {
     "cell_type": "markdown",
     "metadata": {},
     "source": [
      "Ammonia has a wide range of commercial uses, including an essential role as a fertilizer for the global agriculture. The principle means of production is the Haber/Bosch process where hydrogen and nitrogren react at high temperature and pressure over an iron catalyst, and the required hydrogen is produced by the steam reforming of methane from natural gas. Globally, this process consumes 5% of all natural gas produced, and 2% of all energy resources.\n",
      "\n",
      "Recently, several research groups have proposed alternative routes to the production of ammonia using solar radiation as the major source of process energy. Among them, the [two step production of ammonia via \\\\(Al_2O_3/AlN\\\\)]() offers the advantage of atmospheric operation production of a synthesis gas by-product. The process consists of the highly endothermic carbothermic reduction of \\\\(Al_2O_3\\\\)\n",
      "\n",
      "\\\\[Al_2O_3 + 3\\,CH_4 + N_2 \\longrightarrow 2\\,AlN + 6\\,H_2 + 3\\,CO \\\\]\n",
      "\n",
      "followed by the mildly exothermic hydrolysis of \\\\(AlN\\\\)\n",
      "\n",
      "\\\\[2\\,AlN + 3\\,H_2O \\longrightarrow Al_2O_3 + 2\\,NH_3 \\\\]\n",
      "\n",
      "The by-product of these two reactions is a mixture of carbon monoxide and hydrogen which is generally referred to as synthesis gas. A variety of liquid fuel products can be made from synthesis gas. Here we'll consider the production dimethyl ether \\\\(CH_3OCH_3\\\\) (DME) which can be used an ultraclean alternative to diesel, or as a blending component for gasoline. DME can be produced in a single stage over a bi-functional catalyst via the reactions\n",
      "\n",
      "\\\\[CO_2 + 3\\,H_2 \\longrightarrow CH_3OH + H_2O \\\\]\n",
      "\\\\[CO + H_2O \\longrightarrow CO_2 + H_2 \\\\]\n",
      "\\\\[2\\,CH_3OH \\longrightarrow CH_3OCH_3 + H_2O \\\\]\n",
      "\n",
      "Considering just these five reactions, is it possible to produce ammonia, and a mixture of DME methanol without any by-product carbon dioxide? What is the net process stoichiometry?\n"
     ]
    },
    {
     "cell_type": "heading",
     "level": 2,
     "metadata": {},
     "source": [
      "Solution by Linear Programming"
     ]
    },
    {
     "cell_type": "code",
     "collapsed": false,
     "input": [
      "from pulp import *\n",
      "\n",
      "prob = LpProblem(\"Thermochemical Production of Ammonia and Liquid Transportation Fuels\", LpMaximize)\n",
      "\n",
      "x1 = LpVariable(\"x1\",0)\n",
      "x2 = LpVariable(\"x2\",0)\n",
      "x3 = LpVariable(\"x3\",0)\n",
      "x4 = LpVariable(\"x4\",0)\n",
      "x5 = LpVariable(\"x5\",0)\n",
      "\n",
      "prob += \n",
      "\n",
      "prob += 2*x1 + x2 <= 100\n",
      "prob += x1 + x2 <= 80\n",
      "prob += x1 <= 40\n",
      "\n",
      "prob.solve()\n",
      "\n",
      "LpStatus[prob.status]"
     ],
     "language": "python",
     "metadata": {},
     "outputs": [
      {
       "metadata": {},
       "output_type": "pyout",
       "prompt_number": 2,
       "text": [
        "'Optimal'"
       ]
      }
     ],
     "prompt_number": 2
    },
    {
     "cell_type": "code",
     "collapsed": false,
     "input": [],
     "language": "python",
     "metadata": {},
     "outputs": []
    }
   ],
   "metadata": {}
  }
 ]
}