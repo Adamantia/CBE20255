{
 "metadata": {
  "name": "",
  "signature": "sha256:ff67e04dc2831692c9a16fa92a8104525e2db951f567fe1f7e60137f41892f23"
 },
 "nbformat": 3,
 "nbformat_minor": 0,
 "worksheets": [
  {
   "cells": [
    {
     "cell_type": "heading",
     "level": 1,
     "metadata": {},
     "source": [
      "Lithium Battery"
     ]
    },
    {
     "cell_type": "markdown",
     "metadata": {},
     "source": [
      "<iframe width=\"640\" height=\"360\" src=\"http://video.mit.edu/embed/59/\" frameborder=\"0\"></iframe>"
     ]
    }
   ],
   "metadata": {}
  }
 ]
}