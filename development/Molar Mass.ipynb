{
 "metadata": {
  "name": ""
 },
 "nbformat": 3,
 "nbformat_minor": 0,
 "worksheets": [
  {
   "cells": [
    {
     "cell_type": "code",
     "collapsed": false,
     "input": [
      "srex = ('(A[lrsgutcm]|B[eraik]?|C[laroudsemf]?|D[y]?|E[urs]|'\n",
      "    'F[erm]?|G[aed]|H[eofgas]?|I[nr]?|Kr?|L[iaur]|'\n",
      "    'M[gnodt]?|N[eaibdpos]?|Os?|P[drmtboau]?|R[buhenaf]|'\n",
      "    'S[icernbmg]?|T[icebmalh]?|U|V|W|X[e]?|Yb?|Z[nr])'\n",
      "    '(\\d*\\.\\d+|\\d*)|([e+-])(\\d*)')"
     ],
     "language": "python",
     "metadata": {},
     "outputs": [],
     "prompt_number": 97
    },
    {
     "cell_type": "code",
     "collapsed": false,
     "input": [
      "print srex\n",
      "import re\n",
      "p = re.compile(srex)"
     ],
     "language": "python",
     "metadata": {},
     "outputs": [
      {
       "output_type": "stream",
       "stream": "stdout",
       "text": [
        "(A[lrsgutcm]|B[eraik]?|C[laroudsemf]?|D[y]?|E[urs]|F[erm]?|G[aed]|H[eofgas]?|I[nr]?|Kr?|L[iaur]|M[gnodt]?|N[eaibdpos]?|Os?|P[drmtboau]?|R[buhenaf]|S[icernbmg]?|T[icebmalh]?|U|V|W|X[e]?|Yb?|Z[nr])(\\d*\\.\\d+|\\d*)|([e+-])(\\d*)\n"
       ]
      }
     ],
     "prompt_number": 98
    },
    {
     "cell_type": "code",
     "collapsed": false,
     "input": [
      "print p.findall('e-2')"
     ],
     "language": "python",
     "metadata": {},
     "outputs": [
      {
       "output_type": "stream",
       "stream": "stdout",
       "text": [
        "[('', '', 'e', ''), ('', '', '-', '2')]\n"
       ]
      }
     ],
     "prompt_number": 107
    },
    {
     "cell_type": "code",
     "collapsed": false,
     "input": [
      "s = '([e+-])(\\d*)'"
     ],
     "language": "python",
     "metadata": {},
     "outputs": [],
     "prompt_number": 94
    },
    {
     "cell_type": "code",
     "collapsed": false,
     "input": [
      "q = re.compile(s)"
     ],
     "language": "python",
     "metadata": {},
     "outputs": [],
     "prompt_number": 95
    },
    {
     "cell_type": "code",
     "collapsed": false,
     "input": [
      "q.findall('-3')"
     ],
     "language": "python",
     "metadata": {},
     "outputs": [
      {
       "metadata": {},
       "output_type": "pyout",
       "prompt_number": 96,
       "text": [
        "[('-', '3')]"
       ]
      }
     ],
     "prompt_number": 96
    },
    {
     "cell_type": "code",
     "collapsed": false,
     "input": [],
     "language": "python",
     "metadata": {},
     "outputs": []
    }
   ],
   "metadata": {}
  }
 ]
}