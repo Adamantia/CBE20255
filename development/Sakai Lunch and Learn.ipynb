{
 "metadata": {
  "name": ""
 },
 "nbformat": 3,
 "nbformat_minor": 0,
 "worksheets": [
  {
   "cells": [
    {
     "cell_type": "heading",
     "level": 1,
     "metadata": {
      "slideshow": {
       "slide_type": "slide"
      }
     },
     "source": [
      "Sakai + IPython + Github ="
     ]
    },
    {
     "cell_type": "markdown",
     "metadata": {
      "slideshow": {
       "slide_type": "skip"
      }
     },
     "source": [
      "These notes are for a presentation for the \"Sakai Lunch 'n Learn\" series on February 27, 2013. The goal of the presention is to demonstrate the utility of a Sakai, IPython notebooks, and Github mashup in engineering."
     ]
    },
    {
     "cell_type": "heading",
     "level": 2,
     "metadata": {
      "slideshow": {
       "slide_type": "slide"
      }
     },
     "source": [
      "Sakai"
     ]
    },
    {
     "cell_type": "markdown",
     "metadata": {},
     "source": [
      "Sakai is a fine learning management system.  \n",
      "\n",
      "But for engineers it's missing --"
     ]
    },
    {
     "cell_type": "markdown",
     "metadata": {
      "slideshow": {
       "slide_type": "fragment"
      }
     },
     "source": [
      "* Easy formatting of mathematics"
     ]
    },
    {
     "cell_type": "markdown",
     "metadata": {
      "slideshow": {
       "slide_type": "fragment"
      }
     },
     "source": [
      "* A computational platform"
     ]
    },
    {
     "cell_type": "markdown",
     "metadata": {
      "slideshow": {
       "slide_type": "fragment"
      }
     },
     "source": [
      "* Tools for version control and distributed development"
     ]
    },
    {
     "cell_type": "heading",
     "level": 2,
     "metadata": {
      "slideshow": {
       "slide_type": "slide"
      }
     },
     "source": [
      "IPython Notebooks"
     ]
    },
    {
     "cell_type": "markdown",
     "metadata": {},
     "source": [
      "An integrated computational environment."
     ]
    },
    {
     "cell_type": "code",
     "collapsed": false,
     "input": [
      "from IPython.display import HTML\n",
      "HTML('<iframe src=http://ipython.org/notebook width=800 height=400></iframe>')"
     ],
     "language": "python",
     "metadata": {},
     "outputs": []
    },
    {
     "cell_type": "heading",
     "level": 2,
     "metadata": {
      "slideshow": {
       "slide_type": "slide"
      }
     },
     "source": [
      "Github"
     ]
    },
    {
     "cell_type": "markdown",
     "metadata": {},
     "source": [
      "A cloud-based service for distributed development using Git revision control."
     ]
    },
    {
     "cell_type": "code",
     "collapsed": false,
     "input": [
      "from IPython.display import HTML\n",
      "HTML('<iframe src=http://jckantor.github.io/CBE20255 width=800 height=400></iframe>')"
     ],
     "language": "python",
     "metadata": {},
     "outputs": []
    },
    {
     "cell_type": "heading",
     "level": 2,
     "metadata": {
      "slideshow": {
       "slide_type": "slide"
      }
     },
     "source": [
      "The Mashup"
     ]
    },
    {
     "cell_type": "markdown",
     "metadata": {
      "slideshow": {
       "slide_type": "fragment"
      }
     },
     "source": [
      "#### IPython Notebooks\n",
      "\n",
      "* Rich documents embedding mathematics and computation.\n",
      "* Local or cloud-based computations\n",
      "* Documents are single, shareable files."
     ]
    },
    {
     "cell_type": "markdown",
     "metadata": {
      "slideshow": {
       "slide_type": "fragment"
      }
     },
     "source": [
      "#### Github\n",
      "\n",
      "* For Instructors: Distributed development with Version Control\n",
      "* For Students: Clonable repository of course materials."
     ]
    },
    {
     "cell_type": "markdown",
     "metadata": {
      "slideshow": {
       "slide_type": "fragment"
      }
     },
     "source": [
      "#### Sakai\n",
      "\n",
      "* Course Management Services"
     ]
    },
    {
     "cell_type": "heading",
     "level": 2,
     "metadata": {
      "slideshow": {
       "slide_type": "slide"
      }
     },
     "source": [
      "Student Use"
     ]
    },
    {
     "cell_type": "code",
     "collapsed": false,
     "input": [
      "from IPython.display import HTML\n",
      "HTML('<iframe src=https://sakailogin.nd.edu/xsl-portal/site/21df910b-6868-4131-be72-dc2571fb3465/page/3b81d0af-f406-42fa-9ee5-897e749c3257 width=800 height=450></iframe>')"
     ],
     "language": "python",
     "metadata": {},
     "outputs": [
      {
       "html": [
        "<iframe src=https://sakailogin.nd.edu/xsl-portal/site/21df910b-6868-4131-be72-dc2571fb3465/page/3b81d0af-f406-42fa-9ee5-897e749c3257 width=800 height=450></iframe>"
       ],
       "metadata": {},
       "output_type": "pyout",
       "prompt_number": 8,
       "text": [
        "<IPython.core.display.HTML at 0x1079d9350>"
       ]
      }
     ],
     "prompt_number": 8
    },
    {
     "cell_type": "heading",
     "level": 2,
     "metadata": {
      "slideshow": {
       "slide_type": "slide"
      }
     },
     "source": [
      "Instructor Use"
     ]
    },
    {
     "cell_type": "markdown",
     "metadata": {},
     "source": [
      "* IPython Dashboard"
     ]
    },
    {
     "cell_type": "markdown",
     "metadata": {},
     "source": [
      "* GitHub App"
     ]
    },
    {
     "cell_type": "markdown",
     "metadata": {},
     "source": [
      "* Sakai Webtool"
     ]
    },
    {
     "cell_type": "heading",
     "level": 1,
     "metadata": {
      "slideshow": {
       "slide_type": "slide"
      }
     },
     "source": [
      "[jckantor.github.io](http://jckantor.github.io)"
     ]
    }
   ],
   "metadata": {}
  }
 ]
}