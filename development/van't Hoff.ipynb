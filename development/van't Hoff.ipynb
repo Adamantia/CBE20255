{
 "metadata": {
  "name": ""
 },
 "nbformat": 3,
 "nbformat_minor": 0,
 "worksheets": [
  {
   "cells": [
    {
     "cell_type": "markdown",
     "metadata": {},
     "source": [
      "### Physical Properties"
     ]
    },
    {
     "cell_type": "code",
     "collapsed": false,
     "input": [
      "Gf = dict()\n",
      "Gf['CO','g'] = -137300\n",
      "Gf['CO2','g'] = -394400\n",
      "Gf['O2','g'] = 0\n",
      "\n",
      "Hf = dict()\n",
      "Hf['CO','g'] = -110600\n",
      "Hf['CO2','g'] = -393500\n",
      "Hf['O2','g'] = 0"
     ],
     "language": "python",
     "metadata": {},
     "outputs": [],
     "prompt_number": 1
    },
    {
     "cell_type": "code",
     "collapsed": false,
     "input": [
      "from collections import OrderedDict\n",
      "\n",
      "OrderedDict(Hf)"
     ],
     "language": "python",
     "metadata": {},
     "outputs": [
      {
       "metadata": {},
       "output_type": "pyout",
       "prompt_number": 5,
       "text": [
        "OrderedDict([(('O2', 'g'), 0), (('CO', 'g'), -110600), (('CO2', 'g'), -393500)])"
       ]
      }
     ],
     "prompt_number": 5
    },
    {
     "cell_type": "markdown",
     "metadata": {},
     "source": [
      "### Reaction Stoichiometry"
     ]
    },
    {
     "cell_type": "code",
     "collapsed": false,
     "input": [
      "rxn = dict()\n",
      "rxn[('CO','g')] = -1\n",
      "rxn[('O2','g')] = -0.5\n",
      "rxn[('CO2','g')] = 1"
     ],
     "language": "python",
     "metadata": {},
     "outputs": [],
     "prompt_number": 3
    },
    {
     "cell_type": "code",
     "collapsed": false,
     "input": [
      "def Hrxn(rxn):\n",
      "    Hr = 0;\n",
      "    for s in rxn.keys():\n",
      "        Hr += rxn[s]*Hf[s]\n",
      "    return Hr\n",
      "    "
     ],
     "language": "python",
     "metadata": {},
     "outputs": [],
     "prompt_number": 4
    },
    {
     "cell_type": "code",
     "collapsed": false,
     "input": [
      "Hrxn(rxn)"
     ],
     "language": "python",
     "metadata": {},
     "outputs": [
      {
       "metadata": {},
       "output_type": "pyout",
       "prompt_number": 5,
       "text": [
        "-282900.0"
       ]
      }
     ],
     "prompt_number": 5
    },
    {
     "cell_type": "code",
     "collapsed": false,
     "input": [
      "def Grxn(rxn):\n",
      "    Gr = 0;\n",
      "    for s in rxn.keys():\n",
      "        Gr += rxn[s]*Gf[s]\n",
      "    return Gr"
     ],
     "language": "python",
     "metadata": {},
     "outputs": [],
     "prompt_number": 6
    },
    {
     "cell_type": "code",
     "collapsed": false,
     "input": [
      "Grxn(rxn)"
     ],
     "language": "python",
     "metadata": {},
     "outputs": [
      {
       "metadata": {},
       "output_type": "pyout",
       "prompt_number": 7,
       "text": [
        "-257100.0"
       ]
      }
     ],
     "prompt_number": 7
    },
    {
     "cell_type": "code",
     "collapsed": false,
     "input": [
      "def lnK(rxn):\n",
      "    "
     ],
     "language": "python",
     "metadata": {},
     "outputs": []
    }
   ],
   "metadata": {}
  }
 ]
}