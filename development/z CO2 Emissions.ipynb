{
 "metadata": {
  "name": ""
 },
 "nbformat": 3,
 "nbformat_minor": 0,
 "worksheets": [
  {
   "cells": [
    {
     "cell_type": "code",
     "collapsed": false,
     "input": [
      "# Earth Radius in meters\n",
      "R = 6371000\n",
      "\n",
      "# Earth Area in square meters\n",
      "A = 4*pi*R**2\n",
      "\n",
      "# Mass of the atmosphere in kg\n",
      "g = 9.81\n",
      "mAir = A*101325/g\n",
      "\n",
      "# Average molecular weight of air\n",
      "mwAir = 28.97\n",
      "\n",
      "# Moles of air, kg-mol\n",
      "nAir = mAir/mwAir\n",
      "nAir"
     ],
     "language": "python",
     "metadata": {},
     "outputs": [
      {
       "metadata": {},
       "output_type": "pyout",
       "prompt_number": 7,
       "text": [
        "1.8185455521057952e+17"
       ]
      }
     ],
     "prompt_number": 7
    },
    {
     "cell_type": "code",
     "collapsed": false,
     "input": [
      "# CO2 Emissions in 2012 from Fossil fuels, cement, and land use changes, in kg\n",
      "\n",
      "mC = 9.7*10**12\n",
      "mwC = 12.01\n",
      "nCO2 = mC/mwC\n",
      "nCO2"
     ],
     "language": "python",
     "metadata": {},
     "outputs": [
      {
       "metadata": {},
       "output_type": "pyout",
       "prompt_number": 12,
       "text": [
        "807660283097.4188"
       ]
      }
     ],
     "prompt_number": 12
    },
    {
     "cell_type": "code",
     "collapsed": false,
     "input": [
      "nCO2/nAir"
     ],
     "language": "python",
     "metadata": {},
     "outputs": [
      {
       "metadata": {},
       "output_type": "pyout",
       "prompt_number": 13,
       "text": [
        "4.441243070112728e-06"
       ]
      }
     ],
     "prompt_number": 13
    },
    {
     "cell_type": "code",
     "collapsed": false,
     "input": [
      "3.67*9.7"
     ],
     "language": "python",
     "metadata": {},
     "outputs": [
      {
       "metadata": {},
       "output_type": "pyout",
       "prompt_number": 14,
       "text": [
        "35.599"
       ]
      }
     ],
     "prompt_number": 14
    },
    {
     "cell_type": "code",
     "collapsed": false,
     "input": [],
     "language": "python",
     "metadata": {},
     "outputs": []
    }
   ],
   "metadata": {}
  }
 ]
}