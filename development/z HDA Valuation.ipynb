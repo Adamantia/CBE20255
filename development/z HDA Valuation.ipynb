{
 "metadata": {
  "name": ""
 },
 "nbformat": 3,
 "nbformat_minor": 0,
 "worksheets": [
  {
   "cells": [
    {
     "cell_type": "heading",
     "level": 1,
     "metadata": {},
     "source": [
      "Valuation of the HDA Process for the Production of Benzene from Toluene"
     ]
    },
    {
     "cell_type": "markdown",
     "metadata": {},
     "source": [
      "Some basic calculations."
     ]
    },
    {
     "cell_type": "code",
     "collapsed": false,
     "input": [
      "P = dict()\n",
      "P['Benzene'] = 1431\n",
      "P['Toluene'] = 1290"
     ],
     "language": "python",
     "metadata": {},
     "outputs": [],
     "prompt_number": 7
    },
    {
     "cell_type": "code",
     "collapsed": false,
     "input": [
      "P"
     ],
     "language": "python",
     "metadata": {},
     "outputs": [
      {
       "metadata": {},
       "output_type": "pyout",
       "prompt_number": 8,
       "text": [
        "{'Benzene': 1431, 'Toluene': 1290}"
       ]
      }
     ],
     "prompt_number": 8
    },
    {
     "cell_type": "code",
     "collapsed": false,
     "input": [
      "print \"The price is {:0.2f} per tonne mole.\".format(P['Benzene']/78.0)"
     ],
     "language": "python",
     "metadata": {},
     "outputs": [
      {
       "output_type": "stream",
       "stream": "stdout",
       "text": [
        "The price is 18.35 per tonne mole.\n"
       ]
      }
     ],
     "prompt_number": 14
    },
    {
     "cell_type": "code",
     "collapsed": false,
     "input": [
      "t = linspace(0,10)\n",
      "plot(t,map(sin,t))\n",
      "xlabel('Time')\n",
      "ylabel('Value')\n",
      "title('Hi there');"
     ],
     "language": "python",
     "metadata": {},
     "outputs": [
      {
       "metadata": {},
       "output_type": "display_data",
       "png": "[encoded data removed]",
       "text": [
        "<matplotlib.figure.Figure at 0x10b9c9310>"
       ]
      }
     ],
     "prompt_number": 19
    },
    {
     "cell_type": "code",
     "collapsed": false,
     "input": [],
     "language": "python",
     "metadata": {},
     "outputs": []
    }
   ],
   "metadata": {}
  }
 ]
}