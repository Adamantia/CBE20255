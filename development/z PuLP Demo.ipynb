{
 "metadata": {
  "name": ""
 },
 "nbformat": 3,
 "nbformat_minor": 0,
 "worksheets": [
  {
   "cells": [
    {
     "cell_type": "heading",
     "level": 1,
     "metadata": {},
     "source": [
      "Solving Linear Programming Problems with PuLP"
     ]
    },
    {
     "cell_type": "heading",
     "level": 2,
     "metadata": {},
     "source": [
      "Example 1: Giapetto's Workshop"
     ]
    },
    {
     "cell_type": "heading",
     "level": 3,
     "metadata": {},
     "source": [
      "Model Formulation"
     ]
    },
    {
     "cell_type": "code",
     "collapsed": false,
     "input": [
      "# Import PuLP\n",
      "from pulp import *\n",
      "\n",
      "# Create problem instance\n",
      "lp = LpProblem(\"Giapetto's Workshop\", LpMaximize)\n",
      "\n",
      "# Define Variables with lower bounds of zero\n",
      "x1 = LpVariable(\"Soldiers\",0)\n",
      "x2 = LpVariable(\"Trains\",0)\n",
      "\n",
      "# Add Objective\n",
      "lp += 3*x1 + 2*x2, \"Profit\"\n",
      "\n",
      "# Add Constraints\n",
      "lp += 2*x1 + x2 <= 100,\"Finishing Labor\"\n",
      "lp += x1 + x2 <= 80, \"Carpentry Labor\"\n",
      "lp += x1 <= 40, \"Soldier Demand\"\n",
      "\n",
      "# Display Problem\n",
      "lp"
     ],
     "language": "python",
     "metadata": {},
     "outputs": [
      {
       "metadata": {},
       "output_type": "pyout",
       "prompt_number": 145,
       "text": [
        "Giapetto's Workshop:\n",
        "MAXIMIZE\n",
        "3*Soldiers + 2*Trains + 0\n",
        "SUBJECT TO\n",
        "Finishing_Labor: 2 Soldiers + Trains <= 100\n",
        "\n",
        "Carpentry_Labor: Soldiers + Trains <= 80\n",
        "\n",
        "Soldier_Demand: Soldiers <= 40\n",
        "\n",
        "VARIABLES\n",
        "Soldiers Continuous\n",
        "Trains Continuous\n"
       ]
      }
     ],
     "prompt_number": 145
    },
    {
     "cell_type": "heading",
     "level": 3,
     "metadata": {},
     "source": [
      "Solution"
     ]
    },
    {
     "cell_type": "code",
     "collapsed": false,
     "input": [
      "lp.solve()\n",
      "\n",
      "LpStatus[lp.status]"
     ],
     "language": "python",
     "metadata": {},
     "outputs": [
      {
       "ename": "PulpSolverError",
       "evalue": "Pulp: cannot execute /Users/jeff/Library/Enthought/Canopy_64bit/User/lib/python2.7/site-packages/PuLP-1.5.4-py2.7.egg/pulp/solverdir/cbc-osx-64 cwd: /Users/jeff/Dropbox/Courses/CBE20255/notebooks",
       "output_type": "pyerr",
       "traceback": [
        "\u001b[0;31m---------------------------------------------------------------------------\u001b[0m\n\u001b[0;31mPulpSolverError\u001b[0m                           Traceback (most recent call last)",
        "\u001b[0;32m<ipython-input-146-fca377856aa8>\u001b[0m in \u001b[0;36m<module>\u001b[0;34m()\u001b[0m\n\u001b[0;32m----> 1\u001b[0;31m \u001b[0mlp\u001b[0m\u001b[0;34m.\u001b[0m\u001b[0msolve\u001b[0m\u001b[0;34m(\u001b[0m\u001b[0;34m)\u001b[0m\u001b[0;34m\u001b[0m\u001b[0m\n\u001b[0m\u001b[1;32m      2\u001b[0m \u001b[0;34m\u001b[0m\u001b[0m\n\u001b[1;32m      3\u001b[0m \u001b[0mLpStatus\u001b[0m\u001b[0;34m[\u001b[0m\u001b[0mlp\u001b[0m\u001b[0;34m.\u001b[0m\u001b[0mstatus\u001b[0m\u001b[0;34m]\u001b[0m\u001b[0;34m\u001b[0m\u001b[0m\n",
        "\u001b[0;32m/Users/jeff/Library/Enthought/Canopy_64bit/User/lib/python2.7/site-packages/PuLP-1.5.4-py2.7.egg/pulp/pulp.pyc\u001b[0m in \u001b[0;36msolve\u001b[0;34m(self, solver, **kwargs)\u001b[0m\n",
        "\u001b[0;32m/Users/jeff/Library/Enthought/Canopy_64bit/User/lib/python2.7/site-packages/PuLP-1.5.4-py2.7.egg/pulp/solvers.pyc\u001b[0m in \u001b[0;36mactualSolve\u001b[0;34m(self, lp, **kwargs)\u001b[0m\n",
        "\u001b[0;32m/Users/jeff/Library/Enthought/Canopy_64bit/User/lib/python2.7/site-packages/PuLP-1.5.4-py2.7.egg/pulp/solvers.pyc\u001b[0m in \u001b[0;36msolve_CBC\u001b[0;34m(self, lp, use_mps)\u001b[0m\n",
        "\u001b[0;31mPulpSolverError\u001b[0m: Pulp: cannot execute /Users/jeff/Library/Enthought/Canopy_64bit/User/lib/python2.7/site-packages/PuLP-1.5.4-py2.7.egg/pulp/solverdir/cbc-osx-64 cwd: /Users/jeff/Dropbox/Courses/CBE20255/notebooks"
       ]
      }
     ],
     "prompt_number": 146
    },
    {
     "cell_type": "code",
     "collapsed": false,
     "input": [
      "print value\n",
      "print value(x2)"
     ],
     "language": "python",
     "metadata": {},
     "outputs": [
      {
       "output_type": "stream",
       "stream": "stdout",
       "text": [
        "20.0\n",
        "60.0\n"
       ]
      }
     ],
     "prompt_number": 35
    },
    {
     "cell_type": "code",
     "collapsed": false,
     "input": [
      "for v in gws.variables():\n",
      "    print \"{:<8s}  {:<3.2g}  {:<4} {:12} = {:5}\".format(v.name, v.lowBound, v.upBound, v.cat, v.varValue)\n",
      "    "
     ],
     "language": "python",
     "metadata": {},
     "outputs": [
      {
       "output_type": "stream",
       "stream": "stdout",
       "text": [
        "Soldiers  0    None Continuous   =  20.0\n",
        "Trains    0    None Continuous   =  60.0\n"
       ]
      }
     ],
     "prompt_number": 115
    },
    {
     "cell_type": "code",
     "collapsed": false,
     "input": [
      "for c in gws.constraints:\n",
      "    print c.values()"
     ],
     "language": "python",
     "metadata": {},
     "outputs": [
      {
       "ename": "AttributeError",
       "evalue": "'str' object has no attribute 'values'",
       "output_type": "pyerr",
       "traceback": [
        "\u001b[0;31m---------------------------------------------------------------------------\u001b[0m\n\u001b[0;31mAttributeError\u001b[0m                            Traceback (most recent call last)",
        "\u001b[0;32m<ipython-input-128-cca25f1ed5f7>\u001b[0m in \u001b[0;36m<module>\u001b[0;34m()\u001b[0m\n\u001b[1;32m      1\u001b[0m \u001b[0;32mfor\u001b[0m \u001b[0mc\u001b[0m \u001b[0;32min\u001b[0m \u001b[0mgws\u001b[0m\u001b[0;34m.\u001b[0m\u001b[0mconstraints\u001b[0m\u001b[0;34m:\u001b[0m\u001b[0;34m\u001b[0m\u001b[0m\n\u001b[0;32m----> 2\u001b[0;31m     \u001b[0;32mprint\u001b[0m \u001b[0mc\u001b[0m\u001b[0;34m.\u001b[0m\u001b[0mvalues\u001b[0m\u001b[0;34m(\u001b[0m\u001b[0;34m)\u001b[0m\u001b[0;34m\u001b[0m\u001b[0m\n\u001b[0m",
        "\u001b[0;31mAttributeError\u001b[0m: 'str' object has no attribute 'values'"
       ]
      }
     ],
     "prompt_number": 128
    },
    {
     "cell_type": "code",
     "collapsed": false,
     "input": [
      "from IPython.display import display\n",
      "display(lp.constraints.values())"
     ],
     "language": "python",
     "metadata": {},
     "outputs": [
      {
       "metadata": {},
       "output_type": "display_data",
       "text": [
        "[2*Soldiers + 1*Trains + -100 <= 0,\n",
        " 1*Soldiers + 1*Trains + -80 <= 0,\n",
        " 1*Soldiers + -40 <= 0]"
       ]
      }
     ],
     "prompt_number": 140
    },
    {
     "cell_type": "code",
     "collapsed": false,
     "input": [
      "value(lp.constraints.values()[2])"
     ],
     "language": "python",
     "metadata": {},
     "outputs": [
      {
       "metadata": {},
       "output_type": "pyout",
       "prompt_number": 144,
       "text": [
        "-20.0"
       ]
      }
     ],
     "prompt_number": 144
    },
    {
     "cell_type": "code",
     "collapsed": false,
     "input": [
      "type(prob.variables())\n",
      "type(prob.constraints)"
     ],
     "language": "python",
     "metadata": {},
     "outputs": [
      {
       "metadata": {},
       "output_type": "pyout",
       "prompt_number": 40,
       "text": [
        "collections.OrderedDict"
       ]
      }
     ],
     "prompt_number": 40
    },
    {
     "cell_type": "code",
     "collapsed": false,
     "input": [
      "for v in prob.variables():\n",
      "    print v.name, v.varValue"
     ],
     "language": "python",
     "metadata": {},
     "outputs": [
      {
       "output_type": "stream",
       "stream": "stdout",
       "text": [
        "Soldiers 20.0\n",
        "Trains 60.0\n"
       ]
      }
     ],
     "prompt_number": 57
    },
    {
     "cell_type": "code",
     "collapsed": false,
     "input": [
      "zeros((2,1))"
     ],
     "language": "python",
     "metadata": {},
     "outputs": [
      {
       "metadata": {},
       "output_type": "pyout",
       "prompt_number": 45,
       "text": [
        "array([[ 0.],\n",
        "       [ 0.]])"
       ]
      }
     ],
     "prompt_number": 45
    },
    {
     "cell_type": "code",
     "collapsed": false,
     "input": [],
     "language": "python",
     "metadata": {},
     "outputs": []
    }
   ],
   "metadata": {}
  }
 ]
}