{
 "metadata": {
  "name": ""
 },
 "nbformat": 3,
 "nbformat_minor": 0,
 "worksheets": [
  {
   "cells": [
    {
     "cell_type": "heading",
     "level": 1,
     "metadata": {},
     "source": [
      "Diesel Engine Emissions Control"
     ]
    },
    {
     "cell_type": "markdown",
     "metadata": {},
     "source": [
      "This [IPython notebook](http://ipython.org/notebook.html) demonstrates an analysis of NO<sub>x</sub> emissions control in diesel engines.\n",
      "\n",
      "J.C. Kantor (Kantor.1@nd.edu)\n",
      "\n",
      "The latest version of this IPython notebook is available at [http://github.com/jckantor/CBE20255](http://github.com/jckantor/CBE20255)  for noncommercial use under terms of the [Creative Commons Attribution Noncommericial ShareAlike License](http://creativecommons.org/licenses/by-nc-sa/4.0/)."
     ]
    },
    {
     "cell_type": "heading",
     "level": 2,
     "metadata": {},
     "source": [
      "Background"
     ]
    },
    {
     "cell_type": "markdown",
     "metadata": {},
     "source": [
      "Diesel engines offer greater energy efficiency than equivelently sized gasoline engines by operating at higher compression and combustion temperatures. The problem, however, is that diesel engines produce more particulates because the fuel is injected late in the compression cycle, and produces greater NO<sub>x</sub> emissions because of the higher combustion temperatures. \n",
      "\n",
      "Here we look into a particular technology for treating NO<sub>x</sub> that has found wide spread use in heavy trucks and has been recently introduced in the automobile and light truck marketplace. \n",
      "\n",
      "<div style=\"text-align:left;padding:12px 0;\">\n",
      "<iframe width=\"420\" height=\"315\" src=\"//www.youtube.com/embed/uQHvi2Lgnac\" frameborder=\"0\" allowfullscreen></iframe>\n",
      "</div>\n",
      "\n",
      "The Mercedes-Benz \u201cBlueTEC\u201d system, for example, comprises a selective catalytic reduction (SCR) converter and the AdBlue reagent. Adblue is a registered trademark for [AUS32 (Aqueous Urea Solution 32.5%)](http://www.airgasspecialtyproducts.com/files/MSDS_Aqueous_Urea_Solution_32_5_06_16_11.pdf) consisting of 32.5 wt% Urea in deionized water with a density of 1.09 g/ml. The same solution can be purchased from many sources under the generic name [Diesel exhaust fluid (DEF)](http://www.amazon.com/BlueDEF-DEF003-Diesel-Exhaust-Fluid/dp/B004OEFH9C/ref=pd_sim_auto_5)"
     ]
    },
    {
     "cell_type": "heading",
     "level": 2,
     "metadata": {},
     "source": [
      "Problem 1"
     ]
    },
    {
     "cell_type": "markdown",
     "metadata": {},
     "source": [
      "An average chemical formula for diesel fuel is C<sub>12</sub>H<sub>23</sub> with a density of 0.832 kg/liter. A typical diesel light truck exhibits gets about 21 mpg on the highway. Assuming air (which is a mixture of 21 mol% O<sub>2</sub> and 79 mol% N<sub>2</sub>) is mixed with diesel fuel at the stoichiometric ratio. Assume complete combustion of the diesel fuel producing CO<sub>2</sub>, H<sub>2</sub>O. What is the exhaust gas flowrate in units of g/mile? \n",
      "\n",
      "_Hint: The purpose of this first calculation is obtain an estimate for the exhaust gas flowrate. Because NO<sub>x</sub> is a trace component of the exhaust, at this stage it is not necessary to consider any additional reactions other than combustion of C<sub>12</sub>H<sub>23</sub>._"
     ]
    },
    {
     "cell_type": "heading",
     "level": 2,
     "metadata": {},
     "source": [
      "Problem 2"
     ]
    },
    {
     "cell_type": "markdown",
     "metadata": {},
     "source": [
      "DEF is injected into a hot, post-combustion exhaust stream where the water evaporates and the urea forms solid droplets\n",
      "\n",
      "CO(NH<sub>2</sub>)<sub>2</sub>(aq) &rarr; CO(NH<sub>2</sub>)<sub>2</sub>(s)\n",
      "\n",
      "The urea immediately heats up and undergoes thermal decomposition to form ammonia and isocyanic acid\n",
      "\n",
      "CO(NH<sub>2</sub>)<sub>2</sub>(s) &rarr; NH<sub>3</sub>(g) + HNCO(g)\n",
      " \n",
      "The isocyanic acid is stable in the gas phase. The hot gas stream is passed over a solid oxide catalyst to hydrolyze the isocyanic acid to form additional ammonia.\n",
      "\n",
      "HNCO(g) + H<sub>2</sub>O(g) &rarr; NH<sub>3</sub>(g) + CO<sub>2</sub>(g)\n",
      "\n",
      "Using a generation/consumption analysis, what is the net reaction?"
     ]
    },
    {
     "cell_type": "heading",
     "level": 2,
     "metadata": {},
     "source": [
      "Problem 3"
     ]
    },
    {
     "cell_type": "markdown",
     "metadata": {},
     "source": [
      "Following hydrolysis of the urea, the hot exhaust then passes over the selective reduction catalyst that promotes reaction between ammonia and the NO<sub>x</sub>:\n",
      "\n",
      "4 NH<sub>3</sub> + 4 NO + O<sub>2</sub>\t&rarr; 4 N<sub>2</sub> + 6 H<sub>2</sub>O\n",
      "\n",
      "4 NH<sub>3</sub> + 2 NO + 2 NO<sub>2</sub> &rarr; 4 N<sub>2</sub> + 6 H<sub>2</sub>O\n",
      "\n",
      "Excess oxygen is present in the exhaust stream under normal conditions for most diesel engines. Assume the diesel exhaust initially contains 200 ppm by mass NO and 50 ppm by mass NO<sub>2</sub>. Field measurements demonstrate that 95% of each is converted to N<sub>2</sub>. What are the extents of reaction for each reaction?\n",
      " \n",
      "_Hint: ppm means 'parts per million' by mass For example, to compute the mass flow of NO, take (200 &times; 10<sup>-6</sup>) &times; m&#775;<sub>exhaust</sub> where m&#775;<sub>exhaust</sub> is the mass flow computed in part 1 of the homework set._"
     ]
    },
    {
     "cell_type": "heading",
     "level": 2,
     "metadata": {},
     "source": [
      "Problem 4"
     ]
    },
    {
     "cell_type": "markdown",
     "metadata": {},
     "source": [
      "The commerical route to urea is to produce ammonia from natural gas, then convert the ammonia to urea. Ammonia production is a two step process in which hydrogen produced by the steam reforming of natural gas followed by water-gas shift\n",
      "\n",
      "CH<sub>4</sub> + H<sub>2</sub>O &rarr; CO + 3 H<sub>2</sub>\n",
      "\n",
      "CO + H<sub>2</sub>O &rarr; CO<sub>2</sub> + H<sub>2</sub>\n",
      "\n",
      "followed by the Haber-Bosch process to produce ammonia. \n",
      "\n",
      "N<sub>2</sub> + 3 H<sub>2</sub>\t&rarr; 2 NH<sub>3</sub>\n",
      "\n",
      "The Bosch-Meiser process for urea production involves two additional steps. Ammonia is combined with dry ice to produce ammonium carbamate and water\n",
      "\n",
      "2 NH<sub>3</sub> + CO<sub>2</sub> &rarr; H<sub>2</sub>NCOONH<sub>4</sub>\n",
      "\n",
      "which decomposes to form urea and water\n",
      "\n",
      "H<sub>2</sub>NCOONH<sub>4</sub> &rarr; CO(NH<sub>2</sub>)<sub>2</sub> + H<sub>2</sub>O\n",
      " \n",
      "For an integrated urea production facility, what is the overall stoichiometry for the production of urea from natural gas?"
     ]
    },
    {
     "cell_type": "heading",
     "level": 2,
     "metadata": {},
     "source": [
      "Problem 5"
     ]
    },
    {
     "cell_type": "markdown",
     "metadata": {},
     "source": [
      "In a review published by Consumer Reports on January 4, 2010, regarding the Mercedes-Benz GL320 \n",
      "\n",
      "> \u201cThe total bill just for adding AdBlue? A stunning \\$316.99. We were down to 18% full on the additive at 16,566 miles. It took 7.5 gallons to fill the tank, costing an eye-opening $241.50 for the fluid alone. The labor to add the fluid plus tax accounted for the rest. None of this was covered by the warranty.\u201d [Consumer Reports, January 4, 2010.](http://news.consumerreports.org/cars/2010/01/mercedesbenz-gl320-bluetecfeeling-a-bit-adblue-over-spending-a-lot-of-green.html)"
     ]
    },
    {
     "cell_type": "markdown",
     "metadata": {},
     "source": [
      "(a) Using the results you found above, how much Adblue would you estimate is needed to drive 16,566 miles assuming a vehicle gets 21 mpg? How does this compare to the numbers quoted in the review? What assumption would you need to revise in order to match the observed consumption of Adblue?"
     ]
    },
    {
     "cell_type": "markdown",
     "metadata": {},
     "source": [
      "(b) Current spot prices for bulk urea can be found [on-line](http://fertilizerworks.com/sites/default/files/reports/StatsPage%202-14-14.pdf). What is the cost of the raw materials needed to produce one gallon of Adblue? How does this compare to the price of Adblue implied by the story in Consumer Reports?"
     ]
    }
   ],
   "metadata": {}
  }
 ]
}