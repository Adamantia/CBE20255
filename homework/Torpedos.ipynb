{
 "metadata": {
  "name": ""
 },
 "nbformat": 3,
 "nbformat_minor": 0,
 "worksheets": [
  {
   "cells": [
    {
     "cell_type": "heading",
     "level": 1,
     "metadata": {},
     "source": [
      "Torpedos!"
     ]
    },
    {
     "cell_type": "markdown",
     "metadata": {},
     "source": [
      "<img src = \"https://www.fas.org/man/dod-101/sys/ship/weaps/torpedo_comp.gif\">"
     ]
    },
    {
     "cell_type": "heading",
     "level": 2,
     "metadata": {},
     "source": [
      "Energy Requirements"
     ]
    },
    {
     "cell_type": "markdown",
     "metadata": {},
     "source": [
      "The [drag force on a torpedo](http://tglang.com/uploads/Hydrodynamic_Drag_of_Torpedoes.pdf) is given by the formula\n",
      "\n",
      "$$F_D = \\frac{1}{2}\\rho v^2 C_D A $$\n",
      "\n",
      "where $C_D$ is the drag coefficient, $\\rho$ is the density of the fluid, $v$ is velocity, and $A$ is the cross-sectional area. Assume $C_D = 0.095$ for a well-designed torpedo. \n",
      "\n",
      "The Mk-48 ADCAP, which is 21 inches in diameter and a mass of 1,663 kg, is claimed to have a range of 54,685 yards at 40 knots, and 42,530 yards at 55 knots. \n",
      "\n",
      "1. What is the power requirement in kw and horsepower at these speeds? \n",
      "2. How much energy is required to accelerate the torpedo to its operating speed?  \n",
      "3. How much energy is required to cover the range of operation? \n",
      "4. Assuming the propulsion system has an overall efficiency of 20%, how much fuel energy is required?"
     ]
    },
    {
     "cell_type": "heading",
     "level": 2,
     "metadata": {},
     "source": [
      "Mk 48 and Mk 46 Torpedos"
     ]
    },
    {
     "cell_type": "markdown",
     "metadata": {},
     "source": [
      "The Mk 48 and [Mk 46](http://en.wikipedia.org/wiki/Mark_46_torpedo) torpedos use an a monopropellant knowns at Otto Fuel to drive a [gas turbine engine](http://utcaerospacesystems.com/cap/products/Pages/torpedo-propulsion-spearfish-engine.aspx). The principle component of Otto fuel is propylene glycol dinitrate (IUPAC name 1,2-propanediol dinitrate) that makes up 76% of the fuel by weight. Assuming the reaction proceeds as\n",
      "\n",
      "C<sub>3</sub>H<sub>6</sub>N<sub>2</sub>O<sub>6</sub> &rarr; 3 CO<sub>2</sub> + 3 NH<sub>3</sub>\n",
      "\n",
      "1. What is the specific energy content measured as kJ/kg of fuel at standard conditions?\n",
      "\n",
      "2. The Mk 48 torpedo has an estimated maximum operating depth of 800m. What is specific energy content of the fuel at the pressure encountered at that depth?\n",
      "\n",
      "3. How much fuel will be required by the Mk 48 ADCAP?"
     ]
    },
    {
     "cell_type": "heading",
     "level": 2,
     "metadata": {},
     "source": [
      "Mk 50 Torpedo"
     ]
    },
    {
     "cell_type": "markdown",
     "metadata": {},
     "source": [
      "The [Mk 50 torpedo](http://en.wikipedia.org/wiki/Mark_50_torpedo) was designed a lightweight device that could be used against fast and deep-diving submarines. A critical part of its design is the Stored Chemical Energy Propulsion System (SCEPS) in which sulfur hexaflouride gas is sprayed onto a solid block of lithium to produce the heat necessary to run a steam-powered, closed-cycle rankine engine. "
     ]
    },
    {
     "cell_type": "markdown",
     "metadata": {},
     "source": [
      "<iframe width=\"420\" height=\"315\" src=\"//www.youtube.com/embed/d-XbjFn3aqE\" frameborder=\"0\" allowfullscreen></iframe>"
     ]
    },
    {
     "cell_type": "markdown",
     "metadata": {},
     "source": [
      "Sulfur hexaflouride is relatively inert, but does react with lithium at an operating temperature of about 790 &deg;C via the stoichiometric reaction\n",
      "\n",
      "8 Li + SF<sub>6</sub> &rarr; Li<sub>2</sub>S + 6 LiF\n",
      "\n",
      "This reaction produces no gaseous products allowing the propulsion system can be self-contained, an enormous design advantage for the power system of a torpedo that must operate under high pressure conditions in deep ocean waters.\n",
      "\n",
      "1. Estimate the heat of reaction at the normal operating conditions. \n",
      "2. What is the heat of reaction per unit mass of reactants?  Per unit volume? Compare to the lower heating values of some common fuels.\n",
      "3. The heat is used to generate steam for a closed cycle Rankine engine employing a steam turbine. The creep limit of stainless steel limits the inlet temperature of the steam turbine to 565 &deg;C. If the condenser temperature is 30 &deg;C, what is the maximum acheivable Carnot efficiency of the steam engine?  \n",
      "4. An alternative formula for estimating the heat engine efficiency under maximum power conditions is the Curzon-Ahlborn efficiency given by $\\eta = 1-\\sqrt{\\frac{T_{hot}}{T_{cold}}}$. Estimate the Curzon-Ahlborn efficiency of this steam engine. \n",
      "5. The Mk 50 torpedo has a diameter of 12.75 inches, an estimated speed of 50 knots, and an estimated range of 15 km. Assuming a drag coefficient 0.010, an engine efficiency equal to the Curzon-Ahlborn efficiency, and an overall propulsion system efficiency of 80%, how much fuel is required?\n",
      "\n",
      "The core issue for this problem is finding reliable thermodynamic information.  Here's one source ( [http://www.update.uu.se/~jolkkonen/pdf/CRC_TD.pdf](http://www.update.uu.se/~jolkkonen/pdf/CRC_TD.pdf)) that you may find useful in addition to the [NIST Webbook](http://webbook.nist.gov/chemistry/)."
     ]
    },
    {
     "cell_type": "heading",
     "level": 2,
     "metadata": {},
     "source": [
      "Black Shark Torpedo"
     ]
    },
    {
     "cell_type": "markdown",
     "metadata": {},
     "source": [
      "The [Black Shark torpedo](http://en.wikipedia.org/wiki/Black_Shark_torpedo) is an electrically powered, 21 inch diameter torpedo produced by Whitehead Sistemi Subacquei (WASS) group of Italy. It has an estimated range of 22 km at a speed of 52 knots.  \n",
      "\n",
      "<img src = \"http://www.naval.com.br/blog/wp-content/uploads/2009/02/al-torpedos.jpg\"/ style = \"height:600px\">\n",
      "\n",
      "The Black Shark torpedo employs a salt water activated [AgO-Al battery[(http://www.saftbatteries.com/force_download/Torpedo_brochure09_13.pdf) The anode half-reaction is\n",
      "\n",
      "2 Al + 80 H<sup>-</sup> &rarr; 2 Al0<sub>2</sub><sup>-</sup> + 4 H<sub>2</sub>O + 6 electrons\n",
      "\n",
      "The cathode half-reaction is\n",
      "\n",
      "3 AgO + 3 H<sub>2</sub>O + 6 electrons &rarr; 3 Ag + 6 OH<sup>-</sup>\n",
      "\n",
      "for an overall electrochemical reaction\n",
      "\n",
      "2 Al + 3 AgO + 2 OH<sup>-</sup> &rarr; 2 AlO<sub>2</sub><sup>-</sup> + 3 AgO + H<sub>2</sub>O\n",
      "\n",
      "An individual battery cell has a measured potential of E<sub>cell</sub> = 1.33 volts under operating conditions.  The Gibb's free energy $\\Delta G$, is related to the number of electrons transferred in the reaction, $n$, and the cell potential by\n",
      "\n",
      "$$\\Delta G = -n F E_{cell} $$\n",
      "\n",
      "where $F = 96,485$ Columbs/gmol is the charge on one gram-mole of electrons.\n",
      "Assuming the battery/motor system has an overall efficiency of a Tesla roadster (88% efficient), and the propulsion system is 80% efficient, estimate the chemical reactants necessary to power the Black Shark torpedo."
     ]
    }
   ],
   "metadata": {}
  }
 ]
}