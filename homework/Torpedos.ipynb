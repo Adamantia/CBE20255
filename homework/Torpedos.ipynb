{
 "metadata": {
  "name": ""
 },
 "nbformat": 3,
 "nbformat_minor": 0,
 "worksheets": [
  {
   "cells": [
    {
     "cell_type": "heading",
     "level": 1,
     "metadata": {},
     "source": [
      "Torpedos!"
     ]
    },
    {
     "cell_type": "markdown",
     "metadata": {},
     "source": [
      "<img src = \"https://www.fas.org/man/dod-101/sys/ship/weaps/torpedo_comp.gif\">"
     ]
    },
    {
     "cell_type": "heading",
     "level": 2,
     "metadata": {},
     "source": [
      "Energy Requirements"
     ]
    },
    {
     "cell_type": "markdown",
     "metadata": {},
     "source": [
      "The [drag force on a torpedo](http://tglang.com/uploads/Hydrodynamic_Drag_of_Torpedoes.pdf) is given by the formula\n",
      "\n",
      "$$F_D = \\frac{1}{2}\\rho v^2 C_D A $$\n",
      "\n",
      "where $C_D$ is the drag coefficient, $\\rho$ is the density of the fluid, $v$ is velocity, and $A$ is the cross-sectional area. Assume $C_D = 0.095$ for a well-designed torpedo. \n",
      "\n",
      "The Mk-48 ADCAP, which is 21 inches in diameter and a mass of 1,663 kg, is claimed to have a range of 54,685 yards at 40 knots, and 42,530 yards at 55 knots. What is the power requirement in horsepower at these speeds? How much energy is required to accelerate the torpedo to its operating speed?  How much energy is required to cover the range of operation? Assuming the propulsion system has an overall efficiency of 20%, how much fuel energy is required?"
     ]
    },
    {
     "cell_type": "heading",
     "level": 2,
     "metadata": {},
     "source": [
      "Mk 48 and Mk 46 Torpedos"
     ]
    },
    {
     "cell_type": "markdown",
     "metadata": {},
     "source": [
      "The Mk 48 and [Mk 46](http://en.wikipedia.org/wiki/Mark_46_torpedo) torpedos use an a monopropellant knowns at Otto Fuel to drive a [gas turbine engine](http://utcaerospacesystems.com/cap/products/Pages/torpedo-propulsion-spearfish-engine.aspx). The principle component of Otto fuel is propylene glycol dinitrate (IUPAC name 1,2-propanediol dinitrate) that makes up 76% of the fuel by weight. Assuming the reaction proceeds as\n",
      "\n",
      "C<sub>3</sub>H<sub>6</sub>N<sub>2</sub>O<sub>6</sub> &rarr; 3 CO<sub>2</sub> + 3 NH<sub>3</sub>\n",
      "\n",
      "what is the specific energy content measured as kJ/kg of fuel? How much fuel will be required by the Mk 48 ADCAP?"
     ]
    },
    {
     "cell_type": "heading",
     "level": 2,
     "metadata": {},
     "source": [
      "Mk 50 Torpedo"
     ]
    },
    {
     "cell_type": "markdown",
     "metadata": {},
     "source": [
      "The [Mk 50 torpedo](http://en.wikipedia.org/wiki/Mark_50_torpedo) was designed a lightweight device that could be used against fast and deep-diving submarines. A critical part of its design is the Stored Chemical Energy Propulsion System (SCEPS) in which sulfur hexaflouride gas is sprayed onto a solid block of lithium to produce the heat necessary to run a steam-powered, closed-cycle rankine engine. [Sulfur hexaflouride is relatively inert](https://www.youtube.com/watch?v=d-XbjFn3aqE), but does react with lithium at an operating temperature of about 790 &deg;C via the stoichiometric reaction\n",
      "\n",
      "8 Li + SF<sub>6</sub> &rarr; Li<sub>2</sub>S + 6 LiF\n",
      "\n",
      "This reaction produces no gaseous products allowing the propulsion system can be self-contained, an enormous design advantage for the power system of a torpedo that must operate under high pressure conditions in deep ocean waters.\n",
      "Estimate the heat of reaction at the normal operating conditions. What is the heat of reaction per unit mass of reactants?  Per unit volume?  How does this compare to gasoline?\n",
      "\n",
      "The core issue for this problem is finding reliable thermodynamic information.  Here's one source ( [http://www.update.uu.se/~jolkkonen/pdf/CRC_TD.pdf](http://www.update.uu.se/~jolkkonen/pdf/CRC_TD.pdf)) that you may find useful in addition to the [NIST Webbook](http://webbook.nist.gov/chemistry/)."
     ]
    }
   ],
   "metadata": {}
  }
 ]
}