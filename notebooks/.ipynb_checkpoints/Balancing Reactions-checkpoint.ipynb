{
 "metadata": {
  "name": ""
 },
 "nbformat": 3,
 "nbformat_minor": 0,
 "worksheets": [
  {
   "cells": [
    {
     "cell_type": "heading",
     "level": 1,
     "metadata": {},
     "source": [
      "Balancing Reactions"
     ]
    },
    {
     "cell_type": "markdown",
     "metadata": {},
     "source": [
      "This [IPython notebook](http://ipython.org/notebook.html) demonstrates the balancing of chemical reactions using  principles of reaction stoichiometry.\n",
      "\n",
      "J.C. Kantor (Kantor.1@nd.edu)\n",
      "\n",
      "The latest version of this IPython notebook is available at [http://github.com/jckantor/CBE20255](http://github.com/jckantor/CBE20255)  for noncommercial use under terms of the [Creative Commons Attribution Noncommericial ShareAlike License](http://creativecommons.org/licenses/by-nc-sa/4.0/)."
     ]
    },
    {
     "cell_type": "heading",
     "level": 2,
     "metadata": {},
     "source": [
      "Stoichiometry"
     ]
    },
    {
     "cell_type": "markdown",
     "metadata": {},
     "source": [
      "Stoichiometry refers to the quantitative analysis of chemical reactions. Stoichiometry provides the basic set of analytical tools necessary for the design of chemical processes."
     ]
    },
    {
     "cell_type": "heading",
     "level": 2,
     "metadata": {},
     "source": [
      "Example: Combustion of Methane"
     ]
    },
    {
     "cell_type": "markdown",
     "metadata": {},
     "source": [
      "The unbalanced reaction for the combustion of methane (\\\\( CH_4\\\\) ) is \n",
      "\n",
      "\\\\[CH_4 + O_2 \\longrightarrow CO_2 + H_2O\\\\]\n",
      "\n",
      "What we seek are the _stoichiometric coefficients_ for the balanced reaction. The stoichiometric coefficients are numbers \\\\(\\nu_s\\\\) such that the chemical expression can be written as a formula\n",
      "\n",
      "$$ \\nu_{CH_4}CH_4 + \\nu_{O_2}O_2 + \\nu_{CO_2}CO_2 + \\nu_{H_2O}H_2O = 0  $$\n",
      "\n",
      "where negative stoichiometric coefficients correspond to reactants, and positive stoichiometric coefficeints correspond to products of the reaction.\n",
      "\n",
      "This approach uses the [SymPy](http://sympy.org/en/index.html) package for symbolic calculations to set up and solve the atom balances corresponding to a chemical reaction. The first step is to import the sympy package into the current workspace."
     ]
    },
    {
     "cell_type": "code",
     "collapsed": false,
     "input": [
      "import sympy as sym\n",
      "from sympy import *"
     ],
     "language": "python",
     "metadata": {},
     "outputs": [],
     "prompt_number": 2
    },
    {
     "cell_type": "markdown",
     "metadata": {},
     "source": [
      "The next step is to introduce a stoichiometric coefficient for each chemical species participating in the reaction, and a list of atom balances expressed in terms of the stoichiometric coefficients. There is one atom balance for each atomic species appearing in the reaction. Each atom balance consists of an expression that will be zero for a balanced reaction."
     ]
    },
    {
     "cell_type": "code",
     "collapsed": false,
     "input": [
      "var('vCH4')\n",
      "var('vO2')\n",
      "var('vCO2')\n",
      "var('vH2O')\n",
      "\n",
      "atomBalances = [\n",
      "    Eq(vCH4 + vCO2,0),             # Carbon\n",
      "    Eq(4*vCH4 + 2*vH2O,0),         # Hydrogen\n",
      "    Eq(2*vO2 + +2*vCO2 + vH2O,0)   # Oxygen\n",
      "]"
     ],
     "language": "python",
     "metadata": {},
     "outputs": [],
     "prompt_number": 3
    },
    {
     "cell_type": "markdown",
     "metadata": {},
     "source": [
      "A unique solution is obtained by specifying a _basis_ for the reaction. The basis is an additional equation that determines the stoichiometric coefficient for a particular chemical species. In this case, since this example refers to the combustion of methane, an obvious basis is to set the stoichiometric coefficient of methane to -1."
     ]
    },
    {
     "cell_type": "code",
     "collapsed": false,
     "input": [
      "basis = [Eq(vCH4,-1)]\n",
      "\n",
      "for e in atomBalances + basis:\n",
      "    print e"
     ],
     "language": "python",
     "metadata": {},
     "outputs": [
      {
       "output_type": "stream",
       "stream": "stdout",
       "text": [
        "vCH4 + vCO2 == 0\n",
        "4*vCH4 + 2*vH2O == 0\n",
        "2*vCO2 + vH2O + 2*vO2 == 0\n",
        "vCH4 == -1\n"
       ]
      }
     ],
     "prompt_number": 12
    },
    {
     "cell_type": "markdown",
     "metadata": {},
     "source": [
      "Solving"
     ]
    },
    {
     "cell_type": "code",
     "collapsed": false,
     "input": [
      "soln = solve(atomBalances + basis)\n",
      "\n",
      "for k in sorted(soln.keys()):\n",
      "    print \"{:<4s} == {:>2}\".format(k, soln[k])"
     ],
     "language": "python",
     "metadata": {},
     "outputs": [
      {
       "output_type": "stream",
       "stream": "stdout",
       "text": [
        "vCH4 == -1\n",
        "vCO2 ==  1\n",
        "vH2O ==  2\n",
        "vO2  == -2\n"
       ]
      }
     ],
     "prompt_number": 13
    },
    {
     "cell_type": "heading",
     "level": 2,
     "metadata": {},
     "source": [
      "Example: Hypergolic Reactions"
     ]
    },
    {
     "cell_type": "markdown",
     "metadata": {},
     "source": [
      "Hypergolic reactions are reactions where the reactants spontaneously ignite. They are frequently used in space propulsion where it desired to have a thruster that can be readily controlled over a range of operating conditions. One example is the reaction of unsymmetrical dimethyldydrazize (UDMH) with nitrogren tetroxide. The **unbalanced** reaction is given by\n",
      "\n",
      "$$ C_2H_8N_2 + N_2O_4 \\longrightarrow CO_2 + NO + H_2O $$"
     ]
    },
    {
     "cell_type": "code",
     "collapsed": false,
     "input": [
      "var('vUDMH vN2O4 vCO2 vNO vH2O')\n",
      "\n",
      "eqns = [\n",
      "    Eq(vUDMH,-1),                        # Basis\n",
      "    Eq(2*vUDMH + vCO2,0),                # Carbon\n",
      "    Eq(8*vUDMH + 2*vH2O,0),              # Hydrogen\n",
      "    Eq(4*vN2O4 + 2*vCO2 + vNO + vH2O,0), # Oxygen\n",
      "    Eq(2*vN2O4 + vNO,0)                  # Nitrogen\n",
      "]\n",
      "\n",
      "for e in eqns:\n",
      "    print e"
     ],
     "language": "python",
     "metadata": {},
     "outputs": [
      {
       "output_type": "stream",
       "stream": "stdout",
       "text": [
        "vUDMH == -1\n",
        "vCO2 + 2*vUDMH == 0\n",
        "2*vH2O + 8*vUDMH == 0\n",
        "2*vCO2 + vH2O + 4*vN2O4 + vNO == 0\n",
        "2*vN2O4 + vNO == 0\n"
       ]
      }
     ],
     "prompt_number": 4
    },
    {
     "cell_type": "code",
     "collapsed": false,
     "input": [
      "solve(eqns)"
     ],
     "language": "python",
     "metadata": {},
     "outputs": [
      {
       "metadata": {},
       "output_type": "pyout",
       "prompt_number": 5,
       "text": [
        "{vCO2: 2, vH2O: 4, vN2O4: -4, vNO: 8, vUDMH: -1}"
       ]
      }
     ],
     "prompt_number": 5
    },
    {
     "cell_type": "heading",
     "level": 2,
     "metadata": {},
     "source": [
      "Exercises"
     ]
    },
    {
     "cell_type": "markdown",
     "metadata": {},
     "source": [
      "Extend this example to balance the reaction for the combustion of octane \\\\(C_8H_{18}\\\\)."
     ]
    }
   ],
   "metadata": {}
  }
 ]
}