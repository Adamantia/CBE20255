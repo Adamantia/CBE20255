{
 "metadata": {
  "name": ""
 },
 "nbformat": 3,
 "nbformat_minor": 0,
 "worksheets": [
  {
   "cells": [
    {
     "cell_type": "heading",
     "level": 1,
     "metadata": {},
     "source": [
      "Global CO<sub>2</sub> Budget"
     ]
    },
    {
     "cell_type": "markdown",
     "metadata": {},
     "source": [
      "This [IPython notebook](http://ipython.org/notebook.html) demonstrates determines where the global CO<sub>2</sub> emissions go by solving a mass balance.\n",
      "\n",
      "J.C. Kantor (Kantor.1@nd.edu)\n",
      "\n",
      "The latest version of this IPython notebook is available at [http://github.com/jckantor/CBE20255](http://github.com/jckantor/CBE20255)  for noncommercial use under terms of the [Creative Commons Attribution Noncommericial ShareAlike License](http://creativecommons.org/licenses/by-nc-sa/4.0/)."
     ]
    },
    {
     "cell_type": "heading",
     "level": 2,
     "metadata": {},
     "source": [
      "Problem Statement"
     ]
    },
    {
     "cell_type": "markdown",
     "metadata": {},
     "source": [
      "The total global emissons of CO<sub>2</sub> is estimated by the [Netherlands Environmental Assessment Agency](http://www.pbl.nl/en/publications/trends-in-global-co2-emissions-2013-report) to be 34.5 billion metric tons from all sources, including fossil fuels, cement production, and land use changes. [As measured by NOAA](http://www.esrl.noaa.gov/gmd/ccgg/trends/global.html), in recent years the atmospheric concentration of CO<sub>2</sub> is increasing at an annual rate of about 2.4 ppmv (parts per million by volume)."
     ]
    },
    {
     "cell_type": "markdown",
     "metadata": {},
     "source": [
      "Assuming these numbers are accurate and that the atmosphere is well mixed, what fraction of global CO<sub>2</sub> emissions are being retained in the atmosphere?"
     ]
    },
    {
     "cell_type": "heading",
     "level": 2,
     "metadata": {},
     "source": [
      "Solution"
     ]
    },
    {
     "cell_type": "markdown",
     "metadata": {},
     "source": [
      "This problem requires us to perform a material balance for CO<sub>2</sub> in the atmosphere. We'll perform the using a 10 step approach outlined in the textbook."
     ]
    },
    {
     "cell_type": "heading",
     "level": 3,
     "metadata": {},
     "source": [
      "Step 1. Draw a diagram."
     ]
    },
    {
     "cell_type": "markdown",
     "metadata": {},
     "source": [
      "<img src=\"https://raw.github.com/jckantor/CBE20255/master/notebooks/images/Global_CO2.png\"/>"
     ]
    },
    {
     "cell_type": "heading",
     "level": 3,
     "metadata": {},
     "source": [
      "Step 2. Define the system of interest."
     ]
    },
    {
     "cell_type": "markdown",
     "metadata": {},
     "source": [
      "The system of interest is the global atmosphere which we assume is well mixed and of uniform composition."
     ]
    },
    {
     "cell_type": "heading",
     "level": 3,
     "metadata": {},
     "source": [
      "Step 3. Choose components and define stream variables."
     ]
    },
    {
     "cell_type": "markdown",
     "metadata": {},
     "source": [
      "The chemical component to model is CO<sub>2</sub>. The stream variables are the mass flowrates of CO<aub>2</sub> into and out of the atmosphere."
     ]
    },
    {
     "cell_type": "heading",
     "level": 3,
     "metadata": {},
     "source": [
      "Step 4. Convert all units to consistent units of mass or moles."
     ]
    },
    {
     "cell_type": "markdown",
     "metadata": {},
     "source": [
      "This problem could be done on either a molar or mass basis. We'll arbitrarily choose to do this in mass units of kg/year. First we convert global emissions to kg/year."
     ]
    },
    {
     "cell_type": "code",
     "collapsed": false,
     "input": [
      "mCO2_in = 34.5e9            # inflow, metric tonnes per year\n",
      "mCO2_in = mCO2_in*1000      # inflow, kg per year\n",
      "print \"Global CO2 emissions = {:8.3g} kg/yr\".format(mCO2_in)"
     ],
     "language": "python",
     "metadata": {},
     "outputs": [
      {
       "output_type": "stream",
       "stream": "stdout",
       "text": [
        "Global CO2 emissions = 3.45e+13 kg/yr\n"
       ]
      }
     ],
     "prompt_number": 31
    },
    {
     "cell_type": "markdown",
     "metadata": {},
     "source": [
      "The rate of accumulation is given as ppm by volume per year. For ideal gases, volume fraction is equivalent to mole fraction. We need to convert the mole fraction, which is the ratio of kg-moles of CO<sub>2</sub> to kg-moles of air, to mass fraction which has units of kg of CO<sub>2</sub> to kg of air per year."
     ]
    },
    {
     "cell_type": "code",
     "collapsed": false,
     "input": [
      "nCO2_accum = 2.4e-6                   # accumulation, kg-mol CO2/kg-mol air/yr\n",
      "\n",
      "mwAir = 28.97                         # kg air/kg-mol air\n",
      "mwCO2 = 44.01                         # kg CO2/kg-mol CO2\n",
      "\n",
      "wCO2_accum = nCO2_accum*mwCO2/mwAir   # kg CO2/kg air/yr\n",
      "\n",
      "print \"Accumulation Rate of CO2 = {:8.3g} kg CO2/kg air\".format(wCO2_accum)"
     ],
     "language": "python",
     "metadata": {},
     "outputs": [
      {
       "output_type": "stream",
       "stream": "stdout",
       "text": [
        "Accumulation Rate of CO2 = 3.65e-06 kg CO2/kg air\n"
       ]
      }
     ],
     "prompt_number": 32
    },
    {
     "cell_type": "heading",
     "level": 3,
     "metadata": {},
     "source": [
      "Step 5. Define a basis."
     ]
    },
    {
     "cell_type": "markdown",
     "metadata": {},
     "source": [
      "The basis for the calculation are flows and change in one year. No additional work is required."
     ]
    },
    {
     "cell_type": "heading",
     "level": 3,
     "metadata": {},
     "source": [
      "Step 6. Define system variables."
     ]
    },
    {
     "cell_type": "markdown",
     "metadata": {},
     "source": [
      "The system variable is the rate of accumulation of CO<sub>2</sub> in kg CO2/year. We need to convert from change in concentration per year to change in total mass per year. The first step is to estimate the total mass of air."
     ]
    },
    {
     "cell_type": "code",
     "collapsed": false,
     "input": [
      "# Earth Radius in meters\n",
      "R = 6371000       # m\n",
      "\n",
      "# Earth Area in square meters\n",
      "A = 4*pi*R**2     # m**2\n",
      "\n",
      "# Mass of the atmosphere in kg\n",
      "g = 9.81          # N/kg\n",
      "P = 101325        # N/m**2\n",
      "mAir = A*P/g      # kg\n",
      "\n",
      "print \"Estimated mass of the atmosphere = {:8.3g} kg\".format(mAir)"
     ],
     "language": "python",
     "metadata": {},
     "outputs": [
      {
       "output_type": "stream",
       "stream": "stdout",
       "text": [
        "Estimated mass of the atmosphere = 5.27e+18 kg\n"
       ]
      }
     ],
     "prompt_number": 33
    },
    {
     "cell_type": "markdown",
     "metadata": {},
     "source": [
      "To get the rate of change of total CO<sub>2</sub>, multiply the total mass of by the rate of change of mass fraction of CO<sub>2</sub>."
     ]
    },
    {
     "cell_type": "code",
     "collapsed": false,
     "input": [
      "mCO2_accum = wCO2_accum*mAir     # kg CO2/year\n",
      "\n",
      "print \"Change in CO2 = {:8.3g} kg CO2/year\".format(mCO2_accum)"
     ],
     "language": "python",
     "metadata": {},
     "outputs": [
      {
       "output_type": "stream",
       "stream": "stdout",
       "text": [
        "Change in CO2 = 1.92e+13 kg CO2/year\n"
       ]
      }
     ],
     "prompt_number": 34
    },
    {
     "cell_type": "heading",
     "level": 3,
     "metadata": {},
     "source": [
      "Step 7. List specifications"
     ]
    },
    {
     "cell_type": "markdown",
     "metadata": {},
     "source": [
      "The inflow and rate of change of CO<sub>2</sub> are specified, and calculated above."
     ]
    },
    {
     "cell_type": "heading",
     "level": 3,
     "metadata": {},
     "source": [
      "Step 8. Write material balance equations for each species."
     ]
    },
    {
     "cell_type": "markdown",
     "metadata": {},
     "source": [
      "$$\\mbox{Accumulation} = \\mbox{Inflow} - \\mbox{Outflow} + \\underbrace{\\mbox{Generation}}_{=0} - \\underbrace{\\mbox{Consumption}}_{=0}$$"
     ]
    },
    {
     "cell_type": "heading",
     "level": 3,
     "metadata": {},
     "source": [
      "Step 9. Solve material balance equations."
     ]
    },
    {
     "cell_type": "markdown",
     "metadata": {},
     "source": [
      "$$\\mbox{Outflow} = \\mbox{Inflow} - \\mbox{Accumulation}$$"
     ]
    },
    {
     "cell_type": "code",
     "collapsed": false,
     "input": [
      "mCO2_out = mCO2_in - mCO2_accum\n",
      "\n",
      "print \"Global CO2 outflow = {:8.3g} kg CO2/yr\".format(mCO2_out)"
     ],
     "language": "python",
     "metadata": {},
     "outputs": [
      {
       "output_type": "stream",
       "stream": "stdout",
       "text": [
        "Global CO2 outflow = 1.53e+13 kg CO2/yr\n"
       ]
      }
     ],
     "prompt_number": 35
    },
    {
     "cell_type": "heading",
     "level": 3,
     "metadata": {},
     "source": [
      "Step 10. Check your work."
     ]
    },
    {
     "cell_type": "markdown",
     "metadata": {},
     "source": [
      "Fraction retained in the atmosphere"
     ]
    },
    {
     "cell_type": "code",
     "collapsed": false,
     "input": [
      "fCO2 = mCO2_accum/mCO2_in\n",
      "print \"Fraction of CO2 retained in the atmosphere = {:<.2g} \".format(fCO2)"
     ],
     "language": "python",
     "metadata": {},
     "outputs": [
      {
       "output_type": "stream",
       "stream": "stdout",
       "text": [
        "Fraction of CO2 retained in the atmosphere = 0.56 \n"
       ]
      }
     ],
     "prompt_number": 36
    }
   ],
   "metadata": {}
  }
 ]
}