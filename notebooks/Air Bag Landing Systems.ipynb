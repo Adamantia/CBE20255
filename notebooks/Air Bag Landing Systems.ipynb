{
 "cells": [
  {
   "cell_type": "markdown",
   "metadata": {},
   "source": [
    "######The latest version of this IPython notebook is available at [http://github.com/jckantor/CBE20255](http://github.com/jckantor/CBE20255)  for noncommercial use under terms of the [Creative Commons Attribution Noncommericial ShareAlike License](http://creativecommons.org/licenses/by-nc-sa/4.0/).\n",
    "\n",
    "J.C. Kantor (Kantor.1@nd.edu)"
   ]
  },
  {
   "cell_type": "markdown",
   "metadata": {
    "slideshow": {
     "slide_type": "slide"
    }
   },
   "source": [
    "# Energy Dispersing Air Bag Landing Systems\n",
    "\n",
    "<p><a href=\"http://commons.wikimedia.org/wiki/File:A_pallet_loaded_with_heavy_cargo_is_airdropped_from_a_C-130_Hercules_aircraft_during_tactical_airdrop_training_flight_for_members_of_the_345th_Tactical_Airlift_Squadron_DF-ST-91-10084.jpg#/media/File:A_pallet_loaded_with_heavy_cargo_is_airdropped_from_a_C-130_Hercules_aircraft_during_tactical_airdrop_training_flight_for_members_of_the_345th_Tactical_Airlift_Squadron_DF-ST-91-10084.jpg\"><img src=\"http://upload.wikimedia.org/wikipedia/commons/thumb/3/3c/A_pallet_loaded_with_heavy_cargo_is_airdropped_from_a_C-130_Hercules_aircraft_during_tactical_airdrop_training_flight_for_members_of_the_345th_Tactical_Airlift_Squadron_DF-ST-91-10084.jpg/1200px-thumbnail.jpg\" alt=\"A pallet loaded with heavy cargo is airdropped from a C-130 Hercules aircraft during tactical airdrop training flight for members of the 345th Tactical Airlift Squadron DF-ST-91-10084.jpg\"></a><br>\"<a href=\"http://commons.wikimedia.org/wiki/File:A_pallet_loaded_with_heavy_cargo_is_airdropped_from_a_C-130_Hercules_aircraft_during_tactical_airdrop_training_flight_for_members_of_the_345th_Tactical_Airlift_Squadron_DF-ST-91-10084.jpg#/media/File:A_pallet_loaded_with_heavy_cargo_is_airdropped_from_a_C-130_Hercules_aircraft_during_tactical_airdrop_training_flight_for_members_of_the_345th_Tactical_Airlift_Squadron_DF-ST-91-10084.jpg\">A pallet loaded with heavy cargo is airdropped from a C-130 Hercules aircraft during tactical airdrop training flight for members of the 345th Tactical Airlift Squadron DF-ST-91-10084</a>\" by Tech. Sgt. James R. Ferguson - <a rel=\"nofollow\" class=\"external free\" href=\"http://www.defenseimagery.mil/imageRetrieve.action?guid=1f916304399ca162bfaf704e192b4d085b093844&amp;t=2\">http://www.defenseimagery.mil/imageRetrieve.action?guid=1f916304399ca162bfaf704e192b4d085b093844&amp;t=2</a>. Licensed under Public Domain via <a href=\"//commons.wikimedia.org/wiki/\">Wikimedia Commons</a>.</p>"
   ]
  },
  {
   "cell_type": "code",
   "execution_count": 1,
   "metadata": {
    "collapsed": false
   },
   "outputs": [
    {
     "data": {
      "text/html": [
       "<link href='http://fonts.googleapis.com/css?family=Fenix' rel='stylesheet' type='text/css'>\n",
       "<link href='http://fonts.googleapis.com/css?family=Alegreya+Sans:100,300,400,500,700,800,\n",
       "    900,100italic,300italic,400italic,500italic,700italic,800italic,900italic' rel='stylesheet' type='text/css'>\n",
       "<link href='http://fonts.googleapis.com/css?family=Source+Code+Pro:300,400' rel='stylesheet' type='text/css'>\n",
       "<link href='http://fonts.googleapis.com/css?family=Crimson+Text' rel='stylesheet' type='text/css'>\n",
       "<link href='http://fonts.googleapis.com/css?family=Kameron' rel='stylesheet' type='text/css'>\n",
       "<link href='http://fonts.googleapis.com/css?family=Lato:200' rel='stylesheet' type='text/css'>\n",
       "<link href='http://fonts.googleapis.com/css?family=Lato:300' rel='stylesheet' type='text/css'>\n",
       "<link href='http://fonts.googleapis.com/css?family=Lato:400' rel='stylesheet' type='text/css'>\n",
       "<link href='http://fonts.googleapis.com/css?family=Source+Code+Pro' rel='stylesheet' type='text/css'>\n",
       "\n",
       "<style>\n",
       "\n",
       "@font-face {\n",
       "    font-family: \"Computer Modern\";\n",
       "    src: url('http://mirrors.ctan.org/fonts/cm-unicode/fonts/otf/cmunss.otf');\n",
       "}\n",
       "\n",
       "#notebook_panel { /* establish main background and color */\n",
       "    background: #fff;\n",
       "    color: #ff0000;\n",
       "}\n",
       "\n",
       "div.cell { /* set cell width */\n",
       "    width:800px;\n",
       "    margin-left:0%;\n",
       "    margin-right:auto;\n",
       "}\n",
       "\n",
       "div #notebook { /* centers the content */\n",
       "    background: #fff;\n",
       "    width: 1000px;\n",
       "    margin: auto;\n",
       "    padding-left: 1em;\n",
       "}\n",
       "\n",
       "#notebook li { /* more space between bullet points */\n",
       "    margin-top:0.8em;\n",
       "}\n",
       "\n",
       "/* draw border around running cells */\n",
       "div.cell.border-box-sizing.code_cell.running {\n",
       "    border: 3px solid #111;\n",
       "}\n",
       "\n",
       "/* Put a solid color box around each code cell and its output,\n",
       "     visually linking them together */\n",
       "div.cell.code_cell {\n",
       "    background-color: /*#fff*/ rgba(171,165,131,0.2);\n",
       "    border-radius: 10px; /* rounded borders */\n",
       "    padding: 1em;\n",
       "    margin-top: 1em;\n",
       "}\n",
       "\n",
       ".CodeMirror {\n",
       "    font-family: \"Source Code Pro\";\n",
       "    font-size: 90%;\n",
       "}\n",
       "\n",
       "div.text_cell_render code {\n",
       "    font-family: \"Source Code Pro\";\n",
       "    font-size: 90%;\n",
       "    color: red;\n",
       "}\n",
       "\n",
       "pre {\n",
       "    font-family: \"Source Code Pro\";\n",
       "    font-size: 90%;\n",
       "}\n",
       "\n",
       "div.text_cell_render { /* rendering of basic text cell */\n",
       "    font-family: 'Alegreya Sans', Computer Modern, \"Helvetica Neue\", Arial, Helvetica, sans-serif;\n",
       "    line-height: 135%;\n",
       "    font-size: 120%;\n",
       "    width:700px;\n",
       "    margin-left:auto;\n",
       "    margin-right:auto;\n",
       "}\n",
       "\n",
       ".text_cell_render h1 {\n",
       "    font-family: 'Alegreya Sans', sans-serif;\n",
       "    font-weight: 300;\n",
       "    font-size: 32pt;\n",
       "    line-height: 100%;\n",
       "    color:#CD2305;\n",
       "    margin-bottom: 0.4em;\n",
       "    margin-top: 0em;\n",
       "    display: block;\n",
       "}\n",
       "\n",
       "h2 {\n",
       "    font-family: 'Fenix', serif;\n",
       "}\n",
       "\n",
       "h3 {\n",
       "    font-family: 'Fenix', serif;\n",
       "    margin-top:12px;\n",
       "    margin-bottom: 3px;\n",
       "}\n",
       "\n",
       "h4 {\n",
       "    font-family: 'Fenix', serif;\n",
       "}\n",
       "\n",
       ".text_cell_render h5 {\n",
       "    font-family: 'Alegreya Sans', sans-serif;\n",
       "    font-weight: 100;\n",
       "    font-size: 16pt;\n",
       "    color: #CD2305;\n",
       "    font-style: italic;\n",
       "    margin-bottom: .5em;\n",
       "    margin-top: 0.5em;\n",
       "    display: block;\n",
       "}\n",
       "\n",
       ".text_cell_render h6 { /*use this for copyright note*/\n",
       "    font-family: 'Alegreya Sans', sans-serif;\n",
       "    font-weight: 400;\n",
       "    font-size: 10pt;\n",
       "    font-style: normal;\n",
       "    line-height: 120%;\n",
       "    margin-bottom: 1px;\n",
       "    margin-top: 1px;\n",
       "}\n",
       "\n",
       ".MathJax, .MathJax_Display  {\n",
       "    font-family: 'Alegreya Sans', sans-serif  !important;\n",
       "    font-size: 90%  !important;\n",
       "    vertical-align: 0px  !important;\n",
       "}\n",
       "\n",
       ".warning{\n",
       "    color: rgb( 240, 20, 20 )\n",
       "}\n",
       "\n",
       "</style>\n",
       "\n",
       "<script>\n",
       "MathJax.Hub.Config({\n",
       "    TeX: {\n",
       "        extensions: [\"AMSmath.js\"]\n",
       "    },\n",
       "    tex2jax: {\n",
       "        inlineMath: [ ['$','$'], [\"\\\\(\",\"\\\\)\"] ],\n",
       "        displayMath: [ ['$$','$$'], [\"\\\\[\",\"\\\\]\"] ],\n",
       "        processEscapes: true\n",
       "    },\n",
       "    displayAlign: 'center', // Change this to 'center' to center equations.\n",
       "    \"HTML-CSS\": {\n",
       "        styles: {'.MathJax_Display': {\"margin\": 4}}\n",
       "    }\n",
       "});\n",
       "</script>\n",
       "\n"
      ],
      "text/plain": [
       "<IPython.core.display.HTML object>"
      ]
     },
     "execution_count": 1,
     "metadata": {},
     "output_type": "execute_result"
    }
   ],
   "source": [
    "#Initializations\n",
    "from IPython.core.display import HTML\n",
    "HTML(open(\"../styles/custom.css\", \"r\").read())"
   ]
  },
  {
   "cell_type": "markdown",
   "metadata": {},
   "source": [
    "## Air Bag Landing Systems\n",
    "\n",
    "\n",
    "<div style=\"float: right;\">\n",
    "<img style=\"margin: 20px; width: 200px;\" src=\"./images/AirBag03.png\" />\n",
    "<br>\n",
    "<img style=\"margin: 20px; width: 200px;\" src=\"./images/AirBag04.jpg\"/>\n",
    "<br>\n",
    "<img style=\"width: 200px;\" src=\"./images/AirBag01.png\" />\n",
    "<br>\n",
    "<img style=\"width: 200px;\" src=\"./images/AirBag05.png\" />\n",
    "</div>\n",
    "Air bag landing systems have been adapted to a wide range of uses including space vehicle recovery, planetary exploration, humanitarian supply missions, and field delivery of military supplies. The purpose of the airbags is to dissipate the landing energy and thereby safely and securely deliver cargo to the ground.  A typical mission profile is shown in the following diagram (Figure 1 from Wen, et. al, 2010).\n",
    "\n",
    "The air bags are stored in a folded position underneath a payload platform. Upon exiting the aircraft, the parachute deploys and the air bags arefilled by ram air entering through a one-way vent. After initial contact with the ground, the lower vent closes and bag pressure builds due to the payload momentum. A membrane covering the upper vent bursts at a pre-determined pressure after which the airbag continues to collapse until the payload finally and safely touches down. [This](http://www.combatreform.org/T-21.htm) image shows deployment of Russian towed artillary piece.\n",
    "\n",
    "A typical airbag design for delivering military cargo is shown in these figures (courtesy of Duramold, Inc.). In this configuration, the airbags are constructed in pairs, and two pairs (a total of four airbags) are installed beneath each 2 feet by nine feet section of a segmented payload platform. A typical platorm (Type V platform manufactured by Airlift Technologies, Inc.) is shown in the accompanying figure.\n",
    "\n",
    "Typical operating parameters:\n",
    "\n",
    "* Parachute descent velocity: 28 ft/sec\n",
    "* Loading: 2000-4000 lbs per 2 foot segment, with a maximum loading of 250 lb/sq. ft. \n",
    "* Maximum g-force: 8g\n",
    "* No bouncing"
   ]
  },
  {
   "cell_type": "markdown",
   "metadata": {},
   "source": [
    "## Analysis\n",
    "\n",
    "This is a preliminary analysis to obtain an approximate model for the design analysis of an air bag system. For this purpose, the assumptions include ideal operation of all components, an airbag system of constant cross-sectional area, non-elastic materials, and the ideal gas law."
   ]
  },
  {
   "cell_type": "markdown",
   "metadata": {},
   "source": [
    "#### Dimensions\n",
    "\n",
    "The dimensions of a typical airbag are taken from drawings provided by Duramold, Inc."
   ]
  },
  {
   "cell_type": "code",
   "execution_count": 3,
   "metadata": {
    "collapsed": false
   },
   "outputs": [],
   "source": [
    "import math\n",
    "PI = math.pi\n",
    "\n",
    "from pint import UnitRegistry\n",
    "ur = UnitRegistry()\n",
    "\n",
    "R = 8.314 * ur.J/(ur.mol*ur.degK)\n",
    "MW = 28.966 * ur.grams/ur.mol"
   ]
  },
  {
   "cell_type": "code",
   "execution_count": 4,
   "metadata": {
    "collapsed": false
   },
   "outputs": [
    {
     "name": "stdout",
     "output_type": "stream",
     "text": [
      "Airbag area =    0.657 meter ** 2\n",
      "Airbag volume =  600.480 liter\n"
     ]
    }
   ],
   "source": [
    "height = 36.0 * ur.inches\n",
    "diameter = 36.0 * ur.inches\n",
    "area = 0.25*PI*diameter**2\n",
    "volume = height*area\n",
    "\n",
    "print \"Airbag area = {0:8.3f}\".format(area.to(ur.m**2))\n",
    "print \"Airbag volume = {0:8.3f}\".format(volume.to(ur.L))"
   ]
  },
  {
   "cell_type": "markdown",
   "metadata": {},
   "source": [
    "#### Energy Analysis"
   ]
  },
  {
   "cell_type": "code",
   "execution_count": 5,
   "metadata": {
    "collapsed": false
   },
   "outputs": [
    {
     "name": "stdout",
     "output_type": "stream",
     "text": [
      "KE =   24.778 kilojoule\n"
     ]
    }
   ],
   "source": [
    "# average loading per airbag\n",
    "\n",
    "m_payload = 1500 * ur.lbs\n",
    "velocity = 28 * ur.feet/ur.sec\n",
    "\n",
    "KE = 0.5*m_payload*velocity**2\n",
    "print \"KE = {0:8.3f}\".format(KE.to(ur.kJ))"
   ]
  },
  {
   "cell_type": "markdown",
   "metadata": {},
   "source": [
    "We can get a preliminary estimate of the forces and accelerations by assuming the airbags could be operated to exert a constant negative acceleration on the payload. This spreads the landing event over a maximum durations, and gives a lower bound on the peak g-force to be experienced by the payload."
   ]
  },
  {
   "cell_type": "code",
   "execution_count": 78,
   "metadata": {
    "collapsed": false
   },
   "outputs": [
    {
     "name": "stdout",
     "output_type": "stream",
     "text": [
      "Average Force =   27.098 kilonewton\n",
      "Average Overpressrue =   41.264 kilopascal\n",
      "Average Acceleration =   39.827 meter / second ** 2\n",
      "Time =    0.214 second\n"
     ]
    }
   ],
   "source": [
    "# Average force\n",
    "force = KE/height\n",
    "print \"Average Force = {0:8.3f}\".format(force.to(ur.kN))\n",
    "\n",
    "# Average pressure\n",
    "press = force/area\n",
    "print \"Average Overpressrue = {0:8.3f}\".format(press.to(ur.kPa))\n",
    "\n",
    "# Average decleration\n",
    "accel = force/m_payload\n",
    "print \"Average Acceleration = {0:8.3f}\".format(accel.to(ur.m/ur.s**2))\n",
    "\n",
    "# Duration\n",
    "t = velocity/accel\n",
    "print \"Time = {0:8.3f}\".format(t.to(ur.s))"
   ]
  },
  {
   "cell_type": "markdown",
   "metadata": {},
   "source": [
    "## Parachute Descent Phase"
   ]
  },
  {
   "cell_type": "markdown",
   "metadata": {},
   "source": [
    "The parachute descent is slow enough that the air flow is well approximated as an incompressible flow. Then from Bernoulli's law, the stagnation pressure at the bottom vent of the air bag is\n",
    "\n",
    "$$ P_{total} = P_{ambient} + \\frac{1}{2}\\rho v^2$$\n",
    "\n",
    "For these low pressures the ideal gas law provides an accurate equation of state. Then\n",
    "\n",
    "$$ \\rho = MW_{air}\\frac{P_{ambient}}{R T_{ambient}} $$\n",
    "\n",
    "Assuming the air bag fills at the stagnation pressure and equilibrates with the ambient temperature, thn mass of air in the air bag at the moment it touches down is given by\n",
    "\n",
    "$$ m_{air} = MW_{air}\\frac{P_{total} V}{R T_{ambient}} $$"
   ]
  },
  {
   "cell_type": "code",
   "execution_count": 7,
   "metadata": {
    "collapsed": false
   },
   "outputs": [
    {
     "name": "stdout",
     "output_type": "stream",
     "text": [
      "Air density =    1.225 kilogram / meter ** 3\n"
     ]
    }
   ],
   "source": [
    "P_ambient = 1.0 * ur.atm\n",
    "T_ambient = ur.Quantity(15.0,ur.degC).to(ur.degK)\n",
    "\n",
    "rho = MW*P_ambient/(R*T_ambient)\n",
    "rho.ito(ur.kg/ur.m**3)\n",
    "\n",
    "print \"Air density = {0:8.3f}\".format(rho)"
   ]
  },
  {
   "cell_type": "code",
   "execution_count": 8,
   "metadata": {
    "collapsed": false
   },
   "outputs": [
    {
     "name": "stdout",
     "output_type": "stream",
     "text": [
      "Stagnation Pressure = 44.61619 pascal\n"
     ]
    }
   ],
   "source": [
    "# for low velocities, assume essentially incompressible flow\n",
    "P_stagnation = 0.5*rho*velocity**2\n",
    "P_stagnation.ito(ur.Pa)\n",
    "\n",
    "print \"Stagnation Pressure = {0:8.5f}\".format(P_stagnation)"
   ]
  },
  {
   "cell_type": "code",
   "execution_count": 9,
   "metadata": {
    "collapsed": false
   },
   "outputs": [
    {
     "name": "stdout",
     "output_type": "stream",
     "text": [
      "Total Pressure =  1.00044 atmosphere\n"
     ]
    }
   ],
   "source": [
    "P_total = P_ambient + P_stagnation\n",
    "\n",
    "print \"Total Pressure = {0:8.5f}\".format(P_total)"
   ]
  },
  {
   "cell_type": "code",
   "execution_count": 11,
   "metadata": {
    "collapsed": false
   },
   "outputs": [
    {
     "name": "stdout",
     "output_type": "stream",
     "text": [
      "Air mass =  735.980 gram\n"
     ]
    }
   ],
   "source": [
    "m_air = MW*P_total*volume/(R*T_ambient)\n",
    "print \"Air mass = {0:8.3f}\".format(m_air.to(ur.g))"
   ]
  },
  {
   "cell_type": "markdown",
   "metadata": {},
   "source": [
    "## Initial Compression Phase\n",
    "\n",
    "Let $h$ denote the height of the cargo platform above the ground, and let $v$ denote velocity. At the moment the bottom of the air bag touches down, the dynamics become\n",
    "\n",
    "\\begin{align*}\n",
    "\\frac{dh}{dt} & = v \\\\\n",
    "\\frac{dv}{dt} & = \\frac{(P_{bag}-P_{ambient})A_{bag}}{m_{payload}} - g\n",
    "\\end{align*}\n",
    "\n",
    "where\n",
    "\n",
    "\\begin{align*}\n",
    "h(0) & = H_{bag} \\\\\n",
    "v(0) & = -v_{parachute}\n",
    "\\end{align*}\n",
    "\n",
    "where $v_{parachute}$ is descent velocity from the parachute deployment phase, and $H_{bag}$ is the height of the bag when fully extended.\n",
    "\n",
    "On touch down the bottom inlet vent immediately closes. The air mass in the bag is then contant until the upper vent membrane bursts. During this phase, the energy balance becomes\n",
    "\n",
    "$$\n",
    "\\frac{dE}{dt}=\\dot{Q}+\\dot{W}\n",
    "$$\n",
    "\n",
    "where $\\dot{Q}$ is the heat transferred to the system from the surroundings and $\\dot{W}$ is the work done on the system. The entire compression phase is only a few hundred milliseconds, so to a good approximation $\\dot{Q} = 0$.\n",
    "\n",
    "The specific energy of an ideal gas is a function of temperature alone, so\n",
    "\n",
    "\\begin{aligned}\n",
    "\\frac{dE}{dt} & =\\frac{d(n_{air}\\hat{U})}{dt}\\\\\n",
    " & =n_{air}\\frac{d\\hat{U}}{dt}\\\\\n",
    " & =n_{air}\\frac{\\partial\\hat{U}}{\\partial T}\\frac{dT}{dt}\\\\\n",
    " & =n_{air}C_{v}\\frac{dT}{dt}\n",
    "\\end{aligned}\n",
    "\n",
    "\n",
    "On the work side of the equation, the rate of work done on the system ($\\dot{W}$)\n",
    "\n",
    "\\begin{aligned}\n",
    "\\dot{W} & = - P \\frac{dV}{dt}\n",
    "\\end{aligned}\n",
    "\n",
    "Giving an energy balance\n",
    "\n",
    "$$ n_{air}C_{v}\\frac{dT}{dt} = -P\\frac{dV}{dt} $$\n",
    "\n",
    "Since it is pressure that appears in other parts of the model, we'd like to have the left side of this equation in terms of pressure. Substituting the ideal gas and taking a total derivative of temperature gives\n",
    "\n",
    "$$ \\frac{C_{v}}{R}\\left(V \\frac{dP}{dt} + P\\frac{dV}{dt}\\right) = -P\\frac{dV}{dt} $$\n",
    "\n",
    "For an ideal gas, $C_p = R + C_v$. Rearranging we get\n",
    "\n",
    "$$ \\frac{dP}{dt} = - \\frac{P}{V} \\left(\\frac{C_p}{C_v}\\right)\\frac{dV}{dt}$$\n",
    "\n",
    "Putting this all together for a constant area ($V = hA$) leaves a system of three differential equations with well-defined initial conditions for the initial compression phase of the air bag.\n"
   ]
  },
  {
   "cell_type": "markdown",
   "metadata": {},
   "source": [
    "\\begin{align*}\n",
    "\\frac{dh}{dt} & = v \\\\\n",
    "\\frac{dv}{dt} & = \\frac{(P - P_{ambient})A}{m_{payload}} - g \\\\\n",
    "\\frac{dP}{dt} & = -\\frac{P}{h} \\left(\\frac{C_p}{C_v}\\right)v\n",
    "\\end{align*}\n",
    "\n",
    "where\n",
    "\n",
    "\\begin{align*}\n",
    "h(0) & = H_{bag} \\\\\n",
    "v(0) & = -v_{parachute} \\\\\n",
    "P(0) & = P_{total}\n",
    "\\end{align*}"
   ]
  },
  {
   "cell_type": "code",
   "execution_count": 163,
   "metadata": {
    "collapsed": false,
    "scrolled": true
   },
   "outputs": [
    {
     "name": "stdout",
     "output_type": "stream",
     "text": [
      "gravity =   9.8100 meter / second ** 2\n",
      "k =   1.4000\n",
      "area =   0.6567\n",
      "m_payload = 680.3886 kilogram\n",
      "P_ambient = 101325.0000 pascal\n",
      "\n",
      "Initial Conditions for Initial Compression Phase\n",
      "h_ic =   0.9144\n",
      "v_ic =  -8.5344\n",
      "P_ic = 101369.6\n"
     ]
    }
   ],
   "source": [
    "import numpy as np\n",
    "import matplotlib.pyplot as plt\n",
    "from scipy.integrate import odeint\n",
    "\n",
    "# Convert all parameters to base units \n",
    "gravity = 9.81 * ur.m/ur.sec**2\n",
    "k = 1.4\n",
    "area.ito(ur.m**2)\n",
    "m_payload.ito(ur.kg)\n",
    "P_ambient.ito(ur.Pa)\n",
    "\n",
    "# Verify parameter values, some of which were calculated above\n",
    "\n",
    "print \"gravity = {0:8.4f}\".format(g)\n",
    "print \"k = {0:8.4f}\".format(k)\n",
    "print \"area = {0:8.4f}\".format(A)\n",
    "print \"m_payload = {0:8.4f}\".format(m_payload)\n",
    "print \"P_ambient = {0:8.4f}\".format(P_ambient)\n",
    "\n",
    "# Set and verify initial conditions\n",
    "\n",
    "h_ic = (height.to(ur.m)).magnitude\n",
    "v_ic = (-velocity.to(ur.m/ur.sec)).magnitude\n",
    "P_ic = (P_total.to(ur.Pa)).magnitude\n",
    "\n",
    "x0 = [h_ic, v_ic, P_ic]\n",
    "\n",
    "print \"\\nInitial Conditions for Initial Compression Phase\"\n",
    "print \"h_ic = {0:8.4f}\".format(h_ic)\n",
    "print \"v_ic = {0:8.4f}\".format(v_ic)\n",
    "print \"P_ic = {0:8.1f}\".format(P_ic)\n",
    "\n",
    "def phase1(x,t):\n",
    "    h = x[0]\n",
    "    v = x[1]\n",
    "    P = x[2]\n",
    "    f0 = v\n",
    "    f1 = -gravity.magnitude + (P-P_ambient.magnitude)*area.magnitude/m_payload.magnitude\n",
    "    f2 = -P*k*v/h\n",
    "    return np.array([f0,f1,f2])\n",
    "\n",
    "t = np.linspace(0,0.100,1000)\n",
    "soln = odeint(phase1,x0,t);\n",
    "\n",
    "h = soln[:,0] * ur.m\n",
    "v = soln[:,1] * ur.m/ur.sec\n",
    "P = soln[:,2] * ur.Pa\n",
    "\n",
    "gForce = (P - P_ambient)*area/m_payload/gravity\n",
    "\n",
    "Pr = P/P_total.to(ur.Pa)\n",
    "Tr = Pr**(2.0/7.0)\n",
    "\n",
    "T = Tr*T_ambient"
   ]
  },
  {
   "cell_type": "code",
   "execution_count": 164,
   "metadata": {
    "collapsed": false,
    "scrolled": false
   },
   "outputs": [
    {
     "data": {
      "text/plain": [
       "<matplotlib.text.Text at 0x1154d84d0>"
      ]
     },
     "execution_count": 164,
     "metadata": {},
     "output_type": "execute_result"
    },
    {
     "data": {
      "image/png": "[encoded data removed]",
      "text/plain": [
       "<matplotlib.figure.Figure at 0x113035d10>"
      ]
     },
     "metadata": {},
     "output_type": "display_data"
    },
    {
     "data": {
      "image/png": "[encoded data removed]",
      "text/plain": [
       "<matplotlib.figure.Figure at 0x114009050>"
      ]
     },
     "metadata": {},
     "output_type": "display_data"
    },
    {
     "data": {
      "image/png": "[encoded data removed]",
      "text/plain": [
       "<matplotlib.figure.Figure at 0x113b15590>"
      ]
     },
     "metadata": {},
     "output_type": "display_data"
    },
    {
     "data": {
      "image/png": "[encoded data removed]",
      "text/plain": [
       "<matplotlib.figure.Figure at 0x113715410>"
      ]
     },
     "metadata": {},
     "output_type": "display_data"
    },
    {
     "data": {
      "image/png": "[encoded data removed]",
      "text/plain": [
       "<matplotlib.figure.Figure at 0x113715610>"
      ]
     },
     "metadata": {},
     "output_type": "display_data"
    }
   ],
   "source": [
    "%matplotlib inline\n",
    "\n",
    "plt.figure(figsize=(10,4))\n",
    "plt.plot(t,h)\n",
    "plt.ylabel('Height')\n",
    "\n",
    "plt.figure(figsize=(10,4))\n",
    "plt.plot(t,v)\n",
    "plt.title('Velocity')\n",
    "plt.ylabel('meters/sec')\n",
    "\n",
    "plt.figure(figsize=(10,4))\n",
    "plt.plot(t,P.to(ur.kPa))\n",
    "plt.title('Air Bag Pressure (absolute)')\n",
    "plt.ylabel('kiloPascals')\n",
    "\n",
    "# Calculate \n",
    "\n",
    "plt.figure(figsize=(10,4))\n",
    "plt.plot(t,gForce)\n",
    "plt.ylabel(\"G's\")\n",
    "\n",
    "plt.figure(figsize=(10,4))\n",
    "plt.plot(t,T.to(ur.degC))\n",
    "plt.title('Air Bag Temperature')\n",
    "plt.ylabel('deg C')"
   ]
  },
  {
   "cell_type": "markdown",
   "metadata": {},
   "source": [
    "## Collapsing Air Bag Phase\n",
    "\n",
    "The membrance covering the air bag vent bursts at a pre-determined design pressure $P_{burst}$ after which the air bag enters the 'collapsing phase'.\n",
    "\n",
    "$$\\dot{m} = C A_2 \\sqrt{2 \\rho_1 P_1 \\left(\\frac{k}{k-1}\\right) \\left[\\left(\\frac{P_2}{P_1}\\right)^{\\frac{2}{k}} - \\left(\\frac{P_2}{P_1}\\right)^{\\frac{k+1}{k}}\\right]}$$"
   ]
  },
  {
   "cell_type": "code",
   "execution_count": 223,
   "metadata": {
    "collapsed": false,
    "scrolled": false
   },
   "outputs": [
    {
     "name": "stdout",
     "output_type": "stream",
     "text": [
      "gravity =   9.8100 meter / second ** 2\n",
      "k =   1.4000\n",
      "area =   0.6567\n",
      "m_payload = 680.3886 kilogram\n",
      "P_ambient = 101325.0000 pascal\n",
      "A_orifice =   0.0015 meter ** 2\n",
      "m_air =   0.7360 kilogram\n",
      "\n",
      "Initial Conditions for Initial Compression Phase\n",
      "h_ic =   0.9144\n",
      "v_ic =  -8.5344\n",
      "P_ic = 101369.6\n"
     ]
    },
    {
     "name": "stderr",
     "output_type": "stream",
     "text": [
      "/Users/jeff/anaconda/lib/python2.7/site-packages/IPython/kernel/__main__.py:54: RuntimeWarning: invalid value encountered in sqrt\n"
     ]
    },
    {
     "data": {
      "text/plain": [
       "[<matplotlib.lines.Line2D at 0x11ab37b10>]"
      ]
     },
     "execution_count": 223,
     "metadata": {},
     "output_type": "execute_result"
    },
    {
     "data": {
      "image/png": "[encoded data removed]",
      "text/plain": [
       "<matplotlib.figure.Figure at 0x11a482d50>"
      ]
     },
     "metadata": {},
     "output_type": "display_data"
    },
    {
     "data": {
      "image/png": "[encoded data removed]",
      "text/plain": [
       "<matplotlib.figure.Figure at 0x11ab0a790>"
      ]
     },
     "metadata": {},
     "output_type": "display_data"
    }
   ],
   "source": [
    "\n",
    "\n",
    "import numpy as np\n",
    "import matplotlib.pyplot as plt\n",
    "from scipy.integrate import odeint\n",
    "\n",
    "Cd = 0.5\n",
    "A_orifice = 15 * ur.cm**2\n",
    "\n",
    "# Convert all parameters to base units \n",
    "gravity = 9.81 * ur.m/ur.sec**2\n",
    "k = 1.4\n",
    "area.ito(ur.m**2)\n",
    "m_payload.ito(ur.kg)\n",
    "P_ambient.ito(ur.Pa)\n",
    "A_orifice.ito(ur.m**2)\n",
    "m_air.ito(ur.kg)\n",
    "\n",
    "# Verify parameter values, some of which were calculated above\n",
    "\n",
    "print \"gravity = {0:8.4f}\".format(g)\n",
    "print \"k = {0:8.4f}\".format(k)\n",
    "print \"area = {0:8.4f}\".format(A)\n",
    "print \"m_payload = {0:8.4f}\".format(m_payload)\n",
    "print \"P_ambient = {0:8.4f}\".format(P_ambient)\n",
    "print \"A_orifice = {0:8.4f}\".format(A_orifice)\n",
    "print \"m_air = {0:8.4f}\".format(m_air)\n",
    "\n",
    "# Set and verify initial conditions\n",
    "\n",
    "h_ic = (height.to(ur.m)).magnitude\n",
    "v_ic = (-velocity.to(ur.m/ur.sec)).magnitude\n",
    "P_ic = (P_total.to(ur.Pa)).magnitude\n",
    "m_ic = m_air.magnitude\n",
    "\n",
    "x0 = [h_ic, v_ic, P_ic, m_ic]\n",
    "\n",
    "print \"\\nInitial Conditions for Initial Compression Phase\"\n",
    "print \"h_ic = {0:8.4f}\".format(h_ic)\n",
    "print \"v_ic = {0:8.4f}\".format(v_ic)\n",
    "print \"P_ic = {0:8.1f}\".format(P_ic)\n",
    "\n",
    "def phase1(x,t):\n",
    "    h = x[0]\n",
    "    v = x[1]\n",
    "    P = x[2]\n",
    "    m = x[3]\n",
    "\n",
    "    \n",
    "    n = m/0.028966\n",
    "    T = P*h*area.magnitude/(R.magnitude*n)\n",
    "    Pt = P_ambient.magnitude\n",
    "    \n",
    "    mout = 0.8*A_orifice.magnitude*P/(R.magnitude*np.sqrt(T))*(Pt/P)**(1/k)\n",
    "    mout = mout*np.sqrt(2.0*((k*R.magnitude)/(k-1))*(1-((Pt/P)*((k-1)/k))))\n",
    "    #print t,T,mout,m\n",
    "    f0 = v\n",
    "    f1 = -gravity.magnitude + (P-P_ambient.magnitude)*area.magnitude/m_payload.magnitude\n",
    "    f2 = -P*k*v/h - (P/m)*mout\n",
    "    f3 = -mout\n",
    "    return np.array([f0,f1,f2,f3])\n",
    "\n",
    "t = np.linspace(0,0.160,1000)\n",
    "soln = odeint(phase1,x0,t);\n",
    "\n",
    "h = soln[:,0] * ur.m\n",
    "v = soln[:,1] * ur.m/ur.sec\n",
    "P = soln[:,2] * ur.Pa\n",
    "\n",
    "gForce = (P - P_ambient)*area/m_payload/gravity\n",
    "\n",
    "Pr = P/P_total.to(ur.Pa)\n",
    "Tr = Pr**(2.0/7.0)\n",
    "\n",
    "T = Tr*T_ambient\n",
    "\n",
    "plt.plot(t,gForce)\n",
    "plt.plot(t,v)\n",
    "\n",
    "plt.figure()\n",
    "plt.plot(t,h)"
   ]
  },
  {
   "cell_type": "markdown",
   "metadata": {},
   "source": [
    "## Crush Zone Dynamics\n",
    "\n",
    "We'll assume that a 3 inch crush zone of cardboard honeycomb or other structure is the final cushion for the falling mass. We'll further assume the maximum tolerable de-acceleration rate is 8g. From this data we can determine the maximum permissable velocity of the payload at completion of the air bag phase."
   ]
  },
  {
   "cell_type": "code",
   "execution_count": 160,
   "metadata": {
    "collapsed": false
   },
   "outputs": [
    {
     "name": "stdout",
     "output_type": "stream",
     "text": [
      "Crush Zone Time =   0.0441 second\n",
      "Crush Zone Velocity =   3.4584 meter / second\n"
     ]
    }
   ],
   "source": [
    "max_accel = 8*g\n",
    "h_crush = 3.0 * ur.inches\n",
    "\n",
    "t_crush = np.sqrt(2.0*h_crush/max_accel)\n",
    "print \"Crush Zone Time = {0:8.4f}\".format(t_crush.to_base_units())\n",
    "\n",
    "v_crush = max_accel*t_crush\n",
    "print \"Crush Zone Velocity = {0:8.4f}\".format(v_crush.to_base_units())"
   ]
  },
  {
   "cell_type": "code",
   "execution_count": null,
   "metadata": {
    "collapsed": true
   },
   "outputs": [],
   "source": []
  }
 ],
 "metadata": {
  "kernelspec": {
   "display_name": "Python 2",
   "language": "python",
   "name": "python2"
  },
  "language_info": {
   "codemirror_mode": {
    "name": "ipython",
    "version": 2
   },
   "file_extension": ".py",
   "mimetype": "text/x-python",
   "name": "python",
   "nbconvert_exporter": "python",
   "pygments_lexer": "ipython2",
   "version": "2.7.9"
  }
 },
 "nbformat": 4,
 "nbformat_minor": 0
}
