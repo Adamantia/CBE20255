{
 "cells": [
  {
   "cell_type": "markdown",
   "metadata": {},
   "source": [
    "######The latest version of this IPython notebook is available at [http://github.com/jckantor/CBE20255](http://github.com/jckantor/CBE20255)  for noncommercial use under terms of the [Creative Commons Attribution Noncommericial ShareAlike License](http://creativecommons.org/licenses/by-nc-sa/4.0/).\n",
    "\n",
    "J.C. Kantor (Kantor.1@nd.edu)"
   ]
  },
  {
   "cell_type": "markdown",
   "metadata": {},
   "source": [
    "# Ajka Alumina Plant Spill"
   ]
  },
  {
   "cell_type": "markdown",
   "metadata": {},
   "source": [
    "This [IPython notebook](http://ipython.org/notebook.html) demonstrates the analysis of the 'Red Sludge' tragedy that took place in Ajka, Hungary, in 2010."
   ]
  },
  {
   "cell_type": "code",
   "execution_count": 2,
   "metadata": {
    "collapsed": false
   },
   "outputs": [
    {
     "data": {
      "text/html": [
       "<link href='http://fonts.googleapis.com/css?family=Fenix' rel='stylesheet' type='text/css'>\n",
       "<link href='http://fonts.googleapis.com/css?family=Alegreya+Sans:100,300,400,500,700,800,\n",
       "    900,100italic,300italic,400italic,500italic,700italic,800italic,900italic' rel='stylesheet' type='text/css'>\n",
       "<link href='http://fonts.googleapis.com/css?family=Source+Code+Pro:300,400' rel='stylesheet' type='text/css'>\n",
       "<link href='http://fonts.googleapis.com/css?family=Crimson+Text' rel='stylesheet' type='text/css'>\n",
       "<link href='http://fonts.googleapis.com/css?family=Kameron' rel='stylesheet' type='text/css'>\n",
       "<link href='http://fonts.googleapis.com/css?family=Lato:200' rel='stylesheet' type='text/css'>\n",
       "<link href='http://fonts.googleapis.com/css?family=Lato:300' rel='stylesheet' type='text/css'>\n",
       "<link href='http://fonts.googleapis.com/css?family=Lato:400' rel='stylesheet' type='text/css'>\n",
       "<link href='http://fonts.googleapis.com/css?family=Source+Code+Pro' rel='stylesheet' type='text/css'>\n",
       "\n",
       "<style>\n",
       "\n",
       "@font-face {\n",
       "    font-family: \"Computer Modern\";\n",
       "    src: url('http://mirrors.ctan.org/fonts/cm-unicode/fonts/otf/cmunss.otf');\n",
       "}\n",
       "\n",
       "#notebook_panel { /* establish main background and color */\n",
       "    background: #fff;\n",
       "    color: #ff0000;\n",
       "}\n",
       "\n",
       "div.cell { /* set cell width */\n",
       "    width:800px;\n",
       "    margin-left:0%;\n",
       "    margin-right:auto;\n",
       "}\n",
       "\n",
       "div #notebook { /* centers the content */\n",
       "    background: #fff;\n",
       "    width: 1000px;\n",
       "    margin: auto;\n",
       "    padding-left: 1em;\n",
       "}\n",
       "\n",
       "#notebook li { /* more space between bullet points */\n",
       "    margin-top:0.8em;\n",
       "}\n",
       "\n",
       "/* draw border around running cells */\n",
       "div.cell.border-box-sizing.code_cell.running {\n",
       "    border: 3px solid #111;\n",
       "}\n",
       "\n",
       "/* Put a solid color box around each code cell and its output,\n",
       "     visually linking them together */\n",
       "div.cell.code_cell {\n",
       "    background-color: /*#fff*/ rgba(171,165,131,0.2);\n",
       "    border-radius: 10px; /* rounded borders */\n",
       "    padding: 1em;\n",
       "    margin-top: 1em;\n",
       "}\n",
       "\n",
       ".CodeMirror {\n",
       "    font-family: \"Source Code Pro\";\n",
       "    font-size: 90%;\n",
       "}\n",
       "\n",
       "div.text_cell_render code {\n",
       "    font-family: \"Source Code Pro\";\n",
       "    font-size: 90%;\n",
       "    color: red;\n",
       "}\n",
       "\n",
       "pre {\n",
       "    font-family: \"Source Code Pro\";\n",
       "    font-size: 90%;\n",
       "}\n",
       "\n",
       "div.text_cell_render { /* rendering of basic text cell */\n",
       "    font-family: 'Alegreya Sans', Computer Modern, \"Helvetica Neue\", Arial, Helvetica, sans-serif;\n",
       "    line-height: 135%;\n",
       "    font-size: 120%;\n",
       "    width:700px;\n",
       "    margin-left:auto;\n",
       "    margin-right:auto;\n",
       "}\n",
       "\n",
       ".text_cell_render h1 {\n",
       "    font-family: 'Alegreya Sans', sans-serif;\n",
       "    font-weight: 300;\n",
       "    font-size: 32pt;\n",
       "    line-height: 100%;\n",
       "    color:#CD2305;\n",
       "    margin-bottom: 0.4em;\n",
       "    margin-top: 0em;\n",
       "    display: block;\n",
       "}\n",
       "\n",
       "h2 {\n",
       "    font-family: 'Fenix', serif;\n",
       "}\n",
       "\n",
       "h3 {\n",
       "    font-family: 'Fenix', serif;\n",
       "    margin-top:12px;\n",
       "    margin-bottom: 3px;\n",
       "}\n",
       "\n",
       "h4 {\n",
       "    font-family: 'Fenix', serif;\n",
       "}\n",
       "\n",
       ".text_cell_render h5 {\n",
       "    font-family: 'Alegreya Sans', sans-serif;\n",
       "    font-weight: 100;\n",
       "    font-size: 16pt;\n",
       "    color: #CD2305;\n",
       "    font-style: italic;\n",
       "    margin-bottom: .5em;\n",
       "    margin-top: 0.5em;\n",
       "    display: block;\n",
       "}\n",
       "\n",
       ".text_cell_render h6 { /*use this for copyright note*/\n",
       "    font-family: 'Alegreya Sans', sans-serif;\n",
       "    font-weight: 400;\n",
       "    font-size: 10pt;\n",
       "    font-style: normal;\n",
       "    line-height: 120%;\n",
       "    margin-bottom: 1px;\n",
       "    margin-top: 1px;\n",
       "}\n",
       "\n",
       ".MathJax, .MathJax_Display  {\n",
       "    font-family: 'Alegreya Sans', sans-serif  !important;\n",
       "    font-size: 90%  !important;\n",
       "    vertical-align: 0px  !important;\n",
       "}\n",
       "\n",
       ".warning{\n",
       "    color: rgb( 240, 20, 20 )\n",
       "}\n",
       "\n",
       "</style>\n",
       "\n",
       "<script>\n",
       "MathJax.Hub.Config({\n",
       "    TeX: {\n",
       "        extensions: [\"AMSmath.js\"]\n",
       "    },\n",
       "    tex2jax: {\n",
       "        inlineMath: [ ['$','$'], [\"\\\\(\",\"\\\\)\"] ],\n",
       "        displayMath: [ ['$$','$$'], [\"\\\\[\",\"\\\\]\"] ],\n",
       "        processEscapes: true\n",
       "    },\n",
       "    displayAlign: 'center', // Change this to 'center' to center equations.\n",
       "    \"HTML-CSS\": {\n",
       "        styles: {'.MathJax_Display': {\"margin\": 4}}\n",
       "    }\n",
       "});\n",
       "</script>\n",
       "\n"
      ],
      "text/plain": [
       "<IPython.core.display.HTML object>"
      ]
     },
     "execution_count": 2,
     "metadata": {},
     "output_type": "execute_result"
    }
   ],
   "source": [
    "#Initializations\n",
    "from IPython.core.display import HTML\n",
    "HTML(open(\"../styles/custom.css\", \"r\").read())"
   ]
  },
  {
   "cell_type": "markdown",
   "metadata": {},
   "source": [
    "## Background"
   ]
  },
  {
   "cell_type": "markdown",
   "metadata": {},
   "source": [
    "On Monday, October 4th, 2010, an earthen dam failed at an alumina ore processing facility near [Ajka, Hungary](http://www.theatlantic.com/infocus/2011/09/a-flood-of-red-sludge-one-year-later/100158/), resulting in the release of red mud over a large area in western Hungary. According to the [New York Times](http://www.nytimes.com/2010/10/06/world/europe/06hungary.html), a flood of 700,000 cubic meters of sludge swept cars off bridges, damaged roads, and flooded businesses and homes throughout the affected region. There were reports of up to eight deaths and hundreds of displaced families. The red mud entered creeks about 45km upstream of the Danube raising the potential for devastating environmental damage. At the time there were fears that other earthen dams at the same processing facility were showing signs of impending failure.\n",
    "\n",
    "<div style=\"left;margin: 12px 0px 12px 0px;\">\n",
    "<iframe width=\"420\" height=\"315\" src=\"//www.youtube-nocookie.com/embed/xEMWh6EjJoY?rel=0\" frameborder=\"0\" allowfullscreen></iframe>\n",
    "<img src=\"https://raw.github.com/jckantor/CBE20255/master/notebooks/images/hungary_sludge_grap_930321a.jpg\" style=\"height: 500px; float:right; margin-left: 12px\">\n",
    "</div>\n",
    "\n",
    "'Red mud' (or 'red sludge') is the by-product of processing of [bauxite ore](http://en.wikipedia.org/wiki/Bauxite) to produce alumina. Alumina has a wide variety of commercial uses including plastic fillers, catalysts, textile dyes, sunscreens, ceramics, and as the raw material for the production of aluminum metal. The [Bayer process](http://en.wikipedia.org/wiki/Bayer_process) is the most commonly used process for the refining of bauxite ore.\n",
    "\n",
    "In the Bayer process, the aluminum oxide (Al<sub>2</sub>O<sub>3</sub>) present in the raw bauxite ore is digested in a hot solution of caustic soda (NaOH) at 175 &deg;C. The caustic solution reacts selectively with the aluminum oxide to produce aluminum hydroxide that dissolves in solution. The other components in the bauxite ore do not dissolve and are mechanically separated from the liquid stream. The stream of solid waste and entrained processing liquid forms the 'red mud' that was stored behind the earthen dam at the Hungarian facility. \n",
    "\n",
    "News reports suggest the red mud produced at this facility was stored with no further processing. This would be inconsistent with modern practice in plants of this type, but if true then the processing liquid entrained in the red mud would be highly caustic and constitute a significant health and environmental hazard.\n",
    " \n",
    "The purpose of this project is to use your chemical engineering knowledge to gain a deeper understanding of the issues associated with this tragedy. In particular, the news reports provide little hard information about the actual health or environmental hazards posed by the red mud. Some reports refer to the trace metal content, others cite the caustic components with pH ranging from 10 to 13. \n",
    " \n",
    "We approach this problem starting with the basic chemistry involved in the processing bauxite to produced refined alumina. From this we develop a simple process flowsheet and determine the basic operating constraints on the process. This provides a basis for a worst case estimate of the caustic component of the red mud and assessing possible remediation strategies."
   ]
  },
  {
   "cell_type": "markdown",
   "metadata": {},
   "source": [
    "## Problem 1"
   ]
  },
  {
   "cell_type": "markdown",
   "metadata": {},
   "source": [
    "The portion of the Bayer process we're considering consists of two reactions. The digestion reaction results in the dissolution of aluminum oxide Al<sub>2</sub>O<sub>3</sub> under caustic conditions \n",
    "\n",
    "Al<sub>2</sub>O<sub>3</sub> (s) + 2 OH<sup>-</sup> (aq) + 3 H<sub>2</sub>O (l) &rarr; 2 Al(OH)<sup>-</sup><sub>4</sub> (aq)\n",
    "\n",
    "Following separation of the undissolved solids, the remaining liquor is cooled under controlled conditions in a crystallizer to precipitate aluminum hydroxide Al(OH)<sub>3</sub>. \n",
    "\n",
    "Al(OH)<sup>-</sup><sub>4</sub> (aq) &rarr; Al(OH)<sub>3</sub> (s) + OH<sup>-</sup> (aq)\n",
    "\n",
    "The Al(OH)<sub>3</sub> precipitate is subsequently heated in kiln to produce the purified alumina product of the process. We omit those downstream operations from our analysis because they do not contribute to the production of red mud. So considering only the upstream operations, prepare a generation/consumption analysis to determine the overall process stoichiometry for the production of the Al(OH)<sub>3</sub> precipitate."
   ]
  },
  {
   "cell_type": "markdown",
   "metadata": {},
   "source": [
    "## Problem 2"
   ]
  },
  {
   "cell_type": "markdown",
   "metadata": {},
   "source": [
    "Typical bauxite contains about 40-60 wt% Al<sub>2</sub>O<sub>3</sub> with the remainder comprised of iron oxide, silica, and other minerals. Initial news reports on the Hungarian situation provided information from which we can estimate the approximate composition of the processed bauxite ore as shown in this table.\n",
    "\n",
    "<table>\n",
    "<thead>\n",
    "<tr>\n",
    "<td> Component </td> <td> wt %</td>\n",
    "</tr>\n",
    "</thead>\n",
    "<tr><td>Al<sub>2</sub>O<sub>3</sub></td><td>55%</td></tr>\n",
    "<tr><td>Fe<sub>2</sub>O<sub>3</sub></td><td>35%</td></tr>\n",
    "<tr><td>SiO<sub>2</sub></td><td>10%</td></tr>\n",
    "</table>\n",
    "\n",
    "Following digestion and separation, assume the solid components of the red mud have a density of 4.0 g/cc, and that 35 vol% of the red mud is comprised of liquid retained in the void spaces. Based on this information, sketch an input/output diagram for the production of Al(OH)<sub>3</sub>(s) and estimate the minimum amount of water required to process 1000 kg/hr of bauxite ore. \n",
    "\n",
    "From this information, can you estimate the amount of caustic soda (NaOH) required to process the bauxite ore?"
   ]
  },
  {
   "cell_type": "markdown",
   "metadata": {},
   "source": [
    "## Problem 3"
   ]
  },
  {
   "cell_type": "markdown",
   "metadata": {},
   "source": [
    "The dissolution process involves reaction with hydroxide ions (OH<sup>-</sup>). Hydroxide ions are formed by the dissociation of water\n",
    "\n",
    "H<sub>2</sub>O (l) &rarr; H<sup>+</sup> (aq) + OH<sup>-</sup> (aq)\n",
    "\n",
    "The dissociation constant at 25 &deg;C is\n",
    "\n",
    "$K_{H_{2}O} = \\frac{a_{H^{+}}a_{OH^{-}}}{a_{H_{2}O}}=1.2\\times10^{-14}$\n",
    "\n",
    "The molar enthalpy and molar Gibbs free energy of formation of H<sup>+</sup>(aq) is normally taken to be zero at STP (1 atm, 25 &deg;C). Using this information and additional data from Table B.3 of your textbook, estimate &Delta;G&#770;&deg;<sub>f,OH<sup>-</sup></sub> for OH<sup>-</sup> (aq)."
   ]
  },
  {
   "cell_type": "markdown",
   "metadata": {},
   "source": [
    "## Problem 4"
   ]
  },
  {
   "cell_type": "markdown",
   "metadata": {},
   "source": [
    "The standard free energies of formation for selected compounds of aluminum at 25 &deg;C. are given in the following table. Data is from [Parks, George, American Mineralogist, Vol. 57, pp. 1163-1189 (1972)](http://www.minsocam.org.proxy.library.nd.edu/ammin/AM57/AM57_1163.pdf). \n",
    "\n",
    "<table>\n",
    "<thead>\n",
    "<tr>\n",
    "<td> Component </td> <td> &Delta;G&#770;&deg;<sub>f</sub> kcal/gmol </td>\n",
    "</tr>\n",
    "</thead>\n",
    "<tr><td> &alpha;Al<sub>2</sub>O<sub>3</sub>(s) </td><td> -378.2</td></tr>\n",
    "<tr><td> Al(OH)<sup>-</sup><sub>4</sub>(aq) </td><td> -311.0 </td></tr>\n",
    "<tr><td> &alpha;Al(OH)<sub>3</sub) </td><td> -275.3 </td></tr>\n",
    "</table>\n",
    "\n",
    "In the Bayer process, alumina is dissolved by digesting Bauxite ore with sodium hydroxide (NaOH) solution at 175 &deg;C. The digestion selectively dissolves the alumina by forming Al(OH)<sup>-</sup><sub>4</sub>(aq) according to the reaction\n",
    "  \n",
    "R<sub>1</sub>: Al<sub>2</sub>O<sub>3</sub> (s) + 2 OH<sup>-</sup> (aq) + 3 H<sub>2</sub>O (l) &rarr; 2 Al(OH)<sup>-</sup><sub>4</sub>(aq)\n",
    "\n",
    "(a) Using the results of problem 1 and the other available data, estimate the equilibrium constant K<sub>R<sub>1</sub></sub> of this reaction at standard pressure and temperature.\n",
    "\n",
    "(b) Because we don't have enough information to compute &Delta;H&#770;&deg;<sub>rxn</sub>, use the Gibbs free energy as a crude estimate for &Delta;H&#770;&deg;<sub>rxn</sub>. Estimate the equilibrium constant K<sub>R<sub>1</sub></sub> at 175 &deg;C.\n",
    "\n",
    "(c) Write an equation for the relationship between equilibrium concentrations of OH<sup>-</sup> and Al(OH)<sup>-</sup><sub>4</sub> in the digester."
   ]
  },
  {
   "cell_type": "markdown",
   "metadata": {},
   "source": [
    "## Problem 5"
   ]
  },
  {
   "cell_type": "markdown",
   "metadata": {},
   "source": [
    "Following digestion and separation of the undissolved solids, the liquid from the digester is cooled and seeded to precipitate Al(OH)<sub>3</sub> by the reaction\n",
    "  \n",
    "R<sub>2</sub>: Al(OH)<sub>4</sub><sup>-</sup> (aq) &rarr; Al(OH)<sub>3</sub> (s) + OH<sup>-</sup> (aq)\n",
    " \n",
    "The Al(OH)<sub>3</sub> precipitate is a white, fluffy powder. \n",
    "\n",
    "(a) Estimate the standard molar free energy of reaction &Delta;G&#770;&deg;<sub>R<sub>2</sub></sub> and the associated equilibrium constant K<sub>R<sub>2</sub></sub>.\n",
    "\n",
    "(b) Write an equation for the equilibrium relationship between the liquid phase concentrations of Al(OH)<sub>4</sub><sup>-</sup> and OH<sup>-</sup> in the crystallizer."
   ]
  },
  {
   "cell_type": "markdown",
   "metadata": {},
   "source": [
    "## Problem 6"
   ]
  },
  {
   "cell_type": "markdown",
   "metadata": {},
   "source": [
    "Prepare a mass balance of the Bayer process flowsheet shown in the accompanying figure assuming a basis of 1000 kg/hr of bauxite ore. \n",
    "\n",
    "<img src=\"https://raw.github.com/jckantor/CBE20255/master/notebooks/images/Ajka_alumina_plant.png\" width = 700px>\n",
    "\n",
    "Assume that the dissolution of Al<sub>2</sub>O<sub>3</sub> reaches equilibrium in the digester at an operating temperature of 175 &deg;C, and that the precipitation reaction reaches equilibrium in the crystallizer at an operating temperature of 25 &deg;C. The spent solution from the crystallizer is mixed with makeup NaOH and water before recycling to the digester for reuse. The portion of the liquor from the digester lost through entrainment in the red mud is equal to 35% by volume of the red mud. The density of solids is 4 g/cc and the density of liquids is 1 g/cc. Adjust the flow of caustic soda to maximize the recovery of Al(OH)<sub>3</sub>(s). \n",
    "\n",
    "(a) What is the maximum recovery of Al(OH)<sub>3</sub>(s)? \n",
    "\n",
    "(b) What is the pH of the red mud when recovery of Al(OH)<sub>3</sub>(s) is maximized?"
   ]
  },
  {
   "cell_type": "markdown",
   "metadata": {},
   "source": [
    "## Problem 7"
   ]
  },
  {
   "cell_type": "markdown",
   "metadata": {},
   "source": [
    "There have been several proposals for remediating the environmental impacts of spilled red mud. At the time of the spill, one village poured vinegar into a river contaminated by the red mud. Suppose 10,000 cubic meters of sludge entered a creek. Assuming vinegar is approximately 5 wt% acetic acid, how much vinegar would be needed to completely neutralize the effects of the red mud?  Roughly how many railroad tank cars would be required to transport the vinegar?"
   ]
  },
  {
   "cell_type": "markdown",
   "metadata": {},
   "source": [
    "## Problem 8"
   ]
  },
  {
   "cell_type": "markdown",
   "metadata": {},
   "source": [
    "There have been several proposals for a long term strategy to remediate the red mud from alumina facilities through [CO<sub>2</sub> sequestration](http://www.epa.gov/climatechange/ccs/). Global alumina production is estimated to be 80,000,000 metric tons per year of Al<sub>2</sub>O<sub>3</sub>.\n",
    "\n",
    "Use the results of your calculations above to estimate how much CO<sub>2</sub> would be required to neutralize the red mud produced as a by-product of alumina production through the reaction\n",
    "\n",
    "CO<sub>2</sub> + 2 OH<sup>-</sup> &rarr; H<sub>2</sub>O + CO<sub>3</sub><sup>-2</sup> \n",
    "\n",
    "[Laboratory measurements](http://www.ncbi.nlm.nih.gov/pubmed/20036053) show that about  5.3 g of CO<sub>2</sub> can be sequestered per 100 g of red mud. How does this compare to your estimate? Where would the necessary CO<sub>2</sub> come from?"
   ]
  }
 ],
 "metadata": {
  "kernelspec": {
   "display_name": "Python 2",
   "language": "python",
   "name": "python2"
  },
  "language_info": {
   "codemirror_mode": {
    "name": "ipython",
    "version": 2
   },
   "file_extension": ".py",
   "mimetype": "text/x-python",
   "name": "python",
   "nbconvert_exporter": "python",
   "pygments_lexer": "ipython2",
   "version": "2.7.9"
  }
 },
 "nbformat": 4,
 "nbformat_minor": 0
}
