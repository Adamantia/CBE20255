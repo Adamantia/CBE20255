{
 "cells": [
  {
   "cell_type": "markdown",
   "metadata": {},
   "source": [
    "##### The latest version of this IPython notebook is available at [http://github.com/jckantor/CBE20255](http://github.com/jckantor/CBE20255)  for noncommercial use under terms of the [Creative Commons Attribution Noncommericial ShareAlike License](http://creativecommons.org/licenses/by-nc-sa/4.0/).\n",
    "\n",
    "J.C. Kantor (Kantor.1@nd.edu)"
   ]
  },
  {
   "cell_type": "markdown",
   "metadata": {},
   "source": [
    "# Ammonia Synthesis Reactor"
   ]
  },
  {
   "cell_type": "markdown",
   "metadata": {},
   "source": [
    "This [IPython notebook](http://ipython.org/notebook.html) demonstrates the solution to material balances for an ammonia synthesis reactor operating at chemical equilibrium."
   ]
  },
  {
   "cell_type": "markdown",
   "metadata": {},
   "source": [
    "## Background\n",
    "\n",
    "<div style=\"float: right; margin: 10px; width: 200px; font-size: 80%; line-height: 120%;\">\n",
    "<a href=\"http://commons.wikimedia.org/wiki/File:Ammoniak_Reaktor_BASF.jpg#/media/File:Ammoniak_Reaktor_BASF.jpg\"><img src=\"http://upload.wikimedia.org/wikipedia/commons/thumb/1/1e/Ammoniak_Reaktor_BASF.jpg/1200px-Ammoniak_Reaktor_BASF.jpg\" alt=\"Ammoniak Reaktor BASF.jpg\"></a><br>\"<a href=\"http://commons.wikimedia.org/wiki/File:Ammoniak_Reaktor_BASF.jpg#/media/File:Ammoniak_Reaktor_BASF.jpg\">Ammoniak Reaktor BASF</a>\" by <a href=\"//commons.wikimedia.org/wiki/User:Drahkrub\" title=\"User:Drahkrub\">Drahkrub</a>. Licensed under <a href=\"http://creativecommons.org/licenses/by-sa/3.0\" title=\"Creative Commons Attribution-Share Alike 3.0\">CC BY-SA 3.0</a> via <a href=\"//commons.wikimedia.org/wiki/\">Wikimedia Commons</a>.\n",
    "</div>\n",
    "\n",
    "Ammonia is produced on an enormous scale, and crucial to global agriculture. The main pathway is by way of the Haber-Bosch process based on the reaction\n",
    "\n",
    "$$N_2 + 3\\,H_2 \\longleftrightarrow 2\\,NH_3$$\n",
    "\n"
   ]
  },
  {
   "cell_type": "code",
   "execution_count": 63,
   "metadata": {
    "collapsed": true
   },
   "outputs": [],
   "source": [
    "%matplotlib inline"
   ]
  },
  {
   "cell_type": "markdown",
   "metadata": {},
   "source": [
    "For these calculations we will import `pylab` and the `fsolve` function from the `scipy` library."
   ]
  },
  {
   "cell_type": "code",
   "execution_count": 66,
   "metadata": {
    "collapsed": false
   },
   "outputs": [],
   "source": [
    "from pylab import *\n",
    "from scipy.optimize import fsolve"
   ]
  },
  {
   "cell_type": "code",
   "execution_count": 67,
   "metadata": {
    "collapsed": false
   },
   "outputs": [],
   "source": [
    "def f(x):\n",
    "    Kq = (2.0*x)**2*(4000.0-2.0*x)**2/((1000.0-x)*(3000.0-3.0*x)**3*200.0**2)\n",
    "    Ka = 0.001172\n",
    "    return  Kq - Ka"
   ]
  },
  {
   "cell_type": "code",
   "execution_count": 74,
   "metadata": {
    "collapsed": false
   },
   "outputs": [
    {
     "name": "stdout",
     "output_type": "stream",
     "text": [
      "[ 682.08889272]\n"
     ]
    }
   ],
   "source": [
    "x = fsolve(f,0.0)\n",
    "print x"
   ]
  },
  {
   "cell_type": "code",
   "execution_count": 56,
   "metadata": {
    "collapsed": false
   },
   "outputs": [
    {
     "data": {
      "text/plain": [
       "24.622103766343365"
      ]
     },
     "execution_count": 56,
     "metadata": {},
     "output_type": "execute_result"
    }
   ],
   "source": [
    "f(972.16)"
   ]
  },
  {
   "cell_type": "code",
   "execution_count": null,
   "metadata": {
    "collapsed": true
   },
   "outputs": [],
   "source": []
  }
 ],
 "metadata": {
  "kernelspec": {
   "display_name": "Python 2",
   "language": "python",
   "name": "python2"
  },
  "language_info": {
   "codemirror_mode": {
    "name": "ipython",
    "version": 2
   },
   "file_extension": ".py",
   "mimetype": "text/x-python",
   "name": "python",
   "nbconvert_exporter": "python",
   "pygments_lexer": "ipython2",
   "version": "2.7.10"
  }
 },
 "nbformat": 4,
 "nbformat_minor": 0
}
