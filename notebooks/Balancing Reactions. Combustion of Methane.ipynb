{
 "metadata": {
  "name": ""
 },
 "nbformat": 3,
 "nbformat_minor": 0,
 "worksheets": [
  {
   "cells": [
    {
     "cell_type": "heading",
     "level": 1,
     "metadata": {},
     "source": [
      "Balancing Reactions. Combustion of Methane"
     ]
    },
    {
     "cell_type": "heading",
     "level": 2,
     "metadata": {},
     "source": [
      "Problem Statement"
     ]
    },
    {
     "cell_type": "markdown",
     "metadata": {},
     "source": [
      "The unbalanced reaction for the combustion of methane (\\\\( CH_4\\\\) ) is \n",
      "\n",
      "\\\\[CH_4 + O_2 \\longrightarrow CO_2 + H_2O\\\\]\n",
      "\n",
      "Find the stoichiometric coefficients for the balanced reaction."
     ]
    },
    {
     "cell_type": "heading",
     "level": 2,
     "metadata": {},
     "source": [
      "Solution"
     ]
    },
    {
     "cell_type": "markdown",
     "metadata": {},
     "source": [
      "This approach uses the [SymPy](http://sympy.org/en/index.html) package for symbolic calculations to set up and solve the atom balances corresponding to a chemical reaction. The first step is to import the sympy package into the current workspace."
     ]
    },
    {
     "cell_type": "code",
     "collapsed": false,
     "input": [
      "import sympy as sym\n",
      "from sympy import *"
     ],
     "language": "python",
     "metadata": {},
     "outputs": [],
     "prompt_number": 91
    },
    {
     "cell_type": "markdown",
     "metadata": {},
     "source": [
      "The next step is to introduce a stoichiometric coefficient for each chemical species participating in the reaction, and a list of atom balances expressed in terms of the stoichiometric coefficients. There is one atom balance for each atomic species appearing in the reaction. Each atom balance consists of an expression that will be zero for a balanced reaction."
     ]
    },
    {
     "cell_type": "code",
     "collapsed": false,
     "input": [
      "var('vCH4 vO2 vCO2 vH2O')\n",
      "\n",
      "atomBalances = [\n",
      "    Eq(vCH4 + vCO2,0),        # Carbon\n",
      "    Eq(4*vCH4 + 2*vH2O,0),    # Hydrogen\n",
      "    Eq(2*vO2 + vH2O,0)        # Oxygen\n",
      "]"
     ],
     "language": "python",
     "metadata": {},
     "outputs": [],
     "prompt_number": 92
    },
    {
     "cell_type": "markdown",
     "metadata": {},
     "source": [
      "We can inspect the balances to verify that they have been correctly entered."
     ]
    },
    {
     "cell_type": "code",
     "collapsed": false,
     "input": [
      "for a in atomBalances:\n",
      "    print a"
     ],
     "language": "python",
     "metadata": {},
     "outputs": [
      {
       "output_type": "stream",
       "stream": "stdout",
       "text": [
        "vCH4 + vCO2 == 0\n",
        "4*vCH4 + 2*vH2O == 0\n",
        "vH2O + 2*vO2 == 0\n"
       ]
      }
     ],
     "prompt_number": 93
    },
    {
     "cell_type": "markdown",
     "metadata": {},
     "source": [
      "At this point we can solve the equations symbolically. However, because there are more unknowns than equations, there is not a unique numerical solution as we can verify."
     ]
    },
    {
     "cell_type": "code",
     "collapsed": false,
     "input": [
      "soln = solve(atomBalances)\n",
      "\n",
      "for k in sorted(soln.keys()):\n",
      "    print \"{:<4s} == {:<10s}\".format(k, soln[k])"
     ],
     "language": "python",
     "metadata": {},
     "outputs": [
      {
       "output_type": "stream",
       "stream": "stdout",
       "text": [
        "vCH4 == vO2       \n",
        "vCO2 == -vO2      \n",
        "vH2O == -2*vO2    \n"
       ]
      }
     ],
     "prompt_number": 94
    },
    {
     "cell_type": "markdown",
     "metadata": {},
     "source": [
      "A unique solution is obtained by specifying a _basis_ for the reaction. The basis is an additional equation that determines the stoichiometric coefficient for a particular chemical species. In this case, since this example refers to the combustion of methane, an obvious basis is to set the stoichiometric coefficient of methane to -1."
     ]
    },
    {
     "cell_type": "code",
     "collapsed": false,
     "input": [
      "basis = [Eq(vCH4,-1)]\n",
      "\n",
      "for e in atomBalances + basis:\n",
      "    print e"
     ],
     "language": "python",
     "metadata": {},
     "outputs": [
      {
       "output_type": "stream",
       "stream": "stdout",
       "text": [
        "vCH4 + vCO2 == 0\n",
        "4*vCH4 + 2*vH2O == 0\n",
        "vH2O + 2*vO2 == 0\n",
        "vCH4 == -1\n"
       ]
      }
     ],
     "prompt_number": 95
    },
    {
     "cell_type": "markdown",
     "metadata": {},
     "source": [
      "Solving"
     ]
    },
    {
     "cell_type": "code",
     "collapsed": false,
     "input": [
      "soln = solve(atomBalances + basis)\n",
      "\n",
      "for k in sorted(soln.keys()):\n",
      "    print \"{:<4s} == {:>2}\".format(k, soln[k])"
     ],
     "language": "python",
     "metadata": {},
     "outputs": [
      {
       "output_type": "stream",
       "stream": "stdout",
       "text": [
        "vCH4 == -1\n",
        "vCO2 ==  1\n",
        "vH2O ==  2\n",
        "vO2  == -1\n"
       ]
      }
     ],
     "prompt_number": 96
    },
    {
     "cell_type": "heading",
     "level": 2,
     "metadata": {},
     "source": [
      "Exercises"
     ]
    },
    {
     "cell_type": "markdown",
     "metadata": {},
     "source": [
      "Extend this example to balance the reaction for the combustion of octane \\\\(C_8H_{18}\\\\)."
     ]
    }
   ],
   "metadata": {}
  }
 ]
}