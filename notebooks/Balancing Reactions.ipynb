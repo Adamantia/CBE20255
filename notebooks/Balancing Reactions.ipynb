{
 "cells": [
  {
   "cell_type": "markdown",
   "metadata": {},
   "source": [
    "###### The latest version of this IPython notebook is available at [http://github.com/jckantor/CBE20255](http://github.com/jckantor/CBE20255)  for noncommercial use under terms of the [Creative Commons Attribution Noncommericial ShareAlike License](http://creativecommons.org/licenses/by-nc-sa/4.0/).\n",
    "\n",
    "J.C. Kantor (Kantor.1@nd.edu)"
   ]
  },
  {
   "cell_type": "markdown",
   "metadata": {
    "slideshow": {
     "slide_type": "slide"
    }
   },
   "source": [
    "# Balancing Reactions"
   ]
  },
  {
   "cell_type": "markdown",
   "metadata": {
    "slideshow": {
     "slide_type": "-"
    }
   },
   "source": [
    "This [IPython notebook](http://ipython.org/notebook.html) demonstrates the balancing of chemical reactions using  principles of reaction stoichiometry. After completing this notebook, you should know\n",
    "\n",
    "* the definition of stoichiometric coefficient,\n",
    "* a reaction is _balanced_ when the number of atomic species and electric charge are conserved in the reaction,\n",
    "* how to solve for stoichiometric coefficients by hand,\n",
    "* how to solve for stoichiometric coefficients as the solution to a system of linear equations."
   ]
  },
  {
   "cell_type": "markdown",
   "metadata": {
    "slideshow": {
     "slide_type": "slide"
    }
   },
   "source": [
    "## Stoichiometry"
   ]
  },
  {
   "cell_type": "markdown",
   "metadata": {
    "slideshow": {
     "slide_type": "-"
    }
   },
   "source": [
    "Stoichiometry is the quantitative analysis of chemical reactions. Stoichiometry provides a set of analytical tools essential to the design of chemical processes. One of the basic calculations of stoichiometry is to balance a chemical reaction.\n",
    "\n",
    "The following screencast reviews what you probably learned in the past as a method for balancing reactions."
   ]
  },
  {
   "cell_type": "code",
   "execution_count": 1,
   "metadata": {
    "collapsed": false
   },
   "outputs": [
    {
     "data": {
      "text/html": [
       "\n",
       "        <iframe\n",
       "            width=\"560\"\n",
       "            height=\"315\"\n",
       "            src=\"https://www.youtube.com/embed/e8cUyGBt8e8?start=0&end=108&rel=0\"\n",
       "            frameborder=\"0\"\n",
       "            allowfullscreen\n",
       "        ></iframe>\n",
       "        "
      ],
      "text/plain": [
       "<IPython.lib.display.YouTubeVideo at 0x106131dd0>"
      ]
     },
     "execution_count": 1,
     "metadata": {},
     "output_type": "execute_result"
    }
   ],
   "source": [
    "from IPython.display import YouTubeVideo\n",
    "YouTubeVideo(\"e8cUyGBt8e8\",560,315,start=0,end=108,rel=0)"
   ]
  },
  {
   "cell_type": "markdown",
   "metadata": {},
   "source": [
    "In process and bioengineering applications, however, we often deal with large and complex networks of reactions. For these applications it is important to have a more structured approach that is amenable to computations."
   ]
  },
  {
   "cell_type": "markdown",
   "metadata": {},
   "source": [
    "### Stoichiometric Coefficients\n",
    "\n",
    "A chemical reaction is commonly expressed as a formula of the type\n",
    "\n",
    "$$ a\\,A + b\\,B \\longrightarrow c\\,C + d\\,D $$\n",
    "\n",
    "where $A$, $B$, $C$, and $D$ are the molecular species involved in the reaction, and the coefficients $a$, $b$, $c$, and $d$ indicate the molar quantities of each species on each sides of the reaction. In this convention, the coefficients $a$, $b$, $c$, and $d$ are all positive numbers. The reactants are on the left side of the reaction, the products are on the right.\n",
    "\n",
    "A _balanced reaction_  shows the molecular identity of compounds involved in the reactio. The stoichiometric coefficients\n",
    "\n",
    "1. show the molar quantity of the compounds involved in the reaction,\n",
    "2. conserve the total number of each type of atom between reactants and products,\n",
    "3. conserve total electrical charge, and\n",
    "4. conserve mass.\n",
    "\n",
    "The last property, the conservation of mass in a balanced chemical reaction, is a consequence of the conservation of atomic species.\n",
    "\n",
    "An alternative convention for expressing a balanced reaction is\n",
    "\n",
    "$$ \\nu_A\\,A + \\nu_B\\,B + \\nu_C\\,C + \\nu_D\\,D = 0 $$\n",
    "\n",
    "where the stoichiometric coefficients $\\nu_A$, $\\nu_B$, $\\nu_C$, and $\\nu_D$ may take on positive or negative values. Negative coeifficients correspond to reactants, positive coefficients to products. The advantage of this notation will be become clear below where show how to setup algebraic equations correponding to the conditions for a balanced reaction."
   ]
  },
  {
   "cell_type": "markdown",
   "metadata": {
    "slideshow": {
     "slide_type": "-"
    }
   },
   "source": [
    "### Example: Combustion of Methane\n",
    "\n",
    "The unbalanced reaction for the combustion of methane (\\\\( CH_4\\\\) ) is \n",
    "\n",
    "$$ CH_4 + O_2 \\rightarrow CO_2 + H_2O $$\n",
    "\n",
    "What we seek are a set of _stoichiometric coefficients_ for the balanced reaction. The stoichiometric coefficients are numbers \\\\(\\nu_s\\\\) associated with each species $s$ such that the chemical expression can be written as a formula\n",
    "\n",
    "$$ \\nu_{CH_4}CH_4 + \\nu_{O_2}O_2 + \\nu_{CO_2}CO_2 + \\nu_{H_2O}H_2O = 0  $$\n",
    "\n",
    "Negative stoichiometric coefficients correspond to reactants, positive stoichiometric coefficeints correspond to products of the reaction. The stoichiometric coefficients must conserve the number of atoms of each element appearing in the reaction, and electrical charge if the reaction involves charged species.\n",
    "\n",
    "One means of computing the stoichiometric coefficients is to use the [SymPy](http://sympy.org/en/index.html) package for symbolic calculations to set up and solve the atom and charge balances corresponding to a chemical reaction. \n",
    "\n",
    "For the computation, The first step is to import the sympy package into the current workspace. The next step is to introduce a stoichiometric coefficient for each chemical species participating in the reaction, and a list of atom balances expressed in terms of the stoichiometric coefficients. There is one atom balance for each atomic species appearing in the reaction. Each atom balance consists of an expression that will be zero for a balanced reaction."
   ]
  },
  {
   "cell_type": "code",
   "execution_count": 2,
   "metadata": {
    "collapsed": false,
    "slideshow": {
     "slide_type": "fragment"
    }
   },
   "outputs": [
    {
     "name": "stdout",
     "output_type": "stream",
     "text": [
      "vCH4 + vCO2 == 0\n",
      "4*vCH4 + 2*vH2O == 0\n",
      "2*vCO2 + vH2O + 2*vO2 == 0\n"
     ]
    }
   ],
   "source": [
    "import sympy\n",
    "\n",
    "sympy.var(['vCH4', 'vO2', 'vCO2', 'vH2O'])\n",
    "\n",
    "atomBalances = [\n",
    "    sympy.Eq(vCH4 + vCO2,0),             # Carbon\n",
    "    sympy.Eq(4*vCH4 + 2*vH2O,0),         # Hydrogen\n",
    "    sympy.Eq(2*vO2 + +2*vCO2 + vH2O,0)   # Oxygen\n",
    "]\n",
    "\n",
    "for eqn in atomBalances:\n",
    "    print eqn"
   ]
  },
  {
   "cell_type": "markdown",
   "metadata": {
    "slideshow": {
     "slide_type": "slide"
    }
   },
   "source": [
    "A unique solution is obtained by specifying a _basis_ for the reaction. The basis is an additional equation that determines the stoichiometric coefficient for a particular chemical species. In this case, since this example refers to the combustion of methane, an obvious basis is to set the stoichiometric coefficient of methane to -1."
   ]
  },
  {
   "cell_type": "code",
   "execution_count": 3,
   "metadata": {
    "collapsed": false,
    "slideshow": {
     "slide_type": "fragment"
    }
   },
   "outputs": [
    {
     "name": "stdout",
     "output_type": "stream",
     "text": [
      "vCH4 + vCO2 == 0\n",
      "4*vCH4 + 2*vH2O == 0\n",
      "2*vCO2 + vH2O + 2*vO2 == 0\n",
      "vCH4 == -1\n"
     ]
    },
    {
     "data": {
      "text/plain": [
       "{vCO2: 1, vH2O: 2, vCH4: -1, vO2: -2}"
      ]
     },
     "execution_count": 3,
     "metadata": {},
     "output_type": "execute_result"
    }
   ],
   "source": [
    "basis = [sympy.Eq(vCH4,-1)]\n",
    "\n",
    "for eqn in atomBalances + basis:\n",
    "    print eqn\n",
    "\n",
    "sympy.solve(atomBalances + basis)"
   ]
  },
  {
   "cell_type": "markdown",
   "metadata": {},
   "source": [
    "### Example: Hypergolic Reactions\n",
    "\n",
    "<div style=\"float: right; margin: 10px; width: 160px; font-size: 80%; line-height: 120%;\">\n",
    "<a href=\"http://en.wikipedia.org/wiki/Monomethylhydrazine\"><img src=\"http://upload.wikimedia.org/wikipedia/commons/8/83/Methylhydrazine-3D-balls.png\" alt=\"Ball and stick model of monomethylhydrazine\"></a><br>\"<a href=\"http://commons.wikimedia.org/wiki/File:Methylhydrazine-3D-balls.png#/media/File:Methylhydrazine-3D-balls.png\">Methylhydrazine-3D-balls</a>\". Licensed under Public Domain via <a href=\"//commons.wikimedia.org/wiki/\">Wikimedia Commons</a>.\n",
    "</div>\n",
    "Hypergolic reactions are reactions where the reactants spontaneously ignite. They are frequently used in space propulsion where it desired to have a thruster that can be readily controlled over a range of operating conditions. \n",
    "\n",
    "One example is the reaction of the fuel monomethylhydrazine (MMH) fuel with the oxidizer nitrogen tetraoxide that is used in the SuperDraco engine developed by SpaceX, and in the reaction control system and orbital maneuvering systems of the Space Shuttle. \n",
    "\n",
    "The **unbalanced** reaction is given by\n",
    "\n",
    "$$ CH_6N_2 + N_2O_4 \\rightarrow CO_2 + NO + H_2O $$\n",
    "\n",
    "Determine the stoichiometric coefficients for a balanced reaction.  How much oxidizer is required per kilogram of fuel?"
   ]
  },
  {
   "cell_type": "code",
   "execution_count": 4,
   "metadata": {
    "collapsed": false
   },
   "outputs": [
    {
     "data": {
      "text/html": [
       "\n",
       "        <iframe\n",
       "            width=\"560\"\n",
       "            height=\"315\"\n",
       "            src=\"https://www.youtube.com/embed/VP_kGlmOH9U?start=0&end=108&rel=0\"\n",
       "            frameborder=\"0\"\n",
       "            allowfullscreen\n",
       "        ></iframe>\n",
       "        "
      ],
      "text/plain": [
       "<IPython.lib.display.YouTubeVideo at 0x106148910>"
      ]
     },
     "execution_count": 4,
     "metadata": {},
     "output_type": "execute_result"
    }
   ],
   "source": [
    "from IPython.display import YouTubeVideo\n",
    "YouTubeVideo(\"VP_kGlmOH9U\",560,315,start=0,end=108,rel=0)"
   ]
  },
  {
   "cell_type": "code",
   "execution_count": 5,
   "metadata": {
    "collapsed": false
   },
   "outputs": [
    {
     "name": "stdout",
     "output_type": "stream",
     "text": [
      "vCH6N2 + vCO2 == 0\n",
      "6*vCH6N2 + 2*vH2O == 0\n",
      "2*vCO2 + vH2O + 4*vN2O4 + vNO == 0\n",
      "2*vN2O4 + vNO == 0\n",
      "vCH6N2 == -1\n",
      "\n",
      "Stoichiometric Coefficients:  {vCO2: 1, vH2O: 3, vN2O4: -5/2, vNO: 5, vCH6N2: -1}\n",
      "\n",
      "  4.993 kilograms of N2O4 required per kilogram of CH6N2\n"
     ]
    }
   ],
   "source": [
    "# Identify unknown stoichiometric coefficients\n",
    "sympy.var(['vCH6N2','vN2O4','vCO2','vNO','vH2O'])\n",
    "\n",
    "# Atom balances\n",
    "eqns = [\n",
    "    sympy.Eq(1*vCH6N2 + vCO2,0),                # Carbon\n",
    "    sympy.Eq(6*vCH6N2 + 2*vH2O,0),              # Hydrogen\n",
    "    sympy.Eq(4*vN2O4 + 2*vCO2 + vNO + vH2O,0),  # Oxygen\n",
    "    sympy.Eq(2*vN2O4 + vNO,0)                   # Nitrogen\n",
    "]\n",
    "\n",
    "# Basis\n",
    "eqns.append(sympy.Eq(vCH6N2,-1))\n",
    "\n",
    "for eqn in eqns:\n",
    "    print eqn\n",
    "\n",
    "soln = sympy.solve(eqns)\n",
    "print \"\\nStoichiometric Coefficients: \", soln\n",
    "\n",
    "mwN2O4 = 92.011\n",
    "mwCH6N2 = 46.07\n",
    "\n",
    "nCH6N2 = 1.0/mwCH6N2                         # kg-mol of MMH\n",
    "nN2O4 =  (soln[vN2O4]/soln[vCH6N2])*nCH6N2   # kg-mol of N2O4\n",
    "mN2O4 = mwN2O4*nN2O4                         # kg of N2O4\n",
    "\n",
    "print \"\\n{0:7.3f} kilograms of N2O4 required per kilogram of CH6N2\".format(mN2O4)"
   ]
  },
  {
   "cell_type": "markdown",
   "metadata": {},
   "source": [
    "### Example: Reaction with Charge in Aqueous Solution\n",
    "\n",
    "Metallic cadmium ($Cd$) will dissolve in concentrated solution of nitric acid to form the ion $Cd^{+2}$ with the production of the free radical nitric oxide ($NO$). Write a balanced reaction.\n",
    "\n",
    "The statement of the problem suggests the unbalanced reaction\n",
    "\n",
    "$$Cd + NO_3^- \\longrightarrow Cd^{+2} + NO$$\n",
    "\n",
    "but clearly this can't be balanced because there are no offsetting negative charges on the right hand side of the equation. In problems like this need to incorporate other ions and water into the reaction. For this case, there are a total of eight molecular species to consider are\n",
    "\n",
    "$$Cd,\\ H_2O,\\ HNO_3,\\ NO,\\ Cd^{+2},\\ H^+,\\ OH^-,\\ NO_3^-$$\n",
    "\n",
    "Next we write down the atom balances (4), charge balance (1), and basis specification (1) to create a list of six equations in the eight stoichiometic coefficients."
   ]
  },
  {
   "cell_type": "code",
   "execution_count": 6,
   "metadata": {
    "collapsed": false
   },
   "outputs": [
    {
     "name": "stdout",
     "output_type": "stream",
     "text": [
      "vCd + vCdpos2 == 0\n",
      "2*vH2O + vHNO3 + vHpos + vOHneg == 0\n",
      "vH2O + 3*vHNO3 + vNO + 3*vNO3neg + vOHneg == 0\n",
      "vHNO3 + vNO + vNO3neg == 0\n",
      "2*vCdpos2 + vHpos - vNO3neg - vOHneg == 0\n",
      "vCd == -1\n"
     ]
    }
   ],
   "source": [
    "# Identify unknown stoichiometric coefficients\n",
    "v = sympy.var(['vCd','vH2O','vHNO3','vNO','vCdpos2','vHpos','vOHneg','vNO3neg'])\n",
    "\n",
    "# Atom balances\n",
    "eqns = [\n",
    "    sympy.Eq(vCd + vCdpos2, 0),                             # Cadmium\n",
    "    sympy.Eq(2*vH2O + vHNO3 + vHpos + vOHneg, 0),           # Hydrogen\n",
    "    sympy.Eq(vH2O + 3*vHNO3 + vNO + vOHneg + 3*vNO3neg, 0), # Oxygen\n",
    "    sympy.Eq(vHNO3  + vNO + vNO3neg, 0)                     # Nitrogen\n",
    "]\n",
    "\n",
    "# Charge balance\n",
    "eqns.append(sympy.Eq(2*vCdpos2 + vHpos - vOHneg - vNO3neg, 0))\n",
    "\n",
    "# Basis\n",
    "eqns.append(sympy.Eq(vCd, -1))\n",
    "\n",
    "for eqn in eqns:\n",
    "    print eqn"
   ]
  },
  {
   "cell_type": "markdown",
   "metadata": {},
   "source": [
    "This problems has more variables than equations, so there some _degrees of freedom_. We need to make some additional assumptions about this reaction to resolve those degrees of freedom. The first assumption is that the nitric acid is completely dissociated in solution so that $\\nu_{HNO_3}=0$."
   ]
  },
  {
   "cell_type": "code",
   "execution_count": 7,
   "metadata": {
    "collapsed": false
   },
   "outputs": [
    {
     "data": {
      "text/plain": [
       "{vNO3neg: -2/3,\n",
       " vCdpos2: 1,\n",
       " vHpos: vOHneg - 8/3,\n",
       " vHNO3: 0,\n",
       " vH2O: -vOHneg + 4/3,\n",
       " vCd: -1,\n",
       " vNO: 2/3}"
      ]
     },
     "execution_count": 7,
     "metadata": {},
     "output_type": "execute_result"
    }
   ],
   "source": [
    "eqns.append(sympy.Eq(vHNO3, 0))\n",
    "sympy.solve(eqns)\n"
   ]
  },
  {
   "cell_type": "markdown",
   "metadata": {},
   "source": [
    "This partial solution shows that remaining six stoichiometric coefficients can be written in terms of $\\nu_{OH^-}$. What's happening is that there is a second reaction, the dissociation of water\n",
    "\n",
    "$$H_2O \\longrightarrow H^+ + OH^-$$\n",
    "\n",
    "that is taking place among the same list of reactants. In order to separate the two reactions, we set $\\nu_{H_2O} = 0$"
   ]
  },
  {
   "cell_type": "code",
   "execution_count": 8,
   "metadata": {
    "collapsed": false
   },
   "outputs": [
    {
     "data": {
      "text/plain": [
       "{vNO3neg: -2/3,\n",
       " vCdpos2: 1,\n",
       " vHpos: -4/3,\n",
       " vHNO3: 0,\n",
       " vH2O: 0,\n",
       " vOHneg: 4/3,\n",
       " vCd: -1,\n",
       " vNO: 2/3}"
      ]
     },
     "execution_count": 8,
     "metadata": {},
     "output_type": "execute_result"
    }
   ],
   "source": [
    "sympy.solve(eqns + [sympy.Eq(vH2O,0)])\n"
   ]
  },
  {
   "cell_type": "markdown",
   "metadata": {},
   "source": [
    "which gives the resulting balanced equation\n",
    "\n",
    "$$ Cd + \\frac{4}{3}\\,H^+ + \\frac{2}{3}\\,NO_3^- \\longrightarrow Cd^{+2} + \\frac{4}{3}\\,OH^- + \\frac{2}{3}\\,NO $$"
   ]
  },
  {
   "cell_type": "markdown",
   "metadata": {
    "slideshow": {
     "slide_type": "slide"
    }
   },
   "source": [
    "### Exercise: Combustion of Octane\n",
    "\n",
    "Extend this example to balance the reaction for the combustion of octane $C_8H_{18}$."
   ]
  },
  {
   "cell_type": "markdown",
   "metadata": {},
   "source": [
    "### Exercise: Hard to Balance Reaction\n",
    "\n",
    "Balance the following reaction:\n",
    "\n",
    "$$ HIO_3 + FeI_2 + HCl \\longrightarrow FeCl_3 + ICl + H_2O $$"
   ]
  },
  {
   "cell_type": "markdown",
   "metadata": {},
   "source": [
    "### Exercise: Another Hard to Balance Reaction\n",
    "\n",
    "Balance the following reaction:\n",
    "\n",
    "$$ K_4[Fe(SCN)_6] + K_2Cr_2O_7 + H_2SO_4 \\longrightarrow Fe_2(SO_4)_3 + Cr_2(SO_4)_3 + CO_2 + H_2O + K_2SO_4 + KNO_3 $$"
   ]
  },
  {
   "cell_type": "markdown",
   "metadata": {},
   "source": [
    "### Exercise: Reactions with Charge\n",
    "\n",
    "Given the unbalanced equation\n",
    "\n",
    "$$MnO_4^- + I^- \\longrightarrow Mn^{+2} + I_2$$\n",
    "\n",
    "find the balanced reaction assuming it takes place in an acidic, aqueous solution."
   ]
  }
 ],
 "metadata": {
  "kernelspec": {
   "display_name": "Python 2",
   "language": "python",
   "name": "python2"
  },
  "language_info": {
   "codemirror_mode": {
    "name": "ipython",
    "version": 2
   },
   "file_extension": ".py",
   "mimetype": "text/x-python",
   "name": "python",
   "nbconvert_exporter": "python",
   "pygments_lexer": "ipython2",
   "version": "2.7.10"
  }
 },
 "nbformat": 4,
 "nbformat_minor": 0
}
