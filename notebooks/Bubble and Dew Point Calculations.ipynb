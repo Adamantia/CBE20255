{
 "cells": [
  {
   "cell_type": "markdown",
   "metadata": {},
   "source": [
    "# Bubble and Dew Point Calculations"
   ]
  },
  {
   "cell_type": "markdown",
   "metadata": {},
   "source": [
    "This [IPython notebook](http://ipython.org/notebook.html) illustrates the use of Raoult's Law and Antoine's equation to compute the bubble and dew points for an ideal solution. The video is used with permission from [learnCheme.com](http://learncheme.ning.com/), a project at the University of Colorado funded by the National Science Foundation and the Shell Corporation.\n",
    "\n",
    "J.C. Kantor (Kantor.1@nd.edu)\n",
    "\n",
    "The latest version of this IPython notebook is available at [http://github.com/jckantor/CBE20255](http://github.com/jckantor/CBE20255)  for noncommercial use under terms of the [Creative Commons Attribution Noncommericial ShareAlike License](http://creativecommons.org/licenses/by-nc-sa/4.0/)."
   ]
  },
  {
   "cell_type": "code",
   "execution_count": 1,
   "metadata": {
    "collapsed": false
   },
   "outputs": [
    {
     "data": {
      "text/html": [
       "<link href='http://fonts.googleapis.com/css?family=Fenix' rel='stylesheet' type='text/css'>\n",
       "<link href='http://fonts.googleapis.com/css?family=Alegreya+Sans:100,300,400,500,700,800,\n",
       "    900,100italic,300italic,400italic,500italic,700italic,800italic,900italic' rel='stylesheet' type='text/css'>\n",
       "<link href='http://fonts.googleapis.com/css?family=Source+Code+Pro:300,400' rel='stylesheet' type='text/css'>\n",
       "<link href='http://fonts.googleapis.com/css?family=Crimson+Text' rel='stylesheet' type='text/css'>\n",
       "<link href='http://fonts.googleapis.com/css?family=Kameron' rel='stylesheet' type='text/css'>\n",
       "<link href='http://fonts.googleapis.com/css?family=Lato:200' rel='stylesheet' type='text/css'>\n",
       "<link href='http://fonts.googleapis.com/css?family=Lato:300' rel='stylesheet' type='text/css'>\n",
       "<link href='http://fonts.googleapis.com/css?family=Lato:400' rel='stylesheet' type='text/css'>\n",
       "<link href='http://fonts.googleapis.com/css?family=Source+Code+Pro' rel='stylesheet' type='text/css'>\n",
       "\n",
       "<style>\n",
       "\n",
       "@font-face {\n",
       "    font-family: \"Computer Modern\";\n",
       "    src: url('http://mirrors.ctan.org/fonts/cm-unicode/fonts/otf/cmunss.otf');\n",
       "}\n",
       "\n",
       "#notebook_panel { /* establish main background and color */\n",
       "    background: #fff;\n",
       "    color: #ff0000;\n",
       "}\n",
       "\n",
       "div.cell { /* set cell width */\n",
       "    width:800px;\n",
       "    margin-left:0%;\n",
       "    margin-right:auto;\n",
       "}\n",
       "\n",
       "div #notebook { /* centers the content */\n",
       "    background: #fff;\n",
       "    width: 1000px;\n",
       "    margin: auto;\n",
       "    padding-left: 1em;\n",
       "}\n",
       "\n",
       "#notebook li { /* more space between bullet points */\n",
       "    margin-top:0.8em;\n",
       "}\n",
       "\n",
       "/* draw border around running cells */\n",
       "div.cell.border-box-sizing.code_cell.running {\n",
       "    border: 3px solid #111;\n",
       "}\n",
       "\n",
       "/* Put a solid color box around each code cell and its output,\n",
       "     visually linking them together */\n",
       "div.cell.code_cell {\n",
       "    background-color: /*#fff*/ rgba(171,165,131,0.2);\n",
       "    border-radius: 10px; /* rounded borders */\n",
       "    padding: 1em;\n",
       "    margin-top: 1em;\n",
       "}\n",
       "\n",
       ".CodeMirror {\n",
       "    font-family: \"Source Code Pro\";\n",
       "    font-size: 90%;\n",
       "}\n",
       "\n",
       "div.text_cell_render code {\n",
       "    font-family: \"Source Code Pro\";\n",
       "    font-size: 90%;\n",
       "    color: red;\n",
       "}\n",
       "\n",
       "pre {\n",
       "    font-family: \"Source Code Pro\";\n",
       "    font-size: 90%;\n",
       "}\n",
       "\n",
       "div.text_cell_render { /* rendering of basic text cell */\n",
       "    font-family: 'Alegreya Sans', Computer Modern, \"Helvetica Neue\", Arial, Helvetica, sans-serif;\n",
       "    line-height: 135%;\n",
       "    font-size: 120%;\n",
       "    width:700px;\n",
       "    margin-left:auto;\n",
       "    margin-right:auto;\n",
       "}\n",
       "\n",
       ".text_cell_render h1 {\n",
       "    font-family: 'Alegreya Sans', sans-serif;\n",
       "    font-weight: 300;\n",
       "    font-size: 32pt;\n",
       "    line-height: 100%;\n",
       "    color:#CD2305;\n",
       "    margin-bottom: 0.4em;\n",
       "    margin-top: 0em;\n",
       "    display: block;\n",
       "}\n",
       "\n",
       "h2 {\n",
       "    font-family: 'Fenix', serif;\n",
       "}\n",
       "\n",
       "h3 {\n",
       "    font-family: 'Fenix', serif;\n",
       "    margin-top:12px;\n",
       "    margin-bottom: 3px;\n",
       "}\n",
       "\n",
       "h4 {\n",
       "    font-family: 'Fenix', serif;\n",
       "}\n",
       "\n",
       ".text_cell_render h5 {\n",
       "    font-family: 'Alegreya Sans', sans-serif;\n",
       "    font-weight: 100;\n",
       "    font-size: 16pt;\n",
       "    color: #CD2305;\n",
       "    font-style: italic;\n",
       "    margin-bottom: .5em;\n",
       "    margin-top: 0.5em;\n",
       "    display: block;\n",
       "}\n",
       "\n",
       ".text_cell_render h6 { /*use this for copyright note*/\n",
       "    font-family: 'Alegreya Sans', sans-serif;\n",
       "    font-weight: 400;\n",
       "    font-size: 10pt;\n",
       "    font-style: normal;\n",
       "    line-height: 120%;\n",
       "    margin-bottom: 1px;\n",
       "    margin-top: 1px;\n",
       "}\n",
       "\n",
       ".MathJax, .MathJax_Display  {\n",
       "    font-family: 'Alegreya Sans', sans-serif  !important;\n",
       "    font-size: 90%  !important;\n",
       "    vertical-align: 0px  !important;\n",
       "}\n",
       "\n",
       ".warning{\n",
       "    color: rgb( 240, 20, 20 )\n",
       "}\n",
       "\n",
       "</style>\n",
       "\n",
       "<script>\n",
       "MathJax.Hub.Config({\n",
       "    TeX: {\n",
       "        extensions: [\"AMSmath.js\"]\n",
       "    },\n",
       "    tex2jax: {\n",
       "        inlineMath: [ ['$','$'], [\"\\\\(\",\"\\\\)\"] ],\n",
       "        displayMath: [ ['$$','$$'], [\"\\\\[\",\"\\\\]\"] ],\n",
       "        processEscapes: true\n",
       "    },\n",
       "    displayAlign: 'center', // Change this to 'center' to center equations.\n",
       "    \"HTML-CSS\": {\n",
       "        styles: {'.MathJax_Display': {\"margin\": 4}}\n",
       "    }\n",
       "});\n",
       "</script>\n",
       "\n"
      ],
      "text/plain": [
       "<IPython.core.display.HTML object>"
      ]
     },
     "execution_count": 1,
     "metadata": {},
     "output_type": "execute_result"
    }
   ],
   "source": [
    "#Initializations\n",
    "from IPython.core.display import HTML\n",
    "HTML(open(\"../styles/custom.css\", \"r\").read())"
   ]
  },
  {
   "cell_type": "markdown",
   "metadata": {},
   "source": [
    "## Bubble and Dew Point Equations for Ideal Mixtures"
   ]
  },
  {
   "cell_type": "markdown",
   "metadata": {},
   "source": [
    "Bubble and dew point calculations for ideal mixtures are all about solving a fixed set of equations. If we have $N$ chemical species, and refer to the liquid phase mole fractions as $x_1, \\ldots, x_N$ and the vapor phase mole fractions as $y_1, \\ldots, y_N$, then two of these equations are\n",
    "\n",
    "$$x_1 + x_2 + \\cdots + x_N = 1$$\n",
    "\n",
    "and\n",
    "\n",
    "$$y_1 + y_2 + \\cdots + y_N = 1$$\n",
    "\n",
    "The remaining equations come from Raoult's law. For each of the $n = 1, 2, \\ldots, N$ species we have an equation\n",
    "\n",
    "$$ y_n P = x_n P_n^{sat}(T)$$\n",
    "\n",
    "where $P_n^{sat}(T)$ is determined from experimental data or from a correlation such as Antoine's equation. This gives us a total $N+2$ equations. \n",
    "\n",
    "The unknown variables are the $N$ values of $x_n$, the $N$ values of $y_n$, plus temperature $T$ and pressure $P$ -- a total $2N + 2$ variables. With this as context, we can identify two types of problems.\n",
    "\n",
    "#### Bubble Point Equations\n",
    "\n",
    "If the composition of the liquid phase is known, then the equilibrium equations can be solved for the unknown vapor phase composition\n",
    "\n",
    "$$y_n = x_n \\frac{P_n^{sat}(T)}{P}$$\n",
    "\n",
    "Substituting these values into the equation $y_1 + y_2 + \\cdots + y_N = 1$ gives an equation.\n",
    "\n",
    "$$ x_1\\frac{P_1^{sat}(T)}{P} + \\cdots + x_N \\frac{P_N^{sat}(T)}{P} - 1 = 0$$\n",
    "\n",
    "If $P$ is known, then the equilibrium value of $T$ is a root to this equation that can be found using standard root-finding functions in the Python or Matlab libraries.\n",
    "\n",
    "If $T$ is known, the solution for $P$ is simply\n",
    "\n",
    "$$ P = x_1 P_1^{sat}(T) + x_2 P_2^{sat}(T) + \\cdots + x_N P_N^{sat}(T)$$\n",
    "\n",
    "Once both $T$ and $P$ are known, the vapor phase composition can be computed by substituting those values back into the first equation.\n",
    "\n",
    "#### Dew Point Equations\n",
    "\n",
    "If the composition of the vapor phase is known, then the equilibrium equations can be solved for the unknown vapor liquid phase composition\n",
    "\n",
    "$$x_n = y_n \\frac{P}{P_n^{sat}(T)}$$\n",
    "\n",
    "Substituting these values into the equation $x_1 + x_2 + \\cdots + x_N = 1$ gives an equation\n",
    "\n",
    "$$ y_1\\frac{P}{P_1^{sat}(T)} + \\cdots + y_N \\frac{P}{P_N^{sat}(T)} - 1 = 0$$\n",
    "\n",
    "If $P$ is known, then the equilibrium value of $T$ is a root to this equation that can be found using standard root-finding functions in the Python or Matlab libraries.\n",
    "\n",
    "If $T$ is known, the solution for $P$ is \n",
    "\n",
    "$$\\frac{1}{P} = \\frac{y_1}{P_1^{sat}(T)} + \\frac{y_2}{P_2^{sat}(T)} + \\cdots + \\frac{y_N}{P_N^{sat}(T)}$$\n",
    "\n",
    "Once both $T$ and $P$ are known, the liquid phase composition can be computed by substituting those values back into the first equation."
   ]
  },
  {
   "cell_type": "markdown",
   "metadata": {},
   "source": [
    "## Bubble Point Calculations for Binary Mixtures"
   ]
  },
  {
   "cell_type": "markdown",
   "metadata": {},
   "source": [
    "For an ideal binary mixture of components $A$ and $B$, from Raoult's law the bubble point temperature must satisfy\n",
    "\n",
    "$$P = x_A P_A^{sat}(T) + x_B P_B^{sat}(T)$$\n",
    "\n",
    "where $x_A P_A^{sat}(P)$ and $x_B P_B^{sat}(P)$ are the partial pressures of $A$ and $B$, respectively. This relationship is the basis for an interative procedure for computing the bubble point temperature.\n",
    "\n",
    "Step 1: Guess the temperature.\n",
    "\n",
    "Step 2: Compute the  'K-factors'\n",
    "\n",
    "$$K_A = \\frac{P^{sat}_A(T)}{P}\\qquad\\mbox{and}\\qquad K_B = \\frac{P^{sat}_B(T)}{P}$$\n",
    "\n",
    "Step 3: Compute the vapor phase mole fractions \n",
    "\n",
    "$$y_A = K_A x_A\\qquad\\mbox{and}\\qquad y_B = K_B x_B$$\n",
    "\n",
    "Step 4: Check if $y_A + y_B = 1$. Adjust the temperature and repeat until the vapor phase mole fractions sum to one.\n",
    "\n",
    "The procedure is demonstrated in the following video."
   ]
  },
  {
   "cell_type": "markdown",
   "metadata": {},
   "source": [
    "<iframe width=\"420\" height=\"315\" src=\"//www.youtube.com/embed/vjXpSWuQVLY\" frameborder=\"0\" allowfullscreen></iframe>"
   ]
  },
  {
   "cell_type": "markdown",
   "metadata": {},
   "source": [
    "### Solution by Manual Iteration"
   ]
  },
  {
   "cell_type": "markdown",
   "metadata": {},
   "source": [
    "We're given a binary mixture composed of acetone and ethanol at atmospheric pressure where the liquid phase mole fraction of acetone is 0.40. The problem is to find the equilibrium temperature and the composition of the vapor phase."
   ]
  },
  {
   "cell_type": "code",
   "execution_count": 112,
   "metadata": {
    "collapsed": false
   },
   "outputs": [],
   "source": [
    "A = 'acetone'\n",
    "B = 'ethanol'\n",
    "\n",
    "P = 760\n",
    "xa = 0.4\n",
    "xb = 1 - xa"
   ]
  },
  {
   "cell_type": "markdown",
   "metadata": {},
   "source": [
    "We will use Antoine's equation to compute the saturation pressures for the pure components. These function are stored as entries in a simple Python dictionary."
   ]
  },
  {
   "cell_type": "code",
   "execution_count": 122,
   "metadata": {
    "collapsed": false
   },
   "outputs": [],
   "source": [
    "# Antoine's equations. T [deg C], P [mmHg]\n",
    "\n",
    "Psat = dict()\n",
    "Psat['acetone'] = lambda T: 10**(7.02447 - 1161.0/(224 + T))\n",
    "Psat['ethanol'] = lambda T: 10**(8.04494 - 1554.3/(222.65 + T))"
   ]
  },
  {
   "cell_type": "markdown",
   "metadata": {},
   "source": [
    "The next cell performs the calculations outlined in the video above. Execute this cell with different values of `T` until the vapor phase mole fractions sum to one."
   ]
  },
  {
   "cell_type": "code",
   "execution_count": 123,
   "metadata": {
    "collapsed": false
   },
   "outputs": [
    {
     "name": "stdout",
     "output_type": "stream",
     "text": [
      "0.880884611444\n"
     ]
    }
   ],
   "source": [
    "T = 65\n",
    "\n",
    "Ka = Psat[A](T)/P\n",
    "Kb = Psat[B](T)/P\n",
    "\n",
    "ya = Ka*xa\n",
    "yb = Kb*xb\n",
    "\n",
    "print ya + yb"
   ]
  },
  {
   "cell_type": "markdown",
   "metadata": {},
   "source": [
    "### Solution with a Root-Finding Function"
   ]
  },
  {
   "cell_type": "markdown",
   "metadata": {},
   "source": [
    "To compute the bubble point for a binary mixture we need to solve the equation\n",
    "\n",
    "$$P = x_A P^{sat}_A(T_{bubble}) + x_B P^{sat}_B(T_{bubble})$$\n",
    "\n",
    "where $P$ and $x_A$ (and therefore $x_B = 1 - x_A$) are known. The bubble point composition is given by\n",
    "\n",
    "$$y_A = \\frac{x_A P^{sat}_A(T)}{P}\\qquad\\mbox{and}\\qquad y_B = \\frac{x_B P^{sat}_B(T)}{P}$$\n",
    "\n",
    "Matlab and Python functions for solving equations rely on *root-finding* methods, that is, methods that find the *zeros* of a function. In this case we need to write our problem as\n",
    "\n",
    "$$x_A \\frac{P^{sat}_A(T)}{P} + x_B\\frac{P^{sat}_B(T)}{P} - 1 = 0$$\n",
    "\n",
    "Here we use the `fsolve` function from the scipy.optimize library to return the root of this equation. Note that `fsolve` returns a list of roots, so the terminal `[0]` on the expression selects the first root (and presumably only) of the bubble point equation."
   ]
  },
  {
   "cell_type": "code",
   "execution_count": 124,
   "metadata": {
    "collapsed": false
   },
   "outputs": [
    {
     "data": {
      "text/plain": [
       "68.519583610802883"
      ]
     },
     "execution_count": 124,
     "metadata": {},
     "output_type": "execute_result"
    }
   ],
   "source": [
    "from scipy.optimize import fsolve\n",
    "\n",
    "fsolve(lambda T: xa*Psat[A](T)/P + xb*Psat[B](T)/P - 1.0 ,60)[0]"
   ]
  },
  {
   "cell_type": "code",
   "execution_count": 201,
   "metadata": {
    "collapsed": false
   },
   "outputs": [
    {
     "name": "stdout",
     "output_type": "stream",
     "text": [
      "Bubble point temperature = 87.681 [deg C]\n",
      "Bubble point composition = (0.628,0.372)\n"
     ]
    }
   ],
   "source": [
    "from scipy.optimize import fsolve\n",
    "\n",
    "def Tbub((xa,xb)) :\n",
    "    return fsolve(lambda T: xa*Psat[A](T)/P + xb*Psat[B](T)/P - 1.0 ,60)[0]\n",
    "\n",
    "print \"Bubble point temperature = {:6.3f} [deg C]\".format(Tbub((xa,xb)))\n",
    "\n",
    "ya = xa*Psat[A](Tbub((xa,xb)))/P\n",
    "yb = xb*Psat[B](Tbub((xa,xb)))/P\n",
    "\n",
    "print \"Bubble point composition = ({:.3f},{:.3f})\".format(ya,yb)"
   ]
  },
  {
   "cell_type": "markdown",
   "metadata": {},
   "source": [
    "### Bubble Point Curve for a Txy Diagram"
   ]
  },
  {
   "cell_type": "markdown",
   "metadata": {},
   "source": [
    "It's a relatively simply matter to encapsulate the bubble point calculation into a function that, given the liquid phase mole fraction for an ideal binary mixture, uses a root-finding procedure to return the bubble point temperature."
   ]
  },
  {
   "cell_type": "code",
   "execution_count": 202,
   "metadata": {
    "collapsed": false
   },
   "outputs": [
    {
     "data": {
      "image/png": "[encoded data removed]",
      "text/plain": [
       "<matplotlib.figure.Figure at 0x109ec2e90>"
      ]
     },
     "metadata": {},
     "output_type": "display_data"
    }
   ],
   "source": [
    "x = linspace(0,1)\n",
    "plot(x,map(Tbub,zip(x,1-x)))\n",
    "xlabel('x [mole fraction {:s}]'.format(A))\n",
    "ylabel('Temperature [deg C]')\n",
    "title('Bubble Point for {:s}/{:s} at {:5.1f} [mmHg]'.format(A,B,P))\n",
    "grid();"
   ]
  },
  {
   "cell_type": "markdown",
   "metadata": {},
   "source": [
    "## Dew Point Calculations for a Binary Mixture"
   ]
  },
  {
   "cell_type": "markdown",
   "metadata": {},
   "source": [
    "To compute the dew point for a binary mixture we need to solve the equation\n",
    "\n",
    "$$y_A\\frac{P}{P^{sat}_A(T)} + y_B\\frac{P}{P^{sat}_B(T)} - 1 = 0$$\n",
    "\n",
    "where $P$ and $y_A$ (and therefore $y_B = 1 - y_A$) are known. The dew point composition is given by\n",
    "\n",
    "$$x_A = y_A\\frac{P}{P^{sat}_A(T)}\\qquad\\mbox{and}\\qquad x_B = y_B\\frac{P}{P^{sat}_B(T)}$$\n",
    "\n",
    "Matlab and Python functions for solving equations rely on *root-finding* methods, that is, methods that find the *zeros* of a function. Here we use the `fsolve` function from the scipy.optimize library to return the root of the dew point equation. Note that `fsolve` returns a list of roots, so the terminal `[0]` on the expression selects the first root (and presumably only) of the bubble point equation."
   ]
  },
  {
   "cell_type": "code",
   "execution_count": 203,
   "metadata": {
    "collapsed": false
   },
   "outputs": [
    {
     "name": "stdout",
     "output_type": "stream",
     "text": [
      "Dew point temperature = 87.681 [deg C]\n",
      "Dew point composition = (0.400,0.600)\n"
     ]
    }
   ],
   "source": [
    "def Tdew((ya,yb)):\n",
    "    return fsolve(lambda T:ya*P/Psat[A](T) + yb*P/Psat[B](T) - 1.0,60)[0]\n",
    "\n",
    "print \"Dew point temperature = {:6.3f} [deg C]\".format(Tdew((ya,yb)))\n",
    "\n",
    "xa = ya*P/Psat[A](Tdew((ya,yb)))\n",
    "xb = yb*P/Psat[B](Tdew((ya,yb)))\n",
    "\n",
    "print \"Dew point composition = ({:.3f},{:.3f})\".format(xa,xb)"
   ]
  },
  {
   "cell_type": "markdown",
   "metadata": {},
   "source": [
    "### Dew Point Curve on the Txy diagram"
   ]
  },
  {
   "cell_type": "markdown",
   "metadata": {},
   "source": [
    "As shown above for bubble point calculations, the dew point curve on the Txy diagram can be plotted by mapping the Tdew function onto a grid of mole fractions."
   ]
  },
  {
   "cell_type": "code",
   "execution_count": 204,
   "metadata": {
    "collapsed": false
   },
   "outputs": [
    {
     "data": {
      "image/png": "[encoded data removed]",
      "text/plain": [
       "<matplotlib.figure.Figure at 0x109d27ad0>"
      ]
     },
     "metadata": {},
     "output_type": "display_data"
    }
   ],
   "source": [
    "y = linspace(0,1)\n",
    "plot(y,map(Tdew,zip(y,1-y)))\n",
    "xlabel('y [mole fraction {:s}]'.format(A))\n",
    "ylabel('Temperature [deg C]')\n",
    "title('Dew Point for {:s}/{:s} at {:5.1f} [mmHg]'.format(A,B,P))\n",
    "grid();"
   ]
  },
  {
   "cell_type": "markdown",
   "metadata": {},
   "source": [
    "## Txy Diagram"
   ]
  },
  {
   "cell_type": "code",
   "execution_count": 205,
   "metadata": {
    "collapsed": false
   },
   "outputs": [
    {
     "data": {
      "image/png": "[encoded data removed]",
      "text/plain": [
       "<matplotlib.figure.Figure at 0x109ec5790>"
      ]
     },
     "metadata": {},
     "output_type": "display_data"
    }
   ],
   "source": [
    "Psat = dict()\n",
    "Psat['acetone'] = lambda T: 10**(7.02447 - 1161.0/(224 + T))\n",
    "Psat['benzene'] = lambda T: 10**(6.89272 - 1203.531/(219.888 + T))\n",
    "Psat['ethanol'] = lambda T: 10**(8.04494 - 1554.3/(222.65 + T))\n",
    "Psat['toluene'] = lambda T: 10**(6.95805 - 1346.773/(219.693 + T))\n",
    "\n",
    "P = 0.8*760\n",
    "A = 'benzene'\n",
    "B = 'toluene'\n",
    "\n",
    "x = linspace(0,1)\n",
    "y = linspace(0,1)\n",
    "\n",
    "plot(x,map(Tbub,zip(x,1-x)),y,map(Tdew,zip(y,1-y)))\n",
    "xlabel('x mole fraction {:s}'.format(A))\n",
    "ylabel('Temperature [deg C]')\n",
    "title('Txy Diagram for {:s}/{:s} at {:5.1f} [mmHg]'.format(A,B,P))\n",
    "grid();"
   ]
  },
  {
   "cell_type": "markdown",
   "metadata": {},
   "source": [
    "## xy Diagram"
   ]
  },
  {
   "cell_type": "code",
   "execution_count": 206,
   "metadata": {
    "collapsed": false
   },
   "outputs": [
    {
     "data": {
      "image/png": "[encoded data removed]",
      "text/plain": [
       "<matplotlib.figure.Figure at 0x10a36bb50>"
      ]
     },
     "metadata": {},
     "output_type": "display_data"
    }
   ],
   "source": [
    "P = 0.8*760\n",
    "A = 'benzene'\n",
    "B = 'toluene'\n",
    "\n",
    "x = linspace(0,1)\n",
    "y = map(lambda x: x*Psat[A](Tbub((x,1-x)))/P, x)\n",
    "\n",
    "figure(figsize=(6,6))\n",
    "plot(x,y)\n",
    "xlabel('x mole fraction {:s}'.format(A))\n",
    "ylabel('y mole fraction {:s}'.format(A))\n",
    "title('xy Diagram for {:s}/{:s} at {:5.1f} [mmHg]'.format(A,B,P))\n",
    "grid();"
   ]
  },
  {
   "cell_type": "markdown",
   "metadata": {},
   "source": [
    "## Multicomponent Mixtures"
   ]
  },
  {
   "cell_type": "code",
   "execution_count": 207,
   "metadata": {
    "collapsed": false
   },
   "outputs": [],
   "source": [
    "Psat = dict()\n",
    "Psat['acetone'] = lambda T: 10**(7.02447 - 1161.0/(224 + T))\n",
    "Psat['benzene'] = lambda T: 10**(6.89272 - 1203.531/(219.888 + T))\n",
    "Psat['ethanol'] = lambda T: 10**(8.04494 - 1554.3/(222.65 + T))\n",
    "Psat['toluene'] = lambda T: 10**(6.95805 - 1346.773/(219.693 + T))"
   ]
  },
  {
   "cell_type": "markdown",
   "metadata": {},
   "source": [
    "For the multicomponent case we will use Python dictionaries to store compositions of the liquid phases. Bubble point functions"
   ]
  },
  {
   "cell_type": "code",
   "execution_count": null,
   "metadata": {
    "collapsed": false
   },
   "outputs": [],
   "source": [
    "def Tbub(species,x):\n",
    "    return fsolve(lambda T : sum([x[s]*Psat[s](T)/P for s in species]) - 1.0,60)[0]\n",
    "\n",
    "def ybub(species,x):\n",
    "    return {s: x[s]*Psat[s](Tbub(species,x))/P for s in species}"
   ]
  },
  {
   "cell_type": "markdown",
   "metadata": {},
   "source": [
    "Dew point functions"
   ]
  },
  {
   "cell_type": "code",
   "execution_count": null,
   "metadata": {
    "collapsed": false
   },
   "outputs": [],
   "source": [
    "def Tdew(species,y):\n",
    "    return fsolve(lambda T : sum([y[s]*P/Psat[s](T) for s in species]) - 1.0,60)[0]\n",
    "\n",
    "def xdew(species,y):\n",
    "    return {s: y[s]*P/Psat[s](Tdew(species,y)) for s in species}"
   ]
  },
  {
   "cell_type": "markdown",
   "metadata": {},
   "source": [
    "Demonstration"
   ]
  },
  {
   "cell_type": "code",
   "execution_count": 230,
   "metadata": {
    "collapsed": false
   },
   "outputs": [
    {
     "name": "stdout",
     "output_type": "stream",
     "text": [
      "\n",
      "Bubble Point Calculations\n",
      "Temperature = 82.50 [deg C]\n",
      "Pressure  =  608.00 [mmHg]\n",
      "  Composition    x[s]   y[s]\n",
      "    acetone     0.100  0.284\n",
      "    benzene     0.300  0.403\n",
      "    toluene     0.600  0.313\n",
      "\n",
      "Dew Point Calculations\n",
      "Temperature = 93.17 [deg C]\n",
      "Pressure  =  608.00 [mmHg]\n",
      "  Composition    x[s]   y[s]\n",
      "    acetone     0.026  0.100\n",
      "    benzene     0.163  0.300\n",
      "    toluene     0.810  0.600\n"
     ]
    }
   ],
   "source": [
    "species = ['acetone','benzene','toluene']\n",
    "z = dict()\n",
    "\n",
    "P = 0.8*760\n",
    "z['acetone'] = 0.1\n",
    "z['benzene'] = 0.3\n",
    "z['toluene'] = 0.6\n",
    "\n",
    "print \"\\nBubble Point Calculations\"\n",
    "\n",
    "x = z\n",
    "T = Tbub(species,x)\n",
    "y = ybub(species,x)\n",
    "\n",
    "print \"Temperature = {:5.2f} [deg C]\".format(T)\n",
    "print \"Pressure  = {:7.2f} [mmHg]\".format(P)\n",
    "print \"  Composition    x[s]   y[s]\"\n",
    "for s in species:\n",
    "    print \"    {:10s} {:6.3f} {:6.3f}\".format(s,x[s],y[s])\n",
    "\n",
    "print \"\\nDew Point Calculations\"\n",
    "\n",
    "y = z\n",
    "T = Tdew(species,y)\n",
    "x = xdew(species,y)\n",
    "\n",
    "print \"Temperature = {:5.2f} [deg C]\".format(T)\n",
    "print \"Pressure  = {:7.2f} [mmHg]\".format(P)\n",
    "print \"  Composition    x[s]   y[s]\"\n",
    "for s in species:\n",
    "    print \"    {:10s} {:6.3f} {:6.3f}\".format(s,x[s],y[s])\n"
   ]
  },
  {
   "cell_type": "code",
   "execution_count": null,
   "metadata": {
    "collapsed": false
   },
   "outputs": [],
   "source": []
  }
 ],
 "metadata": {
  "kernelspec": {
   "display_name": "Python 2",
   "language": "python",
   "name": "python2"
  },
  "language_info": {
   "codemirror_mode": {
    "name": "ipython",
    "version": 2
   },
   "file_extension": ".py",
   "mimetype": "text/x-python",
   "name": "python",
   "nbconvert_exporter": "python",
   "pygments_lexer": "ipython2",
   "version": "2.7.9"
  }
 },
 "nbformat": 4,
 "nbformat_minor": 0
}
