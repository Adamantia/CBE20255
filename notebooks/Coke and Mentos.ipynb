{
 "metadata": {
  "name": ""
 },
 "nbformat": 3,
 "nbformat_minor": 0,
 "worksheets": [
  {
   "cells": [
    {
     "cell_type": "markdown",
     "metadata": {},
     "source": [
      "<iframe id=\"dit-video-embed\" width=\"640\" height=\"360\" src=\"http://snagplayer.video.dp.discovery.com/614463/snag-it-player.htm?auto=no\" frameborder=\"0\" scrolling=\"no\" allowtransparency=\"true\"></iframe>"
     ]
    },
    {
     "cell_type": "code",
     "collapsed": false,
     "input": [
      "# physical properties\n",
      "mw_h20 = 18.02\n",
      "mw_co2 = 44.01\n",
      "rho_h20 = 1000\n",
      "Pa = 101325.0\n",
      "\n",
      "# initial conditions\n",
      "Pi = 3*P_a\n",
      "V = 2.0/1000\n",
      "\n",
      "# Henry's law constant atm/mol_fraction\n",
      "T = 20.0\n",
      "H = 1420.\n",
      "\n",
      "# mole fraction CO2\n",
      "x_co2 = (Pi/Pa)/H\n",
      "\n",
      "# kg-mol \n",
      "n_h20 = V*rho_h20/mw_h20\n",
      "n_co2 = n_h20*x_co2/(1-x)"
     ],
     "language": "python",
     "metadata": {},
     "outputs": [],
     "prompt_number": 70
    },
    {
     "cell_type": "markdown",
     "metadata": {},
     "source": [
      "We'll assume the soda is made of up water and carbon dioxide, and the carbon dioxide is sufficiently dilute that the moles of water can be computed as\n",
      "$$n_{H_2O} = \\frac{V_{liq}}{\\rho_{H_2O}MW_{H_2O}}$$\n",
      "\n",
      "$$P = \\frac{H n_{CO_2}}{n_{H_2O} + n_{CO_2}}$$"
     ]
    },
    {
     "cell_type": "code",
     "collapsed": false,
     "input": [
      "from sympy import *\n",
      "\n",
      "var('Vliq')\n",
      "var('Vvap')\n",
      "var('n_co2_vap')\n",
      "var('n_co2_liq')\n",
      "var('f')\n",
      "var('P')\n",
      "R = 8.314\n",
      "\n",
      "eqn = []\n",
      "\n",
      "eqn.append(Eq(Vliq,f*n_h20*mw_h20/rho_h20))\n",
      "eqn.append(Eq(V, Vliq + Vvap))\n",
      "eqn.append(Eq(P, n_co2_vap*R*(T+273.15)/Vvap))\n",
      "eqn.append(Eq(P, H*n_co2_liq/(f*n_h20)))\n",
      "eqn.append(Eq(f*n_co2,n_co2_liq + n_co2_vap))\n",
      "           \n",
      "simplify(solve(eqn))"
     ],
     "language": "python",
     "metadata": {},
     "outputs": [
      {
       "metadata": {},
       "output_type": "pyout",
       "prompt_number": 79,
       "text": [
        "[{f: -200547.136848592*n_co2_vap - 1.33051643192488e-19*sqrt(2.271916926533e+48*n_co2_vap**2 - 1.15689923143084e+43*n_co2_vap + 1.4122107845603e+37) + 0.5,\n",
        "  Vliq: -401.094273697183*n_co2_vap - 2.66103286384977e-22*sqrt(2.271916926533e+48*n_co2_vap**2 - 1.15689923143084e+43*n_co2_vap + 1.4122107845603e+37) + 0.001,\n",
        "  P: 602915.175*n_co2_vap - 4.0e-19*sqrt(2.271916926533e+48*n_co2_vap**2 - 1.15689923143084e+43*n_co2_vap + 1.4122107845603e+37) + 1.50317572335921,\n",
        "  Vvap: 401.094273697183*n_co2_vap + 2.66103286384977e-22*sqrt(2.271916926533e+48*n_co2_vap**2 - 1.15689923143084e+43*n_co2_vap + 1.4122107845603e+37) + 0.001,\n",
        "  n_co2_liq: -48.124101155211*n_co2_vap - 3.12641665754795e-23*sqrt(2.271916926533e+48*n_co2_vap**2 - 1.15689923143084e+43*n_co2_vap + 1.4122107845603e+37) + 0.000117488840518298},\n",
        " {f: -200547.136848592*n_co2_vap + 1.33051643192488e-19*sqrt(2.271916926533e+48*n_co2_vap**2 - 1.15689923143084e+43*n_co2_vap + 1.4122107845603e+37) + 0.5,\n",
        "  Vliq: -401.094273697183*n_co2_vap + 2.66103286384977e-22*sqrt(2.271916926533e+48*n_co2_vap**2 - 1.15689923143084e+43*n_co2_vap + 1.4122107845603e+37) + 0.001,\n",
        "  P: 602915.175*n_co2_vap + 4.0e-19*sqrt(2.271916926533e+48*n_co2_vap**2 - 1.15689923143084e+43*n_co2_vap + 1.4122107845603e+37) + 1.50317572335921,\n",
        "  Vvap: 401.094273697183*n_co2_vap - 2.66103286384977e-22*sqrt(2.271916926533e+48*n_co2_vap**2 - 1.15689923143084e+43*n_co2_vap + 1.4122107845603e+37) + 0.001,\n",
        "  n_co2_liq: -48.124101155211*n_co2_vap + 3.12641665754795e-23*sqrt(2.271916926533e+48*n_co2_vap**2 - 1.15689923143084e+43*n_co2_vap + 1.4122107845603e+37) + 0.000117488840518298}]"
       ]
      }
     ],
     "prompt_number": 79
    },
    {
     "cell_type": "code",
     "collapsed": false,
     "input": [
      "# let f be fraction of solution ejected\n",
      "f = 0.4\n",
      "n_h20 = f*n_h20_i\n",
      "n_co2 = f*n_co2_i\n",
      "\n",
      "V_liq = n_h20*mw_h20/rho_h20\n",
      "\n",
      "n_co2 = n_co2_liq + n_co2_vap\n",
      "P = n_co2_vap*R*(T+273.15)/(V-V_liq)\n",
      "H*n_co2_liq/("
     ],
     "language": "python",
     "metadata": {},
     "outputs": []
    },
    {
     "cell_type": "code",
     "collapsed": false,
     "input": [
      "V"
     ],
     "language": "python",
     "metadata": {},
     "outputs": [
      {
       "metadata": {},
       "output_type": "pyout",
       "prompt_number": 50,
       "text": [
        "0.002"
       ]
      }
     ],
     "prompt_number": 50
    },
    {
     "cell_type": "code",
     "collapsed": false,
     "input": [],
     "language": "python",
     "metadata": {},
     "outputs": [],
     "prompt_number": 35
    },
    {
     "cell_type": "code",
     "collapsed": false,
     "input": [],
     "language": "python",
     "metadata": {},
     "outputs": []
    }
   ],
   "metadata": {}
  }
 ]
}