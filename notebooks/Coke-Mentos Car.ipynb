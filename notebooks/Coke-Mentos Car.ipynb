{
 "metadata": {
  "name": ""
 },
 "nbformat": 3,
 "nbformat_minor": 0,
 "worksheets": [
  {
   "cells": [
    {
     "cell_type": "heading",
     "level": 1,
     "metadata": {},
     "source": [
      "Coke-Mentos Car"
     ]
    },
    {
     "cell_type": "markdown",
     "metadata": {},
     "source": [
      "This [IPython notebook](http://ipython.org/notebook.html) demonstrates the use of mass, momentum, and energy balances to analysis the performance of a toy car driven by the well-known Coke-Mentos phenomenon.\n",
      "\n",
      "J.C. Kantor (Kantor.1@nd.edu)\n",
      "\n",
      "The latest version of this IPython notebook is available at [http://github.com/jckantor/CBE20255](http://github.com/jckantor/CBE20255)  for noncommercial use under terms of the [Creative Commons Attribution Noncommericial ShareAlike License](http://creativecommons.org/licenses/by-nc-sa/4.0/)."
     ]
    },
    {
     "cell_type": "heading",
     "level": 2,
     "metadata": {},
     "source": [
      "Background"
     ]
    },
    {
     "cell_type": "markdown",
     "metadata": {},
     "source": [
      "<iframe width=\"560\" height=\"315\" src=\"//www.youtube-nocookie.com/embed/g9DVuMtbsvo?rel=0\" frameborder=\"0\" allowfullscreen></iframe>"
     ]
    },
    {
     "cell_type": "heading",
     "level": 2,
     "metadata": {},
     "source": [
      "Model 1: Constant pressure driving a liquid jet"
     ]
    },
    {
     "cell_type": "markdown",
     "metadata": {},
     "source": [
      "In this first model we will assume that Mentos provides enough nucleation sites for the dissolved CO<sub>2</sub> to release from solution, and that there is enough dissolved CO<sub>2</sub> to maintain constant pressure. We'll further assume the liquid escapes without any foaming (clearly a bad assumption, but it will get us started on the modeling problem)."
     ]
    },
    {
     "cell_type": "markdown",
     "metadata": {},
     "source": [
      "<img src = \"https://raw.githubusercontent.com/jckantor/CBE20255/master/notebooks/images/coke-mentos-car.png\" style = \"height:200px\" />"
     ]
    },
    {
     "cell_type": "heading",
     "level": 3,
     "metadata": {},
     "source": [
      "Mass, Momentum, and Energy Balances"
     ]
    },
    {
     "cell_type": "markdown",
     "metadata": {},
     "source": [
      "We'll make two major assumptions. The first is that Mentos will cause the dissolved CO<sub>2</sub> to nucleate and release so quickly that the empty volume of the liquid tank is at vapor/liquid equilibrium with the liquid.  The second assumption is that there is a sufficient excess of dissolved CO<sub>2</sub> that the pressure is constant.  Both of these assumptions are pretty bold."
     ]
    },
    {
     "cell_type": "heading",
     "level": 4,
     "metadata": {},
     "source": [
      "Mass Balance"
     ]
    },
    {
     "cell_type": "markdown",
     "metadata": {},
     "source": [
      "$$\\frac{dm_w}{dt} = -\\rho_w v_{w} A_w $$"
     ]
    },
    {
     "cell_type": "heading",
     "level": 4,
     "metadata": {},
     "source": [
      "Momentum Balance"
     ]
    },
    {
     "cell_type": "markdown",
     "metadata": {},
     "source": [
      "$$ (m_b + m_w)\\frac{d v_b}{dt} = \\rho_w v_{w}^2A_w  -F_{Drag} $$"
     ]
    },
    {
     "cell_type": "heading",
     "level": 4,
     "metadata": {},
     "source": [
      "[Bernoulli's principle](http://en.wikipedia.org/wiki/Bernoulli's_principle) applied to the incompressible flow of the liquid."
     ]
    },
    {
     "cell_type": "markdown",
     "metadata": {},
     "source": [
      "$$ \\frac{P_b}{\\rho_w} = \\frac{P_{atm}}{\\rho_w} + \\frac{v_w^2}{2} $$"
     ]
    },
    {
     "cell_type": "heading",
     "level": 4,
     "metadata": {},
     "source": [
      "Drag"
     ]
    },
    {
     "cell_type": "markdown",
     "metadata": {},
     "source": [
      "$$F_{Drag} = \\mu v_b \\left(m_b + m_w\\right)$$"
     ]
    },
    {
     "cell_type": "heading",
     "level": 3,
     "metadata": {},
     "source": [
      "Sample Calculations"
     ]
    },
    {
     "cell_type": "markdown",
     "metadata": {},
     "source": [
      "Parameter values (SI units)"
     ]
    },
    {
     "cell_type": "code",
     "collapsed": false,
     "input": [
      "Patm = 101325.0             # Atmospheric pressure in N/m**2 \n",
      "Pb = 3*Patm                 # Pressure inside the bottle in N/m**2\n",
      "\n",
      "mb = 1.0                    # The non-liquid mass of the car kg\n",
      "mw = 2.0                    # Starting liquid mass kg\n",
      "mu = 1.0/10.0               # Friction parameter 1/s\n",
      "\n",
      "Aw = 3.1415926 * 0.0105**2  # Cross-sectional area of the nozzle m**2\n",
      "rho = 1000                  # Liquid density in kg/m**3"
     ],
     "language": "python",
     "metadata": {},
     "outputs": [],
     "prompt_number": 13
    },
    {
     "cell_type": "markdown",
     "metadata": {},
     "source": [
      "Solve the energy balance to get the nozzle velocity"
     ]
    },
    {
     "cell_type": "code",
     "collapsed": false,
     "input": [
      "Vw = sqrt(2*(Pb-Patm)/rho)\n",
      "print \"Nozzle velocity = {:.2f} [m/s]\".format(Vw)"
     ],
     "language": "python",
     "metadata": {},
     "outputs": [
      {
       "output_type": "stream",
       "stream": "stdout",
       "text": [
        "Nozzle velocity = 20.13 [m/s]\n"
       ]
      }
     ],
     "prompt_number": 14
    },
    {
     "cell_type": "markdown",
     "metadata": {},
     "source": [
      "Compute how long to empty the liquid reservoir"
     ]
    },
    {
     "cell_type": "code",
     "collapsed": false,
     "input": [
      "tf = mw/(Aw*Vw*rho)\n",
      "print \"Time to empty = {:.2f} seconds\".format(tf)"
     ],
     "language": "python",
     "metadata": {},
     "outputs": [
      {
       "output_type": "stream",
       "stream": "stdout",
       "text": [
        "Time to empty = 0.29 seconds\n"
       ]
      }
     ],
     "prompt_number": 15
    },
    {
     "cell_type": "markdown",
     "metadata": {},
     "source": [
      "Integrate the differential equations for "
     ]
    },
    {
     "cell_type": "code",
     "collapsed": false,
     "input": [
      "from scipy.integrate import odeint\n",
      "\n",
      "def dV(V,t):\n",
      "    m = mb + mw*(tf-t)/tf\n",
      "    if t < tf:\n",
      "        return rho*Vw*Vw*Aw/m - mu*V\n",
      "    else:\n",
      "        return -mu*V\n",
      "\n",
      "t = linspace(0,3*tf,1000)\n",
      "vb = odeint(dV,0,t)\n",
      "\n",
      "plot(t,vb)\n",
      "xlabel('Time [s]')\n",
      "ylabel('Velocity [m/s]');"
     ],
     "language": "python",
     "metadata": {},
     "outputs": [
      {
       "metadata": {},
       "output_type": "display_data",
       "png": "[encoded data removed]",
       "text": [
        "<matplotlib.figure.Figure at 0x108e46190>"
       ]
      }
     ],
     "prompt_number": 18
    },
    {
     "cell_type": "heading",
     "level": 2,
     "metadata": {},
     "source": [
      "Model 2: Foam jet"
     ]
    },
    {
     "cell_type": "markdown",
     "metadata": {},
     "source": [
      "A more realistic model would account for the generation and ejection of foam though the nozzle.  The composition of the mixture will remain constant, but the pressure and density of the foam decrease as the foam is depleted from the reservoir. In principle we could solve do a material balance under the assumption of vapor-liquid equilibrium. But to keep things simple, we'll take a short-cut and assume a particular form for the relatonship."
     ]
    },
    {
     "cell_type": "code",
     "collapsed": false,
     "input": [
      "P_atm = 101325.0             # Atmospheric pressure   N/m**2\n",
      "P_initial = 3*P_atm        # Initial pressure in the bottle\n",
      "rho_initial = 1000           # Initial foam density kg/m**3\n",
      "rho_final = 200              # Foam density at atmospheric pressure, determine expt'l.  kg/m**3\n",
      "\n",
      "def Pb(rho):\n",
      "    return rho*P_initial/rho_initial\n",
      "\n",
      "rho = linspace(0,1000)        # kg/m**3\n",
      "plot(rho,array(map(Pb,rho))/1000.0)\n",
      "axis([0,1000,0,3*101.325])\n",
      "ylabel('Pressure [kPa]')\n",
      "xlabel('rho [kg/m**3]')\n",
      "title('Foam Pressure versus Density')"
     ],
     "language": "python",
     "metadata": {},
     "outputs": [
      {
       "metadata": {},
       "output_type": "pyout",
       "prompt_number": 60,
       "text": [
        "<matplotlib.text.Text at 0x10af8b490>"
       ]
      },
      {
       "metadata": {},
       "output_type": "display_data",
       "png": "[encoded data removed]",
       "text": [
        "<matplotlib.figure.Figure at 0x109659690>"
       ]
      }
     ],
     "prompt_number": 60
    },
    {
     "cell_type": "markdown",
     "metadata": {},
     "source": [
      "Mass balance where $b$ refers to conditions in the bottle, and $a$ to conditions at the nozzle exit."
     ]
    },
    {
     "cell_type": "markdown",
     "metadata": {},
     "source": [
      "$$V_b\\frac{d\\rho_b}{dt} = -\\rho_a v_{a} A $$"
     ]
    },
    {
     "cell_type": "markdown",
     "metadata": {},
     "source": [
      "Momentum balance where $c$ refers to the car exclusive of the fluid contents of the bottle."
     ]
    },
    {
     "cell_type": "markdown",
     "metadata": {},
     "source": [
      "$$ (m_c + m_b)\\frac{d v_c}{dt} = \\rho_a v_{a}^2A $$"
     ]
    },
    {
     "cell_type": "markdown",
     "metadata": {},
     "source": [
      "For a compressible flow, [Bernoulli's principle](http://en.wikipedia.org/wiki/Bernoulli's_principle#Compressible_flow_in_fluid_dynamics) gives us"
     ]
    },
    {
     "cell_type": "markdown",
     "metadata": {},
     "source": [
      "$$\\frac{v_a^2}{2} + \\int_{P_b}^{P_a} \\frac{dP}{\\rho(P)} = \\mbox{constant}$$"
     ]
    },
    {
     "cell_type": "markdown",
     "metadata": {},
     "source": [
      "on any streamline. Assuming that the volume of CO<sub>2</sub> far exceeds the water, then to a rough \n",
      "approximation $\\rho(P) = \\rho_{water}\\frac{P}{P_{initial}}$. This leaves us with an equation"
     ]
    },
    {
     "cell_type": "markdown",
     "metadata": {},
     "source": [
      "$$\\frac{v_a^2}{2} = \\frac{P_{initial}}{\\rho_{water}} \\ln \\frac{P_b}{P_a}$$"
     ]
    },
    {
     "cell_type": "heading",
     "level": 3,
     "metadata": {},
     "source": [
      "Sample Calculations"
     ]
    },
    {
     "cell_type": "code",
     "collapsed": false,
     "input": [
      "from scipy.integrate import odeint\n",
      "\n",
      "A_nozzle = 3.14*(0.0105)**2            # m**2\n",
      "vol_b = 2.0/1000                       # m**3\n",
      "m_car = 2.0                            # kg\n",
      "\n",
      "def dX(X,t):\n",
      "    rho, vel, pos = X\n",
      "    m_b = rho*vol_b\n",
      "    Pb = P_initial*rho/rho_initial\n",
      "    if Pb > P_atm:\n",
      "        vel_a = sqrt(2*(P_initial/rho_initial)*log(Pb/P_atm))\n",
      "    else:\n",
      "        vel_a = 0.0\n",
      "    deriv_rho = -rho_final*A_nozzle*vel_a/vol_b\n",
      "    deriv_vel = rho_final*vel_a*vel_a*A_nozzle/(m_car + vol_b*rho)\n",
      "    deriv_pos = vel\n",
      "    return [deriv_rho,deriv_vel,deriv_pos]\n",
      "    \n",
      "from scipy.integrate import odeint\n",
      "\n",
      "t = linspace(0,3,1000)\n",
      "vb = odeint(dX,[1000.0,0.0,0.0],t)\n",
      "\n",
      "subplot(2,1,1)\n",
      "plot(t,vb.T[0])\n",
      "xlabel('Time [s]')\n",
      "ylabel('rho [kg/m**3]');\n",
      "legend(['Density [kg/m**3]'])\n",
      "\n",
      "subplot(2,1,2)\n",
      "plot(t,vb.T[1])\n",
      "plot(t,vb.T[2])\n",
      "legend(['Velocity [m/s]','Position [m]'])\n"
     ],
     "language": "python",
     "metadata": {},
     "outputs": [
      {
       "metadata": {},
       "output_type": "pyout",
       "prompt_number": 59,
       "text": [
        "<matplotlib.legend.Legend at 0x109578850>"
       ]
      },
      {
       "metadata": {},
       "output_type": "display_data",
       "png": "[encoded data removed]",
       "text": [
        "<matplotlib.figure.Figure at 0x109d24a50>"
       ]
      }
     ],
     "prompt_number": 59
    },
    {
     "cell_type": "code",
     "collapsed": false,
     "input": [],
     "language": "python",
     "metadata": {},
     "outputs": []
    }
   ],
   "metadata": {}
  }
 ]
}