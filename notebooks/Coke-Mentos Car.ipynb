{
 "metadata": {
  "name": ""
 },
 "nbformat": 3,
 "nbformat_minor": 0,
 "worksheets": [
  {
   "cells": [
    {
     "cell_type": "heading",
     "level": 1,
     "metadata": {},
     "source": [
      "Coke-Mentos Car"
     ]
    },
    {
     "cell_type": "markdown",
     "metadata": {},
     "source": [
      "This [IPython notebook](http://ipython.org/notebook.html) demonstrates the use of mass, momentum, and energy balances to analysis the performance of a toy car driven by the well-known Coke-Mentos phenomenon.\n",
      "\n",
      "J.C. Kantor (Kantor.1@nd.edu)\n",
      "\n",
      "The latest version of this IPython notebook is available at [http://github.com/jckantor/CBE20255](http://github.com/jckantor/CBE20255)  for noncommercial use under terms of the [Creative Commons Attribution Noncommericial ShareAlike License](http://creativecommons.org/licenses/by-nc-sa/4.0/)."
     ]
    },
    {
     "cell_type": "heading",
     "level": 2,
     "metadata": {},
     "source": [
      "Background"
     ]
    },
    {
     "cell_type": "markdown",
     "metadata": {},
     "source": [
      "<iframe width=\"560\" height=\"315\" src=\"//www.youtube-nocookie.com/embed/g9DVuMtbsvo?rel=0\" frameborder=\"0\" allowfullscreen></iframe>"
     ]
    },
    {
     "cell_type": "heading",
     "level": 2,
     "metadata": {},
     "source": [
      "A Toy Car"
     ]
    },
    {
     "cell_type": "markdown",
     "metadata": {},
     "source": [
      "<img src = \"https://raw.githubusercontent.com/jckantor/CBE20255/master/notebooks/images/coke-mentos-car.png\" style = \"height:200px\" />"
     ]
    },
    {
     "cell_type": "heading",
     "level": 2,
     "metadata": {},
     "source": [
      "Model 1: Assume Constant Pressure"
     ]
    },
    {
     "cell_type": "heading",
     "level": 3,
     "metadata": {},
     "source": [
      "Mass, Momentum, and Energy Balances"
     ]
    },
    {
     "cell_type": "markdown",
     "metadata": {},
     "source": [
      "We'll make two major assumptions. The first is that Mentos will cause the dissolved CO<sub>2</sub> to nucleate and release so quickly that the empty volume of the liquid tank is at vapor/liquid equilibrium with the liquid.  The second assumption is that there is a sufficient excess of dissolved CO<sub>2</sub> that the pressure is constant.  Both of these assumptions are pretty bold."
     ]
    },
    {
     "cell_type": "heading",
     "level": 4,
     "metadata": {},
     "source": [
      "Mass Balance"
     ]
    },
    {
     "cell_type": "markdown",
     "metadata": {},
     "source": [
      "$$\\frac{dm_w}{dt} = -\\rho_w v_{w} A_w $$"
     ]
    },
    {
     "cell_type": "heading",
     "level": 4,
     "metadata": {},
     "source": [
      "Momentum Balance"
     ]
    },
    {
     "cell_type": "markdown",
     "metadata": {},
     "source": [
      "$$ (m_b + m_w)\\frac{d v_b}{dt} = \\rho_w v_{w}^2A_w  -F_{Drag} $$"
     ]
    },
    {
     "cell_type": "heading",
     "level": 4,
     "metadata": {},
     "source": [
      "Nozzle Velocity"
     ]
    },
    {
     "cell_type": "markdown",
     "metadata": {},
     "source": [
      "$$ \\frac{P_b}{\\rho_w} = \\frac{P_{atm}}{\\rho_w} + \\frac{v_w^2}{2} $$"
     ]
    },
    {
     "cell_type": "heading",
     "level": 4,
     "metadata": {},
     "source": [
      "Drag"
     ]
    },
    {
     "cell_type": "markdown",
     "metadata": {},
     "source": [
      "$$F_{Drag} = \\mu v_b \\left(m_b + m_w\\right)$$"
     ]
    },
    {
     "cell_type": "heading",
     "level": 3,
     "metadata": {},
     "source": [
      "Calculations"
     ]
    },
    {
     "cell_type": "markdown",
     "metadata": {},
     "source": [
      "Parameter values (SI units)"
     ]
    },
    {
     "cell_type": "code",
     "collapsed": false,
     "input": [
      "Patm = 101325.0             # N/m**2\n",
      "Pb = 3*Patm                 # N/m**2\n",
      "\n",
      "mb = 1.0                    # kg\n",
      "mw = 2.0                    # kg\n",
      "mu = 1.0/10.0               # 1/s\n",
      "\n",
      "Aw = 3.1415926 * 0.005**2   # m**2\n",
      "rho = 1000                  # kg/m**2"
     ],
     "language": "python",
     "metadata": {},
     "outputs": [],
     "prompt_number": 8
    },
    {
     "cell_type": "markdown",
     "metadata": {},
     "source": [
      "Nozzle velocity"
     ]
    },
    {
     "cell_type": "code",
     "collapsed": false,
     "input": [
      "Vw = sqrt(2*(Pb-Patm)/rho)\n",
      "print \"Nozzle velocity = {:.2f} [m/s]\".format(Vw)"
     ],
     "language": "python",
     "metadata": {},
     "outputs": [
      {
       "output_type": "stream",
       "stream": "stdout",
       "text": [
        "Nozzle velocity = 20.13 [m/s]\n"
       ]
      }
     ],
     "prompt_number": 9
    },
    {
     "cell_type": "markdown",
     "metadata": {},
     "source": [
      "Time to empty the liquid reservoir"
     ]
    },
    {
     "cell_type": "code",
     "collapsed": false,
     "input": [
      "tf = mw/(Aw*Vw*rho)\n",
      "print \"Time to empty = {:.2f} seconds\".format(tf)"
     ],
     "language": "python",
     "metadata": {},
     "outputs": [
      {
       "output_type": "stream",
       "stream": "stdout",
       "text": [
        "Time to empty = 1.26 seconds\n"
       ]
      }
     ],
     "prompt_number": 13
    },
    {
     "cell_type": "markdown",
     "metadata": {},
     "source": [
      "Integrate differential equation"
     ]
    },
    {
     "cell_type": "code",
     "collapsed": false,
     "input": [
      "\n",
      "from scipy.integrate import odeint\n",
      "\n",
      "def dV(V,t):\n",
      "    m = mb + mw*(Tempty-t)/tf\n",
      "    if t < tf:\n",
      "        return rho*Vw*Vw*Aw/m - mu*V\n",
      "    else:\n",
      "        return -mu*V\n",
      "\n",
      "t = linspace(0,3*tf,1000)\n",
      "vb = odeint(dV,0,t)\n",
      "\n",
      "plot(t,vb)\n",
      "xlabel('Time [s]')\n",
      "ylabel('Velocity [m/s]');"
     ],
     "language": "python",
     "metadata": {},
     "outputs": [
      {
       "metadata": {},
       "output_type": "display_data",
       "png": "[encoded data removed]",
       "text": [
        "<matplotlib.figure.Figure at 0x1082b8310>"
       ]
      }
     ],
     "prompt_number": 14
    },
    {
     "cell_type": "heading",
     "level": 2,
     "metadata": {},
     "source": [
      "Model 2: Foam"
     ]
    },
    {
     "cell_type": "markdown",
     "metadata": {},
     "source": [
      "A more realistic model would account for the generation and ejection of foam though the nozzle.  The composition of the mixture would remain constant, but the pressure and density of the foam would decrease as foam is depleted from the reservoir."
     ]
    },
    {
     "cell_type": "code",
     "collapsed": false,
     "input": [],
     "language": "python",
     "metadata": {},
     "outputs": []
    }
   ],
   "metadata": {}
  }
 ]
}