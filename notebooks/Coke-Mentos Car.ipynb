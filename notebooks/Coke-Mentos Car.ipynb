{
 "cells": [
  {
   "cell_type": "markdown",
   "metadata": {},
   "source": [
    "###### The latest version of this IPython notebook is available at [http://github.com/jckantor/CBE20255](http://github.com/jckantor/CBE20255)  for noncommercial use under terms of the [Creative Commons Attribution Noncommericial ShareAlike License](http://creativecommons.org/licenses/by-nc-sa/4.0/).\n",
    "\n",
    "J.C. Kantor (Kantor.1@nd.edu)"
   ]
  },
  {
   "cell_type": "markdown",
   "metadata": {},
   "source": [
    "# Coke-Mentos Car"
   ]
  },
  {
   "cell_type": "markdown",
   "metadata": {},
   "source": [
    "This [IPython notebook](http://ipython.org/notebook.html) demonstrates the use of mass, momentum, and energy balances to analysis the performance of a toy car driven by the well-known Coke-Mentos phenomenon."
   ]
  },
  {
   "cell_type": "code",
   "execution_count": 2,
   "metadata": {
    "collapsed": false
   },
   "outputs": [],
   "source": [
    "%matplotlib inline\n",
    "from pylab import *"
   ]
  },
  {
   "cell_type": "markdown",
   "metadata": {},
   "source": [
    "## Background"
   ]
  },
  {
   "cell_type": "code",
   "execution_count": 3,
   "metadata": {
    "collapsed": false
   },
   "outputs": [
    {
     "data": {
      "text/html": [
       "\n",
       "        <iframe\n",
       "            width=\"560\"\n",
       "            height=\"315\"\n",
       "            src=\"https://www.youtube.com/embed/g9DVuMtbsvo?rel=0\"\n",
       "            frameborder=\"0\"\n",
       "            allowfullscreen\n",
       "        ></iframe>\n",
       "        "
      ],
      "text/plain": [
       "<IPython.lib.display.YouTubeVideo at 0x107a5c990>"
      ]
     },
     "execution_count": 3,
     "metadata": {},
     "output_type": "execute_result"
    }
   ],
   "source": [
    "from IPython.display import YouTubeVideo\n",
    "YouTubeVideo(\"g9DVuMtbsvo\",560,315,rel=0)"
   ]
  },
  {
   "cell_type": "markdown",
   "metadata": {},
   "source": [
    "## Model: Foam jet"
   ]
  },
  {
   "cell_type": "markdown",
   "metadata": {},
   "source": [
    "We assume that Mentos provides enough nucleation sites for the dissolved CO<sub>2</sub> to release from solution to produce a foam that is ejected from the nozzle as a jet.\n",
    "The composition of the mixture will remain constant, but the pressure and density of the foam decrease as the foam is depleted from the reservoir. In principle we could solve do a material balance under the assumption of vapor-liquid equilibrium. But to keep things simple, we'll take a short-cut and assume a particular form for the relatonship."
   ]
  },
  {
   "cell_type": "markdown",
   "metadata": {},
   "source": [
    "<img src = \"https://raw.github.com/jckantor/CBE20255/master/images/coke-mentos-car.png\" style = \"height:200px\" />"
   ]
  },
  {
   "cell_type": "code",
   "execution_count": 4,
   "metadata": {
    "collapsed": false
   },
   "outputs": [
    {
     "data": {
      "text/plain": [
       "<matplotlib.text.Text at 0x107b60f90>"
      ]
     },
     "execution_count": 4,
     "metadata": {},
     "output_type": "execute_result"
    },
    {
     "data": {
      "image/png": "[encoded data removed]",
      "text/plain": [
       "<matplotlib.figure.Figure at 0x1062687d0>"
      ]
     },
     "metadata": {},
     "output_type": "display_data"
    }
   ],
   "source": [
    "P_atm = 101325.0             # Atmospheric pressure   N/m**2\n",
    "P_initial = 3*P_atm          # Initial pressure in the bottle\n",
    "rho_initial = 1000           # Initial foam density kg/m**3\n",
    "rho_final = 200              # Foam density at atmospheric pressure, determine expt'l.  kg/m**3\n",
    "\n",
    "def Pb(rho):\n",
    "    return rho*P_initial/rho_initial\n",
    "\n",
    "rho = linspace(0,1000)        # kg/m**3\n",
    "\n",
    "rcParams['figure.figsize'] = 6,3\n",
    "\n",
    "plot(rho,array(map(Pb,rho))/1000.0)\n",
    "axis([0,1000,0,3*101.325])\n",
    "ylabel('Pressure [kPa]')\n",
    "xlabel('rho [kg/m**3]')\n",
    "title('Foam Pressure versus Density')"
   ]
  },
  {
   "cell_type": "markdown",
   "metadata": {},
   "source": [
    "### Mass, Momentum, and Energy Balances"
   ]
  },
  {
   "cell_type": "markdown",
   "metadata": {},
   "source": [
    "#### Mass Balance"
   ]
  },
  {
   "cell_type": "markdown",
   "metadata": {},
   "source": [
    "Mass balance where $b$ refers to conditions in the bottle, and $a$ to conditions at the nozzle exit."
   ]
  },
  {
   "cell_type": "markdown",
   "metadata": {},
   "source": [
    "$$V_b\\frac{d\\rho_b}{dt} = -\\rho_a v_{a} A $$"
   ]
  },
  {
   "cell_type": "markdown",
   "metadata": {},
   "source": [
    "#### Momentum Balance"
   ]
  },
  {
   "cell_type": "markdown",
   "metadata": {},
   "source": [
    "Momentum balance where $m_c$ refers to the mass of the car not including the fluid contents of the bottle."
   ]
  },
  {
   "cell_type": "markdown",
   "metadata": {},
   "source": [
    "$$ (m_c + m_b)\\frac{d v_c}{dt} = \\rho_a v_{a}^2A $$"
   ]
  },
  {
   "cell_type": "markdown",
   "metadata": {},
   "source": [
    "#### [Bernoulli's principle](http://en.wikipedia.org/wiki/Bernoulli's_principle) applied to the incompressible flow of the liquid."
   ]
  },
  {
   "cell_type": "markdown",
   "metadata": {},
   "source": [
    "For a [compressible flow](http://en.wikipedia.org/wiki/Bernoulli's_principle#Compressible_flow_in_fluid_dynamics), Bernoulli's principle gives us"
   ]
  },
  {
   "cell_type": "markdown",
   "metadata": {},
   "source": [
    "$$\\frac{v_a^2}{2} + \\int_{P_b}^{P_a} \\frac{dP}{\\rho(P)} = \\mbox{constant}$$"
   ]
  },
  {
   "cell_type": "markdown",
   "metadata": {},
   "source": [
    "on any streamline. Assuming that the volume of CO<sub>2</sub> far exceeds the water, then to a rough \n",
    "approximation $\\rho(P) = \\rho_{water}\\frac{P}{P_{initial}}$. This leaves us with an equation"
   ]
  },
  {
   "cell_type": "markdown",
   "metadata": {},
   "source": [
    "$$\\frac{v_a^2}{2} = \\frac{P_{initial}}{\\rho_{water}} \\ln \\frac{P_b}{P_a}$$"
   ]
  },
  {
   "cell_type": "markdown",
   "metadata": {},
   "source": [
    "### Sample Calculations"
   ]
  },
  {
   "cell_type": "code",
   "execution_count": 5,
   "metadata": {
    "collapsed": false
   },
   "outputs": [
    {
     "data": {
      "text/plain": [
       "<matplotlib.legend.Legend at 0x1086d8c50>"
      ]
     },
     "execution_count": 5,
     "metadata": {},
     "output_type": "execute_result"
    },
    {
     "data": {
      "image/png": "[encoded data removed]",
      "text/plain": [
       "<matplotlib.figure.Figure at 0x10805dd90>"
      ]
     },
     "metadata": {},
     "output_type": "display_data"
    }
   ],
   "source": [
    "from scipy.integrate import odeint\n",
    "\n",
    "A_nozzle = 3.14*(0.0105)**2            # m**2\n",
    "vol_b = 2.0/1000                       # m**3\n",
    "m_car = 2.0                            # kg\n",
    "\n",
    "def dX(X,t):\n",
    "    rho, vel, pos = X\n",
    "    m_b = rho*vol_b\n",
    "    Pb = P_initial*rho/rho_initial\n",
    "    if Pb > P_atm:\n",
    "        vel_a = sqrt(2*(P_initial/rho_initial)*log(Pb/P_atm))\n",
    "    else:\n",
    "        vel_a = 0.0\n",
    "    deriv_rho = -rho_final*A_nozzle*vel_a/vol_b\n",
    "    deriv_vel = rho_final*vel_a*vel_a*A_nozzle/(m_car + vol_b*rho)\n",
    "    deriv_pos = vel\n",
    "    return [deriv_rho,deriv_vel,deriv_pos]\n",
    "\n",
    "t = linspace(0,2.0,1000)\n",
    "soln = odeint(dX,[1000.0,0.0,0.0],t)\n",
    "\n",
    "rho = soln.T[0]\n",
    "vel = soln.T[1]\n",
    "pos = soln.T[2]\n",
    "mass = m_car + vol_b*rho\n",
    "Pb = rho*P_initial/rho_initial\n",
    "va = sqrt(amax(zip(zeros(len(Pb)),2*(P_initial/rho_initial)*log(Pb/P_atm)), axis=1))\n",
    "\n",
    "rcParams['figure.figsize'] = 8,12\n",
    "\n",
    "subplot(4,1,1)\n",
    "plot(t,rho)\n",
    "xlabel('Time [s]')\n",
    "legend(['Density [kg/m**3]'])\n",
    "axis([0,t[-1],0,1000])\n",
    "\n",
    "subplot(4,1,2)\n",
    "plot(t,vel)\n",
    "plot(t,pos)\n",
    "xlabel('Time [s]')\n",
    "legend(['Velocity [m/s]','Position [m]'],loc = 'upper left')\n",
    "\n",
    "subplot(4,1,3)\n",
    "plot(t,mass)\n",
    "xlabel('Time [sec]')\n",
    "legend(['Mass [kg]'])\n",
    "axis([0,t[-1],0,mass[0]])\n",
    "\n",
    "subplot(4,1,4)\n",
    "plot(t,va)\n",
    "xlabel('Time [sec]')\n",
    "legend(['Nozzle Velocity [m/s]'])\n",
    "\n"
   ]
  },
  {
   "cell_type": "code",
   "execution_count": null,
   "metadata": {
    "collapsed": false
   },
   "outputs": [],
   "source": []
  }
 ],
 "metadata": {
  "kernelspec": {
   "display_name": "Python 2",
   "language": "python",
   "name": "python2"
  },
  "language_info": {
   "codemirror_mode": {
    "name": "ipython",
    "version": 2
   },
   "file_extension": ".py",
   "mimetype": "text/x-python",
   "name": "python",
   "nbconvert_exporter": "python",
   "pygments_lexer": "ipython2",
   "version": "2.7.10"
  }
 },
 "nbformat": 4,
 "nbformat_minor": 0
}
