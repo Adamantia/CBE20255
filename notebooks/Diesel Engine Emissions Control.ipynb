{
 "cells": [
  {
   "cell_type": "markdown",
   "metadata": {},
   "source": [
    "# Diesel Engine Emissions Control\n",
    "## Due: February 19, 2014"
   ]
  },
  {
   "cell_type": "markdown",
   "metadata": {},
   "source": [
    "This [IPython notebook](http://ipython.org/notebook.html) demonstrates an analysis of NO<sub>x</sub> emissions control in diesel engines.\n",
    "\n",
    "J.C. Kantor (Kantor.1@nd.edu)\n",
    "\n",
    "The latest version of this IPython notebook is available at [http://github.com/jckantor/CBE20255](http://github.com/jckantor/CBE20255)  for noncommercial use under terms of the [Creative Commons Attribution Noncommericial ShareAlike License](http://creativecommons.org/licenses/by-nc-sa/4.0/)."
   ]
  },
  {
   "cell_type": "code",
   "execution_count": 1,
   "metadata": {
    "collapsed": false
   },
   "outputs": [
    {
     "data": {
      "text/html": [
       "<link href='http://fonts.googleapis.com/css?family=Fenix' rel='stylesheet' type='text/css'>\n",
       "<link href='http://fonts.googleapis.com/css?family=Alegreya+Sans:100,300,400,500,700,800,\n",
       "    900,100italic,300italic,400italic,500italic,700italic,800italic,900italic' rel='stylesheet' type='text/css'>\n",
       "<link href='http://fonts.googleapis.com/css?family=Source+Code+Pro:300,400' rel='stylesheet' type='text/css'>\n",
       "<link href='http://fonts.googleapis.com/css?family=Crimson+Text' rel='stylesheet' type='text/css'>\n",
       "<link href='http://fonts.googleapis.com/css?family=Kameron' rel='stylesheet' type='text/css'>\n",
       "<link href='http://fonts.googleapis.com/css?family=Lato:200' rel='stylesheet' type='text/css'>\n",
       "<link href='http://fonts.googleapis.com/css?family=Lato:300' rel='stylesheet' type='text/css'>\n",
       "<link href='http://fonts.googleapis.com/css?family=Lato:400' rel='stylesheet' type='text/css'>\n",
       "<link href='http://fonts.googleapis.com/css?family=Source+Code+Pro' rel='stylesheet' type='text/css'>\n",
       "\n",
       "<style>\n",
       "\n",
       "@font-face {\n",
       "    font-family: \"Computer Modern\";\n",
       "    src: url('http://mirrors.ctan.org/fonts/cm-unicode/fonts/otf/cmunss.otf');\n",
       "}\n",
       "\n",
       "#notebook_panel { /* establish main background and color */\n",
       "    background: #fff;\n",
       "    color: #ff0000;\n",
       "}\n",
       "\n",
       "div.cell { /* set cell width */\n",
       "    width:800px;\n",
       "    margin-left:0%;\n",
       "    margin-right:auto;\n",
       "}\n",
       "\n",
       "div #notebook { /* centers the content */\n",
       "    background: #fff;\n",
       "    width: 1000px;\n",
       "    margin: auto;\n",
       "    padding-left: 1em;\n",
       "}\n",
       "\n",
       "#notebook li { /* more space between bullet points */\n",
       "    margin-top:0.8em;\n",
       "}\n",
       "\n",
       "/* draw border around running cells */\n",
       "div.cell.border-box-sizing.code_cell.running {\n",
       "    border: 3px solid #111;\n",
       "}\n",
       "\n",
       "/* Put a solid color box around each code cell and its output,\n",
       "     visually linking them together */\n",
       "div.cell.code_cell {\n",
       "    background-color: /*#fff*/ rgba(171,165,131,0.2);\n",
       "    border-radius: 10px; /* rounded borders */\n",
       "    padding: 1em;\n",
       "    margin-top: 1em;\n",
       "}\n",
       "\n",
       ".CodeMirror {\n",
       "    font-family: \"Source Code Pro\";\n",
       "    font-size: 90%;\n",
       "}\n",
       "\n",
       "div.text_cell_render code {\n",
       "    font-family: \"Source Code Pro\";\n",
       "    font-size: 90%;\n",
       "    color: red;\n",
       "}\n",
       "\n",
       "pre {\n",
       "    font-family: \"Source Code Pro\";\n",
       "    font-size: 90%;\n",
       "}\n",
       "\n",
       "div.text_cell_render { /* rendering of basic text cell */\n",
       "    font-family: 'Alegreya Sans', Computer Modern, \"Helvetica Neue\", Arial, Helvetica, sans-serif;\n",
       "    line-height: 135%;\n",
       "    font-size: 120%;\n",
       "    width:700px;\n",
       "    margin-left:auto;\n",
       "    margin-right:auto;\n",
       "}\n",
       "\n",
       ".text_cell_render h1 {\n",
       "    font-family: 'Alegreya Sans', sans-serif;\n",
       "    font-weight: 300;\n",
       "    font-size: 32pt;\n",
       "    line-height: 100%;\n",
       "    color:#CD2305;\n",
       "    margin-bottom: 0.4em;\n",
       "    margin-top: 0em;\n",
       "    display: block;\n",
       "}\n",
       "\n",
       "h2 {\n",
       "    font-family: 'Fenix', serif;\n",
       "}\n",
       "\n",
       "h3 {\n",
       "    font-family: 'Fenix', serif;\n",
       "    margin-top:12px;\n",
       "    margin-bottom: 3px;\n",
       "}\n",
       "\n",
       "h4 {\n",
       "    font-family: 'Fenix', serif;\n",
       "}\n",
       "\n",
       ".text_cell_render h5 {\n",
       "    font-family: 'Alegreya Sans', sans-serif;\n",
       "    font-weight: 100;\n",
       "    font-size: 16pt;\n",
       "    color: #CD2305;\n",
       "    font-style: italic;\n",
       "    margin-bottom: .5em;\n",
       "    margin-top: 0.5em;\n",
       "    display: block;\n",
       "}\n",
       "\n",
       ".text_cell_render h6 { /*use this for copyright note*/\n",
       "    font-family: 'Alegreya Sans', sans-serif;\n",
       "    font-weight: 400;\n",
       "    font-size: 10pt;\n",
       "    font-style: normal;\n",
       "    line-height: 120%;\n",
       "    margin-bottom: 1px;\n",
       "    margin-top: 1px;\n",
       "}\n",
       "\n",
       ".MathJax, .MathJax_Display  {\n",
       "    font-family: 'Alegreya Sans', sans-serif  !important;\n",
       "    font-size: 90%  !important;\n",
       "    vertical-align: 0px  !important;\n",
       "}\n",
       "\n",
       ".warning{\n",
       "    color: rgb( 240, 20, 20 )\n",
       "}\n",
       "\n",
       "</style>\n",
       "\n",
       "<script>\n",
       "MathJax.Hub.Config({\n",
       "    TeX: {\n",
       "        extensions: [\"AMSmath.js\"]\n",
       "    },\n",
       "    tex2jax: {\n",
       "        inlineMath: [ ['$','$'], [\"\\\\(\",\"\\\\)\"] ],\n",
       "        displayMath: [ ['$$','$$'], [\"\\\\[\",\"\\\\]\"] ],\n",
       "        processEscapes: true\n",
       "    },\n",
       "    displayAlign: 'center', // Change this to 'center' to center equations.\n",
       "    \"HTML-CSS\": {\n",
       "        styles: {'.MathJax_Display': {\"margin\": 4}}\n",
       "    }\n",
       "});\n",
       "</script>\n",
       "\n"
      ],
      "text/plain": [
       "<IPython.core.display.HTML object>"
      ]
     },
     "execution_count": 1,
     "metadata": {},
     "output_type": "execute_result"
    }
   ],
   "source": [
    "#Initializations\n",
    "from IPython.core.display import HTML\n",
    "HTML(open(\"../styles/custom.css\", \"r\").read())"
   ]
  },
  {
   "cell_type": "markdown",
   "metadata": {},
   "source": [
    "## Background"
   ]
  },
  {
   "cell_type": "markdown",
   "metadata": {},
   "source": [
    "Diesel engines offer greater energy efficiency than equivelently sized gasoline engines by operating at higher compression and combustion temperatures. The problem, however, is that diesel engines produce more particulates because the fuel is injected late in the compression cycle, and produces greater NO<sub>x</sub> emissions because of the higher combustion temperatures. \n",
    "\n",
    "Here we look into a particular technology for treating NO<sub>x</sub> that has found wide spread use in heavy trucks and has been recently introduced in the automobile and light truck marketplace. \n",
    "\n",
    "<div style=\"text-align:left;padding:12px 0;\">\n",
    "<iframe width=\"420\" height=\"315\" src=\"//www.youtube.com/embed/uQHvi2Lgnac\" frameborder=\"0\" allowfullscreen></iframe>\n",
    "</div>\n",
    "\n",
    "The Mercedes-Benz “BlueTEC” system, for example, comprises a selective catalytic reduction (SCR) converter and the AdBlue reagent. Adblue is a registered trademark for [AUS32 (Aqueous Urea Solution 32.5%)](http://www.airgasspecialtyproducts.com/files/MSDS_Aqueous_Urea_Solution_32_5_06_16_11.pdf) consisting of 32.5 wt% Urea in deionized water with a density of 1.09 g/ml. The same solution can be purchased from many sources under the generic name [Diesel exhaust fluid (DEF)](http://www.amazon.com/BlueDEF-DEF003-Diesel-Exhaust-Fluid/dp/B004OEFH9C/ref=pd_sim_auto_5)"
   ]
  },
  {
   "cell_type": "markdown",
   "metadata": {},
   "source": [
    "## Problem 1"
   ]
  },
  {
   "cell_type": "markdown",
   "metadata": {},
   "source": [
    "An average chemical formula for diesel fuel is C<sub>12</sub>H<sub>23</sub> with a density of 0.832 kg/liter. A typical diesel light truck exhibits gets about 21 mpg on the highway. Assuming air (which is a mixture of 21 mol% O<sub>2</sub> and 79 mol% N<sub>2</sub>) is mixed with diesel fuel at the stoichiometric ratio. Assume complete combustion of the diesel fuel producing CO<sub>2</sub>, H<sub>2</sub>O. What is the exhaust gas flowrate in units of g/mile? \n",
    "\n",
    "_Hint: The purpose of this first calculation is obtain an estimate for the exhaust gas flowrate. Because NO<sub>x</sub> is a trace component of the exhaust, at this stage it is not necessary to consider any additional reactions other than combustion of C<sub>12</sub>H<sub>23</sub>._"
   ]
  },
  {
   "cell_type": "markdown",
   "metadata": {},
   "source": [
    "## Problem 2"
   ]
  },
  {
   "cell_type": "markdown",
   "metadata": {},
   "source": [
    "DEF is injected into a hot, post-combustion exhaust stream where the water evaporates and the urea forms solid droplets\n",
    "\n",
    "CO(NH<sub>2</sub>)<sub>2</sub>(aq) &rarr; CO(NH<sub>2</sub>)<sub>2</sub>(s)\n",
    "\n",
    "The urea immediately heats up and undergoes thermal decomposition to form ammonia and isocyanic acid\n",
    "\n",
    "CO(NH<sub>2</sub>)<sub>2</sub>(s) &rarr; NH<sub>3</sub>(g) + HNCO(g)\n",
    " \n",
    "The isocyanic acid is stable in the gas phase. The hot gas stream is passed over a solid oxide catalyst to hydrolyze the isocyanic acid to form additional ammonia.\n",
    "\n",
    "HNCO(g) + H<sub>2</sub>O(g) &rarr; NH<sub>3</sub>(g) + CO<sub>2</sub>(g)\n",
    "\n",
    "Using a generation/consumption analysis, what is the net reaction?"
   ]
  },
  {
   "cell_type": "markdown",
   "metadata": {},
   "source": [
    "## Problem 3"
   ]
  },
  {
   "cell_type": "markdown",
   "metadata": {},
   "source": [
    "Following hydrolysis of the urea, the hot exhaust then passes over the selective reduction catalyst that promotes reaction between ammonia and the NO<sub>x</sub>:\n",
    "\n",
    "4 NH<sub>3</sub> + 4 NO + O<sub>2</sub>\t&rarr; 4 N<sub>2</sub> + 6 H<sub>2</sub>O\n",
    "\n",
    "4 NH<sub>3</sub> + 2 NO + 2 NO<sub>2</sub> &rarr; 4 N<sub>2</sub> + 6 H<sub>2</sub>O\n",
    "\n",
    "Excess oxygen is present in the exhaust stream under normal conditions for most diesel engines. Assume the diesel exhaust initially contains 200 ppm by mass NO and 50 ppm by mass NO<sub>2</sub>. Field measurements demonstrate that 95% of each is converted to N<sub>2</sub>. What are the extents of reaction for each reaction?\n",
    " \n",
    "_Hint: ppm means 'parts per million' by mass For example, to compute the mass flow of NO, take (200 &times; 10<sup>-6</sup>) &times; m&#775;<sub>exhaust</sub> where m&#775;<sub>exhaust</sub> is the mass flow computed in part 1 of the homework set._"
   ]
  },
  {
   "cell_type": "markdown",
   "metadata": {},
   "source": [
    "## Problem 4"
   ]
  },
  {
   "cell_type": "markdown",
   "metadata": {},
   "source": [
    "The commerical route to urea is to produce ammonia from natural gas, then convert the ammonia to urea. Ammonia production is a two step process in which hydrogen produced by the steam reforming of natural gas followed by water-gas shift\n",
    "\n",
    "CH<sub>4</sub> + H<sub>2</sub>O &rarr; CO + 3 H<sub>2</sub>\n",
    "\n",
    "CO + H<sub>2</sub>O &rarr; CO<sub>2</sub> + H<sub>2</sub>\n",
    "\n",
    "followed by the Haber-Bosch process to produce ammonia. \n",
    "\n",
    "N<sub>2</sub> + 3 H<sub>2</sub>\t&rarr; 2 NH<sub>3</sub>\n",
    "\n",
    "The Bosch-Meiser process for urea production involves two additional steps. Ammonia is combined with dry ice to produce ammonium carbamate and water\n",
    "\n",
    "2 NH<sub>3</sub> + CO<sub>2</sub> &rarr; H<sub>2</sub>NCOONH<sub>4</sub>\n",
    "\n",
    "which decomposes to form urea and water\n",
    "\n",
    "H<sub>2</sub>NCOONH<sub>4</sub> &rarr; CO(NH<sub>2</sub>)<sub>2</sub> + H<sub>2</sub>O\n",
    " \n",
    "For an integrated urea production facility, what is the overall stoichiometry for the production of urea from natural gas?"
   ]
  },
  {
   "cell_type": "markdown",
   "metadata": {},
   "source": [
    "## Problem 5"
   ]
  },
  {
   "cell_type": "markdown",
   "metadata": {},
   "source": [
    "In a review published by Consumer Reports on January 4, 2010, regarding the Mercedes-Benz GL320 \n",
    "\n",
    "_The total bill just for adding AdBlue? A stunning 316.99 dollars. We were down to 18% full on the \n",
    "additive at 16,566 miles. It took 7.5 gallons to fill the tank, costing an eye-opening 241.50 dollars\n",
    "for the fluid alone. The labor to add the fluid plus tax accounted for the rest. None of this\n",
    "was covered by the warranty.” [Consumer Reports, January 4, 2010.](http://news.consumerreports.org/cars/2010/01/mercedesbenz-gl320-bluetecfeeling-a-bit-adblue-over-spending-a-lot-of-green.html)_"
   ]
  },
  {
   "cell_type": "markdown",
   "metadata": {},
   "source": [
    "(a) Using the results you found above, how much Adblue would you estimate is needed to drive 16,566 miles assuming a vehicle gets 21 mpg? How does this compare to the numbers quoted in the review? What assumption would you need to revise in order to match the observed consumption of Adblue?"
   ]
  },
  {
   "cell_type": "markdown",
   "metadata": {},
   "source": [
    "(b) Current spot prices for bulk urea can be found [on-line](http://fertilizerworks.com/sites/default/files/reports/StatsPage%202-14-14.pdf). What is the cost of the raw materials needed to produce one gallon of Adblue? How does this compare to the price of Adblue implied by the story in Consumer Reports?"
   ]
  }
 ],
 "metadata": {
  "kernelspec": {
   "display_name": "Python 2",
   "language": "python",
   "name": "python2"
  },
  "language_info": {
   "codemirror_mode": {
    "name": "ipython",
    "version": 2
   },
   "file_extension": ".py",
   "mimetype": "text/x-python",
   "name": "python",
   "nbconvert_exporter": "python",
   "pygments_lexer": "ipython2",
   "version": "2.7.9"
  }
 },
 "nbformat": 4,
 "nbformat_minor": 0
}
