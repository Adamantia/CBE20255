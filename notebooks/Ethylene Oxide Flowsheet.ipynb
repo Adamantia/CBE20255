{
 "metadata": {
  "name": ""
 },
 "nbformat": 3,
 "nbformat_minor": 0,
 "worksheets": [
  {
   "cells": [
    {
     "cell_type": "heading",
     "level": 1,
     "metadata": {
      "slideshow": {
       "slide_type": "slide"
      }
     },
     "source": [
      "Ethylene Oxide Flowsheet"
     ]
    },
    {
     "cell_type": "markdown",
     "metadata": {},
     "source": [
      "This [IPython notebook](http://ipython.org/notebook.html) demonstrates the formulation and solution of material balances for an ethylene oxide flowsheet using the [symbolic algebra package Sympy](http://sympy.org/en/index.html).\n",
      "\n",
      "J.C. Kantor (Kantor.1@nd.edu)\n",
      "\n",
      "The latest version of this IPython notebook is available at [http://github.com/jckantor/CBE20255](http://github.com/jckantor/CBE20255)  for noncommercial use under terms of the [Creative Commons Attribution Noncommericial ShareAlike License](http://creativecommons.org/licenses/by-nc-sa/4.0/)."
     ]
    },
    {
     "cell_type": "heading",
     "level": 2,
     "metadata": {
      "slideshow": {
       "slide_type": "slide"
      }
     },
     "source": [
      "Introduction"
     ]
    },
    {
     "cell_type": "markdown",
     "metadata": {},
     "source": [
      "While material balances for chemical processes are readily expressed as linear equations, extracting the matrix of coefficients for the linear equations can be tedious and error-prone. Fortunately, symbolic calculations can be used to solve material balance problems typical of introductory chemical engineering courses. This is demonstrated below using an example from the textbook [*\n",
      "Introduction to Chemical Processes: Principles, Analysis, and Synthesis*](http://highered.mcgraw-hill.com/sites/0072849606/) by Regina Murphy."
     ]
    },
    {
     "cell_type": "heading",
     "level": 2,
     "metadata": {
      "slideshow": {
       "slide_type": "slide"
      }
     },
     "source": [
      "Problem Statement (Murphy 2005, Example 3.19)"
     ]
    },
    {
     "cell_type": "markdown",
     "metadata": {},
     "source": [
      "The problem is to analyze the capability of an existing process for the production of [ethylene oxide](http://www.americanchemistry.com/ProductsTechnology/Ethylene-Oxide/PDF-Ethylene-Oxide-An-Essential-Raw-Material-for-Many-Important-Products-chart.pdf) by the reaction of ethylene and oxygen\n",
      "\n",
      "$$2\\,C_2H_4 + O_2 \\longrightarrow 2\\,C_2H_4O$$\n",
      "\n",
      "The target production is 1.7 &#215; 10<sup>6</sup> kgmol/year of an ethylene oxide product with 98 mol% purity. The feedrate of ethylene is specified as 196 kgmol/hr, and of oxygen is specified as 84.5 kgmol/hr. The reactor has a nominal single pass conversion of 6% ethylene. The separator recovers 98% of the ethylene and 99.5% of the oxygen and 98% of the ethylene for recycle, and 97% of the ethylene oxide for the product stream.  \n",
      "\n",
      "<img src=\"https://raw.github.com/jckantor/CBE20255/master/notebooks/images/ethylene_oxide_flowsheet.png\" style=\"width:500px\">\n",
      "\n",
      "The problem is to find the nominal product purity and production rates, and to examine the sensitivity of product purity and production to the equipment specifications."
     ]
    },
    {
     "cell_type": "heading",
     "level": 2,
     "metadata": {
      "slideshow": {
       "slide_type": "slide"
      }
     },
     "source": [
      "Solution"
     ]
    },
    {
     "cell_type": "markdown",
     "metadata": {},
     "source": [
      "[Sympy](http://sympy.org/en/index.html) is a library written in pure python for symbolic algebra. The solution strategy is to represent the stream variables and reaction extents as symbolic variables, then express the material balances and process specifications as symbolic equations, and finally to use the Sympy solver to find a nominal solution and to perform parametric analyses."
     ]
    },
    {
     "cell_type": "code",
     "collapsed": false,
     "input": [
      "from sympy import *\n",
      "init_printing()"
     ],
     "language": "python",
     "metadata": {},
     "outputs": [],
     "prompt_number": 1
    },
    {
     "cell_type": "heading",
     "level": 3,
     "metadata": {
      "slideshow": {
       "slide_type": "slide"
      }
     },
     "source": [
      "Variables"
     ]
    },
    {
     "cell_type": "heading",
     "level": 4,
     "metadata": {},
     "source": [
      "Stream Variables"
     ]
    },
    {
     "cell_type": "markdown",
     "metadata": {},
     "source": [
      "The stream variables are systematically created using the Sympy `var` function, and added to the list `stream_variables`."
     ]
    },
    {
     "cell_type": "code",
     "collapsed": false,
     "input": [
      "stream_variables = []\n",
      "\n",
      "stream_variables += var('E1 O1')        # Stream 1\n",
      "stream_variables += var('E2 O2 EO2')    # Stream 2\n",
      "stream_variables += var('E3 O3 EO3')    # Stream 3\n",
      "stream_variables += var('E4 O4 EO4')    # Stream 4\n",
      "stream_variables += var('E5 O5 EO5')    # Stream 5\n",
      "\n",
      "display(stream_variables)"
     ],
     "language": "python",
     "metadata": {},
     "outputs": [
      {
       "latex": [
        "$$\\begin{bmatrix}E_{1}, & O_{1}, & E_{2}, & O_{2}, & EO_{2}, & E_{3}, & O_{3}, & EO_{3}, & E_{4}, & O_{4}, & EO_{4}, & E_{5}, & O_{5}, & EO_{5}\\end{bmatrix}$$"
       ],
       "metadata": {},
       "output_type": "display_data",
       "text": [
        "[E\u2081, O\u2081, E\u2082, O\u2082, EO\u2082, E\u2083, O\u2083, EO\u2083, E\u2084, O\u2084, EO\u2084, E\u2085, O\u2085, EO\u2085]"
       ]
      }
     ],
     "prompt_number": 2
    },
    {
     "cell_type": "heading",
     "level": 4,
     "metadata": {
      "slideshow": {
       "slide_type": "slide"
      }
     },
     "source": [
      "Extent of Reaction"
     ]
    },
    {
     "cell_type": "markdown",
     "metadata": {},
     "source": [
      "This problem includes only a single reaction in a single reactor. A corresponding extent of reaction variable is created, and a master list of all process variables is created."
     ]
    },
    {
     "cell_type": "code",
     "collapsed": false,
     "input": [
      "extents = [var('X')]\n",
      "\n",
      "variables = stream_variables + extents\n",
      "display(variables)"
     ],
     "language": "python",
     "metadata": {},
     "outputs": [
      {
       "latex": [
        "$$\\begin{bmatrix}E_{1}, & O_{1}, & E_{2}, & O_{2}, & EO_{2}, & E_{3}, & O_{3}, & EO_{3}, & E_{4}, & O_{4}, & EO_{4}, & E_{5}, & O_{5}, & EO_{5}, & X\\end{bmatrix}$$"
       ],
       "metadata": {},
       "output_type": "display_data",
       "text": [
        "[E\u2081, O\u2081, E\u2082, O\u2082, EO\u2082, E\u2083, O\u2083, EO\u2083, E\u2084, O\u2084, EO\u2084, E\u2085, O\u2085, EO\u2085, X]"
       ]
      }
     ],
     "prompt_number": 3
    },
    {
     "cell_type": "heading",
     "level": 3,
     "metadata": {
      "slideshow": {
       "slide_type": "slide"
      }
     },
     "source": [
      "Equations"
     ]
    },
    {
     "cell_type": "heading",
     "level": 4,
     "metadata": {},
     "source": [
      "Material Balances"
     ]
    },
    {
     "cell_type": "markdown",
     "metadata": {},
     "source": [
      "Material balances are written for each process unit using the symbolic stream and extent of reaction variables created above. Each material balance is expressed as the net rate of accumulation that will be set to zero to specify steady-state operation. The material balances are gathered into a list for each process unit, then the lists are concantenated to create a list of all material balances."
     ]
    },
    {
     "cell_type": "code",
     "collapsed": false,
     "input": [
      "mixer = [\n",
      "    Eq(0, E1 + E5 - E2),\n",
      "    Eq(0, O1 + O5 - O2),\n",
      "    Eq(0, EO5 - EO2)]\n",
      "\n",
      "reactor = [\n",
      "    Eq(0, E2 - E3 - 2*X),\n",
      "    Eq(0, O2 - O3 - X),\n",
      "    Eq(0, EO2 - EO3 + 2*X)]\n",
      "\n",
      "separator = [\n",
      "    Eq(0, E3 - E4 - E5),\n",
      "    Eq(0, O3 - O4 - O5),\n",
      "    Eq(0, EO3 - EO4 - EO5)]\n",
      "\n",
      "material_balances = mixer + reactor + separator\n",
      "for eqn in material_balances:\n",
      "    display(eqn)"
     ],
     "language": "python",
     "metadata": {},
     "outputs": [
      {
       "latex": [
        "$$0 = E_{1} - E_{2} + E_{5}$$"
       ],
       "metadata": {},
       "output_type": "display_data",
       "png": "[encoded data removed]",
       "text": [
        "0 = E\u2081 - E\u2082 + E\u2085"
       ]
      },
      {
       "latex": [
        "$$0 = O_{1} - O_{2} + O_{5}$$"
       ],
       "metadata": {},
       "output_type": "display_data",
       "png": "[encoded data removed]",
       "text": [
        "0 = O\u2081 - O\u2082 + O\u2085"
       ]
      },
      {
       "latex": [
        "$$0 = - EO_{2} + EO_{5}$$"
       ],
       "metadata": {},
       "output_type": "display_data",
       "png": "[encoded data removed]",
       "text": [
        "0 = -EO\u2082 + EO\u2085"
       ]
      },
      {
       "latex": [
        "$$0 = E_{2} - E_{3} - 2 X$$"
       ],
       "metadata": {},
       "output_type": "display_data",
       "png": "[encoded data removed]",
       "text": [
        "0 = E\u2082 - E\u2083 - 2\u22c5X"
       ]
      },
      {
       "latex": [
        "$$0 = O_{2} - O_{3} - X$$"
       ],
       "metadata": {},
       "output_type": "display_data",
       "png": "[encoded data removed]",
       "text": [
        "0 = O\u2082 - O\u2083 - X"
       ]
      },
      {
       "latex": [
        "$$0 = EO_{2} - EO_{3} + 2 X$$"
       ],
       "metadata": {},
       "output_type": "display_data",
       "png": "[encoded data removed]",
       "text": [
        "0 = EO\u2082 - EO\u2083 + 2\u22c5X"
       ]
      },
      {
       "latex": [
        "$$0 = E_{3} - E_{4} - E_{5}$$"
       ],
       "metadata": {},
       "output_type": "display_data",
       "png": "[encoded data removed]",
       "text": [
        "0 = E\u2083 - E\u2084 - E\u2085"
       ]
      },
      {
       "latex": [
        "$$0 = O_{3} - O_{4} - O_{5}$$"
       ],
       "metadata": {},
       "output_type": "display_data",
       "png": "[encoded data removed]",
       "text": [
        "0 = O\u2083 - O\u2084 - O\u2085"
       ]
      },
      {
       "latex": [
        "$$0 = EO_{3} - EO_{4} - EO_{5}$$"
       ],
       "metadata": {},
       "output_type": "display_data",
       "png": "[encoded data removed]",
       "text": [
        "0 = EO\u2083 - EO\u2084 - EO\u2085"
       ]
      }
     ],
     "prompt_number": 4
    },
    {
     "cell_type": "markdown",
     "metadata": {
      "slideshow": {
       "slide_type": "slide"
      }
     },
     "source": [
      "#### Specifications\n",
      "\n",
      "Process specifications are written as equalities using the Sympy `Eq` function."
     ]
    },
    {
     "cell_type": "code",
     "collapsed": false,
     "input": [
      "feed_spec = [\n",
      "    Eq(E1, 196.0),\n",
      "    Eq(O1, 84.5)]\n",
      "\n",
      "reactor_spec = [\n",
      "    Eq(E2 - E3, 0.06*E2)]\n",
      "\n",
      "separator_spec = [\n",
      "    Eq(E5, 0.98*E3),\n",
      "    Eq(O5, 0.995*O3),\n",
      "    Eq(EO4, 0.97*EO3)]\n",
      "\n",
      "specifications = feed_spec + reactor_spec + separator_spec\n",
      "for eqn in specifications:\n",
      "    display(eqn)"
     ],
     "language": "python",
     "metadata": {},
     "outputs": [
      {
       "latex": [
        "$$E_{1} = 196.0$$"
       ],
       "metadata": {},
       "output_type": "display_data",
       "png": "[encoded data removed]",
       "text": [
        "E\u2081 = 196.0"
       ]
      },
      {
       "latex": [
        "$$O_{1} = 84.5$$"
       ],
       "metadata": {},
       "output_type": "display_data",
       "png": "[encoded data removed]",
       "text": [
        "O\u2081 = 84.5"
       ]
      },
      {
       "latex": [
        "$$E_{2} - E_{3} = 0.06 E_{2}$$"
       ],
       "metadata": {},
       "output_type": "display_data",
       "png": "[encoded data removed]",
       "text": [
        "E\u2082 - E\u2083 = 0.06\u22c5E\u2082"
       ]
      },
      {
       "latex": [
        "$$E_{5} = 0.98 E_{3}$$"
       ],
       "metadata": {},
       "output_type": "display_data",
       "png": "[encoded data removed]",
       "text": [
        "E\u2085 = 0.98\u22c5E\u2083"
       ]
      },
      {
       "latex": [
        "$$O_{5} = 0.995 O_{3}$$"
       ],
       "metadata": {},
       "output_type": "display_data",
       "png": "[encoded data removed]",
       "text": [
        "O\u2085 = 0.995\u22c5O\u2083"
       ]
      },
      {
       "latex": [
        "$$EO_{4} = 0.97 EO_{3}$$"
       ],
       "metadata": {},
       "output_type": "display_data",
       "png": "[encoded data removed]",
       "text": [
        "EO\u2084 = 0.97\u22c5EO\u2083"
       ]
      }
     ],
     "prompt_number": 5
    },
    {
     "cell_type": "heading",
     "level": 3,
     "metadata": {
      "slideshow": {
       "slide_type": "slide"
      }
     },
     "source": [
      "Degree of Freedom Analysis"
     ]
    },
    {
     "cell_type": "markdown",
     "metadata": {
      "slideshow": {
       "slide_type": "-"
      }
     },
     "source": [
      "A simple degree of freedom analysis is to compare the number of variables to the number of equations."
     ]
    },
    {
     "cell_type": "code",
     "collapsed": false,
     "input": [
      "print \"\\n%d Variables = %d Stream Variables + %d Extents of Reaction \" \\\n",
      "    % (size(variables),size(stream_variables),size(extents))\n",
      "\n",
      "print \"\\n%d Stream Variables\\n\" % size(stream_variables)\n",
      "for v in stream_variables:\n",
      "    print \"Variable: \", v\n",
      "\n",
      "print \"\\n%d Extents of Reaction\\n\" % size(extents)\n",
      "for v in extents:\n",
      "    print \"Extent: \", v\n"
     ],
     "language": "python",
     "metadata": {},
     "outputs": [
      {
       "output_type": "stream",
       "stream": "stdout",
       "text": [
        "\n",
        "15 Variables = 14 Stream Variables + 1 Extents of Reaction \n",
        "\n",
        "14 Stream Variables\n",
        "\n",
        "Variable:  E1\n",
        "Variable:  O1\n",
        "Variable:  E2\n",
        "Variable:  O2\n",
        "Variable:  EO2\n",
        "Variable:  E3\n",
        "Variable:  O3\n",
        "Variable:  EO3\n",
        "Variable:  E4\n",
        "Variable:  O4\n",
        "Variable:  EO4\n",
        "Variable:  E5\n",
        "Variable:  O5\n",
        "Variable:  EO5\n",
        "\n",
        "1 Extents of Reaction\n",
        "\n",
        "Extent:  X\n"
       ]
      }
     ],
     "prompt_number": 6
    },
    {
     "cell_type": "code",
     "collapsed": false,
     "input": [
      "equations = material_balances + specifications\n",
      "print \"\\n%d Equations = %d Material Balances + %d Specifications\" \\\n",
      "    % (size(equations),size(material_balances),size(specifications))\n",
      "\n",
      "print \"\\n%d Material Balances\\n\" % size(material_balances)\n",
      "for mb in material_balances:\n",
      "    print mb\n",
      "\n",
      "print \"\\n%d Specifications\\n\" % size(specifications)\n",
      "for spec in specifications:\n",
      "    print spec"
     ],
     "language": "python",
     "metadata": {
      "slideshow": {
       "slide_type": "slide"
      }
     },
     "outputs": [
      {
       "output_type": "stream",
       "stream": "stdout",
       "text": [
        "\n",
        "15 Equations = 9 Material Balances + 6 Specifications\n",
        "\n",
        "9 Material Balances\n",
        "\n",
        "0 == E1 - E2 + E5\n",
        "0 == O1 - O2 + O5\n",
        "0 == -EO2 + EO5\n",
        "0 == E2 - E3 - 2*X\n",
        "0 == O2 - O3 - X\n",
        "0 == EO2 - EO3 + 2*X\n",
        "0 == E3 - E4 - E5\n",
        "0 == O3 - O4 - O5\n",
        "0 == EO3 - EO4 - EO5\n",
        "\n",
        "6 Specifications\n",
        "\n",
        "E1 == 196.0\n",
        "O1 == 84.5\n",
        "E2 - E3 == 0.06*E2\n",
        "E5 == 0.98*E3\n",
        "O5 == 0.995*O3\n",
        "EO4 == 0.97*EO3\n"
       ]
      }
     ],
     "prompt_number": 7
    },
    {
     "cell_type": "heading",
     "level": 3,
     "metadata": {
      "slideshow": {
       "slide_type": "slide"
      }
     },
     "source": [
      "Solution"
     ]
    },
    {
     "cell_type": "code",
     "collapsed": false,
     "input": [
      "soln = solve(material_balances + specifications)\n",
      "\n",
      "# display solution for each variable, rounded to 1 decimal place\n",
      "for v in variables:\n",
      "    display(Eq(v,round(soln[v],1)))"
     ],
     "language": "python",
     "metadata": {},
     "outputs": [
      {
       "latex": [
        "$$E_{1} = 196.0$$"
       ],
       "metadata": {},
       "output_type": "display_data",
       "png": "[encoded data removed]",
       "text": [
        "E\u2081 = 196.0"
       ]
      },
      {
       "latex": [
        "$$O_{1} = 84.5$$"
       ],
       "metadata": {},
       "output_type": "display_data",
       "png": "[encoded data removed]",
       "text": [
        "O\u2081 = 84.5"
       ]
      },
      {
       "latex": [
        "$$E_{2} = 2487.3$$"
       ],
       "metadata": {},
       "output_type": "display_data",
       "png": "[encoded data removed]",
       "text": [
        "E\u2082 = 2487.3"
       ]
      },
      {
       "latex": [
        "$$O_{2} = 2050.8$$"
       ],
       "metadata": {},
       "output_type": "display_data",
       "png": "[encoded data removed]",
       "text": [
        "O\u2082 = 2050.8"
       ]
      },
      {
       "latex": [
        "$$EO_{2} = 4.6$$"
       ],
       "metadata": {},
       "output_type": "display_data",
       "png": "[encoded data removed]",
       "text": [
        "EO\u2082 = 4.6"
       ]
      },
      {
       "latex": [
        "$$E_{3} = 2338.1$$"
       ],
       "metadata": {},
       "output_type": "display_data",
       "png": "[encoded data removed]",
       "text": [
        "E\u2083 = 2338.1"
       ]
      },
      {
       "latex": [
        "$$O_{3} = 1976.1$$"
       ],
       "metadata": {},
       "output_type": "display_data",
       "png": "[encoded data removed]",
       "text": [
        "O\u2083 = 1976.1"
       ]
      },
      {
       "latex": [
        "$$EO_{3} = 153.9$$"
       ],
       "metadata": {},
       "output_type": "display_data",
       "png": "[encoded data removed]",
       "text": [
        "EO\u2083 = 153.9"
       ]
      },
      {
       "latex": [
        "$$E_{4} = 46.8$$"
       ],
       "metadata": {},
       "output_type": "display_data",
       "png": "[encoded data removed]",
       "text": [
        "E\u2084 = 46.8"
       ]
      },
      {
       "latex": [
        "$$O_{4} = 9.9$$"
       ],
       "metadata": {},
       "output_type": "display_data",
       "png": "[encoded data removed]",
       "text": [
        "O\u2084 = 9.9"
       ]
      },
      {
       "latex": [
        "$$EO_{4} = 149.2$$"
       ],
       "metadata": {},
       "output_type": "display_data",
       "png": "[encoded data removed]",
       "text": [
        "EO\u2084 = 149.2"
       ]
      },
      {
       "latex": [
        "$$E_{5} = 2291.3$$"
       ],
       "metadata": {},
       "output_type": "display_data",
       "png": "[encoded data removed]",
       "text": [
        "E\u2085 = 2291.3"
       ]
      },
      {
       "latex": [
        "$$O_{5} = 1966.3$$"
       ],
       "metadata": {},
       "output_type": "display_data",
       "png": "[encoded data removed]",
       "text": [
        "O\u2085 = 1966.3"
       ]
      },
      {
       "latex": [
        "$$EO_{5} = 4.6$$"
       ],
       "metadata": {},
       "output_type": "display_data",
       "png": "[encoded data removed]",
       "text": [
        "EO\u2085 = 4.6"
       ]
      },
      {
       "latex": [
        "$$X = 74.6$$"
       ],
       "metadata": {},
       "output_type": "display_data",
       "png": "[encoded data removed]",
       "text": [
        "X = 74.6"
       ]
      }
     ],
     "prompt_number": 8
    },
    {
     "cell_type": "heading",
     "level": 4,
     "metadata": {
      "slideshow": {
       "slide_type": "slide"
      }
     },
     "source": [
      "Production and Purity"
     ]
    },
    {
     "cell_type": "code",
     "collapsed": false,
     "input": [
      "purity = soln[EO4]/(soln[EO4]+soln[E4]+soln[O4])\n",
      "production = 24*350*(soln[EO4] + soln[E4] + soln[O4])/1000000\n",
      "\n",
      "print \"Annual Production %4.2f million kgmol/year at %5.3f purity.\" \\\n",
      "    % (production,purity)"
     ],
     "language": "python",
     "metadata": {},
     "outputs": [
      {
       "output_type": "stream",
       "stream": "stdout",
       "text": [
        "Annual Production 1.73 million kgmol/year at 0.725 purity.\n"
       ]
      }
     ],
     "prompt_number": 9
    },
    {
     "cell_type": "heading",
     "level": 4,
     "metadata": {
      "slideshow": {
       "slide_type": "slide"
      }
     },
     "source": [
      "Discussion Questions"
     ]
    },
    {
     "cell_type": "markdown",
     "metadata": {},
     "source": [
      "* Do these numbers surprise you?  Why is the recycle rate so high?\n",
      "* The purity specification is not met. Why?"
     ]
    },
    {
     "cell_type": "heading",
     "level": 3,
     "metadata": {
      "slideshow": {
       "slide_type": "slide"
      }
     },
     "source": [
      "Parametric Analysis: Fractional Conversion of Ethylene"
     ]
    },
    {
     "cell_type": "markdown",
     "metadata": {},
     "source": [
      "The problem asked for an analysis of the sensitivity of the problem results to changes in unit performance. This is implemented by restating the specifications where a key parameter is replaced by a symbolic variable, and the process the performance plotted as a function of the parameter."
     ]
    },
    {
     "cell_type": "code",
     "collapsed": false,
     "input": [
      "feed_spec = [\n",
      "    Eq(E1, 196.0),\n",
      "    Eq(O1, 84.5)]\n",
      "\n",
      "fconv = symbols('fconv')\n",
      "reactor_spec = [\n",
      "    Eq(E2 - E3, fconv*E2)]\n",
      "\n",
      "separator_spec = [\n",
      "    Eq(E5, 0.98*E3),\n",
      "    Eq(O5, 0.995*O3),\n",
      "    Eq(EO4, 0.97*EO3)]\n",
      "\n",
      "specifications = feed_spec + reactor_spec + separator_spec\n",
      "for s in specifications:\n",
      "    display(s)"
     ],
     "language": "python",
     "metadata": {},
     "outputs": [
      {
       "latex": [
        "$$E_{1} = 196.0$$"
       ],
       "metadata": {},
       "output_type": "display_data",
       "png": "[encoded data removed]",
       "text": [
        "E\u2081 = 196.0"
       ]
      },
      {
       "latex": [
        "$$O_{1} = 84.5$$"
       ],
       "metadata": {},
       "output_type": "display_data",
       "png": "[encoded data removed]",
       "text": [
        "O\u2081 = 84.5"
       ]
      },
      {
       "latex": [
        "$$E_{2} - E_{3} = E_{2} fconv$$"
       ],
       "metadata": {},
       "output_type": "display_data",
       "png": "[encoded data removed]",
       "text": [
        "E\u2082 - E\u2083 = E\u2082\u22c5fconv"
       ]
      },
      {
       "latex": [
        "$$E_{5} = 0.98 E_{3}$$"
       ],
       "metadata": {},
       "output_type": "display_data",
       "png": "[encoded data removed]",
       "text": [
        "E\u2085 = 0.98\u22c5E\u2083"
       ]
      },
      {
       "latex": [
        "$$O_{5} = 0.995 O_{3}$$"
       ],
       "metadata": {},
       "output_type": "display_data",
       "png": "[encoded data removed]",
       "text": [
        "O\u2085 = 0.995\u22c5O\u2083"
       ]
      },
      {
       "latex": [
        "$$EO_{4} = 0.97 EO_{3}$$"
       ],
       "metadata": {},
       "output_type": "display_data",
       "png": "[encoded data removed]",
       "text": [
        "EO\u2084 = 0.97\u22c5EO\u2083"
       ]
      }
     ],
     "prompt_number": 10
    },
    {
     "cell_type": "markdown",
     "metadata": {
      "slideshow": {
       "slide_type": "slide"
      }
     },
     "source": [
      "Recycle calculations are introduce a strong dependence of flow rates on parameters such as fraction conversion in the reactor and fractional recovery in separation units. To see this, here we solve for the flowrate of E<sub>2</sub> as a function of fractional conversion of ethylene in the reactor.\n",
      "\n",
      "From the material balances\n",
      "\n",
      "E<sub>2</sub> = E<sub>1</sub> + E<sub>5</sub><br>\n",
      "E<sub>3</sub> = (1-f<sub>conv</sub>) E<sub>2</sub><br>\n",
      "E<sub>5</sub> = 0.98 E<sub>3</sub><br>\n",
      "\n",
      "Take a moment and solve these by hand."
     ]
    },
    {
     "cell_type": "code",
     "collapsed": false,
     "input": [
      "soln = solve(material_balances + specifications)[0]\n",
      "\n",
      "display(Eq(E2,soln[E2]))\n",
      "plot(soln[E2],(fconv,0,1),xlabel='fconv',ylabel='kg-mol/hour',title='E2 flowrate');"
     ],
     "language": "python",
     "metadata": {
      "slideshow": {
       "slide_type": "subslide"
      }
     },
     "outputs": [
      {
       "latex": [
        "$$E_{2} = \\frac{9800.0}{49.0 fconv + 1.0}$$"
       ],
       "metadata": {},
       "output_type": "display_data",
       "png": "[encoded data removed]",
       "text": [
        "          9800.0     \n",
        "E\u2082 = \u2500\u2500\u2500\u2500\u2500\u2500\u2500\u2500\u2500\u2500\u2500\u2500\u2500\u2500\u2500\u2500\n",
        "     49.0\u22c5fconv + 1.0"
       ]
      },
      {
       "metadata": {},
       "output_type": "display_data",
       "png": "[encoded data removed]",
       "text": [
        "<matplotlib.figure.Figure at 0x109697490>"
       ]
      }
     ],
     "prompt_number": 11
    },
    {
     "cell_type": "code",
     "collapsed": false,
     "input": [
      "for v in variables:\n",
      "    display(Eq(v, soln[v]))"
     ],
     "language": "python",
     "metadata": {},
     "outputs": [
      {
       "latex": [
        "$$E_{1} = 196.0$$"
       ],
       "metadata": {},
       "output_type": "display_data",
       "png": "[encoded data removed]",
       "text": [
        "E\u2081 = 196.0"
       ]
      },
      {
       "latex": [
        "$$O_{1} = 84.5$$"
       ],
       "metadata": {},
       "output_type": "display_data",
       "png": "[encoded data removed]",
       "text": [
        "O\u2081 = 84.5"
       ]
      },
      {
       "latex": [
        "$$E_{2} = \\frac{9800.0}{49.0 fconv + 1.0}$$"
       ],
       "metadata": {},
       "output_type": "display_data",
       "png": "[encoded data removed]",
       "text": [
        "          9800.0     \n",
        "E\u2082 = \u2500\u2500\u2500\u2500\u2500\u2500\u2500\u2500\u2500\u2500\u2500\u2500\u2500\u2500\u2500\u2500\n",
        "     49.0\u22c5fconv + 1.0"
       ]
      },
      {
       "latex": [
        "$$O_{2} = - \\frac{147000.0 fconv - 16900.0}{49.0 fconv + 1.0}$$"
       ],
       "metadata": {},
       "output_type": "display_data",
       "png": "[encoded data removed]",
       "text": [
        "     -100.0\u22c5(1470.0\u22c5fconv - 169.0) \n",
        "O\u2082 = \u2500\u2500\u2500\u2500\u2500\u2500\u2500\u2500\u2500\u2500\u2500\u2500\u2500\u2500\u2500\u2500\u2500\u2500\u2500\u2500\u2500\u2500\u2500\u2500\u2500\u2500\u2500\u2500\u2500\u2500\n",
        "            49.0\u22c5fconv + 1.0       "
       ]
      },
      {
       "latex": [
        "$$EO_{2} = \\frac{303.092783505155 fconv}{49.0 fconv + 1.0}$$"
       ],
       "metadata": {},
       "output_type": "display_data",
       "png": "[encoded data removed]",
       "text": [
        "      303.092783505155\u22c5fconv\n",
        "EO\u2082 = \u2500\u2500\u2500\u2500\u2500\u2500\u2500\u2500\u2500\u2500\u2500\u2500\u2500\u2500\u2500\u2500\u2500\u2500\u2500\u2500\u2500\u2500\n",
        "         49.0\u22c5fconv + 1.0   "
       ]
      },
      {
       "latex": [
        "$$E_{3} = - \\frac{9800.0 fconv - 9800.0}{49.0 fconv + 1.0}$$"
       ],
       "metadata": {},
       "output_type": "display_data",
       "png": "[encoded data removed]",
       "text": [
        "     -9800.0\u22c5(fconv - 1.0) \n",
        "E\u2083 = \u2500\u2500\u2500\u2500\u2500\u2500\u2500\u2500\u2500\u2500\u2500\u2500\u2500\u2500\u2500\u2500\u2500\u2500\u2500\u2500\u2500\u2500\n",
        "        49.0\u22c5fconv + 1.0   "
       ]
      },
      {
       "latex": [
        "$$O_{3} = - \\frac{151900.0 fconv - 16900.0}{49.0 fconv + 1.0}$$"
       ],
       "metadata": {},
       "output_type": "display_data",
       "png": "[encoded data removed]",
       "text": [
        "     -100.0\u22c5(1519.0\u22c5fconv - 169.0) \n",
        "O\u2083 = \u2500\u2500\u2500\u2500\u2500\u2500\u2500\u2500\u2500\u2500\u2500\u2500\u2500\u2500\u2500\u2500\u2500\u2500\u2500\u2500\u2500\u2500\u2500\u2500\u2500\u2500\u2500\u2500\u2500\u2500\n",
        "            49.0\u22c5fconv + 1.0       "
       ]
      },
      {
       "latex": [
        "$$EO_{3} = \\frac{10103.0927835052 fconv}{49.0 fconv + 1.0}$$"
       ],
       "metadata": {},
       "output_type": "display_data",
       "png": "[encoded data removed]",
       "text": [
        "      10103.0927835052\u22c5fconv\n",
        "EO\u2083 = \u2500\u2500\u2500\u2500\u2500\u2500\u2500\u2500\u2500\u2500\u2500\u2500\u2500\u2500\u2500\u2500\u2500\u2500\u2500\u2500\u2500\u2500\n",
        "         49.0\u22c5fconv + 1.0   "
       ]
      },
      {
       "latex": [
        "$$E_{4} = - \\frac{196.0 fconv - 196.0}{49.0 fconv + 1.0}$$"
       ],
       "metadata": {},
       "output_type": "display_data",
       "png": "[encoded data removed]",
       "text": [
        "     -196.0\u22c5(fconv - 1.0) \n",
        "E\u2084 = \u2500\u2500\u2500\u2500\u2500\u2500\u2500\u2500\u2500\u2500\u2500\u2500\u2500\u2500\u2500\u2500\u2500\u2500\u2500\u2500\u2500\n",
        "        49.0\u22c5fconv + 1.0  "
       ]
      },
      {
       "latex": [
        "$$O_{4} = - \\frac{759.5 fconv - 84.5}{49.0 fconv + 1.0}$$"
       ],
       "metadata": {},
       "output_type": "display_data",
       "png": "[encoded data removed]",
       "text": [
        "     -0.5\u22c5(1519.0\u22c5fconv - 169.0) \n",
        "O\u2084 = \u2500\u2500\u2500\u2500\u2500\u2500\u2500\u2500\u2500\u2500\u2500\u2500\u2500\u2500\u2500\u2500\u2500\u2500\u2500\u2500\u2500\u2500\u2500\u2500\u2500\u2500\u2500\u2500\n",
        "           49.0\u22c5fconv + 1.0      "
       ]
      },
      {
       "latex": [
        "$$EO_{4} = \\frac{9800.0 fconv}{49.0 fconv + 1.0}$$"
       ],
       "metadata": {},
       "output_type": "display_data",
       "png": "[encoded data removed]",
       "text": [
        "        9800.0\u22c5fconv  \n",
        "EO\u2084 = \u2500\u2500\u2500\u2500\u2500\u2500\u2500\u2500\u2500\u2500\u2500\u2500\u2500\u2500\u2500\u2500\n",
        "      49.0\u22c5fconv + 1.0"
       ]
      },
      {
       "latex": [
        "$$E_{5} = - \\frac{9604.0 fconv - 9604.0}{49.0 fconv + 1.0}$$"
       ],
       "metadata": {},
       "output_type": "display_data",
       "png": "[encoded data removed]",
       "text": [
        "     -9604.0\u22c5(fconv - 1.0) \n",
        "E\u2085 = \u2500\u2500\u2500\u2500\u2500\u2500\u2500\u2500\u2500\u2500\u2500\u2500\u2500\u2500\u2500\u2500\u2500\u2500\u2500\u2500\u2500\u2500\n",
        "        49.0\u22c5fconv + 1.0   "
       ]
      },
      {
       "latex": [
        "$$O_{5} = - \\frac{151140.5 fconv - 16815.5}{49.0 fconv + 1.0}$$"
       ],
       "metadata": {},
       "output_type": "display_data",
       "png": "[encoded data removed]",
       "text": [
        "     -99.5\u22c5(1519.0\u22c5fconv - 169.0) \n",
        "O\u2085 = \u2500\u2500\u2500\u2500\u2500\u2500\u2500\u2500\u2500\u2500\u2500\u2500\u2500\u2500\u2500\u2500\u2500\u2500\u2500\u2500\u2500\u2500\u2500\u2500\u2500\u2500\u2500\u2500\u2500\n",
        "            49.0\u22c5fconv + 1.0      "
       ]
      },
      {
       "latex": [
        "$$EO_{5} = \\frac{303.092783505155 fconv}{49.0 fconv + 1.0}$$"
       ],
       "metadata": {},
       "output_type": "display_data",
       "png": "[encoded data removed]",
       "text": [
        "      303.092783505155\u22c5fconv\n",
        "EO\u2085 = \u2500\u2500\u2500\u2500\u2500\u2500\u2500\u2500\u2500\u2500\u2500\u2500\u2500\u2500\u2500\u2500\u2500\u2500\u2500\u2500\u2500\u2500\n",
        "         49.0\u22c5fconv + 1.0   "
       ]
      },
      {
       "latex": [
        "$$X = \\frac{4900.0 fconv}{49.0 fconv + 1.0}$$"
       ],
       "metadata": {},
       "output_type": "display_data",
       "png": "[encoded data removed]",
       "text": [
        "      4900.0\u22c5fconv  \n",
        "X = \u2500\u2500\u2500\u2500\u2500\u2500\u2500\u2500\u2500\u2500\u2500\u2500\u2500\u2500\u2500\u2500\n",
        "    49.0\u22c5fconv + 1.0"
       ]
      }
     ],
     "prompt_number": 12
    },
    {
     "cell_type": "code",
     "collapsed": false,
     "input": [
      "purity = soln[EO4]/(soln[EO4]+soln[E4]+soln[O4])\n",
      "\n",
      "display(simplify(purity))\n",
      "plot(purity,(fconv,0,.2),xlabel='fconv',ylabel='fraction EO',title='Purity');"
     ],
     "language": "python",
     "metadata": {
      "slideshow": {
       "slide_type": "subslide"
      }
     },
     "outputs": [
      {
       "latex": [
        "$$\\frac{9800.0 fconv}{8844.5 fconv + 280.5}$$"
       ],
       "metadata": {},
       "output_type": "display_data",
       "png": "[encoded data removed]",
       "text": [
        "    9800.0\u22c5fconv    \n",
        "\u2500\u2500\u2500\u2500\u2500\u2500\u2500\u2500\u2500\u2500\u2500\u2500\u2500\u2500\u2500\u2500\u2500\u2500\u2500\u2500\n",
        "8844.5\u22c5fconv + 280.5"
       ]
      },
      {
       "metadata": {},
       "output_type": "display_data",
       "png": "[encoded data removed]",
       "text": [
        "<matplotlib.figure.Figure at 0x1089de750>"
       ]
      }
     ],
     "prompt_number": 13
    },
    {
     "cell_type": "code",
     "collapsed": false,
     "input": [
      "production = 24*350*(soln[EO4] + soln[E4] + soln[O4])/1000000\n",
      "\n",
      "display(simplify(production))\n",
      "plot(production,(fconv,0,0.2),xlabel='fconv',ylabel='kg-mol/year',title='Production');"
     ],
     "language": "python",
     "metadata": {
      "slideshow": {
       "slide_type": "subslide"
      }
     },
     "outputs": [
      {
       "latex": [
        "$$\\frac{74.2938 fconv + 2.3562}{49.0 fconv + 1.0}$$"
       ],
       "metadata": {},
       "output_type": "display_data",
       "png": "[encoded data removed]",
       "text": [
        "74.2938\u22c5fconv + 2.3562\n",
        "\u2500\u2500\u2500\u2500\u2500\u2500\u2500\u2500\u2500\u2500\u2500\u2500\u2500\u2500\u2500\u2500\u2500\u2500\u2500\u2500\u2500\u2500\n",
        "   49.0\u22c5fconv + 1.0   "
       ]
      },
      {
       "metadata": {},
       "output_type": "display_data",
       "png": "[encoded data removed]",
       "text": [
        "<matplotlib.figure.Figure at 0x109675c10>"
       ]
      }
     ],
     "prompt_number": 14
    },
    {
     "cell_type": "heading",
     "level": 3,
     "metadata": {
      "slideshow": {
       "slide_type": "slide"
      }
     },
     "source": [
      "Parametric Analysis: Fractional Recovery of Ethylene Oxide to Product"
     ]
    },
    {
     "cell_type": "markdown",
     "metadata": {},
     "source": [
      "Will improving the recovery of Ethylene Oxide to the product stream improve the product purity? Make a prediction, then check against the results of the following calculations."
     ]
    },
    {
     "cell_type": "code",
     "collapsed": false,
     "input": [
      "feed_spec = [\n",
      "    Eq(E1,196.0),\n",
      "    Eq(O1, 84.5)]\n",
      "\n",
      "reactor_spec = [\n",
      "    Eq(E2 - E3, 0.06*E2)]\n",
      "\n",
      "frcvr = symbols('frcvr')\n",
      "separator_spec = [\n",
      "    Eq(E5, 0.98*E3),\n",
      "    Eq(O5, 0.995*O3),\n",
      "    Eq(EO4, frcvr*EO3)]\n",
      "\n",
      "specifications = feed_spec + reactor_spec + separator_spec\n",
      "for s in specifications:\n",
      "    display(s)"
     ],
     "language": "python",
     "metadata": {
      "slideshow": {
       "slide_type": "fragment"
      }
     },
     "outputs": [
      {
       "latex": [
        "$$E_{1} = 196.0$$"
       ],
       "metadata": {},
       "output_type": "display_data",
       "png": "[encoded data removed]",
       "text": [
        "E\u2081 = 196.0"
       ]
      },
      {
       "latex": [
        "$$O_{1} = 84.5$$"
       ],
       "metadata": {},
       "output_type": "display_data",
       "png": "[encoded data removed]",
       "text": [
        "O\u2081 = 84.5"
       ]
      },
      {
       "latex": [
        "$$E_{2} - E_{3} = 0.06 E_{2}$$"
       ],
       "metadata": {},
       "output_type": "display_data",
       "png": "[encoded data removed]",
       "text": [
        "E\u2082 - E\u2083 = 0.06\u22c5E\u2082"
       ]
      },
      {
       "latex": [
        "$$E_{5} = 0.98 E_{3}$$"
       ],
       "metadata": {},
       "output_type": "display_data",
       "png": "[encoded data removed]",
       "text": [
        "E\u2085 = 0.98\u22c5E\u2083"
       ]
      },
      {
       "latex": [
        "$$O_{5} = 0.995 O_{3}$$"
       ],
       "metadata": {},
       "output_type": "display_data",
       "png": "[encoded data removed]",
       "text": [
        "O\u2085 = 0.995\u22c5O\u2083"
       ]
      },
      {
       "latex": [
        "$$EO_{4} = EO_{3} frcvr$$"
       ],
       "metadata": {},
       "output_type": "display_data",
       "png": "[encoded data removed]",
       "text": [
        "EO\u2084 = EO\u2083\u22c5frcvr"
       ]
      }
     ],
     "prompt_number": 15
    },
    {
     "cell_type": "code",
     "collapsed": false,
     "input": [
      "soln = solve(material_balances + specifications)[0]\n",
      "\n",
      "purity = soln[EO4]/(soln[EO4]+soln[E4]+soln[O4])\n",
      "\n",
      "display(purity)\n",
      "plot(purity,(frcvr,0.9,1.00),xlabel='frcvr',ylabel='fraction EO',title='Purity');"
     ],
     "language": "python",
     "metadata": {
      "slideshow": {
       "slide_type": "subslide"
      }
     },
     "outputs": [
      {
       "latex": [
        "$$0.724878878656755$$"
       ],
       "metadata": {},
       "output_type": "display_data",
       "png": "[encoded data removed]",
       "text": [
        "0.724878878656755"
       ]
      },
      {
       "metadata": {},
       "output_type": "display_data",
       "png": "[encoded data removed]",
       "text": [
        "<matplotlib.figure.Figure at 0x10962af10>"
       ]
      }
     ],
     "prompt_number": 16
    },
    {
     "cell_type": "code",
     "collapsed": false,
     "input": [
      "production = 24*350*(soln[EO4] + soln[E4] + soln[O4])/1000000\n",
      "display(production)\n",
      "plot(production,(frcvr,0.9,1.00),xlabel='frcvr',ylabel='kg-mol/year',title='Production');"
     ],
     "language": "python",
     "metadata": {
      "slideshow": {
       "slide_type": "subslide"
      }
     },
     "outputs": [
      {
       "latex": [
        "$$1.72939796954315$$"
       ],
       "metadata": {},
       "output_type": "display_data",
       "png": "[encoded data removed]",
       "text": [
        "1.72939796954315"
       ]
      },
      {
       "metadata": {},
       "output_type": "display_data",
       "png": "[encoded data removed]",
       "text": [
        "<matplotlib.figure.Figure at 0x10a150950>"
       ]
      }
     ],
     "prompt_number": 53
    },
    {
     "cell_type": "heading",
     "level": 4,
     "metadata": {
      "slideshow": {
       "slide_type": "subslide"
      }
     },
     "source": [
      "Discussion Questions"
     ]
    },
    {
     "cell_type": "markdown",
     "metadata": {},
     "source": [
      "* Is this what you expected?\n",
      "* Why doesn't the product purity or production depend on the fractional recovery of ethylene oxide in the separator?"
     ]
    },
    {
     "cell_type": "heading",
     "level": 3,
     "metadata": {
      "slideshow": {
       "slide_type": "slide"
      }
     },
     "source": [
      "Parametric Analysis: Fractional Recovery of Ethylene to Recycle"
     ]
    },
    {
     "cell_type": "markdown",
     "metadata": {},
     "source": [
      "Increasing the fraction of ethylene recovered for recycle should improve product purity. Let's see what happens when we raise it."
     ]
    },
    {
     "cell_type": "code",
     "collapsed": false,
     "input": [
      "feed_spec = [\n",
      "    Eq(E1,196.0),\n",
      "    Eq(O1, 84.5)]\n",
      "\n",
      "reactor_spec = [\n",
      "    Eq(E2 - E3, 0.06*E2)]\n",
      "\n",
      "frcvr = symbols('frcvr')\n",
      "separator_spec = [\n",
      "    Eq(E5, frcvr*E3),\n",
      "    Eq(O5, 0.995*O3),\n",
      "    Eq(EO4, 0.97*EO3)]\n",
      "\n",
      "specifications = feed_spec + reactor_spec + separator_spec\n",
      "for s in specifications:\n",
      "    display(s)"
     ],
     "language": "python",
     "metadata": {
      "slideshow": {
       "slide_type": "fragment"
      }
     },
     "outputs": [
      {
       "latex": [
        "$$E_{1} = 196.0$$"
       ],
       "metadata": {},
       "output_type": "display_data",
       "png": "[encoded data removed]",
       "text": [
        "E\u2081 = 196.0"
       ]
      },
      {
       "latex": [
        "$$O_{1} = 84.5$$"
       ],
       "metadata": {},
       "output_type": "display_data",
       "png": "[encoded data removed]",
       "text": [
        "O\u2081 = 84.5"
       ]
      },
      {
       "latex": [
        "$$E_{2} - E_{3} = 0.06 E_{2}$$"
       ],
       "metadata": {},
       "output_type": "display_data",
       "png": "[encoded data removed]",
       "text": [
        "E\u2082 - E\u2083 = 0.06\u22c5E\u2082"
       ]
      },
      {
       "latex": [
        "$$E_{5} = E_{3} frcvr$$"
       ],
       "metadata": {},
       "output_type": "display_data",
       "png": "[encoded data removed]",
       "text": [
        "E\u2085 = E\u2083\u22c5frcvr"
       ]
      },
      {
       "latex": [
        "$$O_{5} = 0.995 O_{3}$$"
       ],
       "metadata": {},
       "output_type": "display_data",
       "png": "[encoded data removed]",
       "text": [
        "O\u2085 = 0.995\u22c5O\u2083"
       ]
      },
      {
       "latex": [
        "$$EO_{4} = 0.97 EO_{3}$$"
       ],
       "metadata": {},
       "output_type": "display_data",
       "png": "[encoded data removed]",
       "text": [
        "EO\u2084 = 0.97\u22c5EO\u2083"
       ]
      }
     ],
     "prompt_number": 54
    },
    {
     "cell_type": "code",
     "collapsed": false,
     "input": [
      "soln = solve(material_balances + specifications)[0]\n",
      "\n",
      "purity = soln[EO4]/(soln[EO4]+soln[E4]+soln[O4])\n",
      "display(simplify(purity))\n",
      "plot(purity,(frcvr,0.9,1),xlabel='frcvr',ylabel='fraction EO',title='Purity');"
     ],
     "language": "python",
     "metadata": {
      "slideshow": {
       "slide_type": "subslide"
      }
     },
     "outputs": [
      {
       "latex": [
        "$$- \\frac{588.0}{13183.5 frcvr - 13731.0}$$"
       ],
       "metadata": {},
       "output_type": "display_data",
       "png": "[encoded data removed]",
       "text": [
        "        -588.0         \n",
        "\u2500\u2500\u2500\u2500\u2500\u2500\u2500\u2500\u2500\u2500\u2500\u2500\u2500\u2500\u2500\u2500\u2500\u2500\u2500\u2500\u2500\u2500\u2500\n",
        "13183.5\u22c5frcvr - 13731.0"
       ]
      },
      {
       "metadata": {},
       "output_type": "display_data",
       "png": "[encoded data removed]",
       "text": [
        "<matplotlib.figure.Figure at 0x10a33a350>"
       ]
      }
     ],
     "prompt_number": 55
    },
    {
     "cell_type": "code",
     "collapsed": false,
     "input": [
      "production = 24*350*(soln[EO4] + soln[E4] + soln[O4])/1000000\n",
      "display(simplify(production))\n",
      "plot(production,(frcvr,0.9,1.00),xlabel='frcvr',ylabel='kg-mol/year',title='Production');"
     ],
     "language": "python",
     "metadata": {
      "slideshow": {
       "slide_type": "subslide"
      }
     },
     "outputs": [
      {
       "latex": [
        "$$\\frac{110.7414 frcvr - 115.3404}{47.0 frcvr - 50.0}$$"
       ],
       "metadata": {},
       "output_type": "display_data",
       "png": "[encoded data removed]",
       "text": [
        "110.7414\u22c5frcvr - 115.3404\n",
        "\u2500\u2500\u2500\u2500\u2500\u2500\u2500\u2500\u2500\u2500\u2500\u2500\u2500\u2500\u2500\u2500\u2500\u2500\u2500\u2500\u2500\u2500\u2500\u2500\u2500\n",
        "    47.0\u22c5frcvr - 50.0    "
       ]
      },
      {
       "metadata": {},
       "output_type": "display_data",
       "png": "[encoded data removed]",
       "text": [
        "<matplotlib.figure.Figure at 0x10a05a450>"
       ]
      }
     ],
     "prompt_number": 56
    },
    {
     "cell_type": "heading",
     "level": 4,
     "metadata": {
      "slideshow": {
       "slide_type": "subslide"
      }
     },
     "source": [
      "Discussion Questions"
     ]
    },
    {
     "cell_type": "markdown",
     "metadata": {},
     "source": [
      "* Did this behave as you expected?\n",
      "* Increasing the ethylene recovery to 1.00 leads to a product purity greater than 1.0. Obviously that's not possible. What's going wrong?\n",
      "* What is the maximum possible recovery of ethylene for recycle?"
     ]
    },
    {
     "cell_type": "heading",
     "level": 4,
     "metadata": {
      "slideshow": {
       "slide_type": "slide"
      }
     },
     "source": [
      "Parametric Analysis: Change the Oxygen Feed Rate"
     ]
    },
    {
     "cell_type": "markdown",
     "metadata": {},
     "source": [
      "As we've discovered, the oxygen feedrate is not sufficient to consume all of the ethylene. Let's explore what happens if we change the oxygen feedrate."
     ]
    },
    {
     "cell_type": "code",
     "collapsed": false,
     "input": [
      "oxyfeed = symbols('oxyfeed')\n",
      "feed_spec = [\n",
      "    Eq(E1,196.0),\n",
      "    Eq(O1,oxyfeed)]\n",
      "\n",
      "reactor_spec = [\n",
      "    Eq(E2 - E3, 0.06*E2)]\n",
      "\n",
      "separator_spec = [\n",
      "    Eq(E5, 0.98*E3),\n",
      "    Eq(O5, 0.995*O3),\n",
      "    Eq(EO4, 0.97*EO3)]\n",
      "\n",
      "specifications = feed_spec + reactor_spec + separator_spec\n",
      "for s in specifications:\n",
      "    display(s)"
     ],
     "language": "python",
     "metadata": {
      "slideshow": {
       "slide_type": "fragment"
      }
     },
     "outputs": [
      {
       "latex": [
        "$$E_{1} = 196.0$$"
       ],
       "metadata": {},
       "output_type": "display_data",
       "png": "[encoded data removed]",
       "text": [
        "E\u2081 = 196.0"
       ]
      },
      {
       "latex": [
        "$$O_{1} = oxyfeed$$"
       ],
       "metadata": {},
       "output_type": "display_data",
       "png": "[encoded data removed]",
       "text": [
        "O\u2081 = oxyfeed"
       ]
      },
      {
       "latex": [
        "$$E_{2} - E_{3} = 0.06 E_{2}$$"
       ],
       "metadata": {},
       "output_type": "display_data",
       "png": "[encoded data removed]",
       "text": [
        "E\u2082 - E\u2083 = 0.06\u22c5E\u2082"
       ]
      },
      {
       "latex": [
        "$$E_{5} = 0.98 E_{3}$$"
       ],
       "metadata": {},
       "output_type": "display_data",
       "png": "[encoded data removed]",
       "text": [
        "E\u2085 = 0.98\u22c5E\u2083"
       ]
      },
      {
       "latex": [
        "$$O_{5} = 0.995 O_{3}$$"
       ],
       "metadata": {},
       "output_type": "display_data",
       "png": "[encoded data removed]",
       "text": [
        "O\u2085 = 0.995\u22c5O\u2083"
       ]
      },
      {
       "latex": [
        "$$EO_{4} = 0.97 EO_{3}$$"
       ],
       "metadata": {},
       "output_type": "display_data",
       "png": "[encoded data removed]",
       "text": [
        "EO\u2084 = 0.97\u22c5EO\u2083"
       ]
      }
     ],
     "prompt_number": 57
    },
    {
     "cell_type": "code",
     "collapsed": false,
     "input": [
      "soln = solve(material_balances + specifications)\n",
      "\n",
      "purity = soln[EO4]/(soln[EO4]+soln[E4]+soln[O4])\n",
      "display(simplify(purity))\n",
      "plot(purity,(oxyfeed,74.5,196/2),xlabel='O1',ylabel='fraction EO',title='Purity');"
     ],
     "language": "python",
     "metadata": {
      "slideshow": {
       "slide_type": "subslide"
      }
     },
     "outputs": [
      {
       "latex": [
        "$$\\frac{149.238578680203}{oxyfeed + 121.380710659898}$$"
       ],
       "metadata": {},
       "output_type": "display_data",
       "png": "[encoded data removed]",
       "text": [
        "     149.238578680203     \n",
        "\u2500\u2500\u2500\u2500\u2500\u2500\u2500\u2500\u2500\u2500\u2500\u2500\u2500\u2500\u2500\u2500\u2500\u2500\u2500\u2500\u2500\u2500\u2500\u2500\u2500\u2500\n",
        "oxyfeed + 121.380710659898"
       ]
      },
      {
       "metadata": {},
       "output_type": "display_data",
       "png": "[encoded data removed]",
       "text": [
        "<matplotlib.figure.Figure at 0x108b297d0>"
       ]
      }
     ],
     "prompt_number": 58
    },
    {
     "cell_type": "code",
     "collapsed": false,
     "input": [
      "production = 24*350*(soln[EO4] + soln[E4] + soln[O4])/1000000\n",
      "display(simplify(production))\n",
      "plot(production,(oxyfeed,74.5,196/2),xlabel='O1',ylabel='kg-mol/year',title='Production');"
     ],
     "language": "python",
     "metadata": {
      "slideshow": {
       "slide_type": "subslide"
      }
     },
     "outputs": [
      {
       "latex": [
        "$$0.0084 oxyfeed + 1.01959796954315$$"
       ],
       "metadata": {},
       "output_type": "display_data",
       "png": "[encoded data removed]",
       "text": [
        "0.0084\u22c5oxyfeed + 1.01959796954315"
       ]
      },
      {
       "metadata": {},
       "output_type": "display_data",
       "png": "[encoded data removed]",
       "text": [
        "<matplotlib.figure.Figure at 0x108ba8690>"
       ]
      }
     ],
     "prompt_number": 59
    },
    {
     "cell_type": "heading",
     "level": 4,
     "metadata": {
      "slideshow": {
       "slide_type": "subslide"
      }
     },
     "source": [
      "    Discussion Questions"
     ]
    },
    {
     "cell_type": "markdown",
     "metadata": {},
     "source": [
      "* Did this behave as you expected?\n",
      "* Why did the product purity decrease as the oxygen feedrate was increased?"
     ]
    },
    {
     "cell_type": "heading",
     "level": 2,
     "metadata": {
      "slideshow": {
       "slide_type": "slide"
      }
     },
     "source": [
      "Conclusions"
     ]
    },
    {
     "cell_type": "markdown",
     "metadata": {},
     "source": [
      "* The nominal process specifications yield a product purity of 72.5 mol% and a production of 1.73 million kgmol/year. The product purity falls significantly short of the desired purity of 98 mol%.\n",
      "* Product purity can be increased by increasing the single-pass reactor conversion, increasing the recovery of ethylene to recycle, and decreasing oxygen feed. Individual, however, these changes are not sufficient to meet to the desired purity.\n",
      "* Can you find specifications that will meet the 98% product purity specification?"
     ]
    }
   ],
   "metadata": {}
  }
 ]
}