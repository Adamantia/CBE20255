{
 "cells": [
  {
   "cell_type": "markdown",
   "metadata": {},
   "source": [
    "######The latest version of this IPython notebook is available at [http://github.com/jckantor/CBE20255](http://github.com/jckantor/CBE20255)  for noncommercial use under terms of the [Creative Commons Attribution Noncommericial ShareAlike License](http://creativecommons.org/licenses/by-nc-sa/4.0/).\n",
    "\n",
    "J.C. Kantor (Kantor.1@nd.edu)"
   ]
  },
  {
   "cell_type": "markdown",
   "metadata": {
    "slideshow": {
     "slide_type": "slide"
    }
   },
   "source": [
    "# Ethylene Oxide Flowsheet"
   ]
  },
  {
   "cell_type": "markdown",
   "metadata": {},
   "source": [
    "This [IPython notebook](http://ipython.org/notebook.html) demonstrates the formulation and solution of material balances for an ethylene oxide flowsheet using the [symbolic algebra package Sympy](http://sympy.org/en/index.html)."
   ]
  },
  {
   "cell_type": "markdown",
   "metadata": {
    "slideshow": {
     "slide_type": "slide"
    }
   },
   "source": [
    "## Introduction\n",
    "\n",
    "While material balances for chemical processes are readily expressed as linear equations, extracting the matrix of coefficients for the linear equations can be tedious and error-prone. Fortunately, symbolic calculations can be used to solve material balance problems typical of introductory chemical engineering courses. This is demonstrated below using an example from the textbook [*\n",
    "Introduction to Chemical Processes: Principles, Analysis, and Synthesis*](http://highered.mcgraw-hill.com/sites/0072849606/) by Regina Murphy."
   ]
  },
  {
   "cell_type": "markdown",
   "metadata": {},
   "source": [
    "## Ethylene Oxide\n",
    "\n",
    "<p><a href=\"http://commons.wikimedia.org/wiki/File:TASNEE_001.jpg#/media/File:TASNEE_001.jpg\"><img src=\"http://upload.wikimedia.org/wikipedia/commons/thumb/d/d2/TASNEE_001.jpg/1200px-TASNEE_001.jpg\" alt=\"TASNEE 001.jpg\"></a><br>\"<a href=\"http://commons.wikimedia.org/wiki/File:TASNEE_001.jpg#/media/File:TASNEE_001.jpg\">TASNEE 001</a>\" by <a href=\"//commons.wikimedia.org/w/index.php?title=User:Secl&amp;action=edit&amp;redlink=1\" class=\"new\" title=\"User:Secl (page does not exist)\">Secl</a> - <span class=\"int-own-work\" lang=\"en\">Own work</span>. Licensed under <a href=\"http://creativecommons.org/licenses/by/3.0\" title=\"Creative Commons Attribution 3.0\">CC BY 3.0</a> via <a href=\"//commons.wikimedia.org/wiki/\">Wikimedia Commons</a>.</p>"
   ]
  },
  {
   "cell_type": "markdown",
   "metadata": {
    "slideshow": {
     "slide_type": "slide"
    }
   },
   "source": [
    "## Problem Statement (Murphy 2005, Example 3.19)"
   ]
  },
  {
   "cell_type": "markdown",
   "metadata": {},
   "source": [
    "The problem is to analyze the capability of an existing process for the production of [ethylene oxide](http://www.americanchemistry.com/ProductsTechnology/Ethylene-Oxide/PDF-Ethylene-Oxide-An-Essential-Raw-Material-for-Many-Important-Products-chart.pdf) by the reaction of ethylene and oxygen\n",
    "\n",
    "$$2\\,C_2H_4 + O_2 \\longrightarrow 2\\,C_2H_4O$$\n",
    "\n",
    "The target production is 1.7 &#215; 10<sup>6</sup> kgmol/year of an ethylene oxide product with 98 mol% purity. The feedrate of ethylene is specified as 196 kgmol/hr, and of oxygen is specified as 84.5 kgmol/hr. The reactor has a nominal single pass conversion of 6% ethylene. The separator recovers 98% of the ethylene and 99.5% of the oxygen and 98% of the ethylene for recycle, and 97% of the ethylene oxide for the product stream.  \n",
    "\n",
    "<img src=\"https://raw.github.com/jckantor/CBE20255/master/notebooks/images/ethylene_oxide_flowsheet.png\" style=\"width:500px\">\n",
    "\n",
    "The problem is to find the nominal product purity and production rates, and to examine the sensitivity of product purity and production to the equipment specifications."
   ]
  },
  {
   "cell_type": "markdown",
   "metadata": {
    "slideshow": {
     "slide_type": "slide"
    }
   },
   "source": [
    "## Solution"
   ]
  },
  {
   "cell_type": "markdown",
   "metadata": {},
   "source": [
    "[Sympy](http://sympy.org/en/index.html) is a library written in pure python for symbolic algebra. The solution strategy is to represent the stream variables and reaction extents as symbolic variables, then express the material balances and process specifications as symbolic equations, and finally to use the Sympy solver to find a nominal solution and to perform parametric analyses."
   ]
  },
  {
   "cell_type": "code",
   "execution_count": 1,
   "metadata": {
    "collapsed": false
   },
   "outputs": [],
   "source": [
    "import sympy as sym\n",
    "sym.init_printing()\n",
    "\n",
    "from IPython.display import display"
   ]
  },
  {
   "cell_type": "markdown",
   "metadata": {
    "slideshow": {
     "slide_type": "slide"
    }
   },
   "source": [
    "### Variables"
   ]
  },
  {
   "cell_type": "markdown",
   "metadata": {},
   "source": [
    "#### Stream Variables"
   ]
  },
  {
   "cell_type": "markdown",
   "metadata": {},
   "source": [
    "The stream variables are systematically created using the Sympy `var` function, and added to the list `streams`."
   ]
  },
  {
   "cell_type": "code",
   "execution_count": 79,
   "metadata": {
    "collapsed": false
   },
   "outputs": [
    {
     "data": {
      "image/png": "[encoded data removed]",
      "text/latex": [
       "$$\\left [ \\left ( n_{E1}, \\quad n_{O1}, \\quad n_{EO1}\\right ), \\quad \\left ( n_{E2}, \\quad n_{O2}, \\quad n_{EO2}\\right ), \\quad \\left ( n_{E3}, \\quad n_{O3}, \\quad n_{EO3}\\right ), \\quad \\left ( n_{E4}, \\quad n_{O4}, \\quad n_{EO4}\\right ), \\quad \\left ( n_{E5}, \\quad n_{O5}, \\quad n_{EO5}\\right )\\right ]$$"
      ],
      "text/plain": [
       "[(n_E1, n_O1, n_EO1), (n_E2, n_O2, n_EO2), (n_E3, n_O3, n_EO3), (n_E4, n_O4, n\n",
       "_EO4), (n_E5, n_O5, n_EO5)]"
      ]
     },
     "metadata": {},
     "output_type": "display_data"
    }
   ],
   "source": [
    "stream_table = []\n",
    "stream_table.append(sym.var('n_E1 n_O1 n_EO1'))   # Stream 1\n",
    "stream_table.append(sym.var('n_E2 n_O2 n_EO2'))   # Stream 2\n",
    "stream_table.append(sym.var('n_E3 n_O3 n_EO3'))   # Stream 3\n",
    "stream_table.append(sym.var('n_E4 n_O4 n_EO4'))   # Stream 4\n",
    "stream_table.append(sym.var('n_E5 n_O5 n_EO5'))   # Stream 5\n",
    "\n",
    "display(stream_table)"
   ]
  },
  {
   "cell_type": "markdown",
   "metadata": {
    "slideshow": {
     "slide_type": "slide"
    }
   },
   "source": [
    "#### Extent of Reaction"
   ]
  },
  {
   "cell_type": "markdown",
   "metadata": {},
   "source": [
    "This problem includes only a single reaction in a single reactor. A corresponding extent of reaction variable is created, and a master list of all process variables is created."
   ]
  },
  {
   "cell_type": "code",
   "execution_count": 80,
   "metadata": {
    "collapsed": false
   },
   "outputs": [
    {
     "data": {
      "image/png": "[encoded data removed]",
      "text/latex": [
       "$$\\left [ X\\right ]$$"
      ],
      "text/plain": [
       "[X]"
      ]
     },
     "metadata": {},
     "output_type": "display_data"
    }
   ],
   "source": [
    "extents = [sym.var('X')]\n",
    "display(extents)"
   ]
  },
  {
   "cell_type": "markdown",
   "metadata": {},
   "source": [
    "Create list of all variables"
   ]
  },
  {
   "cell_type": "code",
   "execution_count": 82,
   "metadata": {
    "collapsed": false
   },
   "outputs": [
    {
     "data": {
      "image/png": "[encoded data removed]",
      "text/latex": [
       "$$\\left [ X, \\quad n_{E1}, \\quad n_{O1}, \\quad n_{EO1}, \\quad n_{E2}, \\quad n_{O2}, \\quad n_{EO2}, \\quad n_{E3}, \\quad n_{O3}, \\quad n_{EO3}, \\quad n_{E4}, \\quad n_{O4}, \\quad n_{EO4}, \\quad n_{E5}, \\quad n_{O5}, \\quad n_{EO5}\\right ]$$"
      ],
      "text/plain": [
       "[X, n_E1, n_O1, n_EO1, n_E2, n_O2, n_EO2, n_E3, n_O3, n_EO3, n_E4, n_O4, n_EO4\n",
       ", n_E5, n_O5, n_EO5]"
      ]
     },
     "metadata": {},
     "output_type": "display_data"
    }
   ],
   "source": [
    "variables = []\n",
    "for x in extents:\n",
    "    variables.append(x)\n",
    "for s in stream_table:\n",
    "    for v in s:\n",
    "        variables.append(v)\n",
    "\n",
    "display(variables)"
   ]
  },
  {
   "cell_type": "markdown",
   "metadata": {
    "slideshow": {
     "slide_type": "slide"
    }
   },
   "source": [
    "### Equations"
   ]
  },
  {
   "cell_type": "markdown",
   "metadata": {},
   "source": [
    "#### Material Balances"
   ]
  },
  {
   "cell_type": "markdown",
   "metadata": {},
   "source": [
    "Material balances are written for each process unit using the symbolic stream and extent of reaction variables created above. Each material balance is expressed as the net rate of accumulation that will be set to zero to specify steady-state operation. The material balances are gathered into a list for each process unit, then the lists are concantenated to create a list of all material balances."
   ]
  },
  {
   "cell_type": "code",
   "execution_count": 81,
   "metadata": {
    "collapsed": false
   },
   "outputs": [
    {
     "data": {
      "image/png": "[encoded data removed]",
      "text/latex": [
       "$$0 = n_{E1} - n_{E2} + n_{E5}$$"
      ],
      "text/plain": [
       "0 = n_E1 - n_E2 + n_E5"
      ]
     },
     "metadata": {},
     "output_type": "display_data"
    },
    {
     "data": {
      "image/png": "[encoded data removed]",
      "text/latex": [
       "$$0 = n_{O1} - n_{O2} + n_{O5}$$"
      ],
      "text/plain": [
       "0 = n_O1 - n_O2 + n_O5"
      ]
     },
     "metadata": {},
     "output_type": "display_data"
    },
    {
     "data": {
      "image/png": "[encoded data removed]",
      "text/latex": [
       "$$0 = - n_{EO2} + n_{EO5}$$"
      ],
      "text/plain": [
       "0 = -n_EO2 + n_EO5"
      ]
     },
     "metadata": {},
     "output_type": "display_data"
    },
    {
     "data": {
      "image/png": "[encoded data removed]",
      "text/latex": [
       "$$0 = - 2 X + n_{E2} - n_{E3}$$"
      ],
      "text/plain": [
       "0 = -2⋅X + n_E2 - n_E3"
      ]
     },
     "metadata": {},
     "output_type": "display_data"
    },
    {
     "data": {
      "image/png": "[encoded data removed]",
      "text/latex": [
       "$$0 = - X + n_{O2} - n_{O3}$$"
      ],
      "text/plain": [
       "0 = -X + n_O2 - n_O3"
      ]
     },
     "metadata": {},
     "output_type": "display_data"
    },
    {
     "data": {
      "image/png": "[encoded data removed]",
      "text/latex": [
       "$$0 = 2 X + n_{EO2} - n_{EO3}$$"
      ],
      "text/plain": [
       "0 = 2⋅X + n_EO2 - n_EO3"
      ]
     },
     "metadata": {},
     "output_type": "display_data"
    },
    {
     "data": {
      "image/png": "[encoded data removed]",
      "text/latex": [
       "$$0 = n_{E3} - n_{E4} - n_{E5}$$"
      ],
      "text/plain": [
       "0 = n_E3 - n_E4 - n_E5"
      ]
     },
     "metadata": {},
     "output_type": "display_data"
    },
    {
     "data": {
      "image/png": "[encoded data removed]",
      "text/latex": [
       "$$0 = n_{O3} - n_{O4} - n_{O5}$$"
      ],
      "text/plain": [
       "0 = n_O3 - n_O4 - n_O5"
      ]
     },
     "metadata": {},
     "output_type": "display_data"
    },
    {
     "data": {
      "image/png": "[encoded data removed]",
      "text/latex": [
       "$$0 = n_{EO3} - n_{EO4} - n_{EO5}$$"
      ],
      "text/plain": [
       "0 = n_EO3 - n_EO4 - n_EO5"
      ]
     },
     "metadata": {},
     "output_type": "display_data"
    }
   ],
   "source": [
    "mixer = [\n",
    "    sym.Eq(0, n_E1 + n_E5 - n_E2),\n",
    "    sym.Eq(0, n_O1 + n_O5 - n_O2),\n",
    "    sym.Eq(0, n_EO5 - n_EO2)]\n",
    "\n",
    "reactor = [\n",
    "    sym.Eq(0, n_E2 - n_E3 - 2*X),\n",
    "    sym.Eq(0, n_O2 - n_O3 - X),\n",
    "    sym.Eq(0, n_EO2 - n_EO3 + 2*X)]\n",
    "\n",
    "separator = [\n",
    "    sym.Eq(0, n_E3 - n_E4 - n_E5),\n",
    "    sym.Eq(0, n_O3 - n_O4 - n_O5),\n",
    "    sym.Eq(0, n_EO3 - n_EO4 - n_EO5)]\n",
    "\n",
    "material_balances = mixer + reactor + separator\n",
    "for eqn in material_balances:\n",
    "    display(eqn)"
   ]
  },
  {
   "cell_type": "markdown",
   "metadata": {
    "slideshow": {
     "slide_type": "slide"
    }
   },
   "source": [
    "#### Specifications\n",
    "\n",
    "Process specifications are written as equalities using the Sympy `Eq` function."
   ]
  },
  {
   "cell_type": "code",
   "execution_count": 64,
   "metadata": {
    "collapsed": false
   },
   "outputs": [
    {
     "data": {
      "image/png": "[encoded data removed]",
      "text/latex": [
       "$$n_{E1} = 196.0$$"
      ],
      "text/plain": [
       "n_E1 = 196.0"
      ]
     },
     "metadata": {},
     "output_type": "display_data"
    },
    {
     "data": {
      "image/png": "[encoded data removed]",
      "text/latex": [
       "$$n_{O1} = 84.5$$"
      ],
      "text/plain": [
       "n_O1 = 84.5"
      ]
     },
     "metadata": {},
     "output_type": "display_data"
    },
    {
     "data": {
      "image/png": "[encoded data removed]",
      "text/latex": [
       "$$n_{EO1} = 0.0$$"
      ],
      "text/plain": [
       "n_EO1 = 0.0"
      ]
     },
     "metadata": {},
     "output_type": "display_data"
    },
    {
     "data": {
      "image/png": "[encoded data removed]",
      "text/latex": [
       "$$n_{E2} - n_{E3} = 0.06 E_{2}$$"
      ],
      "text/plain": [
       "n_E2 - n_E3 = 0.06⋅E₂"
      ]
     },
     "metadata": {},
     "output_type": "display_data"
    },
    {
     "data": {
      "image/png": "[encoded data removed]",
      "text/latex": [
       "$$n_{E5} = 0.98 E_{3}$$"
      ],
      "text/plain": [
       "n_E5 = 0.98⋅E₃"
      ]
     },
     "metadata": {},
     "output_type": "display_data"
    },
    {
     "data": {
      "image/png": "[encoded data removed]",
      "text/latex": [
       "$$n_{O5} = 0.995 O_{3}$$"
      ],
      "text/plain": [
       "n_O5 = 0.995⋅O₃"
      ]
     },
     "metadata": {},
     "output_type": "display_data"
    },
    {
     "data": {
      "image/png": "[encoded data removed]",
      "text/latex": [
       "$$n_{EO4} = 0.97 EO_{3}$$"
      ],
      "text/plain": [
       "n_EO4 = 0.97⋅EO₃"
      ]
     },
     "metadata": {},
     "output_type": "display_data"
    }
   ],
   "source": [
    "feed_spec = [\n",
    "    sym.Eq(n_E1, 196.0),\n",
    "    sym.Eq(n_O1, 84.5),\n",
    "    sym.Eq(n_EO1, 0.0)]\n",
    "\n",
    "reactor_spec = [\n",
    "    sym.Eq(n_E2 - n_E3, 0.06*E2)]\n",
    "\n",
    "separator_spec = [\n",
    "    sym.Eq(n_E5, 0.98*E3),\n",
    "    sym.Eq(n_O5, 0.995*O3),\n",
    "    sym.Eq(n_EO4, 0.97*EO3)]\n",
    "\n",
    "specifications = feed_spec + reactor_spec + separator_spec\n",
    "for eqn in specifications:\n",
    "    display(eqn)"
   ]
  },
  {
   "cell_type": "markdown",
   "metadata": {
    "slideshow": {
     "slide_type": "slide"
    }
   },
   "source": [
    "### Degree of Freedom Analysis"
   ]
  },
  {
   "cell_type": "markdown",
   "metadata": {
    "slideshow": {
     "slide_type": "-"
    }
   },
   "source": [
    "A simple degree of freedom analysis is to compare the number of variables to the number of equations."
   ]
  },
  {
   "cell_type": "code",
   "execution_count": 65,
   "metadata": {
    "collapsed": false
   },
   "outputs": [
    {
     "name": "stdout",
     "output_type": "stream",
     "text": [
      "\n",
      "6 Variables = 15 Stream Variables + 1 Extents of Reaction \n",
      "\n",
      "15 Stream Variables\n",
      "\n",
      "Variable:  n_E1\n",
      "Variable:  n_O1\n",
      "Variable:  n_EO1\n",
      "Variable:  n_E2\n",
      "Variable:  n_O2\n",
      "Variable:  n_EO2\n",
      "Variable:  n_E3\n",
      "Variable:  n_O3\n",
      "Variable:  n_EO3\n",
      "Variable:  n_E4\n",
      "Variable:  n_O4\n",
      "Variable:  n_EO4\n",
      "Variable:  n_E5\n",
      "Variable:  n_O5\n",
      "Variable:  n_EO5\n",
      "\n",
      "1 Extents of Reaction\n",
      "\n",
      "Extent:  X\n"
     ]
    }
   ],
   "source": [
    "print \"\\n%d Variables = %d Stream Variables + %d Extents of Reaction \" \\\n",
    "    % (len(variables),len(stream_variables),len(extents))\n",
    "\n",
    "print \"\\n%d Stream Variables\\n\" % len(stream_variables)\n",
    "for s in streams:\n",
    "    for v in s:\n",
    "        print \"Variable: \", v.name\n",
    "\n",
    "print \"\\n%d Extents of Reaction\\n\" % len(extents)\n",
    "for v in extents:\n",
    "    print \"Extent: \", v.name\n"
   ]
  },
  {
   "cell_type": "code",
   "execution_count": 17,
   "metadata": {
    "collapsed": false,
    "slideshow": {
     "slide_type": "slide"
    }
   },
   "outputs": [
    {
     "name": "stdout",
     "output_type": "stream",
     "text": [
      "\n",
      "16 Equations = 9 Material Balances + 7 Specifications\n",
      "\n",
      "9 Material Balances\n",
      "\n",
      "0 == E1 - E2 + E5\n",
      "0 == O1 - O2 + O5\n",
      "0 == -EO2 + EO5\n",
      "0 == E2 - E3 - 2*X\n",
      "0 == O2 - O3 - X\n",
      "0 == EO2 - EO3 + 2*X\n",
      "0 == E3 - E4 - E5\n",
      "0 == O3 - O4 - O5\n",
      "0 == EO3 - EO4 - EO5\n",
      "\n",
      "7 Specifications\n",
      "\n",
      "E1 == 196.0\n",
      "O1 == 84.5\n",
      "EO1 == 0.0\n",
      "E2 - E3 == 0.06*E2\n",
      "E5 == 0.98*E3\n",
      "O5 == 0.995*O3\n",
      "EO4 == 0.97*EO3\n"
     ]
    }
   ],
   "source": [
    "equations = material_balances + specifications\n",
    "print \"\\n%d Equations = %d Material Balances + %d Specifications\" \\\n",
    "    % (len(equations),len(material_balances),len(specifications))\n",
    "\n",
    "print \"\\n%d Material Balances\\n\" % len(material_balances)\n",
    "for mb in material_balances:\n",
    "    print mb\n",
    "\n",
    "print \"\\n%d Specifications\\n\" % len(specifications)\n",
    "for spec in specifications:\n",
    "    print spec"
   ]
  },
  {
   "cell_type": "markdown",
   "metadata": {
    "slideshow": {
     "slide_type": "slide"
    }
   },
   "source": [
    "### Solution"
   ]
  },
  {
   "cell_type": "code",
   "execution_count": 32,
   "metadata": {
    "collapsed": false
   },
   "outputs": [
    {
     "data": {
      "image/png": "[encoded data removed]",
      "text/latex": [
       "$$\\left \\{ E_{1} : 196.0, \\quad E_{2} : 2487.30964467005, \\quad E_{3} : 2338.07106598985, \\quad E_{4} : 46.761421319797, \\quad E_{5} : 2291.30964467005, \\quad EO_{1} : 0.0, \\quad EO_{2} : 4.61562614474855, \\quad EO_{3} : 153.854204824952, \\quad EO_{4} : 149.238578680203, \\quad EO_{5} : 4.61562614474855, \\quad O_{1} : 84.5, \\quad O_{2} : 2050.7614213198, \\quad O_{3} : 1976.1421319797, \\quad O_{4} : 9.88071065989848, \\quad O_{5} : 1966.2614213198, \\quad X : 74.6192893401015\\right \\}$$"
      ],
      "text/plain": [
       "{E₁: 196.0, E₂: 2487.30964467005, E₃: 2338.07106598985, E₄: 46.761421319797, E\n",
       "₅: 2291.30964467005, EO₁: 0.0, EO₂: 4.61562614474855, EO₃: 153.854204824952, E\n",
       "O₄: 149.238578680203, EO₅: 4.61562614474855, O₁: 84.5, O₂: 2050.7614213198, O₃\n",
       ": 1976.1421319797, O₄: 9.88071065989848, O₅: 1966.2614213198, X: 74.6192893401\n",
       "015}"
      ]
     },
     "metadata": {},
     "output_type": "display_data"
    }
   ],
   "source": [
    "soln = sym.solve(material_balances + specifications)\n",
    "display(soln)"
   ]
  },
  {
   "cell_type": "code",
   "execution_count": 22,
   "metadata": {
    "collapsed": false
   },
   "outputs": [
    {
     "data": {
      "image/png": "[encoded data removed]",
      "text/latex": [
       "$$E_{1} = 196.0$$"
      ],
      "text/plain": [
       "E₁ = 196.0"
      ]
     },
     "metadata": {},
     "output_type": "display_data"
    },
    {
     "data": {
      "image/png": "[encoded data removed]",
      "text/latex": [
       "$$O_{1} = 84.5$$"
      ],
      "text/plain": [
       "O₁ = 84.5"
      ]
     },
     "metadata": {},
     "output_type": "display_data"
    },
    {
     "data": {
      "image/png": "[encoded data removed]",
      "text/latex": [
       "$$EO_{1} = 0.0$$"
      ],
      "text/plain": [
       "EO₁ = 0.0"
      ]
     },
     "metadata": {},
     "output_type": "display_data"
    },
    {
     "data": {
      "image/png": "[encoded data removed]",
      "text/latex": [
       "$$E_{2} = 2487.3$$"
      ],
      "text/plain": [
       "E₂ = 2487.3"
      ]
     },
     "metadata": {},
     "output_type": "display_data"
    },
    {
     "data": {
      "image/png": "[encoded data removed]",
      "text/latex": [
       "$$O_{2} = 2050.8$$"
      ],
      "text/plain": [
       "O₂ = 2050.8"
      ]
     },
     "metadata": {},
     "output_type": "display_data"
    },
    {
     "data": {
      "image/png": "[encoded data removed]",
      "text/latex": [
       "$$EO_{2} = 4.6$$"
      ],
      "text/plain": [
       "EO₂ = 4.6"
      ]
     },
     "metadata": {},
     "output_type": "display_data"
    },
    {
     "data": {
      "image/png": "[encoded data removed]",
      "text/latex": [
       "$$E_{3} = 2338.1$$"
      ],
      "text/plain": [
       "E₃ = 2338.1"
      ]
     },
     "metadata": {},
     "output_type": "display_data"
    },
    {
     "data": {
      "image/png": "[encoded data removed]",
      "text/latex": [
       "$$O_{3} = 1976.1$$"
      ],
      "text/plain": [
       "O₃ = 1976.1"
      ]
     },
     "metadata": {},
     "output_type": "display_data"
    },
    {
     "data": {
      "image/png": "[encoded data removed]",
      "text/latex": [
       "$$EO_{3} = 153.9$$"
      ],
      "text/plain": [
       "EO₃ = 153.9"
      ]
     },
     "metadata": {},
     "output_type": "display_data"
    },
    {
     "data": {
      "image/png": "[encoded data removed]",
      "text/latex": [
       "$$E_{4} = 46.8$$"
      ],
      "text/plain": [
       "E₄ = 46.8"
      ]
     },
     "metadata": {},
     "output_type": "display_data"
    },
    {
     "data": {
      "image/png": "[encoded data removed]",
      "text/latex": [
       "$$O_{4} = 9.9$$"
      ],
      "text/plain": [
       "O₄ = 9.9"
      ]
     },
     "metadata": {},
     "output_type": "display_data"
    },
    {
     "data": {
      "image/png": "[encoded data removed]",
      "text/latex": [
       "$$EO_{4} = 149.2$$"
      ],
      "text/plain": [
       "EO₄ = 149.2"
      ]
     },
     "metadata": {},
     "output_type": "display_data"
    },
    {
     "data": {
      "image/png": "[encoded data removed]",
      "text/latex": [
       "$$E_{5} = 2291.3$$"
      ],
      "text/plain": [
       "E₅ = 2291.3"
      ]
     },
     "metadata": {},
     "output_type": "display_data"
    },
    {
     "data": {
      "image/png": "[encoded data removed]",
      "text/latex": [
       "$$O_{5} = 1966.3$$"
      ],
      "text/plain": [
       "O₅ = 1966.3"
      ]
     },
     "metadata": {},
     "output_type": "display_data"
    },
    {
     "data": {
      "image/png": "[encoded data removed]",
      "text/latex": [
       "$$EO_{5} = 4.6$$"
      ],
      "text/plain": [
       "EO₅ = 4.6"
      ]
     },
     "metadata": {},
     "output_type": "display_data"
    },
    {
     "data": {
      "image/png": "[encoded data removed]",
      "text/latex": [
       "$$X = 74.6$$"
      ],
      "text/plain": [
       "X = 74.6"
      ]
     },
     "metadata": {},
     "output_type": "display_data"
    }
   ],
   "source": [
    "# display solution for each variable, rounded to 1 decimal place\n",
    "for v in variables:\n",
    "    display(sym.Eq(v,round(soln[v],1)))"
   ]
  },
  {
   "cell_type": "markdown",
   "metadata": {
    "slideshow": {
     "slide_type": "slide"
    }
   },
   "source": [
    "#### Production and Purity"
   ]
  },
  {
   "cell_type": "code",
   "execution_count": 23,
   "metadata": {
    "collapsed": false
   },
   "outputs": [
    {
     "name": "stdout",
     "output_type": "stream",
     "text": [
      "Annual Production 1.73 million kgmol/year at 0.725 purity.\n"
     ]
    }
   ],
   "source": [
    "purity = soln[EO4]/(soln[EO4]+soln[E4]+soln[O4])\n",
    "production = 24*350*(soln[EO4] + soln[E4] + soln[O4])/1000000\n",
    "\n",
    "print \"Annual Production %4.2f million kgmol/year at %5.3f purity.\" \\\n",
    "    % (production,purity)"
   ]
  },
  {
   "cell_type": "markdown",
   "metadata": {
    "slideshow": {
     "slide_type": "slide"
    }
   },
   "source": [
    "#### Discussion Questions"
   ]
  },
  {
   "cell_type": "markdown",
   "metadata": {},
   "source": [
    "* Do these numbers surprise you?  Why is the recycle rate so high?\n",
    "* The purity specification is not met. Why?"
   ]
  },
  {
   "cell_type": "markdown",
   "metadata": {
    "slideshow": {
     "slide_type": "slide"
    }
   },
   "source": [
    "### Parametric Analysis: Fractional Conversion of Ethylene"
   ]
  },
  {
   "cell_type": "markdown",
   "metadata": {},
   "source": [
    "The problem asked for an analysis of the sensitivity of the problem results to changes in unit performance. This is implemented by restating the specifications where a key parameter is replaced by a symbolic variable, and the process the performance plotted as a function of the parameter."
   ]
  },
  {
   "cell_type": "code",
   "execution_count": 27,
   "metadata": {
    "collapsed": false
   },
   "outputs": [
    {
     "data": {
      "image/png": "[encoded data removed]",
      "text/latex": [
       "$$E_{1} = 196.0$$"
      ],
      "text/plain": [
       "E₁ = 196.0"
      ]
     },
     "metadata": {},
     "output_type": "display_data"
    },
    {
     "data": {
      "image/png": "[encoded data removed]",
      "text/latex": [
       "$$O_{1} = 84.5$$"
      ],
      "text/plain": [
       "O₁ = 84.5"
      ]
     },
     "metadata": {},
     "output_type": "display_data"
    },
    {
     "data": {
      "image/png": "[encoded data removed]",
      "text/latex": [
       "$$EO_{1} = 0.0$$"
      ],
      "text/plain": [
       "EO₁ = 0.0"
      ]
     },
     "metadata": {},
     "output_type": "display_data"
    },
    {
     "data": {
      "image/png": "[encoded data removed]",
      "text/latex": [
       "$$E_{2} - E_{3} = E_{2} fconv$$"
      ],
      "text/plain": [
       "E₂ - E₃ = E₂⋅fconv"
      ]
     },
     "metadata": {},
     "output_type": "display_data"
    },
    {
     "data": {
      "image/png": "[encoded data removed]",
      "text/latex": [
       "$$E_{5} = 0.98 E_{3}$$"
      ],
      "text/plain": [
       "E₅ = 0.98⋅E₃"
      ]
     },
     "metadata": {},
     "output_type": "display_data"
    },
    {
     "data": {
      "image/png": "[encoded data removed]",
      "text/latex": [
       "$$O_{5} = 0.995 O_{3}$$"
      ],
      "text/plain": [
       "O₅ = 0.995⋅O₃"
      ]
     },
     "metadata": {},
     "output_type": "display_data"
    },
    {
     "data": {
      "image/png": "[encoded data removed]",
      "text/latex": [
       "$$EO_{4} = 0.97 EO_{3}$$"
      ],
      "text/plain": [
       "EO₄ = 0.97⋅EO₃"
      ]
     },
     "metadata": {},
     "output_type": "display_data"
    }
   ],
   "source": [
    "feed_spec = [\n",
    "    sym.Eq(E1, 196.0),\n",
    "    sym.Eq(O1, 84.5),\n",
    "    sym.Eq(EO1, 0.0)]\n",
    "\n",
    "fconv = sym.symbols('fconv')\n",
    "reactor_spec = [\n",
    "    sym.Eq(E2 - E3, fconv*E2)]\n",
    "\n",
    "separator_spec = [\n",
    "    sym.Eq(E5, 0.98*E3),\n",
    "    sym.Eq(O5, 0.995*O3),\n",
    "    sym.Eq(EO4, 0.97*EO3)]\n",
    "\n",
    "specifications = feed_spec + reactor_spec + separator_spec\n",
    "for s in specifications:\n",
    "    display(s)"
   ]
  },
  {
   "cell_type": "markdown",
   "metadata": {
    "slideshow": {
     "slide_type": "slide"
    }
   },
   "source": [
    "Recycle calculations are introduce a strong dependence of flow rates on parameters such as fraction conversion in the reactor and fractional recovery in separation units. To see this, here we solve for the flowrate of E<sub>2</sub> as a function of fractional conversion of ethylene in the reactor.\n",
    "\n",
    "From the material balances\n",
    "\n",
    "E<sub>2</sub> = E<sub>1</sub> + E<sub>5</sub><br>\n",
    "E<sub>3</sub> = (1-f<sub>conv</sub>) E<sub>2</sub><br>\n",
    "E<sub>5</sub> = 0.98 E<sub>3</sub><br>\n",
    "\n",
    "Take a moment and solve these by hand."
   ]
  },
  {
   "cell_type": "code",
   "execution_count": null,
   "metadata": {
    "collapsed": false,
    "slideshow": {
     "slide_type": "subslide"
    }
   },
   "outputs": [],
   "source": [
    "soln = solve(material_balances + specifications)[0]\n",
    "\n",
    "display(Eq(E2,soln[E2]))\n",
    "plot(soln[E2],(fconv,0,1),xlabel='fconv',ylabel='kg-mol/hour',title='E2 flowrate');"
   ]
  },
  {
   "cell_type": "code",
   "execution_count": null,
   "metadata": {
    "collapsed": false
   },
   "outputs": [],
   "source": [
    "for v in variables:\n",
    "    display(Eq(v, soln[v]))"
   ]
  },
  {
   "cell_type": "code",
   "execution_count": null,
   "metadata": {
    "collapsed": false,
    "slideshow": {
     "slide_type": "subslide"
    }
   },
   "outputs": [],
   "source": [
    "purity = soln[EO4]/(soln[EO4]+soln[E4]+soln[O4])\n",
    "\n",
    "display(simplify(purity))\n",
    "plot(purity,(fconv,0,.2),xlabel='fconv',ylabel='fraction EO',title='Purity');"
   ]
  },
  {
   "cell_type": "code",
   "execution_count": null,
   "metadata": {
    "collapsed": false,
    "slideshow": {
     "slide_type": "subslide"
    }
   },
   "outputs": [],
   "source": [
    "production = 24*350*(soln[EO4] + soln[E4] + soln[O4])/1000000\n",
    "\n",
    "display(simplify(production))\n",
    "plot(production,(fconv,0,0.2),xlabel='fconv',ylabel='kg-mol/year',title='Production');"
   ]
  },
  {
   "cell_type": "markdown",
   "metadata": {
    "slideshow": {
     "slide_type": "slide"
    }
   },
   "source": [
    "### Parametric Analysis: Fractional Recovery of Ethylene Oxide to Product"
   ]
  },
  {
   "cell_type": "markdown",
   "metadata": {},
   "source": [
    "Will improving the recovery of Ethylene Oxide to the product stream improve the product purity? Make a prediction, then check against the results of the following calculations."
   ]
  },
  {
   "cell_type": "code",
   "execution_count": null,
   "metadata": {
    "collapsed": false,
    "slideshow": {
     "slide_type": "fragment"
    }
   },
   "outputs": [],
   "source": [
    "feed_spec = [\n",
    "    Eq(E1,196.0),\n",
    "    Eq(O1, 84.5)]\n",
    "\n",
    "reactor_spec = [\n",
    "    Eq(E2 - E3, 0.06*E2)]\n",
    "\n",
    "frcvr = symbols('frcvr')\n",
    "separator_spec = [\n",
    "    Eq(E5, 0.98*E3),\n",
    "    Eq(O5, 0.995*O3),\n",
    "    Eq(EO4, frcvr*EO3)]\n",
    "\n",
    "specifications = feed_spec + reactor_spec + separator_spec\n",
    "for s in specifications:\n",
    "    display(s)"
   ]
  },
  {
   "cell_type": "code",
   "execution_count": null,
   "metadata": {
    "collapsed": false,
    "slideshow": {
     "slide_type": "subslide"
    }
   },
   "outputs": [],
   "source": [
    "soln = solve(material_balances + specifications)[0]\n",
    "\n",
    "purity = soln[EO4]/(soln[EO4]+soln[E4]+soln[O4])\n",
    "\n",
    "display(purity)\n",
    "plot(purity,(frcvr,0.9,1.00),xlabel='frcvr',ylabel='fraction EO',title='Purity');"
   ]
  },
  {
   "cell_type": "code",
   "execution_count": null,
   "metadata": {
    "collapsed": false,
    "slideshow": {
     "slide_type": "subslide"
    }
   },
   "outputs": [],
   "source": [
    "production = 24*350*(soln[EO4] + soln[E4] + soln[O4])/1000000\n",
    "display(production)\n",
    "plot(production,(frcvr,0.9,1.00),xlabel='frcvr',ylabel='kg-mol/year',title='Production');"
   ]
  },
  {
   "cell_type": "markdown",
   "metadata": {
    "slideshow": {
     "slide_type": "subslide"
    }
   },
   "source": [
    "#### Discussion Questions"
   ]
  },
  {
   "cell_type": "markdown",
   "metadata": {},
   "source": [
    "* Is this what you expected?\n",
    "* Why doesn't the product purity or production depend on the fractional recovery of ethylene oxide in the separator?"
   ]
  },
  {
   "cell_type": "markdown",
   "metadata": {
    "slideshow": {
     "slide_type": "slide"
    }
   },
   "source": [
    "### Parametric Analysis: Fractional Recovery of Ethylene to Recycle"
   ]
  },
  {
   "cell_type": "markdown",
   "metadata": {},
   "source": [
    "Increasing the fraction of ethylene recovered for recycle should improve product purity. Let's see what happens when we raise it."
   ]
  },
  {
   "cell_type": "code",
   "execution_count": null,
   "metadata": {
    "collapsed": false,
    "slideshow": {
     "slide_type": "fragment"
    }
   },
   "outputs": [],
   "source": [
    "feed_spec = [\n",
    "    Eq(E1,196.0),\n",
    "    Eq(O1, 84.5)]\n",
    "\n",
    "reactor_spec = [\n",
    "    Eq(E2 - E3, 0.06*E2)]\n",
    "\n",
    "frcvr = symbols('frcvr')\n",
    "separator_spec = [\n",
    "    Eq(E5, frcvr*E3),\n",
    "    Eq(O5, 0.995*O3),\n",
    "    Eq(EO4, 0.97*EO3)]\n",
    "\n",
    "specifications = feed_spec + reactor_spec + separator_spec\n",
    "for s in specifications:\n",
    "    display(s)"
   ]
  },
  {
   "cell_type": "code",
   "execution_count": null,
   "metadata": {
    "collapsed": false,
    "slideshow": {
     "slide_type": "subslide"
    }
   },
   "outputs": [],
   "source": [
    "soln = solve(material_balances + specifications)[0]\n",
    "\n",
    "purity = soln[EO4]/(soln[EO4]+soln[E4]+soln[O4])\n",
    "display(simplify(purity))\n",
    "plot(purity,(frcvr,0.9,1),xlabel='frcvr',ylabel='fraction EO',title='Purity');"
   ]
  },
  {
   "cell_type": "code",
   "execution_count": null,
   "metadata": {
    "collapsed": false,
    "slideshow": {
     "slide_type": "subslide"
    }
   },
   "outputs": [],
   "source": [
    "production = 24*350*(soln[EO4] + soln[E4] + soln[O4])/1000000\n",
    "display(simplify(production))\n",
    "plot(production,(frcvr,0.9,1.00),xlabel='frcvr',ylabel='kg-mol/year',title='Production');"
   ]
  },
  {
   "cell_type": "markdown",
   "metadata": {
    "slideshow": {
     "slide_type": "subslide"
    }
   },
   "source": [
    "#### Discussion Questions"
   ]
  },
  {
   "cell_type": "markdown",
   "metadata": {},
   "source": [
    "* Did this behave as you expected?\n",
    "* Increasing the ethylene recovery to 1.00 leads to a product purity greater than 1.0. Obviously that's not possible. What's going wrong?\n",
    "* What is the maximum possible recovery of ethylene for recycle?"
   ]
  },
  {
   "cell_type": "markdown",
   "metadata": {
    "slideshow": {
     "slide_type": "slide"
    }
   },
   "source": [
    "#### Parametric Analysis: Change the Oxygen Feed Rate"
   ]
  },
  {
   "cell_type": "markdown",
   "metadata": {},
   "source": [
    "As we've discovered, the oxygen feedrate is not sufficient to consume all of the ethylene. Let's explore what happens if we change the oxygen feedrate."
   ]
  },
  {
   "cell_type": "code",
   "execution_count": null,
   "metadata": {
    "collapsed": false,
    "slideshow": {
     "slide_type": "fragment"
    }
   },
   "outputs": [],
   "source": [
    "oxyfeed = symbols('oxyfeed')\n",
    "feed_spec = [\n",
    "    Eq(E1,196.0),\n",
    "    Eq(O1,oxyfeed)]\n",
    "\n",
    "reactor_spec = [\n",
    "    Eq(E2 - E3, 0.06*E2)]\n",
    "\n",
    "separator_spec = [\n",
    "    Eq(E5, 0.98*E3),\n",
    "    Eq(O5, 0.995*O3),\n",
    "    Eq(EO4, 0.97*EO3)]\n",
    "\n",
    "specifications = feed_spec + reactor_spec + separator_spec\n",
    "for s in specifications:\n",
    "    display(s)"
   ]
  },
  {
   "cell_type": "code",
   "execution_count": null,
   "metadata": {
    "collapsed": false,
    "slideshow": {
     "slide_type": "subslide"
    }
   },
   "outputs": [],
   "source": [
    "soln = solve(material_balances + specifications)\n",
    "\n",
    "purity = soln[EO4]/(soln[EO4]+soln[E4]+soln[O4])\n",
    "display(simplify(purity))\n",
    "plot(purity,(oxyfeed,74.5,196/2),xlabel='O1',ylabel='fraction EO',title='Purity');"
   ]
  },
  {
   "cell_type": "code",
   "execution_count": null,
   "metadata": {
    "collapsed": false,
    "slideshow": {
     "slide_type": "subslide"
    }
   },
   "outputs": [],
   "source": [
    "production = 24*350*(soln[EO4] + soln[E4] + soln[O4])/1000000\n",
    "display(simplify(production))\n",
    "plot(production,(oxyfeed,74.5,196/2),xlabel='O1',ylabel='kg-mol/year',title='Production');"
   ]
  },
  {
   "cell_type": "markdown",
   "metadata": {
    "slideshow": {
     "slide_type": "subslide"
    }
   },
   "source": [
    "####     Discussion Questions"
   ]
  },
  {
   "cell_type": "markdown",
   "metadata": {},
   "source": [
    "* Did this behave as you expected?\n",
    "* Why did the product purity decrease as the oxygen feedrate was increased?"
   ]
  },
  {
   "cell_type": "markdown",
   "metadata": {
    "slideshow": {
     "slide_type": "slide"
    }
   },
   "source": [
    "## Conclusions"
   ]
  },
  {
   "cell_type": "markdown",
   "metadata": {},
   "source": [
    "* The nominal process specifications yield a product purity of 72.5 mol% and a production of 1.73 million kgmol/year. The product purity falls significantly short of the desired purity of 98 mol%.\n",
    "* Product purity can be increased by increasing the single-pass reactor conversion, increasing the recovery of ethylene to recycle, and decreasing oxygen feed. Individual, however, these changes are not sufficient to meet to the desired purity.\n",
    "* Can you find specifications that will meet the 98% product purity specification?"
   ]
  }
 ],
 "metadata": {
  "kernelspec": {
   "display_name": "Python 2",
   "language": "python",
   "name": "python2"
  },
  "language_info": {
   "codemirror_mode": {
    "name": "ipython",
    "version": 2
   },
   "file_extension": ".py",
   "mimetype": "text/x-python",
   "name": "python",
   "nbconvert_exporter": "python",
   "pygments_lexer": "ipython2",
   "version": "2.7.10"
  }
 },
 "nbformat": 4,
 "nbformat_minor": 0
}
