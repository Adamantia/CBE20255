{
 "cells": [
  {
   "cell_type": "markdown",
   "metadata": {},
   "source": [
    "##### The latest version of this IPython notebook is available at [http://github.com/jckantor/CBE20255](http://github.com/jckantor/CBE20255)  for noncommercial use under terms of the [Creative Commons Attribution Noncommericial ShareAlike License](http://creativecommons.org/licenses/by-nc-sa/4.0/).\n",
    "\n",
    "J.C. Kantor (Kantor.1@nd.edu)"
   ]
  },
  {
   "cell_type": "markdown",
   "metadata": {
    "slideshow": {
     "slide_type": "slide"
    }
   },
   "source": [
    "# Ethylene Oxide Flowsheet"
   ]
  },
  {
   "cell_type": "markdown",
   "metadata": {},
   "source": [
    "This [IPython notebook](http://ipython.org/notebook.html) demonstrates the formulation and solution of material balances for an ethylene oxide flowsheet using the [symbolic algebra package Sympy](http://sympy.org/en/index.html)."
   ]
  },
  {
   "cell_type": "markdown",
   "metadata": {
    "slideshow": {
     "slide_type": "slide"
    }
   },
   "source": [
    "## Introduction\n",
    "\n",
    "While material balances for chemical processes are readily expressed as linear equations, extracting the matrix of coefficients for the linear equations can be tedious and error-prone. Fortunately, symbolic calculations can be used to solve material balance problems typical of introductory chemical engineering courses. This is demonstrated below using an example from the textbook [*\n",
    "Introduction to Chemical Processes: Principles, Analysis, and Synthesis*](http://highered.mcgraw-hill.com/sites/0072849606/) by Regina Murphy."
   ]
  },
  {
   "cell_type": "markdown",
   "metadata": {},
   "source": [
    "## Ethylene Oxide\n",
    "\n",
    "<p><a href=\"http://commons.wikimedia.org/wiki/File:TASNEE_001.jpg#/media/File:TASNEE_001.jpg\"><img src=\"http://upload.wikimedia.org/wikipedia/commons/thumb/d/d2/TASNEE_001.jpg/1200px-TASNEE_001.jpg\" alt=\"TASNEE 001.jpg\"></a><br>\"<a href=\"http://commons.wikimedia.org/wiki/File:TASNEE_001.jpg#/media/File:TASNEE_001.jpg\">TASNEE 001</a>\" by <a href=\"//commons.wikimedia.org/w/index.php?title=User:Secl&amp;action=edit&amp;redlink=1\" class=\"new\" title=\"User:Secl (page does not exist)\">Secl</a> - <span class=\"int-own-work\" lang=\"en\">Own work</span>. Licensed under <a href=\"http://creativecommons.org/licenses/by/3.0\" title=\"Creative Commons Attribution 3.0\">CC BY 3.0</a> via <a href=\"//commons.wikimedia.org/wiki/\">Wikimedia Commons</a>.</p>"
   ]
  },
  {
   "cell_type": "markdown",
   "metadata": {
    "slideshow": {
     "slide_type": "slide"
    }
   },
   "source": [
    "## Problem Statement (Murphy 2005, Example 3.19)"
   ]
  },
  {
   "cell_type": "markdown",
   "metadata": {},
   "source": [
    "The problem is to analyze the capability of an existing process for the production of [ethylene oxide](http://www.americanchemistry.com/ProductsTechnology/Ethylene-Oxide/PDF-Ethylene-Oxide-An-Essential-Raw-Material-for-Many-Important-Products-chart.pdf) by the reaction of ethylene and oxygen\n",
    "\n",
    "$$2\\,C_2H_4 + O_2 \\longrightarrow 2\\,C_2H_4O$$\n",
    "\n",
    "The target production is 1.7 &#215; 10<sup>6</sup> kgmol/year of an ethylene oxide product with 98 mol% purity. The feedrate of ethylene is specified as 196 kgmol/hr, and of oxygen is specified as 84.5 kgmol/hr. The reactor has a nominal single pass conversion of 6% ethylene. The separator recovers 98% of the ethylene and 99.5% of the oxygen and 98% of the ethylene for recycle, and 97% of the ethylene oxide for the product stream.  \n",
    "\n",
    "<img src=\"https://raw.github.com/jckantor/CBE20255/master/images/ethylene_oxide_flowsheet.png\" style=\"width:500px\">\n",
    "\n",
    "The problem is to find the nominal product purity and production rates, and to examine the sensitivity of product purity and production to the equipment specifications."
   ]
  },
  {
   "cell_type": "markdown",
   "metadata": {
    "slideshow": {
     "slide_type": "slide"
    }
   },
   "source": [
    "## Solution"
   ]
  },
  {
   "cell_type": "markdown",
   "metadata": {},
   "source": [
    "[Sympy](http://sympy.org/en/index.html) is a library written in pure python for symbolic algebra. The solution strategy is to represent the stream variables and reaction extents as symbolic variables, then express the material balances and process specifications as symbolic equations, and finally to use the Sympy solver to find a nominal solution and to perform parametric analyses.  The following cell initializes `sympy` and necessary printing and display functions."
   ]
  },
  {
   "cell_type": "code",
   "execution_count": 1,
   "metadata": {
    "collapsed": false
   },
   "outputs": [],
   "source": [
    "%matplotlib inline\n",
    "\n",
    "import sympy as sym\n",
    "sym.init_printing()\n",
    "\n",
    "from IPython.display import display"
   ]
  },
  {
   "cell_type": "markdown",
   "metadata": {
    "slideshow": {
     "slide_type": "slide"
    }
   },
   "source": [
    "### Variables"
   ]
  },
  {
   "cell_type": "markdown",
   "metadata": {},
   "source": [
    "#### Stream Variables"
   ]
  },
  {
   "cell_type": "markdown",
   "metadata": {},
   "source": [
    "The stream variables are systematically created using the Sympy `var` function, and added to the list `streams`."
   ]
  },
  {
   "cell_type": "code",
   "execution_count": 2,
   "metadata": {
    "collapsed": false
   },
   "outputs": [
    {
     "data": {
      "text/plain": [
       "[(nE1, nO1, nEO1),\n",
       " (nE2, nO2, nEO2),\n",
       " (nE3, nO3, nEO3),\n",
       " (nE4, nO4, nEO4),\n",
       " (nE5, nO5, nEO5)]"
      ]
     },
     "metadata": {},
     "output_type": "display_data"
    }
   ],
   "source": [
    "stream_table = []\n",
    "stream_table.append(sym.var('nE1 nO1 nEO1'))   # Stream 1\n",
    "stream_table.append(sym.var('nE2 nO2 nEO2'))   # Stream 2\n",
    "stream_table.append(sym.var('nE3 nO3 nEO3'))   # Stream 3\n",
    "stream_table.append(sym.var('nE4 nO4 nEO4'))   # Stream 4\n",
    "stream_table.append(sym.var('nE5 nO5 nEO5'))   # Stream 5\n",
    "\n",
    "display(stream_table)"
   ]
  },
  {
   "cell_type": "markdown",
   "metadata": {
    "slideshow": {
     "slide_type": "slide"
    }
   },
   "source": [
    "#### Extent of Reaction"
   ]
  },
  {
   "cell_type": "markdown",
   "metadata": {},
   "source": [
    "This problem includes only a single reaction in a single reactor. A corresponding extent of reaction variable is created, and a master list of all process variables is created."
   ]
  },
  {
   "cell_type": "code",
   "execution_count": 3,
   "metadata": {
    "collapsed": false
   },
   "outputs": [
    {
     "data": {
      "text/plain": [
       "[X]"
      ]
     },
     "metadata": {},
     "output_type": "display_data"
    }
   ],
   "source": [
    "extents = [sym.var('X')]\n",
    "display(extents)"
   ]
  },
  {
   "cell_type": "markdown",
   "metadata": {},
   "source": [
    "Create list of all variables"
   ]
  },
  {
   "cell_type": "code",
   "execution_count": 4,
   "metadata": {
    "collapsed": false
   },
   "outputs": [
    {
     "data": {
      "text/plain": [
       "[X,\n",
       " nE1,\n",
       " nO1,\n",
       " nEO1,\n",
       " nE2,\n",
       " nO2,\n",
       " nEO2,\n",
       " nE3,\n",
       " nO3,\n",
       " nEO3,\n",
       " nE4,\n",
       " nO4,\n",
       " nEO4,\n",
       " nE5,\n",
       " nO5,\n",
       " nEO5]"
      ]
     },
     "metadata": {},
     "output_type": "display_data"
    }
   ],
   "source": [
    "variables = []\n",
    "for x in extents:\n",
    "    variables.append(x)\n",
    "for s in stream_table:\n",
    "    for v in s:\n",
    "        variables.append(v)\n",
    "\n",
    "display(variables)"
   ]
  },
  {
   "cell_type": "markdown",
   "metadata": {
    "slideshow": {
     "slide_type": "slide"
    }
   },
   "source": [
    "### Equations"
   ]
  },
  {
   "cell_type": "markdown",
   "metadata": {},
   "source": [
    "#### Material Balances"
   ]
  },
  {
   "cell_type": "markdown",
   "metadata": {},
   "source": [
    "Material balances are written for each process unit using the symbolic stream and extent of reaction variables created above. Each material balance is expressed as the net rate of accumulation that will be set to zero to specify steady-state operation. The material balances are gathered into a list for each process unit, then the lists are concantenated to create a list of all material balances."
   ]
  },
  {
   "cell_type": "code",
   "execution_count": 5,
   "metadata": {
    "collapsed": false
   },
   "outputs": [
    {
     "data": {
      "text/plain": [
       "0 == nE1 - nE2 + nE5"
      ]
     },
     "metadata": {},
     "output_type": "display_data"
    },
    {
     "data": {
      "text/plain": [
       "0 == nO1 - nO2 + nO5"
      ]
     },
     "metadata": {},
     "output_type": "display_data"
    },
    {
     "data": {
      "text/plain": [
       "0 == -nEO2 + nEO5"
      ]
     },
     "metadata": {},
     "output_type": "display_data"
    },
    {
     "data": {
      "text/plain": [
       "0 == -2*X + nE2 - nE3"
      ]
     },
     "metadata": {},
     "output_type": "display_data"
    },
    {
     "data": {
      "text/plain": [
       "0 == -X + nO2 - nO3"
      ]
     },
     "metadata": {},
     "output_type": "display_data"
    },
    {
     "data": {
      "text/plain": [
       "0 == 2*X + nEO2 - nEO3"
      ]
     },
     "metadata": {},
     "output_type": "display_data"
    },
    {
     "data": {
      "text/plain": [
       "0 == nE3 - nE4 - nE5"
      ]
     },
     "metadata": {},
     "output_type": "display_data"
    },
    {
     "data": {
      "text/plain": [
       "0 == nO3 - nO4 - nO5"
      ]
     },
     "metadata": {},
     "output_type": "display_data"
    },
    {
     "data": {
      "text/plain": [
       "0 == nEO3 - nEO4 - nEO5"
      ]
     },
     "metadata": {},
     "output_type": "display_data"
    }
   ],
   "source": [
    "mixer = [\n",
    "    sym.Eq(0, nE1 + nE5 - nE2),\n",
    "    sym.Eq(0, nO1 + nO5 - nO2),\n",
    "    sym.Eq(0, nEO5 - nEO2)]\n",
    "\n",
    "reactor = [\n",
    "    sym.Eq(0, nE2 - nE3 - 2*X),\n",
    "    sym.Eq(0, nO2 - nO3 - X),\n",
    "    sym.Eq(0, nEO2 - nEO3 + 2*X)]\n",
    "\n",
    "separator = [\n",
    "    sym.Eq(0, nE3 - nE4 - nE5),\n",
    "    sym.Eq(0, nO3 - nO4 - nO5),\n",
    "    sym.Eq(0, nEO3 - nEO4 - nEO5)]\n",
    "\n",
    "material_balances = mixer + reactor + separator\n",
    "for eqn in material_balances:\n",
    "    display(eqn)"
   ]
  },
  {
   "cell_type": "markdown",
   "metadata": {
    "slideshow": {
     "slide_type": "slide"
    }
   },
   "source": [
    "#### Specifications\n",
    "\n",
    "Process specifications are written as equalities using the Sympy `Eq` function."
   ]
  },
  {
   "cell_type": "code",
   "execution_count": 6,
   "metadata": {
    "collapsed": false
   },
   "outputs": [
    {
     "data": {
      "text/plain": [
       "nE1 == 196.0"
      ]
     },
     "metadata": {},
     "output_type": "display_data"
    },
    {
     "data": {
      "text/plain": [
       "nO1 == 84.5"
      ]
     },
     "metadata": {},
     "output_type": "display_data"
    },
    {
     "data": {
      "text/plain": [
       "nEO1 == 0.0"
      ]
     },
     "metadata": {},
     "output_type": "display_data"
    },
    {
     "data": {
      "text/plain": [
       "nE2 - nE3 == 0.06*nE2"
      ]
     },
     "metadata": {},
     "output_type": "display_data"
    },
    {
     "data": {
      "text/plain": [
       "nE5 == 0.98*nE3"
      ]
     },
     "metadata": {},
     "output_type": "display_data"
    },
    {
     "data": {
      "text/plain": [
       "nO5 == 0.995*nO3"
      ]
     },
     "metadata": {},
     "output_type": "display_data"
    },
    {
     "data": {
      "text/plain": [
       "nEO4 == 0.97*nEO3"
      ]
     },
     "metadata": {},
     "output_type": "display_data"
    }
   ],
   "source": [
    "feed_spec = [\n",
    "    sym.Eq(nE1, 196.0),\n",
    "    sym.Eq(nO1, 84.5),\n",
    "    sym.Eq(nEO1, 0.0)]\n",
    "\n",
    "reactor_spec = [\n",
    "    sym.Eq(nE2 - nE3, 0.06*nE2)]\n",
    "\n",
    "separator_spec = [\n",
    "    sym.Eq(nE5, 0.98*nE3),\n",
    "    sym.Eq(nO5, 0.995*nO3),\n",
    "    sym.Eq(nEO4, 0.97*nEO3)]\n",
    "\n",
    "specifications = feed_spec + reactor_spec + separator_spec\n",
    "for eqn in specifications:\n",
    "    display(eqn)"
   ]
  },
  {
   "cell_type": "markdown",
   "metadata": {
    "slideshow": {
     "slide_type": "slide"
    }
   },
   "source": [
    "\n",
    "### Degree of Freedom Analysis"
   ]
  },
  {
   "cell_type": "markdown",
   "metadata": {
    "slideshow": {
     "slide_type": "-"
    }
   },
   "source": [
    "A simple degree of freedom analysis is to compare the number of variables to the number of equations."
   ]
  },
  {
   "cell_type": "code",
   "execution_count": 7,
   "metadata": {
    "collapsed": false
   },
   "outputs": [
    {
     "name": "stdout",
     "output_type": "stream",
     "text": [
      "Stream:  1    Variable: nE1  \n",
      "Stream:  2    Variable: nO1  \n",
      "Stream:  3    Variable: nEO1 \n",
      "Stream:  4    Variable: nE2  \n",
      "Stream:  5    Variable: nO2  \n",
      "Stream:  6    Variable: nEO2 \n",
      "Stream:  7    Variable: nE3  \n",
      "Stream:  8    Variable: nO3  \n",
      "Stream:  9    Variable: nEO3 \n",
      "Stream: 10    Variable: nE4  \n",
      "Stream: 11    Variable: nO4  \n",
      "Stream: 12    Variable: nEO4 \n",
      "Stream: 13    Variable: nE5  \n",
      "Stream: 14    Variable: nO5  \n",
      "Stream: 15    Variable: nEO5 \n",
      "\n",
      "1 Extents of Reaction\n",
      "\n",
      "Extent:  X\n",
      "\n",
      "16 Variables = 15 Stream Variables + 1 Extents of Reaction \n",
      "\n"
     ]
    }
   ],
   "source": [
    "nVars = 0\n",
    "for s in stream_table:\n",
    "    for v in s:\n",
    "        nVars += 1\n",
    "        print \"Stream: {0:2d}    Variable: {1:5s}\".format(nVars,v.name)\n",
    "\n",
    "print \"\\n%d Extents of Reaction\\n\" % len(extents)\n",
    "for v in extents:\n",
    "    print \"Extent: \", v.name\n",
    "\n",
    "print \"\\n%d Variables = %d Stream Variables + %d Extents of Reaction \\n\" \\\n",
    "    % (len(variables),nVars,len(extents))\n"
   ]
  },
  {
   "cell_type": "code",
   "execution_count": 8,
   "metadata": {
    "collapsed": false,
    "slideshow": {
     "slide_type": "slide"
    }
   },
   "outputs": [
    {
     "name": "stdout",
     "output_type": "stream",
     "text": [
      "\n",
      "16 Equations = 9 Material Balances + 7 Specifications\n",
      "\n",
      "9 Material Balances\n",
      "\n",
      "0 == nE1 - nE2 + nE5\n",
      "0 == nO1 - nO2 + nO5\n",
      "0 == -nEO2 + nEO5\n",
      "0 == -2*X + nE2 - nE3\n",
      "0 == -X + nO2 - nO3\n",
      "0 == 2*X + nEO2 - nEO3\n",
      "0 == nE3 - nE4 - nE5\n",
      "0 == nO3 - nO4 - nO5\n",
      "0 == nEO3 - nEO4 - nEO5\n",
      "\n",
      "7 Specifications\n",
      "\n",
      "nE1 == 196.0\n",
      "nO1 == 84.5\n",
      "nEO1 == 0.0\n",
      "nE2 - nE3 == 0.06*nE2\n",
      "nE5 == 0.98*nE3\n",
      "nO5 == 0.995*nO3\n",
      "nEO4 == 0.97*nEO3\n"
     ]
    }
   ],
   "source": [
    "equations = material_balances + specifications\n",
    "print \"\\n%d Equations = %d Material Balances + %d Specifications\" \\\n",
    "    % (len(equations),len(material_balances),len(specifications))\n",
    "\n",
    "print \"\\n%d Material Balances\\n\" % len(material_balances)\n",
    "for mb in material_balances:\n",
    "    print mb\n",
    "\n",
    "print \"\\n%d Specifications\\n\" % len(specifications)\n",
    "for spec in specifications:\n",
    "    print spec"
   ]
  },
  {
   "cell_type": "markdown",
   "metadata": {
    "slideshow": {
     "slide_type": "slide"
    }
   },
   "source": [
    "### Solution"
   ]
  },
  {
   "cell_type": "code",
   "execution_count": 9,
   "metadata": {
    "collapsed": false
   },
   "outputs": [
    {
     "name": "stdout",
     "output_type": "stream",
     "text": [
      "Variable nE4 :     46.76\n",
      "Variable X   :     74.62\n",
      "Variable nEO2:      4.62\n",
      "Variable nO1 :     84.50\n",
      "Variable nE3 :   2338.07\n",
      "Variable nEO4:    149.24\n",
      "Variable nEO1:      0.00\n",
      "Variable nO4 :      9.88\n",
      "Variable nEO5:      4.62\n",
      "Variable nE2 :   2487.31\n",
      "Variable nO5 :   1966.26\n",
      "Variable nO2 :   2050.76\n",
      "Variable nE5 :   2291.31\n",
      "Variable nE1 :    196.00\n",
      "Variable nO3 :   1976.14\n",
      "Variable nEO3:    153.85\n"
     ]
    }
   ],
   "source": [
    "soln = sym.solve(material_balances + specifications)\n",
    "\n",
    "for k in soln.keys():\n",
    "    print \"Variable {0:4s}:  {1:8.2f}\".format(k,round(soln[k],2))"
   ]
  },
  {
   "cell_type": "code",
   "execution_count": 10,
   "metadata": {
    "collapsed": false
   },
   "outputs": [
    {
     "data": {
      "text/plain": [
       "X == 74.6"
      ]
     },
     "metadata": {},
     "output_type": "display_data"
    },
    {
     "data": {
      "text/plain": [
       "nE1 == 196.0"
      ]
     },
     "metadata": {},
     "output_type": "display_data"
    },
    {
     "data": {
      "text/plain": [
       "nO1 == 84.5"
      ]
     },
     "metadata": {},
     "output_type": "display_data"
    },
    {
     "data": {
      "text/plain": [
       "nEO1 == 0.0"
      ]
     },
     "metadata": {},
     "output_type": "display_data"
    },
    {
     "data": {
      "text/plain": [
       "nE2 == 2487.3"
      ]
     },
     "metadata": {},
     "output_type": "display_data"
    },
    {
     "data": {
      "text/plain": [
       "nO2 == 2050.8"
      ]
     },
     "metadata": {},
     "output_type": "display_data"
    },
    {
     "data": {
      "text/plain": [
       "nEO2 == 4.6"
      ]
     },
     "metadata": {},
     "output_type": "display_data"
    },
    {
     "data": {
      "text/plain": [
       "nE3 == 2338.1"
      ]
     },
     "metadata": {},
     "output_type": "display_data"
    },
    {
     "data": {
      "text/plain": [
       "nO3 == 1976.1"
      ]
     },
     "metadata": {},
     "output_type": "display_data"
    },
    {
     "data": {
      "text/plain": [
       "nEO3 == 153.9"
      ]
     },
     "metadata": {},
     "output_type": "display_data"
    },
    {
     "data": {
      "text/plain": [
       "nE4 == 46.8"
      ]
     },
     "metadata": {},
     "output_type": "display_data"
    },
    {
     "data": {
      "text/plain": [
       "nO4 == 9.9"
      ]
     },
     "metadata": {},
     "output_type": "display_data"
    },
    {
     "data": {
      "text/plain": [
       "nEO4 == 149.2"
      ]
     },
     "metadata": {},
     "output_type": "display_data"
    },
    {
     "data": {
      "text/plain": [
       "nE5 == 2291.3"
      ]
     },
     "metadata": {},
     "output_type": "display_data"
    },
    {
     "data": {
      "text/plain": [
       "nO5 == 1966.3"
      ]
     },
     "metadata": {},
     "output_type": "display_data"
    },
    {
     "data": {
      "text/plain": [
       "nEO5 == 4.6"
      ]
     },
     "metadata": {},
     "output_type": "display_data"
    }
   ],
   "source": [
    "# display solution for each variable, rounded to 1 decimal place\n",
    "for v in variables:\n",
    "    display(sym.Eq(v,round(soln[v],1)))"
   ]
  },
  {
   "cell_type": "markdown",
   "metadata": {
    "slideshow": {
     "slide_type": "slide"
    }
   },
   "source": [
    "#### Production and Purity"
   ]
  },
  {
   "cell_type": "code",
   "execution_count": 11,
   "metadata": {
    "collapsed": false
   },
   "outputs": [
    {
     "name": "stdout",
     "output_type": "stream",
     "text": [
      "Annual Production 1.73 million kgmol/year at 0.725 purity.\n"
     ]
    }
   ],
   "source": [
    "purity = soln[nEO4]/(soln[nEO4]+soln[nE4]+soln[nO4])\n",
    "production = 24*350*(soln[nEO4] + soln[nE4] + soln[nO4])/1000000\n",
    "\n",
    "print \"Annual Production %4.2f million kgmol/year at %5.3f purity.\" \\\n",
    "    % (production,purity)"
   ]
  },
  {
   "cell_type": "markdown",
   "metadata": {
    "slideshow": {
     "slide_type": "slide"
    }
   },
   "source": [
    "#### Discussion Questions"
   ]
  },
  {
   "cell_type": "markdown",
   "metadata": {},
   "source": [
    "* Do these numbers surprise you?  Why is the recycle rate so high?\n",
    "* The purity specification is not met. Why?"
   ]
  },
  {
   "cell_type": "markdown",
   "metadata": {
    "slideshow": {
     "slide_type": "slide"
    }
   },
   "source": [
    "### Parametric Analysis: Fractional Conversion of Ethylene"
   ]
  },
  {
   "cell_type": "markdown",
   "metadata": {},
   "source": [
    "The problem asked for an analysis of the sensitivity of the problem results to changes in unit performance. This is implemented by restating the specifications where a key parameter is replaced by a symbolic variable, and the process the performance plotted as a function of the parameter."
   ]
  },
  {
   "cell_type": "code",
   "execution_count": 12,
   "metadata": {
    "collapsed": false
   },
   "outputs": [
    {
     "data": {
      "text/plain": [
       "nE1 == 196.0"
      ]
     },
     "metadata": {},
     "output_type": "display_data"
    },
    {
     "data": {
      "text/plain": [
       "nO1 == 84.5"
      ]
     },
     "metadata": {},
     "output_type": "display_data"
    },
    {
     "data": {
      "text/plain": [
       "nEO1 == 0.0"
      ]
     },
     "metadata": {},
     "output_type": "display_data"
    },
    {
     "data": {
      "text/plain": [
       "nE2 - nE3 == fconv*nE2"
      ]
     },
     "metadata": {},
     "output_type": "display_data"
    },
    {
     "data": {
      "text/plain": [
       "nE5 == 0.98*nE3"
      ]
     },
     "metadata": {},
     "output_type": "display_data"
    },
    {
     "data": {
      "text/plain": [
       "nO5 == 0.995*nO3"
      ]
     },
     "metadata": {},
     "output_type": "display_data"
    },
    {
     "data": {
      "text/plain": [
       "nEO4 == 0.97*nEO3"
      ]
     },
     "metadata": {},
     "output_type": "display_data"
    }
   ],
   "source": [
    "feed_spec = [\n",
    "    sym.Eq(nE1, 196.0),\n",
    "    sym.Eq(nO1, 84.5),\n",
    "    sym.Eq(nEO1, 0.0)]\n",
    "\n",
    "fconv = sym.var('fconv')\n",
    "reactor_spec = [\n",
    "    sym.Eq(nE2 - nE3, fconv*nE2)]\n",
    "\n",
    "separator_spec = [\n",
    "    sym.Eq(nE5, 0.98*nE3),\n",
    "    sym.Eq(nO5, 0.995*nO3),\n",
    "    sym.Eq(nEO4, 0.97*nEO3)]\n",
    "\n",
    "specifications = feed_spec + reactor_spec + separator_spec\n",
    "for s in specifications:\n",
    "    display(s)"
   ]
  },
  {
   "cell_type": "markdown",
   "metadata": {
    "slideshow": {
     "slide_type": "slide"
    }
   },
   "source": [
    "Recycle calculations are introduce a strong dependence of flow rates on parameters such as fraction conversion in the reactor and fractional recovery in separation units. To see this, here we solve for the flowrate of E<sub>2</sub> as a function of fractional conversion of ethylene in the reactor.\n",
    "\n",
    "From the material balances\n",
    "\n",
    "E<sub>2</sub> = E<sub>1</sub> + E<sub>5</sub><br>\n",
    "E<sub>3</sub> = (1-f<sub>conv</sub>) E<sub>2</sub><br>\n",
    "E<sub>5</sub> = 0.98 E<sub>3</sub><br>\n",
    "\n",
    "Take a moment and solve these by hand."
   ]
  },
  {
   "cell_type": "code",
   "execution_count": 13,
   "metadata": {
    "collapsed": false
   },
   "outputs": [
    {
     "data": {
      "text/plain": [
       "{nE4: 196.0*(-fconv + 1.0)/(49.0*fconv + 1.0),\n",
       " X: 4900.0*fconv/(49.0*fconv + 1.0),\n",
       " nEO2: 303.092783505155*fconv/(49.0*fconv + 1.0),\n",
       " nO1: 84.5000000000000,\n",
       " nE3: 9800.0*(-fconv + 1.0)/(49.0*fconv + 1.0),\n",
       " nEO4: 9800.0*fconv/(49.0*fconv + 1.0),\n",
       " nEO1: 0.0,\n",
       " nO4: 0.5*(-1519.0*fconv + 169.0)/(49.0*fconv + 1.0),\n",
       " nEO5: 303.092783505155*fconv/(49.0*fconv + 1.0),\n",
       " nE2: 9800.0/(49.0*fconv + 1.0),\n",
       " nO5: 99.5*(-1519.0*fconv + 169.0)/(49.0*fconv + 1.0),\n",
       " nO2: 100.0*(-1470.0*fconv + 169.0)/(49.0*fconv + 1.0),\n",
       " nE5: 9604.0*(-fconv + 1.0)/(49.0*fconv + 1.0),\n",
       " nE1: 196.000000000000,\n",
       " nO3: 100.0*(-1519.0*fconv + 169.0)/(49.0*fconv + 1.0),\n",
       " nEO3: 10103.0927835052*fconv/(49.0*fconv + 1.0)}"
      ]
     },
     "execution_count": 13,
     "metadata": {},
     "output_type": "execute_result"
    }
   ],
   "source": [
    "soln = sym.solve(material_balances + specifications, exclude=[fconv])\n",
    "soln"
   ]
  },
  {
   "cell_type": "code",
   "execution_count": 14,
   "metadata": {
    "collapsed": false,
    "slideshow": {
     "slide_type": "subslide"
    }
   },
   "outputs": [
    {
     "data": {
      "text/plain": [
       "nE2 == 9800.0/(49.0*fconv + 1.0)"
      ]
     },
     "metadata": {},
     "output_type": "display_data"
    },
    {
     "data": {
      "image/png": "[encoded data removed]",
      "text/plain": [
       "<matplotlib.figure.Figure at 0x10871b8d0>"
      ]
     },
     "metadata": {},
     "output_type": "display_data"
    }
   ],
   "source": [
    "display(sym.Eq(nE2,soln[nE2]))\n",
    "sym.plot(soln[nE2],(fconv,0,1),xlabel='fconv',ylabel='kg-mol/hour',title='E2 flowrate');"
   ]
  },
  {
   "cell_type": "code",
   "execution_count": 15,
   "metadata": {
    "collapsed": false
   },
   "outputs": [
    {
     "data": {
      "text/plain": [
       "X == 4900.0*fconv/(49.0*fconv + 1.0)"
      ]
     },
     "metadata": {},
     "output_type": "display_data"
    },
    {
     "data": {
      "text/plain": [
       "nE1 == 196.0"
      ]
     },
     "metadata": {},
     "output_type": "display_data"
    },
    {
     "data": {
      "text/plain": [
       "nO1 == 84.5"
      ]
     },
     "metadata": {},
     "output_type": "display_data"
    },
    {
     "data": {
      "text/plain": [
       "nEO1 == 0.0"
      ]
     },
     "metadata": {},
     "output_type": "display_data"
    },
    {
     "data": {
      "text/plain": [
       "nE2 == 9800.0/(49.0*fconv + 1.0)"
      ]
     },
     "metadata": {},
     "output_type": "display_data"
    },
    {
     "data": {
      "text/plain": [
       "nO2 == 100.0*(-1470.0*fconv + 169.0)/(49.0*fconv + 1.0)"
      ]
     },
     "metadata": {},
     "output_type": "display_data"
    },
    {
     "data": {
      "text/plain": [
       "nEO2 == 303.092783505155*fconv/(49.0*fconv + 1.0)"
      ]
     },
     "metadata": {},
     "output_type": "display_data"
    },
    {
     "data": {
      "text/plain": [
       "nE3 == 9800.0*(-fconv + 1.0)/(49.0*fconv + 1.0)"
      ]
     },
     "metadata": {},
     "output_type": "display_data"
    },
    {
     "data": {
      "text/plain": [
       "nO3 == 100.0*(-1519.0*fconv + 169.0)/(49.0*fconv + 1.0)"
      ]
     },
     "metadata": {},
     "output_type": "display_data"
    },
    {
     "data": {
      "text/plain": [
       "nEO3 == 10103.0927835052*fconv/(49.0*fconv + 1.0)"
      ]
     },
     "metadata": {},
     "output_type": "display_data"
    },
    {
     "data": {
      "text/plain": [
       "nE4 == 196.0*(-fconv + 1.0)/(49.0*fconv + 1.0)"
      ]
     },
     "metadata": {},
     "output_type": "display_data"
    },
    {
     "data": {
      "text/plain": [
       "nO4 == 0.5*(-1519.0*fconv + 169.0)/(49.0*fconv + 1.0)"
      ]
     },
     "metadata": {},
     "output_type": "display_data"
    },
    {
     "data": {
      "text/plain": [
       "nEO4 == 9800.0*fconv/(49.0*fconv + 1.0)"
      ]
     },
     "metadata": {},
     "output_type": "display_data"
    },
    {
     "data": {
      "text/plain": [
       "nE5 == 9604.0*(-fconv + 1.0)/(49.0*fconv + 1.0)"
      ]
     },
     "metadata": {},
     "output_type": "display_data"
    },
    {
     "data": {
      "text/plain": [
       "nO5 == 99.5*(-1519.0*fconv + 169.0)/(49.0*fconv + 1.0)"
      ]
     },
     "metadata": {},
     "output_type": "display_data"
    },
    {
     "data": {
      "text/plain": [
       "nEO5 == 303.092783505155*fconv/(49.0*fconv + 1.0)"
      ]
     },
     "metadata": {},
     "output_type": "display_data"
    }
   ],
   "source": [
    "for v in variables:\n",
    "    display(sym.Eq(v, soln[v]))"
   ]
  },
  {
   "cell_type": "code",
   "execution_count": 16,
   "metadata": {
    "collapsed": false,
    "slideshow": {
     "slide_type": "subslide"
    }
   },
   "outputs": [
    {
     "data": {
      "text/plain": [
       "9800.0*fconv/(8844.5*fconv + 280.5)"
      ]
     },
     "metadata": {},
     "output_type": "display_data"
    },
    {
     "data": {
      "image/png": "[encoded data removed]",
      "text/plain": [
       "<matplotlib.figure.Figure at 0x108c97b50>"
      ]
     },
     "metadata": {},
     "output_type": "display_data"
    }
   ],
   "source": [
    "purity = soln[nEO4]/(soln[nEO4]+soln[nE4]+soln[nO4])\n",
    "\n",
    "display(sym.simplify(purity))\n",
    "sym.plot(purity,(fconv,0,.2),xlabel='fconv',ylabel='fraction EO',title='Purity');"
   ]
  },
  {
   "cell_type": "code",
   "execution_count": 17,
   "metadata": {
    "collapsed": false,
    "slideshow": {
     "slide_type": "subslide"
    }
   },
   "outputs": [
    {
     "data": {
      "text/plain": [
       "(74.2938*fconv + 2.3562)/(49.0*fconv + 1.0)"
      ]
     },
     "metadata": {},
     "output_type": "display_data"
    },
    {
     "data": {
      "image/png": "[encoded data removed]",
      "text/plain": [
       "<matplotlib.figure.Figure at 0x108d49b10>"
      ]
     },
     "metadata": {},
     "output_type": "display_data"
    }
   ],
   "source": [
    "production = 24*350*(soln[nEO4] + soln[nE4] + soln[nO4])/1000000\n",
    "\n",
    "display(sym.simplify(production))\n",
    "sym.plot(production,(fconv,0,0.2),xlabel='fconv',ylabel='kg-mol/year',title='Production');"
   ]
  },
  {
   "cell_type": "markdown",
   "metadata": {
    "slideshow": {
     "slide_type": "slide"
    }
   },
   "source": [
    "### Parametric Analysis: Fractional Recovery of Ethylene Oxide to Product"
   ]
  },
  {
   "cell_type": "markdown",
   "metadata": {},
   "source": [
    "Will improving the recovery of Ethylene Oxide to the product stream improve the product purity? Make a prediction, then check against the results of the following calculations."
   ]
  },
  {
   "cell_type": "code",
   "execution_count": 18,
   "metadata": {
    "collapsed": false,
    "slideshow": {
     "slide_type": "fragment"
    }
   },
   "outputs": [
    {
     "data": {
      "text/plain": [
       "nE1 == 196.0"
      ]
     },
     "metadata": {},
     "output_type": "display_data"
    },
    {
     "data": {
      "text/plain": [
       "nO1 == 84.5"
      ]
     },
     "metadata": {},
     "output_type": "display_data"
    },
    {
     "data": {
      "text/plain": [
       "nE2 - nE3 == 0.06*nE2"
      ]
     },
     "metadata": {},
     "output_type": "display_data"
    },
    {
     "data": {
      "text/plain": [
       "nE5 == 0.98*nE3"
      ]
     },
     "metadata": {},
     "output_type": "display_data"
    },
    {
     "data": {
      "text/plain": [
       "nO5 == 0.995*nO3"
      ]
     },
     "metadata": {},
     "output_type": "display_data"
    },
    {
     "data": {
      "text/plain": [
       "nEO4 == frcvr*nEO3"
      ]
     },
     "metadata": {},
     "output_type": "display_data"
    }
   ],
   "source": [
    "feed_spec = [\n",
    "    sym.Eq(nE1,196.0),\n",
    "    sym.Eq(nO1, 84.5)]\n",
    "\n",
    "reactor_spec = [\n",
    "    sym.Eq(nE2 - nE3, 0.06*nE2)]\n",
    "\n",
    "frcvr = sym.var('frcvr')\n",
    "separator_spec = [\n",
    "    sym.Eq(nE5, 0.98*nE3),\n",
    "    sym.Eq(nO5, 0.995*nO3),\n",
    "    sym.Eq(nEO4, frcvr*nEO3)]\n",
    "\n",
    "specifications = feed_spec + reactor_spec + separator_spec\n",
    "for s in specifications:\n",
    "    display(s)"
   ]
  },
  {
   "cell_type": "code",
   "execution_count": 19,
   "metadata": {
    "collapsed": false,
    "slideshow": {
     "slide_type": "subslide"
    }
   },
   "outputs": [
    {
     "data": {
      "text/plain": [
       "0.724878878656755"
      ]
     },
     "metadata": {},
     "output_type": "display_data"
    },
    {
     "data": {
      "image/png": "[encoded data removed]",
      "text/plain": [
       "<matplotlib.figure.Figure at 0x10604da90>"
      ]
     },
     "metadata": {},
     "output_type": "display_data"
    }
   ],
   "source": [
    "soln = sym.solve(material_balances + specifications, exclude=[frcvr])\n",
    "\n",
    "purity = soln[nEO4]/(soln[nEO4]+soln[nE4]+soln[nO4])\n",
    "\n",
    "display(purity)\n",
    "sym.plot(purity,(frcvr,0.9,1.00),xlabel='frcvr',ylabel='fraction EO',title='Purity');"
   ]
  },
  {
   "cell_type": "code",
   "execution_count": 20,
   "metadata": {
    "collapsed": false,
    "slideshow": {
     "slide_type": "subslide"
    }
   },
   "outputs": [
    {
     "data": {
      "text/plain": [
       "1.72939796954315"
      ]
     },
     "metadata": {},
     "output_type": "display_data"
    },
    {
     "data": {
      "image/png": "[encoded data removed]",
      "text/plain": [
       "<matplotlib.figure.Figure at 0x108fbed50>"
      ]
     },
     "metadata": {},
     "output_type": "display_data"
    }
   ],
   "source": [
    "production = 24*350*(soln[nEO4] + soln[nE4] + soln[nO4])/1000000.0\n",
    "display(production)\n",
    "sym.plot(production,(frcvr,0.9,1.00),xlabel='frcvr',ylabel='kg-mol/year',title='Production');"
   ]
  },
  {
   "cell_type": "markdown",
   "metadata": {
    "slideshow": {
     "slide_type": "subslide"
    }
   },
   "source": [
    "#### Discussion Questions"
   ]
  },
  {
   "cell_type": "markdown",
   "metadata": {},
   "source": [
    "* Is this what you expected?\n",
    "* Why doesn't the product purity or production depend on the fractional recovery of ethylene oxide in the separator?"
   ]
  },
  {
   "cell_type": "markdown",
   "metadata": {
    "slideshow": {
     "slide_type": "slide"
    }
   },
   "source": [
    "### Parametric Analysis: Fractional Recovery of Ethylene to Recycle"
   ]
  },
  {
   "cell_type": "markdown",
   "metadata": {},
   "source": [
    "Increasing the fraction of ethylene recovered for recycle should improve product purity. Let's see what happens when we raise it."
   ]
  },
  {
   "cell_type": "code",
   "execution_count": 21,
   "metadata": {
    "collapsed": false,
    "slideshow": {
     "slide_type": "fragment"
    }
   },
   "outputs": [
    {
     "data": {
      "text/plain": [
       "nE1 == 196.0"
      ]
     },
     "metadata": {},
     "output_type": "display_data"
    },
    {
     "data": {
      "text/plain": [
       "nO1 == 84.5"
      ]
     },
     "metadata": {},
     "output_type": "display_data"
    },
    {
     "data": {
      "text/plain": [
       "nE2 - nE3 == 0.06*nE2"
      ]
     },
     "metadata": {},
     "output_type": "display_data"
    },
    {
     "data": {
      "text/plain": [
       "nE5 == frcvr*nE3"
      ]
     },
     "metadata": {},
     "output_type": "display_data"
    },
    {
     "data": {
      "text/plain": [
       "nO5 == 0.995*nO3"
      ]
     },
     "metadata": {},
     "output_type": "display_data"
    },
    {
     "data": {
      "text/plain": [
       "nEO4 == 0.97*nEO3"
      ]
     },
     "metadata": {},
     "output_type": "display_data"
    }
   ],
   "source": [
    "feed_spec = [\n",
    "    sym.Eq(nE1,196.0),\n",
    "    sym.Eq(nO1, 84.5)]\n",
    "\n",
    "reactor_spec = [\n",
    "    sym.Eq(nE2 - nE3, 0.06*nE2)]\n",
    "\n",
    "frcvr = sym.var('frcvr')\n",
    "separator_spec = [\n",
    "    sym.Eq(nE5, frcvr*nE3),\n",
    "    sym.Eq(nO5, 0.995*nO3),\n",
    "    sym.Eq(nEO4, 0.97*nEO3)]\n",
    "\n",
    "specifications = feed_spec + reactor_spec + separator_spec\n",
    "for s in specifications:\n",
    "    display(s)"
   ]
  },
  {
   "cell_type": "code",
   "execution_count": 22,
   "metadata": {
    "collapsed": false,
    "slideshow": {
     "slide_type": "subslide"
    }
   },
   "outputs": [
    {
     "data": {
      "text/plain": [
       "-588.0/(13183.5*frcvr - 13731.0)"
      ]
     },
     "metadata": {},
     "output_type": "display_data"
    },
    {
     "data": {
      "image/png": "[encoded data removed]",
      "text/plain": [
       "<matplotlib.figure.Figure at 0x1090aad10>"
      ]
     },
     "metadata": {},
     "output_type": "display_data"
    }
   ],
   "source": [
    "soln = sym.solve(material_balances + specifications,exclude=[frcvr])\n",
    "\n",
    "purity = soln[nEO4]/(soln[nEO4]+soln[nE4]+soln[nO4])\n",
    "display(sym.simplify(purity))\n",
    "sym.plot(purity,(frcvr,0.9,1),xlabel='frcvr',ylabel='fraction EO',title='Purity');"
   ]
  },
  {
   "cell_type": "code",
   "execution_count": 23,
   "metadata": {
    "collapsed": false,
    "slideshow": {
     "slide_type": "subslide"
    }
   },
   "outputs": [
    {
     "data": {
      "text/plain": [
       "(110.7414*frcvr - 115.3404)/(47.0*frcvr - 50.0)"
      ]
     },
     "metadata": {},
     "output_type": "display_data"
    },
    {
     "data": {
      "image/png": "[encoded data removed]",
      "text/plain": [
       "<matplotlib.figure.Figure at 0x108ff7050>"
      ]
     },
     "metadata": {},
     "output_type": "display_data"
    }
   ],
   "source": [
    "production = 24*350*(soln[nEO4] + soln[nE4] + soln[nO4])/1000000.0\n",
    "display(sym.simplify(production))\n",
    "sym.plot(production,(frcvr,0.9,1.00),xlabel='frcvr',ylabel='kg-mol/year',title='Production');"
   ]
  },
  {
   "cell_type": "markdown",
   "metadata": {
    "slideshow": {
     "slide_type": "subslide"
    }
   },
   "source": [
    "#### Discussion Questions"
   ]
  },
  {
   "cell_type": "markdown",
   "metadata": {},
   "source": [
    "* Did this behave as you expected?\n",
    "* Increasing the ethylene recovery to 1.00 leads to a product purity greater than 1.0. Obviously that's not possible. What's going wrong?\n",
    "* What is the maximum possible recovery of ethylene for recycle?"
   ]
  },
  {
   "cell_type": "markdown",
   "metadata": {
    "slideshow": {
     "slide_type": "slide"
    }
   },
   "source": [
    "#### Parametric Analysis: Change the Oxygen Feed Rate"
   ]
  },
  {
   "cell_type": "markdown",
   "metadata": {},
   "source": [
    "As we've discovered, the oxygen feedrate is not sufficient to consume all of the ethylene. Let's explore what happens if we change the oxygen feedrate."
   ]
  },
  {
   "cell_type": "code",
   "execution_count": 24,
   "metadata": {
    "collapsed": false,
    "slideshow": {
     "slide_type": "fragment"
    }
   },
   "outputs": [
    {
     "data": {
      "text/plain": [
       "nE1 == 196.0"
      ]
     },
     "metadata": {},
     "output_type": "display_data"
    },
    {
     "data": {
      "text/plain": [
       "nO1 == oxyfeed"
      ]
     },
     "metadata": {},
     "output_type": "display_data"
    },
    {
     "data": {
      "text/plain": [
       "nE2 - nE3 == 0.06*nE2"
      ]
     },
     "metadata": {},
     "output_type": "display_data"
    },
    {
     "data": {
      "text/plain": [
       "nE5 == 0.98*nE3"
      ]
     },
     "metadata": {},
     "output_type": "display_data"
    },
    {
     "data": {
      "text/plain": [
       "nO5 == 0.995*nO3"
      ]
     },
     "metadata": {},
     "output_type": "display_data"
    },
    {
     "data": {
      "text/plain": [
       "nEO4 == 0.97*nEO3"
      ]
     },
     "metadata": {},
     "output_type": "display_data"
    }
   ],
   "source": [
    "oxyfeed = sym.var('oxyfeed')\n",
    "feed_spec = [\n",
    "    sym.Eq(nE1,196.0),\n",
    "    sym.Eq(nO1,oxyfeed)]\n",
    "\n",
    "reactor_spec = [\n",
    "    sym.Eq(nE2 - nE3, 0.06*nE2)]\n",
    "\n",
    "separator_spec = [\n",
    "    sym.Eq(nE5, 0.98*nE3),\n",
    "    sym.Eq(nO5, 0.995*nO3),\n",
    "    sym.Eq(nEO4, 0.97*nEO3)]\n",
    "\n",
    "specifications = feed_spec + reactor_spec + separator_spec\n",
    "for s in specifications:\n",
    "    display(s)"
   ]
  },
  {
   "cell_type": "code",
   "execution_count": 25,
   "metadata": {
    "collapsed": false,
    "slideshow": {
     "slide_type": "subslide"
    }
   },
   "outputs": [
    {
     "data": {
      "text/plain": [
       "149.238578680203/(oxyfeed + 121.380710659898)"
      ]
     },
     "metadata": {},
     "output_type": "display_data"
    },
    {
     "data": {
      "image/png": "[encoded data removed]",
      "text/plain": [
       "<matplotlib.figure.Figure at 0x1092c6e90>"
      ]
     },
     "metadata": {},
     "output_type": "display_data"
    }
   ],
   "source": [
    "soln = sym.solve(material_balances + specifications, exlude=[oxyfeed])\n",
    "\n",
    "purity = soln[nEO4]/(soln[nEO4]+soln[nE4]+soln[nO4])\n",
    "display(sym.simplify(purity))\n",
    "sym.plot(purity,(oxyfeed,74.5,196/2),xlabel='O1',ylabel='fraction EO',title='Purity');"
   ]
  },
  {
   "cell_type": "code",
   "execution_count": 26,
   "metadata": {
    "collapsed": false,
    "slideshow": {
     "slide_type": "subslide"
    }
   },
   "outputs": [
    {
     "data": {
      "text/plain": [
       "0.0084*oxyfeed + 1.01959796954315"
      ]
     },
     "metadata": {},
     "output_type": "display_data"
    },
    {
     "data": {
      "image/png": "[encoded data removed]",
      "text/plain": [
       "<matplotlib.figure.Figure at 0x1095ea210>"
      ]
     },
     "metadata": {},
     "output_type": "display_data"
    }
   ],
   "source": [
    "production = 24*350*(soln[nEO4] + soln[nE4] + soln[nO4])/1000000\n",
    "display(sym.simplify(production))\n",
    "sym.plot(production,(oxyfeed,74.5,196/2),xlabel='O1',ylabel='kg-mol/year',title='Production');"
   ]
  },
  {
   "cell_type": "markdown",
   "metadata": {
    "slideshow": {
     "slide_type": "subslide"
    }
   },
   "source": [
    "####     Discussion Questions"
   ]
  },
  {
   "cell_type": "markdown",
   "metadata": {},
   "source": [
    "* Did this behave as you expected?\n",
    "* Why did the product purity decrease as the oxygen feedrate was increased?"
   ]
  },
  {
   "cell_type": "markdown",
   "metadata": {
    "slideshow": {
     "slide_type": "slide"
    }
   },
   "source": [
    "## Conclusions"
   ]
  },
  {
   "cell_type": "markdown",
   "metadata": {},
   "source": [
    "* The nominal process specifications yield a product purity of 72.5 mol% and a production of 1.73 million kgmol/year. The product purity falls significantly short of the desired purity of 98 mol%.\n",
    "* Product purity can be increased by increasing the single-pass reactor conversion, increasing the recovery of ethylene to recycle, and decreasing oxygen feed. Individual, however, these changes are not sufficient to meet to the desired purity.\n",
    "* Can you find specifications that will meet the 98% product purity specification?"
   ]
  }
 ],
 "metadata": {
  "kernelspec": {
   "display_name": "Python 2",
   "language": "python",
   "name": "python2"
  },
  "language_info": {
   "codemirror_mode": {
    "name": "ipython",
    "version": 2
   },
   "file_extension": ".py",
   "mimetype": "text/x-python",
   "name": "python",
   "nbconvert_exporter": "python",
   "pygments_lexer": "ipython2",
   "version": "2.7.10"
  }
 },
 "nbformat": 4,
 "nbformat_minor": 0
}
