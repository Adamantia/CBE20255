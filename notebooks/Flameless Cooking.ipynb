{
 "cells": [
  {
   "cell_type": "markdown",
   "metadata": {
    "slideshow": {
     "slide_type": "slide"
    }
   },
   "source": [
    "# Flameless Cooking"
   ]
  },
  {
   "cell_type": "markdown",
   "metadata": {
    "slideshow": {
     "slide_type": "subslide"
    }
   },
   "source": [
    "The purpose of this [IPython notebook](http://ipython.org/notebook.html) is to get you started in using Python (actually, the interactive variant called IPython) for routine chemical engineering calculations assuming this is your first exposure to Python.\n",
    "\n",
    "J.C. Kantor (Kantor.1@nd.edu)\n",
    "\n",
    "The latest version of this IPython notebook is available at [http://github.com/jckantor/CBE20255](http://github.com/jckantor/CBE20255)  for noncommercial use under terms of the [Creative Commons Attribution Noncommericial ShareAlike License](http://creativecommons.org/licenses/by-nc-sa/4.0/)."
   ]
  },
  {
   "cell_type": "markdown",
   "metadata": {},
   "source": [
    "## Flameless Cooking"
   ]
  },
  {
   "cell_type": "markdown",
   "metadata": {},
   "source": [
    "Recently, a number of vendors, such as [MagicCook](http://www.magiccook.net/), [BaroCook](http://www.barocook.net/eng/), and [MealSpec](http://www.campingsurvival.com/meflmrehe.html) have developed portable devices for cooking single servings of hot food that don't require flame or electricity. These devices could be used by backpackers, military, or workers seeking a hot meal in a location without access to traditional cooking appliances."
   ]
  },
  {
   "cell_type": "code",
   "execution_count": 5,
   "metadata": {
    "collapsed": false
   },
   "outputs": [
    {
     "data": {
      "text/html": [
       "\n",
       "        <iframe\n",
       "            width=\"560\"\n",
       "            height=\"315\"\n",
       "            src=\"https://www.youtube.com/embed/Coz7LRoTnYM\"\n",
       "            frameborder=\"0\"\n",
       "            allowfullscreen\n",
       "        ></iframe>\n",
       "        "
      ],
      "text/plain": [
       "<IPython.lib.display.YouTubeVideo at 0x1066c0050>"
      ]
     },
     "execution_count": 5,
     "metadata": {},
     "output_type": "execute_result"
    }
   ],
   "source": [
    "from IPython.display import YouTubeVideo\n",
    "YouTubeVideo(\"Coz7LRoTnYM\",560,315)"
   ]
  },
  {
   "cell_type": "markdown",
   "metadata": {},
   "source": [
    "Understandably, none of these companies is forthcoming with the chemistry of their heating packs. One [reviewer](http://www.outdoorlife.com/blogs/wringer/gear-review-flameless-portable-cooking-systems-backcountry-camping) suggests the MealSpec heating pack contains calcium oxide ($CaO$, also known as quicklime) and aluminum ($Al$) powder which react in the presence of water. \n",
    "\n",
    "There are a number of reactions that have been proposed for these applications. Among the most well known is the hydration of quicklime via the exothermic reaction\n",
    "\n",
    "$$CaO (s) + H_2O (l) \\longrightarrow Ca(OH)_2 (aq)$$\n",
    "\n",
    "Aluminum can react with water in various ways to produce by-product hydrogen gas\n",
    "\n",
    "\\begin{align*}\n",
    "Al + 3 H_2O \\longrightarrow Al(OH)_3 + \\frac{3}{2} H_2 \\\\\n",
    "\\\\\n",
    "Al + 2 H_2O \\longrightarrow AlOOH + \\frac{3}{2} H_2 \\\\\n",
    "\\\\\n",
    "Al + \\frac{3}{2} H_2O \\longrightarrow \\frac{3}{2} Al_2O_3 + frac{3}{2} H_2 \\\\\n",
    "\\end{align*}\n",
    "\n",
    "Katoite can be formed by several mechanisms including\n",
    "\n",
    "$$Al_2O_3 + 3 CaO + 6 H2O \\longrightarrow Ca_3Al_2[(OH)_4]_3$$\n",
    "\n",
    "and\n",
    "\n",
    "$$Ca(OH)_2 + Al (s) + 8 H_2O \\longrightarrow Ca_3Al_2((OH)_4)_3 + 6H_2$$"
   ]
  },
  {
   "cell_type": "markdown",
   "metadata": {},
   "source": [
    "E.G. Avvakumov, E.T. Devyatkina, N.V. Kosova, Mechanochemical Reactions of Hydrated Oxides, Journal of Solid State Chemistry, Volume 113, Issue 2, December 1994, Pages 379-383, ISSN 0022-4596, http://dx.doi.org/10.1006/jssc.1994.1384.\n",
    "(http://www.sciencedirect.com/science/article/pii/S0022459684713843)"
   ]
  },
  {
   "cell_type": "markdown",
   "metadata": {
    "collapsed": true
   },
   "source": [
    "## Project Goals"
   ]
  },
  {
   "cell_type": "markdown",
   "metadata": {},
   "source": [
    "The goal of this project is develop a proposal for heating packs that can compete with the market incumbants. Among the considerations:\n",
    "\n",
    "1. Select a chemistry. Above all, the product must be safe, effective, inexpensive to manufacture, have a long shelf life, and disposable in an environmentally sound manner. How can you validate your proposed chemistry?\n",
    "\n",
    "2. Product design. How would you package the product for the marketplace? What is your intended market? How would you package the technology? How do you make a sustainable business?"
   ]
  },
  {
   "cell_type": "code",
   "execution_count": null,
   "metadata": {
    "collapsed": true
   },
   "outputs": [],
   "source": []
  }
 ],
 "metadata": {
  "kernelspec": {
   "display_name": "Python 2",
   "language": "python",
   "name": "python2"
  },
  "language_info": {
   "codemirror_mode": {
    "name": "ipython",
    "version": 2
   },
   "file_extension": ".py",
   "mimetype": "text/x-python",
   "name": "python",
   "nbconvert_exporter": "python",
   "pygments_lexer": "ipython2",
   "version": "2.7.9"
  }
 },
 "nbformat": 4,
 "nbformat_minor": 0
}
