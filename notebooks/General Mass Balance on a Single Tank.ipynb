{
 "metadata": {
  "name": ""
 },
 "nbformat": 3,
 "nbformat_minor": 0,
 "worksheets": [
  {
   "cells": [
    {
     "cell_type": "heading",
     "level": 1,
     "metadata": {},
     "source": [
      "General Mass Balance on a Single Tank"
     ]
    },
    {
     "cell_type": "markdown",
     "metadata": {},
     "source": [
      "This [IPython notebook](http://ipython.org/notebook.html) demonstrates the application of a mass balance to a simple water tank. This example is adapted with permission from [learnCheme.com](http://learncheme.ning.com/), a project at the University of Colorado funded by the National Science Foundation and the Shell Corporation.\n",
      "\n",
      "J.C. Kantor (Kantor.1@nd.edu)\n",
      "\n",
      "The latest version of this IPython notebook is available at [http://github.com/jckantor/CBE20255](http://github.com/jckantor/CBE20255)  for noncommercial use under terms of the [Creative Commons Attribution Noncommericial ShareAlike License](http://creativecommons.org/licenses/by-nc-sa/4.0/)."
     ]
    },
    {
     "cell_type": "heading",
     "level": 2,
     "metadata": {},
     "source": [
      "Problem Statement"
     ]
    },
    {
     "cell_type": "markdown",
     "metadata": {},
     "source": [
      "<iframe width=\"420\" height=\"315\" src=\"//www.youtube.com/embed/e3ZolLn2STE\" frameborder=\"0\" allowfullscreen></iframe>"
     ]
    },
    {
     "cell_type": "heading",
     "level": 2,
     "metadata": {},
     "source": [
      "Solution with Sympy"
     ]
    },
    {
     "cell_type": "heading",
     "level": 3,
     "metadata": {},
     "source": [
      "Diagram"
     ]
    },
    {
     "cell_type": "markdown",
     "metadata": {},
     "source": [
      "<img src=\"https://raw.github.com/jckantor/CBE20255/master/notebooks/images/water_tank.png\" width=400px>"
     ]
    },
    {
     "cell_type": "heading",
     "level": 3,
     "metadata": {},
     "source": [
      "Mass Balance"
     ]
    },
    {
     "cell_type": "markdown",
     "metadata": {},
     "source": [
      "Using our general principles for a mass balance\n",
      "\n",
      "$\\frac{d(\\rho V)}{dt} = \\dot{m}_1 - \\dot{m}_2$\n",
      "\n",
      "which can be simplified to\n",
      "\n",
      "$\\frac{dV}{dt} = \\frac{1}{\\rho}\\left(\\dot{m}_1 - \\dot{m}_2\\right)$\n",
      "\n",
      "This is a differential equation with an initial condition $V(0) = 1\\,\\mbox{m}^3$. "
     ]
    },
    {
     "cell_type": "heading",
     "level": 3,
     "metadata": {},
     "source": [
      "Numerical Solution using `odeint`"
     ]
    },
    {
     "cell_type": "code",
     "collapsed": false,
     "input": [
      "from scipy.integrate import odeint\n",
      "\n",
      "# Flowrates in kg/sec\n",
      "m1 = 4.0\n",
      "m2 = 2.0\n",
      "\n",
      "# Density in kg/m**3\n",
      "rho = 1000.0\n",
      "\n",
      "# Function to compute accumulation rate\n",
      "def dV(V,t): return (m1 - m2)/rho;\n",
      "\n",
      "# Solve by integration\n",
      "t = linspace(0,1000)\n",
      "V = odeint(dV,1.0,t)\n",
      "\n",
      "# Plot result and compare to tank volume\n",
      "plot(t,V,'b',t,2*ones(len(t)),'r')\n",
      "xlabel('Time [sec]')\n",
      "ylabel('Volume [m**3]')\n",
      "legend(['Water Volume','Tank Volume']);"
     ],
     "language": "python",
     "metadata": {},
     "outputs": [
      {
       "metadata": {},
       "output_type": "display_data",
       "png": "[encoded data removed]",
       "text": [
        "<matplotlib.figure.Figure at 0x107bda490>"
       ]
      }
     ],
     "prompt_number": 2
    },
    {
     "cell_type": "heading",
     "level": 2,
     "metadata": {},
     "source": [
      "Exercise"
     ]
    },
    {
     "cell_type": "markdown",
     "metadata": {},
     "source": [
      "Suppose the tank was being used to protect against surges in water flow, and the inlet flowrate was a function of time where\n",
      "\n",
      "$\\dot{m}_1 = 4 e^{-t/500}$\n",
      "\n",
      "Would the tank overflow?  Assuming it didn't overflow, how long would it take for the tank to return to its initial condition of being half full?"
     ]
    },
    {
     "cell_type": "code",
     "collapsed": false,
     "input": [],
     "language": "python",
     "metadata": {},
     "outputs": [],
     "prompt_number": 2
    }
   ],
   "metadata": {}
  }
 ]
}