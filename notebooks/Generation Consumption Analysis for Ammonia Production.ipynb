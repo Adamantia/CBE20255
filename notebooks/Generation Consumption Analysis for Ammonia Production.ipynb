{
 "cells": [
  {
   "cell_type": "markdown",
   "metadata": {},
   "source": [
    "###### The latest version of this IPython notebook is available at [http://github.com/jckantor/CBE20255](http://github.com/jckantor/CBE20255)  for noncommercial use under terms of the [Creative Commons Attribution Noncommericial ShareAlike License](http://creativecommons.org/licenses/by-nc-sa/4.0/).\n",
    "\n",
    "J.C. Kantor (Kantor.1@nd.edu)"
   ]
  },
  {
   "cell_type": "markdown",
   "metadata": {},
   "source": [
    "# Generation/Consumption Analysis for Ammonia Production"
   ]
  },
  {
   "cell_type": "markdown",
   "metadata": {},
   "source": [
    "This [IPython notebook](http://ipython.org/notebook.html) demonstrate the use of the [symbolic algebra package `Sympy`](http://sympy.org/en/index.html) for the generation/consumption analysis for the production of ammonia using basic principles of reaction stoichiometry."
   ]
  },
  {
   "cell_type": "markdown",
   "metadata": {},
   "source": [
    "## Background"
   ]
  },
  {
   "cell_type": "markdown",
   "metadata": {},
   "source": [
    "BASF, headquartered in Ludwigshafen, Germany, is the largest chemical company in the world. In 1913, under its original name Badische Anilin- und Soda-Fabrik, BASF commercialized the Haber-Bosch process for the production of ammonia from natural gas, water, and air. \n",
    "\n",
    "Prior to this invention, American and European agriculture was dependent on guano mined from the 'Guano Islands' in the Caribbean Sea and Pacific Ocean, and saltpeter mined from the deserts of Peru, Chile, and Bolivia. The competition for these limited resouces led to the notorious [U.S. Guano Islands Act of 1856](http://en.wikipedia.org/wiki/Guano_Islands_Act), and multiple wars (the Guano War, the [War of the Pacific](http://en.wikipedia.org/wiki/War_of_the_Pacific), later resulting in acute fertilizer shortages that was called  'the Wheat Problem' in England by Sir William Crookes in 1898. \n",
    "\n",
    "The following video produced by BASF provides a technical overview of the Haber-Bosch process. "
   ]
  },
  {
   "cell_type": "code",
   "execution_count": 1,
   "metadata": {
    "collapsed": false
   },
   "outputs": [
    {
     "data": {
      "text/html": [
       "\n",
       "        <iframe\n",
       "            width=\"560\"\n",
       "            height=\"315\"\n",
       "            src=\"https://www.youtube.com/embed/uMkzxV_y7tY?rel=0\"\n",
       "            frameborder=\"0\"\n",
       "            allowfullscreen\n",
       "        ></iframe>\n",
       "        "
      ],
      "text/plain": [
       "<IPython.lib.display.YouTubeVideo at 0x106133dd0>"
      ]
     },
     "execution_count": 1,
     "metadata": {},
     "output_type": "execute_result"
    }
   ],
   "source": [
    "from IPython.display import YouTubeVideo\n",
    "YouTubeVideo(\"uMkzxV_y7tY\",560,315,rel=0)"
   ]
  },
  {
   "cell_type": "markdown",
   "metadata": {},
   "source": [
    "## Problem Statement"
   ]
  },
  {
   "cell_type": "markdown",
   "metadata": {},
   "source": [
    "Consider three reactions for the production of ammonia\n",
    "\n",
    "1. Steam-reforming of methane\n",
    "<div style=\"margin-top:5px;margin-bottom:10px\">\n",
    "CH<sub>4</sub> + H<sub>2</sub>O &rarr; CO + 3 H<sub>2\n",
    "</div>\n",
    "2. Water-gas shift \n",
    "<div style=\"margin-top:5px;margin-bottom:10px\">\n",
    "CO + H<sub>2</sub>O &rarr; CO<sub>2</sub> + H<sub>2\n",
    "</div>\n",
    "3. Haber-Bosch reaction\n",
    "<div style=\"margin-top:5px;margin-bottom:10px\">\n",
    "N<sub>2</sub> + 3 H<sub>2</sub> &rarr; 2 NH<sub>3</sub>\n",
    "</div>\n",
    "\n",
    "Determine if it is possible to construct a process for the production of ammonia with no wasted hydrogen and no release of carbon monoxide."
   ]
  },
  {
   "cell_type": "markdown",
   "metadata": {},
   "source": [
    "## Solution"
   ]
  },
  {
   "cell_type": "markdown",
   "metadata": {},
   "source": [
    "We begin by setting up the stoichiometric matrix for generation/consumption analysis\n",
    "\n",
    "| Species         | R<sub>1</sub> | R<sub>2</sub> | R<sub>3</sub> | Net                 |\n",
    "| :-------------: | :-----------: | :-----------: | :-----------: | :-----------------: |\n",
    "|                 | &chi;<sub>1</sub> | &chi;<sub>2</sub> | &chi;<sub>3</sub> | $\\sum_k\\nu_k\\chi_k$ |\n",
    "| CH<sub>4</sub>  | -1            |  0            |  0            | &leq; 0             |\n",
    "| H<sub>2</sub>O  | -1            | -1            |  0            | &leq; 0             |\n",
    "| CO              |  1            | -1            |  0            | 0                   |\n",
    "| H<sub>2</sub>   |  3            |  1            | -3            | 0                   |\n",
    "| CO<sub>2</sub>  |  0            |  1            |  0            | &geq; 0             |\n",
    "| N<sub>2</sub>   |  0            |  0            |  1            | &leq; 0             |\n",
    "| NH<sub>3</sub>  |  0            |  0            |  2            | 1                   |\n",
    "\n",
    "\n",
    "which includes three equality constraints which need to be solved for\n",
    "&chi;<sub>1</sub>, &chi;<sub>2</sub>, and &chi;<sub>3</sub>.\n",
    "\n",
    "The first step is to import `sympy`."
   ]
  },
  {
   "cell_type": "code",
   "execution_count": 2,
   "metadata": {
    "collapsed": false
   },
   "outputs": [],
   "source": [
    "import sympy"
   ]
  },
  {
   "cell_type": "markdown",
   "metadata": {},
   "source": [
    "When imported in this way, the functions from `sympy` must be accessed with the prefix `sympy.`. This avoids overwriting functions with the same name as those in `sympy`, such as `plot`.\n",
    "\n",
    "Next we use the `sympy.var` function to create three symbolic variables corresponding to &chi;<sub>1</sub>, &chi;<sub>2</sub>, and &chi;<sub>3</sub>."
   ]
  },
  {
   "cell_type": "code",
   "execution_count": 3,
   "metadata": {
    "collapsed": false
   },
   "outputs": [
    {
     "data": {
      "text/plain": [
       "(x1, x2, x3)"
      ]
     },
     "execution_count": 3,
     "metadata": {},
     "output_type": "execute_result"
    }
   ],
   "source": [
    "sympy.var('x1 x2 x3')"
   ]
  },
  {
   "cell_type": "markdown",
   "metadata": {},
   "source": [
    "The net stoichiometric coefficients can be written in terms of the symbolic variables. "
   ]
  },
  {
   "cell_type": "code",
   "execution_count": 4,
   "metadata": {
    "collapsed": false
   },
   "outputs": [],
   "source": [
    "v = dict()\n",
    "v['CH4'] = -x1\n",
    "v['H2O'] = -x1 - x2\n",
    "v['CO']  = x1 - x2\n",
    "v['H2']  = 3*x1 + x2 - 3*x3\n",
    "v['CO2'] = x2\n",
    "v['N2'] = -x3\n",
    "v['NH3'] = 2*x3"
   ]
  },
  {
   "cell_type": "markdown",
   "metadata": {},
   "source": [
    "The three process constraints are encoded as equations using the sympy function `Eq()`"
   ]
  },
  {
   "cell_type": "code",
   "execution_count": 5,
   "metadata": {
    "collapsed": false
   },
   "outputs": [],
   "source": [
    "eqns = [\n",
    "    sympy.Eq(v['NH3'],1),  \n",
    "    sympy.Eq(v['CO'],0),\n",
    "    sympy.Eq(v['H2'],0)\n",
    "]"
   ]
  },
  {
   "cell_type": "markdown",
   "metadata": {},
   "source": [
    "These equations are solved for &chi;<sub>1</sub>, &chi;<sub>2</sub>, and &chi;<sub>3</sub>."
   ]
  },
  {
   "cell_type": "code",
   "execution_count": 6,
   "metadata": {
    "collapsed": false
   },
   "outputs": [
    {
     "name": "stdout",
     "output_type": "stream",
     "text": [
      "{x3: 1/2, x1: 3/8, x2: 3/8}\n"
     ]
    }
   ],
   "source": [
    "soln = sympy.solve(eqns)\n",
    "print soln"
   ]
  },
  {
   "cell_type": "markdown",
   "metadata": {},
   "source": [
    "To finish the problem, the solutions are substituted back into the expressions for the stoichiometric coefficients, and the non-zero coefficients are displayed."
   ]
  },
  {
   "cell_type": "code",
   "execution_count": 7,
   "metadata": {
    "collapsed": false
   },
   "outputs": [
    {
     "name": "stdout",
     "output_type": "stream",
     "text": [
      "CO2    3/8\n",
      "H2O   -3/4\n",
      "CH4   -3/8\n",
      "NH3      1\n",
      "N2    -1/2\n"
     ]
    }
   ],
   "source": [
    "for k in v.keys():\n",
    "    a = v[k].subs(soln)\n",
    "    if a <> 0:\n",
    "        print \"{:<3s} {:>6s}\".format(k,a)"
   ]
  },
  {
   "cell_type": "code",
   "execution_count": null,
   "metadata": {
    "collapsed": false
   },
   "outputs": [],
   "source": []
  }
 ],
 "metadata": {
  "anaconda-cloud": {},
  "kernelspec": {
   "display_name": "Python [Root]",
   "language": "python",
   "name": "Python [Root]"
  },
  "language_info": {
   "codemirror_mode": {
    "name": "ipython",
    "version": 2
   },
   "file_extension": ".py",
   "mimetype": "text/x-python",
   "name": "python",
   "nbconvert_exporter": "python",
   "pygments_lexer": "ipython2",
   "version": "2.7.12"
  }
 },
 "nbformat": 4,
 "nbformat_minor": 0
}
