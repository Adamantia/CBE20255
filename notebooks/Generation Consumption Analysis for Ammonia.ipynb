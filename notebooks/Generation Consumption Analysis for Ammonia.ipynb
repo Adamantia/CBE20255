{
 "metadata": {
  "name": ""
 },
 "nbformat": 3,
 "nbformat_minor": 0,
 "worksheets": [
  {
   "cells": [
    {
     "cell_type": "heading",
     "level": 1,
     "metadata": {},
     "source": [
      "Generation/Consumption Analysis for the Production of Ammonia"
     ]
    },
    {
     "cell_type": "markdown",
     "metadata": {},
     "source": [
      "This [IPython notebook](http://ipython.org/notebook.html) demonstrate the use of the [symbolic algebra package `Sympy`](http://sympy.org/en/index.html) for the generation/consumption analysis for the production of ammonia using basic principles of reaction stoichiometry.\n",
      "\n",
      "J.C. Kantor (Kantor.1@nd.edu)\n",
      "\n",
      "The latest version of this IPython notebook is available at [http://github.com/jckantor/CBE20255](http://github.com/jckantor/CBE20255)  for noncommercial use under terms of the [Creative Commons Attribution Noncommericial ShareAlike License](http://creativecommons.org/licenses/by-nc-sa/4.0/)."
     ]
    },
    {
     "cell_type": "heading",
     "level": 2,
     "metadata": {},
     "source": [
      "Background"
     ]
    },
    {
     "cell_type": "markdown",
     "metadata": {},
     "source": [
      "BASF, headquartered in Ludwigshafen, Germany, is the largest chemical company in the world. In 1913, under its original name Badische Anilin- und Soda-Fabrik, BASF commercialized the Haber-Bosch process for the production of ammonia from natural gas, water, and air. \n",
      "\n",
      "Prior to this invention, American and European agriculture was dependent on guano mined from the 'Guano Islands' in the Caribbean Sea and Pacific Ocean, and saltpeter mined from the deserts of Peru, Chile, and Bolivia. The competition for these limited resouces led to the notorious [U.S. Guano Islands Act of 1856](http://en.wikipedia.org/wiki/Guano_Islands_Act), and multiple wars (the Guano War, the [War of the Pacific](http://en.wikipedia.org/wiki/War_of_the_Pacific), later resulting in acute fertilizer shortages that was called  'the Wheat Problem' in England by Sir William Crookes in 1898. \n",
      "\n",
      "The following video produced by BASF provides a technical overview of the Haber-Bosch process. \n",
      "\n",
      "<div style=\"margin-top:10px;margin-bottom:0px\">\n",
      "<iframe width=\"560\" height=\"315\" src=\"//www.youtube-nocookie.com/embed/uMkzxV_y7tY?rel=0\" frameborder=\"0\" allowfullscreen></iframe>\n",
      "</div>"
     ]
    },
    {
     "cell_type": "heading",
     "level": 2,
     "metadata": {},
     "source": [
      "Problem Statement"
     ]
    },
    {
     "cell_type": "markdown",
     "metadata": {},
     "source": [
      "Consider three reactions for the production of ammonia\n",
      "\n",
      "1. Steam-reforming of methane\n",
      "<div style=\"margin-top:5px;margin-bottom:10px\">\n",
      "CH<sub>4</sub> + H<sub>2</sub>O &rarr; CO + 3 H<sub>2\n",
      "</div>\n",
      "2. Water-gas shift \n",
      "<div style=\"margin-top:5px;margin-bottom:10px\">\n",
      "CO + H<sub>2</sub>O &rarr; CO<sub>2</sub> + H<sub>2\n",
      "</div>\n",
      "3. Haber-Bosch reaction\n",
      "<div style=\"margin-top:5px;margin-bottom:10px\">\n",
      "N<sub>2</sub> + 3 H<sub>2</sub> &rarr; 2 NH<sub>3</sub>\n",
      "</div>\n",
      "\n",
      "Determine if it is possible to construct a process for the production of ammonia with no wasted hydrogen and no release of carbon monoxide."
     ]
    },
    {
     "cell_type": "heading",
     "level": 2,
     "metadata": {},
     "source": [
      "Solution"
     ]
    },
    {
     "cell_type": "markdown",
     "metadata": {},
     "source": [
      "We begin by setting up the stoichiometric matrix for generation/consumption analysis\n",
      "\n",
      "| Species         | R<sub>1</sub> | R<sub>2</sub> | R<sub>3</sub> | Net                 |\n",
      "| :-------------: | :-----------: | :-----------: | :-----------: | :-----------------: |\n",
      "|                 | &chi;<sub>1</sub> | &chi;<sub>2</sub> | &chi;<sub>3</sub> | $\\sum_k\\nu_k\\chi_k$ |\n",
      "| CH<sub>4</sub>  | -1            |  0            |  0            | &leq; 0             |\n",
      "| H<sub>2</sub>O  | -1            | -1            |  0            | &leq; 0             |\n",
      "| CO              |  1            | -1            |  0            | 0                   |\n",
      "| H<sub>2</sub>   |  3            |  1            | -3            | 0                   |\n",
      "| CO<sub>2</sub>  |  0            |  1            |  0            | &geq; 0             |\n",
      "| N<sub>2</sub>   |  0            |  0            |  1            | &leq; 0             |\n",
      "| NH<sub>3</sub>  |  0            |  0            |  2            | 1                   |\n",
      "\n",
      "\n",
      "which includes three equality constraints which need to be solved for\n",
      "&chi;<sub>1</sub>, &chi;<sub>2</sub>, and &chi;<sub>3</sub>.\n",
      "\n",
      "The first step is to import `sympy`."
     ]
    },
    {
     "cell_type": "code",
     "collapsed": false,
     "input": [
      "import sympy"
     ],
     "language": "python",
     "metadata": {},
     "outputs": [],
     "prompt_number": 1
    },
    {
     "cell_type": "markdown",
     "metadata": {},
     "source": [
      "When imported in this way, the functions from `sympy` must be accessed with the prefix `sympy.`. This avoids overwriting functions with the same name as those in `sympy`, such as `plot`.\n",
      "\n",
      "Next we use the `sympy.var` function to create three symbolic variables corresponding to &chi;<sub>1</sub>, &chi;<sub>2</sub>, and &chi;<sub>3</sub>."
     ]
    },
    {
     "cell_type": "code",
     "collapsed": false,
     "input": [
      "sympy.var('x1 x2 x3')"
     ],
     "language": "python",
     "metadata": {},
     "outputs": [
      {
       "metadata": {},
       "output_type": "pyout",
       "prompt_number": 2,
       "text": [
        "(x1, x2, x3)"
       ]
      }
     ],
     "prompt_number": 2
    },
    {
     "cell_type": "markdown",
     "metadata": {},
     "source": [
      "The net stoichiometric coefficients can be written in terms of the symbolic variables. "
     ]
    },
    {
     "cell_type": "code",
     "collapsed": false,
     "input": [
      "v = dict()\n",
      "v['CH4'] = -x1\n",
      "v['H2O'] = -x1 - x2\n",
      "v['CO']  = x1 - x2\n",
      "v['H2']  = 3*x1 + x2 - 3*x3\n",
      "v['CO2'] = x2\n",
      "v['N2'] = -x3\n",
      "v['NH3'] = 2*x3"
     ],
     "language": "python",
     "metadata": {},
     "outputs": [],
     "prompt_number": 3
    },
    {
     "cell_type": "markdown",
     "metadata": {},
     "source": [
      "The three process constraints are encoded as equations using the sympy function `Eq()`"
     ]
    },
    {
     "cell_type": "code",
     "collapsed": false,
     "input": [
      "eqns = [\n",
      "    sympy.Eq(v['NH3'],1),  \n",
      "    sympy.Eq(v['CO'],0),\n",
      "    sympy.Eq(v['H2'],0)\n",
      "]"
     ],
     "language": "python",
     "metadata": {},
     "outputs": [],
     "prompt_number": 4
    },
    {
     "cell_type": "markdown",
     "metadata": {},
     "source": [
      "These equations are solved for &chi;<sub>1</sub>, &chi;<sub>2</sub>, and &chi;<sub>3</sub>."
     ]
    },
    {
     "cell_type": "code",
     "collapsed": false,
     "input": [
      "soln = sympy.solve(eqns)\n",
      "print soln"
     ],
     "language": "python",
     "metadata": {},
     "outputs": [
      {
       "output_type": "stream",
       "stream": "stdout",
       "text": [
        "{x3: 1/2, x1: 3/8, x2: 3/8}\n"
       ]
      }
     ],
     "prompt_number": 5
    },
    {
     "cell_type": "markdown",
     "metadata": {},
     "source": [
      "To finish the problem, the solutions are substituted back into the expressions for the stoichiometric coefficients, and the non-zero coefficients are displayed."
     ]
    },
    {
     "cell_type": "code",
     "collapsed": false,
     "input": [
      "for k in v.keys():\n",
      "    a = v[k].subs(soln)\n",
      "    if a <> 0:\n",
      "        print \"{:<3s} {:>6s}\".format(k,a)"
     ],
     "language": "python",
     "metadata": {},
     "outputs": [
      {
       "output_type": "stream",
       "stream": "stdout",
       "text": [
        "CO2    3/8\n",
        "H2O   -3/4\n",
        "CH4   -3/8\n",
        "NH3      1\n",
        "N2    -1/2\n"
       ]
      }
     ],
     "prompt_number": 6
    },
    {
     "cell_type": "code",
     "collapsed": false,
     "input": [],
     "language": "python",
     "metadata": {},
     "outputs": []
    }
   ],
   "metadata": {}
  }
 ]
}