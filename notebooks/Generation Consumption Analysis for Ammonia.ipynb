{
 "metadata": {
  "name": ""
 },
 "nbformat": 3,
 "nbformat_minor": 0,
 "worksheets": [
  {
   "cells": [
    {
     "cell_type": "heading",
     "level": 1,
     "metadata": {},
     "source": [
      "Generation/Consumption Analysis for the Production of Ammonia"
     ]
    },
    {
     "cell_type": "markdown",
     "metadata": {},
     "source": [
      "One of the best features of Python is the ability to extend it's functionality by importing special purpose libraries of functions. Here we import a symbolic algebra package [`Sympy`](http://sympy.org/en/index.html) and use for generation/consumption analysis."
     ]
    },
    {
     "cell_type": "heading",
     "level": 3,
     "metadata": {},
     "source": [
      "Problem Statement"
     ]
    },
    {
     "cell_type": "markdown",
     "metadata": {},
     "source": [
      "Consider three reactions for the production of ammonia\n",
      "\n",
      "1. Steam-reforming of methane\n",
      "\\\\[CH_4 + H_2O \\longrightarrow CO + 3\\,H_2\\\\]\n",
      "\n",
      "2. Water-gas shift \n",
      "\\\\[CO + H_2O \\longrightarrow CO_2 + H_2\\\\]\n",
      "\n",
      "3. Haber-Bosch reaction\n",
      "\\\\[N_2 + 3\\,H_2 \\longrightarrow 2\\,NH_3\\\\]\n",
      "\n",
      "Determine if it is possible to construct a process for the production of ammonia with no wasted hydrogen and no release of carbon monoxide."
     ]
    },
    {
     "cell_type": "heading",
     "level": 3,
     "metadata": {},
     "source": [
      "Solution"
     ]
    },
    {
     "cell_type": "markdown",
     "metadata": {},
     "source": [
      "We begin by setting up the stoichiometric matrix for generation/consumption analysis\n",
      "\n",
      "|  Species   |  \\\\(R_1\\\\)   |  \\\\(R_2\\\\)   |  \\\\(R_3\\\\)   |           Net           |\n",
      "| :--------: | :----------: | :----------: | :----------: | :---------------------: |\n",
      "|            | \\\\(\\chi_1\\\\) | \\\\(\\chi_2\\\\) | \\\\(\\chi_3\\\\) | \\\\(\\sum_k\\nu_k\\chi_k\\\\) |\n",
      "| \\\\(CH_4\\\\) | -1           |  0           |  0           | \\\\(\\leq 0\\\\)            |\n",
      "| \\\\(H_2O\\\\) | -1           | -1           |  0           | \\\\(\\leq 0\\\\)            |\n",
      "| \\\\(CO\\\\)   |  1           | -1           |  0           | 0                       |\n",
      "| \\\\(H_2\\\\)  |  3           |  1           | -3           | 0                       |\n",
      "| \\\\(CO_2\\\\) |  0           |  1           |  0           | \\\\(\\geq 0\\\\)            |\n",
      "| \\\\(N_2\\\\)  |  0           |  0           |  1           | \\\\(\\leq 0\\\\)            |\n",
      "| \\\\(NH_3\\\\) |  0           |  0           |  2           | 1                       |\n",
      "\n",
      "\n",
      "which includes three equality constraints which need to be solved for\n",
      "\\\\(\\chi_1\\\\), \\\\(\\chi_2\\\\), and \\\\(\\chi_3\\\\).\n",
      "\n",
      "The first step is to import `sympy`"
     ]
    },
    {
     "cell_type": "code",
     "collapsed": false,
     "input": [
      "from sympy import *"
     ],
     "language": "python",
     "metadata": {},
     "outputs": [],
     "prompt_number": 10
    },
    {
     "cell_type": "markdown",
     "metadata": {},
     "source": [
      "Next we use the `var` function to create three symbolic variables corresponding to \\\\(\\chi_1\\\\), \\\\(\\chi_2\\\\), and \\\\(\\chi_3\\\\)."
     ]
    },
    {
     "cell_type": "code",
     "collapsed": false,
     "input": [
      "var('x1 x2 x3')"
     ],
     "language": "python",
     "metadata": {},
     "outputs": [
      {
       "metadata": {},
       "output_type": "pyout",
       "prompt_number": 11,
       "text": [
        "(x1, x2, x3)"
       ]
      }
     ],
     "prompt_number": 11
    },
    {
     "cell_type": "markdown",
     "metadata": {},
     "source": [
      "The net stoichiometric coefficients can be written in terms of the symbolic variables. "
     ]
    },
    {
     "cell_type": "code",
     "collapsed": false,
     "input": [
      "v = dict()\n",
      "v['CH4'] = -x1\n",
      "v['H2O'] = -x1 - x2\n",
      "v['CO']  = x1 - x2\n",
      "v['H2']  = 3*x1 + x2 - 3*x3\n",
      "v['CO2'] = x2\n",
      "v['N2'] = -x3\n",
      "v['NH3'] = 2*x3"
     ],
     "language": "python",
     "metadata": {},
     "outputs": [],
     "prompt_number": 12
    },
    {
     "cell_type": "markdown",
     "metadata": {},
     "source": [
      "The three process constraints are encoded as equations using the sympy function `Eq()`"
     ]
    },
    {
     "cell_type": "code",
     "collapsed": false,
     "input": [
      "eqns = [\n",
      "    Eq(v['NH3'],1),  \n",
      "    Eq(v['CO'],0),\n",
      "    Eq(v['H2'],0)\n",
      "]"
     ],
     "language": "python",
     "metadata": {},
     "outputs": [],
     "prompt_number": 13
    },
    {
     "cell_type": "markdown",
     "metadata": {},
     "source": [
      "These equations are solved for \\\\(\\chi_1\\\\), \\\\(\\chi_2\\\\), and \\\\(\\chi_3\\\\)."
     ]
    },
    {
     "cell_type": "code",
     "collapsed": false,
     "input": [
      "soln = solve(eqns)\n",
      "print soln"
     ],
     "language": "python",
     "metadata": {},
     "outputs": [
      {
       "output_type": "stream",
       "stream": "stdout",
       "text": [
        "{x3: 1/2, x1: 3/8, x2: 3/8}\n"
       ]
      }
     ],
     "prompt_number": 14
    },
    {
     "cell_type": "markdown",
     "metadata": {},
     "source": [
      "To finish the problem, the solutions are substituted back into the expressions for the stoichiometric coefficients, and the non-zero coefficients are displayed."
     ]
    },
    {
     "cell_type": "code",
     "collapsed": false,
     "input": [
      "for k in v.keys():\n",
      "    a = v[k].subs(soln)\n",
      "    if a <> 0:\n",
      "        print \"{:<3s} {:>6s}\".format(k,a)"
     ],
     "language": "python",
     "metadata": {},
     "outputs": [
      {
       "output_type": "stream",
       "stream": "stdout",
       "text": [
        "CO2    3/8\n",
        "H2O   -3/4\n",
        "CH4   -3/8\n",
        "NH3      1\n",
        "N2    -1/2\n"
       ]
      }
     ],
     "prompt_number": 15
    }
   ],
   "metadata": {}
  }
 ]
}