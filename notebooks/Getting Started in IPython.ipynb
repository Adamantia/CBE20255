{
 "metadata": {
  "name": ""
 },
 "nbformat": 3,
 "nbformat_minor": 0,
 "worksheets": [
  {
   "cells": [
    {
     "cell_type": "heading",
     "level": 1,
     "metadata": {},
     "source": [
      "Getting Started in IPython"
     ]
    },
    {
     "cell_type": "markdown",
     "metadata": {},
     "source": [
      "The purpose of this notebook is to get you started in using Python (actually, the interactive variant called IPython) for routine chemical engineering calculations. We'll assume this is your first exposure to Python."
     ]
    },
    {
     "cell_type": "heading",
     "level": 2,
     "metadata": {},
     "source": [
      "Step 0: Installing IPython"
     ]
    },
    {
     "cell_type": "markdown",
     "metadata": {},
     "source": [
      "The first step is to obtain a working IPython environment (in Python, the first index is always zero, so we will call this step 0) . \n",
      "\n",
      "By far the easiest approach is to simply sign up for a free account on a cloud-based service such as [Wakari.io](https://www.wakari.io/). You'll need internet connectivity to access your work, but there's nothing to install, no software to maintain, and you can work with nothing more than a browser on a Chromebook or tablet.\n",
      "\n",
      "Alternatively, you can install an IPython environment on your laptop. There are at least two excellent and free packages available:\n",
      "\n",
      "* [Anaconda](https://store.continuum.io/cshop/anaconda/) available from [Continuum Analytics](http://continuum.io/).\n",
      "* [Enthought Canopy](https://www.enthought.com/products/canopy/) available from [Enthought, Inc.](https://www.enthought.com/)\n",
      "\n",
      "\n",
      "There are differences between these packages, particularly in the methods used to download and maintain additional Python libraries. In both cases, the process for downloading and installing the software are well documented and easy to follow. You should allow about 10-30 minutes, depending on your experience and connection speed. After installing your software, be sure to check for and install any available updates before proceeding further. With the Anaconda package, this is done by executing the following two commands in a terminal window:\n",
      "\n",
      "    > conda update conda\n",
      "    > conda update anaconda"
     ]
    },
    {
     "cell_type": "heading",
     "level": 2,
     "metadata": {},
     "source": [
      "Step 1: Start an IPython Notebook Session"
     ]
    },
    {
     "cell_type": "markdown",
     "metadata": {},
     "source": [
      "IPython notebooks (like this one) are simply files in a directory with a `.ipynb` suffix. Thye can be stored in any directory, including a Dropbox or Google Drive directory. \n",
      "\n",
      "To start a notebook session, open a terminal window and navigate to the directory in which you will be keeping your notebooks. Then execute the following statement at the command line:\n",
      "\n",
      "    > ipython notebook --pylab=inline\n",
      "    \n",
      "The terminal window will show some information indicating that an ipython session is being set up. A browser window will open listing the notebooks in your directory.  At this point you can:\n",
      "\n",
      "* select one of your existing notebooks to work on,\n",
      "* start a new notebook by clicking on the `New Notebook` button, or \n",
      "* import a notebook from another directory by dragging it onto the list of notebooks.\n",
      "\n",
      "An IPython notebook consists of cells that hold headings, markdown text, or python code. The user interface is relatively self-explanatory."
     ]
    },
    {
     "cell_type": "heading",
     "level": 2,
     "metadata": {},
     "source": [
      "Step 2: Experiment with Python"
     ]
    },
    {
     "cell_type": "markdown",
     "metadata": {},
     "source": [
      "Python is an elegant and modern language for programming and problem solving, and has found increasing use by engineers and scientists as an alternative to Matlab.  In the next few cells we'll demonstrate some basic Python functionality."
     ]
    },
    {
     "cell_type": "heading",
     "level": 3,
     "metadata": {},
     "source": [
      "Basic Arithmetic Operations"
     ]
    },
    {
     "cell_type": "markdown",
     "metadata": {},
     "source": [
      "Arithmetic"
     ]
    },
    {
     "cell_type": "code",
     "collapsed": false,
     "input": [
      "a = 12\n",
      "b = 13\n",
      "print a + b"
     ],
     "language": "python",
     "metadata": {},
     "outputs": [
      {
       "output_type": "stream",
       "stream": "stdout",
       "text": [
        "25\n"
       ]
      }
     ],
     "prompt_number": 1
    },
    {
     "cell_type": "markdown",
     "metadata": {},
     "source": [
      "Calling a builtin function"
     ]
    },
    {
     "cell_type": "code",
     "collapsed": false,
     "input": [
      "sin(2*pi)"
     ],
     "language": "python",
     "metadata": {},
     "outputs": [
      {
       "metadata": {},
       "output_type": "pyout",
       "prompt_number": 3,
       "text": [
        "-2.4492935982947064e-16"
       ]
      }
     ],
     "prompt_number": 3
    },
    {
     "cell_type": "markdown",
     "metadata": {},
     "source": [
      "Working with lists"
     ]
    },
    {
     "cell_type": "code",
     "collapsed": false,
     "input": [
      "xList = [1, 2, 3, 4]\n",
      "for x in xList:\n",
      "    print \"x = {:}\".format(x)"
     ],
     "language": "python",
     "metadata": {},
     "outputs": [
      {
       "output_type": "stream",
       "stream": "stdout",
       "text": [
        "x = 1\n",
        "x = 2\n",
        "x = 3\n",
        "x = 4\n"
       ]
      }
     ],
     "prompt_number": 18
    },
    {
     "cell_type": "code",
     "collapsed": false,
     "input": [
      "# Concatenation\n",
      "\n",
      "x = [1, 2, 3, 4];\n",
      "y = [5, 6, 7, 8];\n",
      "\n",
      "x + y"
     ],
     "language": "python",
     "metadata": {},
     "outputs": [
      {
       "metadata": {},
       "output_type": "pyout",
       "prompt_number": 19,
       "text": [
        "[1, 2, 3, 4, 5, 6, 7, 8]"
       ]
      }
     ],
     "prompt_number": 19
    },
    {
     "cell_type": "code",
     "collapsed": false,
     "input": [
      "# Summing a list of numbers\n",
      "\n",
      "print sum(x)\n",
      "print reduce(add,x)"
     ],
     "language": "python",
     "metadata": {},
     "outputs": [
      {
       "output_type": "stream",
       "stream": "stdout",
       "text": [
        "10\n",
        "10\n"
       ]
      }
     ],
     "prompt_number": 32
    },
    {
     "cell_type": "code",
     "collapsed": false,
     "input": [
      "# Adding two lists\n",
      "\n",
      "print add(x,y)\n",
      "print map(add,x,y)"
     ],
     "language": "python",
     "metadata": {},
     "outputs": [
      {
       "output_type": "stream",
       "stream": "stdout",
       "text": [
        "[ 6  8 10 12]\n",
        "[6, 8, 10, 12]\n"
       ]
      }
     ],
     "prompt_number": 33
    },
    {
     "cell_type": "heading",
     "level": 3,
     "metadata": {},
     "source": [
      "Plotting"
     ]
    },
    {
     "cell_type": "markdown",
     "metadata": {},
     "source": [
      "When started with the `--pylab=inline` option, IPython notebooks include plotting functionality very similar to Matlab's. Here are some examples."
     ]
    },
    {
     "cell_type": "code",
     "collapsed": false,
     "input": [
      "x = linspace(0,10)\n",
      "y = sin(x)\n",
      "z = cos(x)\n",
      "plot(x,y,'b',x,z,'r')\n",
      "xlabel('Radians');\n",
      "ylabel('Value');\n",
      "title('Plotting Demonstration')\n",
      "legend(['Sin','Cos'])\n",
      "grid()"
     ],
     "language": "python",
     "metadata": {},
     "outputs": [
      {
       "metadata": {},
       "output_type": "display_data",
       "png": "[encoded data removed]",
       "text": [
        "<matplotlib.figure.Figure at 0x1061b5650>"
       ]
      }
     ],
     "prompt_number": 35
    },
    {
     "cell_type": "code",
     "collapsed": false,
     "input": [
      "plot(y,z)\n",
      "axis('equal')"
     ],
     "language": "python",
     "metadata": {},
     "outputs": [
      {
       "metadata": {},
       "output_type": "pyout",
       "prompt_number": 38,
       "text": [
        "(-1.0, 1.0, -1.0, 1.0)"
       ]
      },
      {
       "metadata": {},
       "output_type": "display_data",
       "png": "[encoded data removed]",
       "text": [
        "<matplotlib.figure.Figure at 0x10649e590>"
       ]
      }
     ],
     "prompt_number": 38
    },
    {
     "cell_type": "code",
     "collapsed": false,
     "input": [
      "subplot(2,1,1)\n",
      "plot(x,y)\n",
      "title('Sin(x)')\n",
      "subplot(2,1,2)\n",
      "plot(x,z)\n",
      "title('Cos(x)')"
     ],
     "language": "python",
     "metadata": {},
     "outputs": [
      {
       "metadata": {},
       "output_type": "pyout",
       "prompt_number": 40,
       "text": [
        "<matplotlib.text.Text at 0x106417310>"
       ]
      },
      {
       "metadata": {},
       "output_type": "display_data",
       "png": "[encoded data removed]",
       "text": [
        "<matplotlib.figure.Figure at 0x1064cfb10>"
       ]
      }
     ],
     "prompt_number": 40
    },
    {
     "cell_type": "heading",
     "level": 2,
     "metadata": {},
     "source": [
      "Step 3: Generation/Consumption Analysis using Sympy"
     ]
    },
    {
     "cell_type": "markdown",
     "metadata": {},
     "source": [
      "One of the best features of Python is the ability to extend it's functionality by importing special purpose libraries of functions. Here we import a symbolic algebra package [`Sympy`](http://sympy.org/en/index.html) and use for generation/consumption analysis."
     ]
    },
    {
     "cell_type": "heading",
     "level": 3,
     "metadata": {},
     "source": [
      "Problem Statement"
     ]
    },
    {
     "cell_type": "markdown",
     "metadata": {},
     "source": [
      "Consider three reactions for the production of ammonia\n",
      "\n",
      "1. Steam-reforming of methane\n",
      "\\\\[CH_4 + H_2O \\longrightarrow CO + 3\\,H_2\\\\]\n",
      "\n",
      "2. Water-gas shift \n",
      "\\\\[CO + H_2O \\longrightarrow CO_2 + H_2\\\\]\n",
      "\n",
      "3. Haber-Bosch reaction\n",
      "\\\\[N_2 + 3\\,H_2 \\longrightarrow 2\\,NH_3\\\\]\n",
      "\n",
      "Determine if it is possible to construct a process for the production of ammonia with no wasted hydrogen and no release of carbon monoxide."
     ]
    },
    {
     "cell_type": "heading",
     "level": 3,
     "metadata": {},
     "source": [
      "Solution"
     ]
    },
    {
     "cell_type": "markdown",
     "metadata": {},
     "source": [
      "We begin by setting up the stoichiometric matrix for generation/consumption analysis\n",
      "\n",
      "|  Species   |  \\\\(R_1\\\\)   |  \\\\(R_2\\\\)   |  \\\\(R_3\\\\)   |           Net           |\n",
      "| :--------: | :----------: | :----------: | :----------: | :---------------------: |\n",
      "|            | \\\\(\\chi_1\\\\) | \\\\(\\chi_2\\\\) | \\\\(\\chi_3\\\\) | \\\\(\\sum_k\\nu_k\\chi_k\\\\) |\n",
      "| \\\\(CH_4\\\\) | -1           |  0           |  0           | \\\\(\\leq 0\\\\)            |\n",
      "| \\\\(H_2O\\\\) | -1           | -1           |  0           | \\\\(\\leq 0\\\\)            |\n",
      "| \\\\(CO\\\\)   |  1           | -1           |  0           | 0                       |\n",
      "| \\\\(H_2\\\\)  |  3           |  1           | -3           | 0                       |\n",
      "| \\\\(CO_2\\\\) |  0           |  1           |  0           | \\\\(\\geq 0\\\\)            |\n",
      "| \\\\(N_2\\\\)  |  0           |  0           |  1           | 1                       |\n",
      "| \\\\(NH_3\\\\) |  0           |  0           |  2           | 1                       |\n",
      "\n",
      "\n",
      "which leads to three equations\n",
      "\n",
      "\\\\[0 = 3\\,\\chi_1 + \\chi_2 - 3\\,\\chi_3 \\\\]\n",
      "\\\\[0 = \\chi_1 - \\chi_2 \\\\]\n",
      "\\\\[1 = 2\\,\\chi_3 \\\\]\n",
      "\n",
      "which need to be solved for \\\\(\\chi_1\\\\), \\\\(\\chi_2\\\\), and \\\\(\\chi_3\\\\).\n",
      "\n",
      "The first step is to import `sympy`"
     ]
    },
    {
     "cell_type": "code",
     "collapsed": false,
     "input": [
      "from sympy import *"
     ],
     "language": "python",
     "metadata": {},
     "outputs": [],
     "prompt_number": 86
    },
    {
     "cell_type": "markdown",
     "metadata": {},
     "source": [
      "Next we use the `var` function to create three symbolic variables corresponding to \\\\(\\chi_1\\\\), \\\\(\\chi_2\\\\), and \\\\(\\chi_3\\\\)."
     ]
    },
    {
     "cell_type": "code",
     "collapsed": false,
     "input": [
      "var('x1 x2 x3')"
     ],
     "language": "python",
     "metadata": {},
     "outputs": [
      {
       "metadata": {},
       "output_type": "pyout",
       "prompt_number": 87,
       "text": [
        "(x1, x2, x3)"
       ]
      }
     ],
     "prompt_number": 87
    },
    {
     "cell_type": "markdown",
     "metadata": {},
     "source": [
      "The net stoichiometric coefficients can be written in terms of the symbolic variables. "
     ]
    },
    {
     "cell_type": "code",
     "collapsed": false,
     "input": [
      "v = dict()\n",
      "v['CH4'] = -x1\n",
      "v['H2O'] = -x1 - x2\n",
      "v['CO']  = x1 - x2\n",
      "v['H2']  = 3*x1 + x2 - 3*x3\n",
      "v['CO2'] = x2\n",
      "v['N2'] = -x3\n",
      "v['NH3'] = 2*x3"
     ],
     "language": "python",
     "metadata": {},
     "outputs": [],
     "prompt_number": 88
    },
    {
     "cell_type": "markdown",
     "metadata": {},
     "source": [
      "The three process constraints are encoded as equations using the sympy function `Eq()`"
     ]
    },
    {
     "cell_type": "code",
     "collapsed": false,
     "input": [
      "eqns = [\n",
      "    Eq(v['NH3'],1),  \n",
      "    Eq(v['CO'],0),\n",
      "    Eq(v['H2'],0)\n",
      "]"
     ],
     "language": "python",
     "metadata": {},
     "outputs": [],
     "prompt_number": 89
    },
    {
     "cell_type": "markdown",
     "metadata": {},
     "source": [
      "These equations are solved for \\\\(\\chi_1\\\\), \\\\(\\chi_2\\\\), and \\\\(\\chi_3\\\\)."
     ]
    },
    {
     "cell_type": "code",
     "collapsed": false,
     "input": [
      "soln = solve(eqns)\n",
      "print soln"
     ],
     "language": "python",
     "metadata": {},
     "outputs": [
      {
       "output_type": "stream",
       "stream": "stdout",
       "text": [
        "{x3: 1/2, x1: 3/8, x2: 3/8}\n"
       ]
      }
     ],
     "prompt_number": 90
    },
    {
     "cell_type": "markdown",
     "metadata": {},
     "source": [
      "To finish the problem, the solutions are substituted back into the expressions for the stoichiometric coefficients, and the non-zero coefficients are displayed."
     ]
    },
    {
     "cell_type": "code",
     "collapsed": false,
     "input": [
      "for k in v.keys():\n",
      "    a = v[k].subs(soln)\n",
      "    if a <> 0:\n",
      "        print \"{:<3s} {:>6s}\".format(k,a)"
     ],
     "language": "python",
     "metadata": {},
     "outputs": [
      {
       "output_type": "stream",
       "stream": "stdout",
       "text": [
        "CO2    3/8\n",
        "H2O   -3/4\n",
        "CH4   -3/8\n",
        "NH3      1\n",
        "N2    -1/2\n"
       ]
      }
     ],
     "prompt_number": 107
    }
   ],
   "metadata": {}
  }
 ]
}