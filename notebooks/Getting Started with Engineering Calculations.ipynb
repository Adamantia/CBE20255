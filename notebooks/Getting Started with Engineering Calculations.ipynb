{
 "cells": [
  {
   "cell_type": "markdown",
   "metadata": {},
   "source": [
    "######The latest version of this IPython notebook is available at [http://github.com/jckantor/CBE20255](http://github.com/jckantor/CBE20255)  for noncommercial use under terms of the [Creative Commons Attribution Noncommericial ShareAlike License](http://creativecommons.org/licenses/by-nc-sa/4.0/).\n",
    "\n",
    "J.C. Kantor (Kantor.1@nd.edu)"
   ]
  },
  {
   "cell_type": "markdown",
   "metadata": {
    "slideshow": {
     "slide_type": "slide"
    }
   },
   "source": [
    "# Getting Started with Engineering Calculations (Incomplete)"
   ]
  },
  {
   "cell_type": "markdown",
   "metadata": {
    "slideshow": {
     "slide_type": "subslide"
    }
   },
   "source": [
    "The purpose of this [IPython notebook](http://ipython.org/notebook.html) is to get you started with engineering calculations. Much of this will be review, but experience shows that it is useful for new engineering students to practice and master the basic calculations of their discipline.\n",
    "\n",
    "Things to master:\n",
    "\n",
    "* Unit systems\n",
    "* Unit conversions\n",
    "* Difference between mass and weight, and the difference between kg-m, kg-f, and lbm and lbf\n",
    "* Concept of mole, and the difference between g-mol, kg-mol, and any other kind of mole\n",
    "* Absolute versus Gauge Pressure\n",
    "* Typical values of temperature and pressure in real-world applications\n",
    "* Working with units in python\n",
    "* Finding reliable sources of data"
   ]
  },
  {
   "cell_type": "code",
   "execution_count": 94,
   "metadata": {
    "collapsed": false
   },
   "outputs": [
    {
     "data": {
      "text/html": [
       "<link href='http://fonts.googleapis.com/css?family=Fenix' rel='stylesheet' type='text/css'>\n",
       "<link href='http://fonts.googleapis.com/css?family=Alegreya+Sans:100,300,400,500,700,800,\n",
       "    900,100italic,300italic,400italic,500italic,700italic,800italic,900italic' rel='stylesheet' type='text/css'>\n",
       "<link href='http://fonts.googleapis.com/css?family=Source+Code+Pro:300,400' rel='stylesheet' type='text/css'>\n",
       "<link href='http://fonts.googleapis.com/css?family=Crimson+Text' rel='stylesheet' type='text/css'>\n",
       "<link href='http://fonts.googleapis.com/css?family=Kameron' rel='stylesheet' type='text/css'>\n",
       "<link href='http://fonts.googleapis.com/css?family=Lato:200' rel='stylesheet' type='text/css'>\n",
       "<link href='http://fonts.googleapis.com/css?family=Lato:300' rel='stylesheet' type='text/css'>\n",
       "<link href='http://fonts.googleapis.com/css?family=Lato:400' rel='stylesheet' type='text/css'>\n",
       "<link href='http://fonts.googleapis.com/css?family=Source+Code+Pro' rel='stylesheet' type='text/css'>\n",
       "\n",
       "<style>\n",
       "\n",
       "@font-face {\n",
       "    font-family: \"Computer Modern\";\n",
       "    src: url('http://mirrors.ctan.org/fonts/cm-unicode/fonts/otf/cmunss.otf');\n",
       "}\n",
       "\n",
       "#notebook_panel { /* establish main background and color */\n",
       "    background: #fff;\n",
       "    color: #ff0000;\n",
       "}\n",
       "\n",
       "div.cell { /* set cell width */\n",
       "    width:800px;\n",
       "    margin-left:0%;\n",
       "    margin-right:auto;\n",
       "}\n",
       "\n",
       "div #notebook { /* centers the content */\n",
       "    background: #fff;\n",
       "    width: 1000px;\n",
       "    margin: auto;\n",
       "    padding-left: 1em;\n",
       "}\n",
       "\n",
       "#notebook li { /* more space between bullet points */\n",
       "    margin-top:0.8em;\n",
       "}\n",
       "\n",
       "/* draw border around running cells */\n",
       "div.cell.border-box-sizing.code_cell.running {\n",
       "    border: 3px solid #111;\n",
       "}\n",
       "\n",
       "/* Put a solid color box around each code cell and its output,\n",
       "     visually linking them together */\n",
       "div.cell.code_cell {\n",
       "    background-color: /*#fff*/ rgba(171,165,131,0.2);\n",
       "    border-radius: 10px; /* rounded borders */\n",
       "    padding: 1em;\n",
       "    margin-top: 1em;\n",
       "}\n",
       "\n",
       ".CodeMirror {\n",
       "    font-family: \"Source Code Pro\";\n",
       "    font-size: 90%;\n",
       "}\n",
       "\n",
       "div.text_cell_render code {\n",
       "    font-family: \"Source Code Pro\";\n",
       "    font-size: 90%;\n",
       "    color: red;\n",
       "}\n",
       "\n",
       "pre {\n",
       "    font-family: \"Source Code Pro\";\n",
       "    font-size: 90%;\n",
       "}\n",
       "\n",
       "div.text_cell_render { /* rendering of basic text cell */\n",
       "    font-family: 'Alegreya Sans', Computer Modern, \"Helvetica Neue\", Arial, Helvetica, sans-serif;\n",
       "    line-height: 135%;\n",
       "    font-size: 120%;\n",
       "    width:700px;\n",
       "    margin-left:auto;\n",
       "    margin-right:auto;\n",
       "}\n",
       "\n",
       ".text_cell_render h1 {\n",
       "    font-family: 'Alegreya Sans', sans-serif;\n",
       "    font-weight: 300;\n",
       "    font-size: 32pt;\n",
       "    line-height: 100%;\n",
       "    color:#CD2305;\n",
       "    margin-bottom: 0.4em;\n",
       "    margin-top: 0em;\n",
       "    display: block;\n",
       "}\n",
       "\n",
       "h2 {\n",
       "    font-family: 'Fenix', serif;\n",
       "}\n",
       "\n",
       "h3 {\n",
       "    font-family: 'Fenix', serif;\n",
       "    margin-top:12px;\n",
       "    margin-bottom: 3px;\n",
       "}\n",
       "\n",
       "h4 {\n",
       "    font-family: 'Fenix', serif;\n",
       "}\n",
       "\n",
       ".text_cell_render h5 {\n",
       "    font-family: 'Alegreya Sans', sans-serif;\n",
       "    font-weight: 100;\n",
       "    font-size: 16pt;\n",
       "    color: #CD2305;\n",
       "    font-style: italic;\n",
       "    margin-bottom: .5em;\n",
       "    margin-top: 0.5em;\n",
       "    display: block;\n",
       "}\n",
       "\n",
       ".text_cell_render h6 { /*use this for copyright note*/\n",
       "    font-family: 'Alegreya Sans', sans-serif;\n",
       "    font-weight: 400;\n",
       "    font-size: 10pt;\n",
       "    font-style: normal;\n",
       "    line-height: 120%;\n",
       "    margin-bottom: 1px;\n",
       "    margin-top: 1px;\n",
       "}\n",
       "\n",
       ".MathJax, .MathJax_Display  {\n",
       "    font-family: 'Alegreya Sans', sans-serif  !important;\n",
       "    font-size: 90%  !important;\n",
       "    vertical-align: 0px  !important;\n",
       "}\n",
       "\n",
       ".warning{\n",
       "    color: rgb( 240, 20, 20 )\n",
       "}\n",
       "\n",
       "</style>\n",
       "\n",
       "<script>\n",
       "MathJax.Hub.Config({\n",
       "    TeX: {\n",
       "        extensions: [\"AMSmath.js\"]\n",
       "    },\n",
       "    tex2jax: {\n",
       "        inlineMath: [ ['$','$'], [\"\\\\(\",\"\\\\)\"] ],\n",
       "        displayMath: [ ['$$','$$'], [\"\\\\[\",\"\\\\]\"] ],\n",
       "        processEscapes: true\n",
       "    },\n",
       "    displayAlign: 'center', // Change this to 'center' to center equations.\n",
       "    \"HTML-CSS\": {\n",
       "        styles: {'.MathJax_Display': {\"margin\": 4}}\n",
       "    }\n",
       "});\n",
       "</script>\n",
       "\n"
      ],
      "text/plain": [
       "<IPython.core.display.HTML object>"
      ]
     },
     "execution_count": 94,
     "metadata": {},
     "output_type": "execute_result"
    }
   ],
   "source": [
    "#Initializations\n",
    "from IPython.core.display import HTML\n",
    "HTML(open(\"../styles/custom.css\", \"r\").read())"
   ]
  },
  {
   "cell_type": "markdown",
   "metadata": {},
   "source": [
    "## Units of Engineering\n",
    "\n",
    "[NIST](http://physics.nist.gov/cuu/Units/units.html)\n",
    "\n",
    "### Fundamental Units\n",
    "\n",
    "There are seven fundamental units in the Système International d'Unités (SI) system, all other unit can be generated from these.\n",
    "\n",
    "| Dimension          | SI Units          | CGS                 | English              |\n",
    "| :-------           | :---              | :-----              | :------              |\n",
    "| Mass               | kilogram (kg)     | gram (g)            | lb-mass, slug        |\n",
    "| Length             | meter (m)         | centimeter (cm)     | inch (in); foot (ft) |\n",
    "| Time               | second (s)        | second (s)          | second (sec)         |\n",
    "| Temperature        | degree Kelvin (K) | degree Celcius (°C) | degree Rankine (°R)  |\n",
    "| Quantity           | mole (gmol)       | mole (gmol)         | mole (gmol)          |\n",
    "| Current            | Ampere (A)        | abampere            |                      |\n",
    "| Luminous Intensity | candela (cd)      | stlib [luminance]   | candlepower, etc.    |\n",
    "\n",
    "**Exercise.** Write out a corresponding English unit for each of the quantities.\n",
    "\n",
    "**Exercise.** Give an everyday example of something with about 1 SI unit of the corresonding dimension.\n",
    "\n",
    "### Coherent Derived Units\n",
    "\n",
    "The SI system describes 22 'derived units' that are expressed in terms of the fundamental units. The following diagram (from [NIST](http://physics.nist.gov/cuu/Units/SIdiagram.html)) illustrates the relationship among these units.\n",
    "\n",
    "<img src = \"./images/SIDiagramColor.png\" />"
   ]
  },
  {
   "cell_type": "markdown",
   "metadata": {},
   "source": [
    "## Extensive versus Intensive Quantities\n",
    "\n",
    "An important distinction among measured quantities arises when we consider what happens when combining systems under consideration. For example, mixing two identical one-liter containers of an acidic solution yields two liters of the solution, twice the mass of solution, and twice the number of molecules of all types. If the solutions were at a high  temperature, the result would have twice the thermal energy content. Quantities _scale_ with the size of sytem, and are _extensive_ quantities. \n",
    "\n",
    "Other quantities, such as the temperature of the mixture, concentration of acid in the mixture, or vapor pressure remain unchanged. Quantities that do not scale with the size are _intensive_ quantities.\n",
    "\n",
    "This distinction is fundamental to process modeling and thermodynamics. \n",
    "\n",
    "**Exercise.** Catagorize the following quantities as either extensive or intensive variables: Concentration, density, electrical charge, electrical resistivity, length, material hardness, mass, moles, pH, pressure, specific volume, temperature, viscosity, volume.\n"
   ]
  },
  {
   "cell_type": "markdown",
   "metadata": {},
   "source": [
    "## Ideal Gas Law and Related Calculations\n",
    "\n",
    "The ideal gas law is a work horse of engineering calculations.\n",
    "\n",
    "$$ PV = nRT $$\n",
    "\n",
    "Despite its simplicity and familiarity, misuse of units and scale for pressure $P$ and temperature $T$, and identifying correct values of the gas constant $R$, are common sources of errors in homework and exams. Taking time now to really master ideal gas law calculations will pay dividends down the road.\n",
    "\n",
    "### Absolute Temperature\n",
    "\n",
    "| Reference | F | C | R | K |\n",
    "| :------ | :------: |\n",
    "| Absolute Zero | -459.67 | -273.15 | 0 | 0 |\n",
    "| Normal Boiling point of $N_2$ | | | | |\n",
    "| Dry Ice | -109.3 | -78.5 | | |\n",
    "| Boiling Point of Propane | -43.6 | -42 | | |\n",
    "| Freezing Point of Water | 32 | 0 | 491.67 | 273.15 |\n",
    "| STP | | | | |\n",
    "| Typical Room Temperature | 68 | 20 | | |\n",
    "| Pleasant Summer Day | 77 | 25 | | |\n",
    "| Human Body | | 37 | | |\n",
    "| Normal Boiling Point of Water | 212 | 100 | | | \n",
    "| 10 psig steam |  |  | | | \n",
    "| 70 psig steam |  | | | | \n",
    "| 400 psig steam | |  | | | |\n",
    "\n",
    "\n",
    "\n",
    "### Absolute versus Gauge Pressure\n",
    "\n",
    "Every engineer needs to know atmospheric pressure in common engineering and scientific units. If need to look up these numbers then you're doing it wrong. \n",
    "\n",
    "| Value | Unit |\n",
    "| :---: | :--: |\n",
    "| 1 | atm |\n",
    "| 14.696 | pounds per square inch (absolute), psia |\n",
    "| 0 | pounds per square inch (gauge), psig |\n",
    "| 101,325 | Newtons per square meter (Pascals) |\n",
    "| 101.325 | kiloPascals |\n",
    "| 1.01325 | bars |\n",
    "| 1013.25 | millibars |\n",
    "| 760 | mm Hg |\n",
    "| 760 | torr |\n",
    "| 29.92 | in Hg\n",
    "| 33.9 | feet of water |\n",
    "\n",
    "\n",
    "### Units of Pressure\n",
    "\n",
    "### PV has units of Energy\n",
    "\n",
    "### Table of Values for $R$"
   ]
  },
  {
   "cell_type": "markdown",
   "metadata": {},
   "source": [
    "## Sources of Data"
   ]
  },
  {
   "cell_type": "markdown",
   "metadata": {},
   "source": [
    "## Working with Units in Python\n",
    "\n",
    "There are a number of python libraries that incorporate units into python calculations. Among these, [pint](http://pint.readthedocs.org/en/latest/) is a relatively new library that builds on experience with earlier attempts."
   ]
  },
  {
   "cell_type": "code",
   "execution_count": 32,
   "metadata": {
    "collapsed": false
   },
   "outputs": [
    {
     "name": "stdout",
     "output_type": "stream",
     "text": [
      "Collecting natu\n",
      "  Downloading natu-0.1.1.tar.gz (166kB)\n",
      "\u001b[K    100% |████████████████████████████████| 167kB 321kB/s \n",
      "\u001b[?25hInstalling collected packages: natu\n",
      "  Running setup.py install for natu\n",
      "Successfully installed natu-0.1.1\n"
     ]
    }
   ],
   "source": [
    "!pip install pint"
   ]
  },
  {
   "cell_type": "markdown",
   "metadata": {},
   "source": [
    "The core concept in pint is to work with a `unit registry`, which is created as follows"
   ]
  },
  {
   "cell_type": "code",
   "execution_count": 78,
   "metadata": {
    "collapsed": false
   },
   "outputs": [],
   "source": [
    "from pint import UnitRegistry\n",
    "ur = UnitRegistry()"
   ]
  },
  {
   "cell_type": "markdown",
   "metadata": {},
   "source": [
    "The unit registry provides a simple means to assign units. For example, here's how to compute the molarity of a sodium chloride solution in 58.44 grams of $NaCl$ (mw = 58.44) has been dissolved in water to form 3 liters of solution."
   ]
  },
  {
   "cell_type": "code",
   "execution_count": 93,
   "metadata": {
    "collapsed": false
   },
   "outputs": [
    {
     "name": "stdout",
     "output_type": "stream",
     "text": [
      "0.333333333333 mole / liter\n"
     ]
    }
   ],
   "source": [
    "# problem data\n",
    "V = 3.0 * ur.liters\n",
    "m = 58.44 * ur.grams\n",
    "mw = 58.44 * ur.grams/ur.mol\n",
    "\n",
    "# compute molarity\n",
    "C = m/(mw*V)\n",
    "\n",
    "print C"
   ]
  },
  {
   "cell_type": "markdown",
   "metadata": {},
   "source": [
    "The unit registry provides a simple means to assign units. For example, here's how to compute the molarity of a sodium chloride solution in which 0.5 pounds of $NaCl$ (mw = 58.44) has been dissolved in water to form 2 gallons of solution."
   ]
  },
  {
   "cell_type": "code",
   "execution_count": 90,
   "metadata": {
    "collapsed": false
   },
   "outputs": [
    {
     "name": "stdout",
     "output_type": "stream",
     "text": [
      "0.341736331613 mole / liter\n"
     ]
    }
   ],
   "source": [
    "# problem data\n",
    "V = 3.0 * ur.gallons\n",
    "m = 0.5 * ur.lbs\n",
    "mw = 58.44 * ur.grams/ur.mol\n",
    "\n",
    "# compute concentration\n",
    "C = m/(mw*V)\n",
    "\n",
    "# convert to desired units and print\n",
    "C = C.to(ur.mol/ur.liter)\n",
    "\n",
    "print C"
   ]
  },
  {
   "cell_type": "markdown",
   "metadata": {},
   "source": [
    "### Example\n",
    "\n",
    "Muratic Acid is concentrated hydrochloric acid (31.5% by weight) sold by the gallon in home improvement centers for cleaning brick and masonary surfaces. The density of the solution is typically about 1.15 grams/ml. What is the molar concentration of HCl?"
   ]
  },
  {
   "cell_type": "code",
   "execution_count": 115,
   "metadata": {
    "collapsed": false
   },
   "outputs": [
    {
     "name": "stdout",
     "output_type": "stream",
     "text": [
      "9.93554580362 mole / liter\n"
     ]
    }
   ],
   "source": [
    "# molecular weight\n",
    "mwHCl = 36.46 * ur.grams/ur.mol\n",
    "\n",
    "# problem data\n",
    "rho = 1.15 * ur.grams/ur.ml\n",
    "wHCl = 0.315 * ur.grams/ur.gram\n",
    "\n",
    "# calculations\n",
    "massHCl = wHCl * rho            # mass of HCl per volume\n",
    "moleHCl = massHCl/mwHCl          # gmols of HCl per volume\n",
    "moleHCl.ito(ur.mol/ur.liter)\n",
    "\n",
    "# convert to desired units\n",
    "print moleHCl"
   ]
  },
  {
   "cell_type": "code",
   "execution_count": 116,
   "metadata": {
    "collapsed": false
   },
   "outputs": [
    {
     "data": {
      "text/html": [
       "77.7200004 degF"
      ],
      "text/latex": [
       "$77.7200004 degF$"
      ],
      "text/plain": [
       "<Quantity(77.7200004, 'degF')>"
      ]
     },
     "execution_count": 116,
     "metadata": {},
     "output_type": "execute_result"
    }
   ],
   "source": [
    "\n",
    "Q = ur.Quantity\n",
    "T = Q(25.4,ur.degC)\n",
    "\n",
    "T.to(ur.degF)"
   ]
  },
  {
   "cell_type": "code",
   "execution_count": null,
   "metadata": {
    "collapsed": true
   },
   "outputs": [],
   "source": []
  }
 ],
 "metadata": {
  "kernelspec": {
   "display_name": "Python 2",
   "language": "python",
   "name": "python2"
  },
  "language_info": {
   "codemirror_mode": {
    "name": "ipython",
    "version": 2
   },
   "file_extension": ".py",
   "mimetype": "text/x-python",
   "name": "python",
   "nbconvert_exporter": "python",
   "pygments_lexer": "ipython2",
   "version": "2.7.9"
  }
 },
 "nbformat": 4,
 "nbformat_minor": 0
}
