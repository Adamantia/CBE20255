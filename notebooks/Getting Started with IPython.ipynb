{
 "metadata": {
  "name": ""
 },
 "nbformat": 3,
 "nbformat_minor": 0,
 "worksheets": [
  {
   "cells": [
    {
     "cell_type": "heading",
     "level": 1,
     "metadata": {
      "slideshow": {
       "slide_type": "slide"
      }
     },
     "source": [
      "Getting Started with IPython"
     ]
    },
    {
     "cell_type": "markdown",
     "metadata": {
      "slideshow": {
       "slide_type": "subslide"
      }
     },
     "source": [
      "The purpose of this [IPython notebook](http://ipython.org/notebook.html) is to get you started in using Python (actually, the interactive variant called IPython) for routine chemical engineering calculations assuming this is your first exposure to Python.\n",
      "\n",
      "J.C. Kantor (Kantor.1@nd.edu)\n",
      "\n",
      "The latest version of this IPython notebook is available at [http://github.com/jckantor/CBE20255](http://github.com/jckantor/CBE20255)  for noncommercial use under terms of the [Creative Commons Attribution Noncommericial ShareAlike License](http://creativecommons.org/licenses/by-nc-sa/4.0/)."
     ]
    },
    {
     "cell_type": "heading",
     "level": 2,
     "metadata": {
      "slideshow": {
       "slide_type": "slide"
      }
     },
     "source": [
      "Step 0: Install IPython"
     ]
    },
    {
     "cell_type": "markdown",
     "metadata": {},
     "source": [
      "The first step is to obtain a working IPython environment. The easiest approach is to simply sign up for a free account on a cloud-based service such as [Wakari.io](https://www.wakari.io/). You'll need internet connectivity to access your work, but there's nothing to install, no software to maintain, and you can work with nothing more than a browser on a Chromebook or tablet.\n",
      "\n",
      "Alternatively, you can install an IPython environment on your laptop. There are at least two excellent and free packages available:\n",
      "\n",
      "* [Anaconda](https://store.continuum.io/cshop/anaconda/) available from [Continuum Analytics](http://continuum.io/).\n",
      "* [Enthought Canopy](https://www.enthought.com/products/canopy/) available from [Enthought, Inc.](https://www.enthought.com/)\n",
      "\n",
      "\n",
      "There are differences between these packages, particularly in the methods used to download and maintain additional Python libraries. In both cases the process for downloading and installing the software are well documented and easy to follow. You should allow about 10-30 minutes for the installation, depending on your experience and connection speed. \n",
      "\n",
      "After installing your software, be sure to check for and install any available updates before proceeding further. With the Anaconda package, this is done by executing the following two commands in a terminal window:\n",
      "\n",
      "    > conda update conda\n",
      "    > conda update anaconda"
     ]
    },
    {
     "cell_type": "heading",
     "level": 2,
     "metadata": {},
     "source": [
      "Step 1: Start an IPython Notebook Session"
     ]
    },
    {
     "cell_type": "markdown",
     "metadata": {},
     "source": [
      "IPython notebooks (like this one) are simply files in a directory with a `.ipynb` suffix. They can be stored in any directory, including a Dropbox or Google Drive directory. \n",
      "\n",
      "To start a notebook session, open a terminal window and navigate to the directory in which you will be keeping your notebooks. Then execute the following statement at the command line:\n",
      "\n",
      "    > ipython notebook --pylab=inline\n",
      "    \n",
      "The terminal window will show information indicating start up of an ipython session. A browser window will open listing the notebooks in your directory.  At this point you can\n",
      "\n",
      "* select one of your existing notebooks to work on,\n",
      "* start a new notebook by clicking on the `New Notebook` button, or \n",
      "* import a notebook from another directory by dragging it onto the list of notebooks.\n",
      "\n",
      "An IPython notebook consists of cells that hold headings, markdown text, or python code. The user interface is relatively self-explanatory. Take a few minutes now to open a new, rename, and save a new notebook. There's a quick video overview of key features prepared by the team that created the notebook feature for IPython.\n",
      "\n",
      "<p>\n",
      "<iframe width=\"560\" height=\"315\" src=\"//www.youtube.com/embed/H6dLGQw9yFQ\" frameborder=\"0\" allowfullscreen></iframe>\n",
      "</p>"
     ]
    },
    {
     "cell_type": "heading",
     "level": 2,
     "metadata": {},
     "source": [
      "Step 2: Experiment with Python"
     ]
    },
    {
     "cell_type": "markdown",
     "metadata": {},
     "source": [
      "Python is an elegant and modern language for programming and problem solving, and has found increasing use by engineers and scientists as an alternative to Matlab.  In the next few cells we'll demonstrate some basic Python functionality."
     ]
    },
    {
     "cell_type": "heading",
     "level": 3,
     "metadata": {},
     "source": [
      "Basic Arithmetic Operations"
     ]
    },
    {
     "cell_type": "markdown",
     "metadata": {},
     "source": [
      "Basic arithmetic functions"
     ]
    },
    {
     "cell_type": "code",
     "collapsed": false,
     "input": [
      "a = 12\n",
      "b = 2\n",
      "print \"a + b = \", a + b\n",
      "print \"a**b = \", a**b\n",
      "print \"a/b = \", a/b"
     ],
     "language": "python",
     "metadata": {},
     "outputs": [
      {
       "output_type": "stream",
       "stream": "stdout",
       "text": [
        "a + b =  14\n",
        "a**b =  144\n",
        "a/b =  6\n"
       ]
      }
     ],
     "prompt_number": 4
    },
    {
     "cell_type": "markdown",
     "metadata": {},
     "source": [
      "Calling a builtin function"
     ]
    },
    {
     "cell_type": "code",
     "collapsed": false,
     "input": [
      "sin(2*pi)"
     ],
     "language": "python",
     "metadata": {},
     "outputs": [
      {
       "metadata": {},
       "output_type": "pyout",
       "prompt_number": 2,
       "text": [
        "-2.4492935982947064e-16"
       ]
      }
     ],
     "prompt_number": 2
    },
    {
     "cell_type": "heading",
     "level": 3,
     "metadata": {},
     "source": [
      "Working with lists"
     ]
    },
    {
     "cell_type": "markdown",
     "metadata": {},
     "source": [
      "Lists are a versatile way of organizing your data in Python. Here are some examples, more can be found on [this Khan Academy video](http://youtu.be/zEyEC34MY1A)."
     ]
    },
    {
     "cell_type": "code",
     "collapsed": false,
     "input": [
      "xList = [1, 2, 3, 4]\n",
      "print xList"
     ],
     "language": "python",
     "metadata": {},
     "outputs": [
      {
       "output_type": "stream",
       "stream": "stdout",
       "text": [
        "[1, 2, 3, 4]\n"
       ]
      }
     ],
     "prompt_number": 6
    },
    {
     "cell_type": "code",
     "collapsed": false,
     "input": [
      "# Concatenation\n",
      "\n",
      "x = [1, 2, 3, 4];\n",
      "y = [5, 6, 7, 8];\n",
      "\n",
      "x + y"
     ],
     "language": "python",
     "metadata": {},
     "outputs": [
      {
       "metadata": {},
       "output_type": "pyout",
       "prompt_number": 4,
       "text": [
        "[1, 2, 3, 4, 5, 6, 7, 8]"
       ]
      }
     ],
     "prompt_number": 4
    },
    {
     "cell_type": "code",
     "collapsed": false,
     "input": [
      "# Two ways to sum a list of numbers\n",
      "\n",
      "print sum(x)\n",
      "print reduce(add,x)"
     ],
     "language": "python",
     "metadata": {},
     "outputs": [
      {
       "output_type": "stream",
       "stream": "stdout",
       "text": [
        "10\n",
        "10\n"
       ]
      }
     ],
     "prompt_number": 5
    },
    {
     "cell_type": "code",
     "collapsed": false,
     "input": [
      "# Two ways to add a two lists of numbers\n",
      "\n",
      "print add(x,y)\n",
      "print map(add,x,y)"
     ],
     "language": "python",
     "metadata": {},
     "outputs": [
      {
       "output_type": "stream",
       "stream": "stdout",
       "text": [
        "[ 6  8 10 12]\n",
        "[6, 8, 10, 12]\n"
       ]
      }
     ],
     "prompt_number": 6
    },
    {
     "cell_type": "markdown",
     "metadata": {},
     "source": [
      "A for loop is a means for iterating over the elements of a list. The colon is required to mark the start of code that will be executed for each element of a list. Indenting indicates code that is to be executed by the for loop."
     ]
    },
    {
     "cell_type": "code",
     "collapsed": false,
     "input": [
      "for x in xList:\n",
      "    print \"x =\",x, \"    sin(x) = \", sin(x)"
     ],
     "language": "python",
     "metadata": {},
     "outputs": [
      {
       "output_type": "stream",
       "stream": "stdout",
       "text": [
        "x = 1     sin(x) =  0.841470984808\n",
        "x = 2     sin(x) =  0.909297426826\n",
        "x = 3     sin(x) =  0.14112000806\n",
        "x = 4     sin(x) =  -0.756802495308\n"
       ]
      }
     ],
     "prompt_number": 14
    },
    {
     "cell_type": "heading",
     "level": 3,
     "metadata": {},
     "source": [
      "Working with dictionaries"
     ]
    },
    {
     "cell_type": "markdown",
     "metadata": {},
     "source": [
      "Dictionaries are useful for storing and retrieving data as key-value pairs.  For example, here is a short dictionary of molar masses. The keys are molecular formulas, and the values are the corresponding molar masses."
     ]
    },
    {
     "cell_type": "code",
     "collapsed": false,
     "input": [
      "mw = {'CH4': 16.04, 'H2O': 18.02, 'O2':32.00, 'CO2': 44.01}\n",
      "print mw"
     ],
     "language": "python",
     "metadata": {},
     "outputs": [
      {
       "output_type": "stream",
       "stream": "stdout",
       "text": [
        "{'H2O': 18.02, 'CO2': 44.01, 'CH4': 16.04, 'O2': 32.0}\n"
       ]
      }
     ],
     "prompt_number": 16
    },
    {
     "cell_type": "markdown",
     "metadata": {},
     "source": [
      "We can a value to an existing dictionary."
     ]
    },
    {
     "cell_type": "code",
     "collapsed": false,
     "input": [
      "mw['C8H18'] = 114.23\n",
      "print mw"
     ],
     "language": "python",
     "metadata": {},
     "outputs": [
      {
       "output_type": "stream",
       "stream": "stdout",
       "text": [
        "{'H2O': 18.02, 'CO2': 44.01, 'CH4': 16.04, 'O2': 32.0, 'C8H18': 114.23}\n"
       ]
      }
     ],
     "prompt_number": 17
    },
    {
     "cell_type": "markdown",
     "metadata": {},
     "source": [
      "We can retrieve a value from a dictionary."
     ]
    },
    {
     "cell_type": "code",
     "collapsed": false,
     "input": [
      "mw['CH4']"
     ],
     "language": "python",
     "metadata": {},
     "outputs": [
      {
       "metadata": {},
       "output_type": "pyout",
       "prompt_number": 18,
       "text": [
        "16.04"
       ]
      }
     ],
     "prompt_number": 18
    },
    {
     "cell_type": "markdown",
     "metadata": {},
     "source": [
      "A for loop is a useful means of interating over all key-value pairs of a dictionary."
     ]
    },
    {
     "cell_type": "code",
     "collapsed": false,
     "input": [
      "for species in mw.keys():\n",
      "    print \"The molar mass of {:<s} is {:<7.2f}\".format(species, mw[species])"
     ],
     "language": "python",
     "metadata": {},
     "outputs": [
      {
       "output_type": "stream",
       "stream": "stdout",
       "text": [
        "The molar mass of H2O is 18.02  \n",
        "The molar mass of CO2 is 44.01  \n",
        "The molar mass of CH4 is 16.04  \n",
        "The molar mass of O2 is 32.00  \n",
        "The molar mass of C8H18 is 114.23 \n"
       ]
      }
     ],
     "prompt_number": 32
    },
    {
     "cell_type": "markdown",
     "metadata": {},
     "source": [
      "Dictionaries can be sorted by key or by value"
     ]
    },
    {
     "cell_type": "code",
     "collapsed": false,
     "input": [
      "for species in sorted(mw):\n",
      "    print \" {:<8s}  {:>7.2f}\".format(species, mw[species])"
     ],
     "language": "python",
     "metadata": {},
     "outputs": [
      {
       "output_type": "stream",
       "stream": "stdout",
       "text": [
        " C8H18      114.23\n",
        " CH4         16.04\n",
        " CO2         44.01\n",
        " H2O         18.02\n",
        " O2          32.00\n"
       ]
      }
     ],
     "prompt_number": 35
    },
    {
     "cell_type": "code",
     "collapsed": false,
     "input": [
      "for species in sorted(mw, key = mw.get):\n",
      "    print \" {:<8s}  {:>7.2f}\".format(species, mw[species])"
     ],
     "language": "python",
     "metadata": {},
     "outputs": [
      {
       "output_type": "stream",
       "stream": "stdout",
       "text": [
        " CH4         16.04\n",
        " H2O         18.02\n",
        " O2          32.00\n",
        " CO2         44.01\n",
        " C8H18      114.23\n"
       ]
      }
     ],
     "prompt_number": 36
    },
    {
     "cell_type": "heading",
     "level": 3,
     "metadata": {},
     "source": [
      "Plotting"
     ]
    },
    {
     "cell_type": "markdown",
     "metadata": {},
     "source": [
      "When started with the `--pylab=inline` option, IPython notebooks include plotting functionality very similar to Matlab's. Here are some examples."
     ]
    },
    {
     "cell_type": "code",
     "collapsed": false,
     "input": [
      "x = linspace(0,10)\n",
      "y = sin(x)\n",
      "z = cos(x)\n",
      "plot(x,y,'b',x,z,'r')\n",
      "xlabel('Radians');\n",
      "ylabel('Value');\n",
      "title('Plotting Demonstration')\n",
      "legend(['Sin','Cos'])\n",
      "grid()"
     ],
     "language": "python",
     "metadata": {},
     "outputs": [
      {
       "metadata": {},
       "output_type": "display_data",
       "png": "[encoded data removed]",
       "text": [
        "<matplotlib.figure.Figure at 0x105539a90>"
       ]
      }
     ],
     "prompt_number": 7
    },
    {
     "cell_type": "code",
     "collapsed": false,
     "input": [
      "plot(y,z)\n",
      "axis('equal')"
     ],
     "language": "python",
     "metadata": {},
     "outputs": [
      {
       "metadata": {},
       "output_type": "pyout",
       "prompt_number": 8,
       "text": [
        "(-1.0, 1.0, -1.0, 1.0)"
       ]
      },
      {
       "metadata": {},
       "output_type": "display_data",
       "png": "[encoded data removed]",
       "text": [
        "<matplotlib.figure.Figure at 0x105531ed0>"
       ]
      }
     ],
     "prompt_number": 8
    },
    {
     "cell_type": "code",
     "collapsed": false,
     "input": [
      "subplot(2,1,1)\n",
      "plot(x,y)\n",
      "title('Sin(x)')\n",
      "\n",
      "subplot(2,1,2)\n",
      "plot(x,z)\n",
      "title('Cos(x)')"
     ],
     "language": "python",
     "metadata": {},
     "outputs": [
      {
       "metadata": {},
       "output_type": "pyout",
       "prompt_number": 9,
       "text": [
        "<matplotlib.text.Text at 0x1055ae890>"
       ]
      },
      {
       "metadata": {},
       "output_type": "display_data",
       "png": "[encoded data removed]",
       "text": [
        "<matplotlib.figure.Figure at 0x10555e4d0>"
       ]
      }
     ],
     "prompt_number": 9
    },
    {
     "cell_type": "heading",
     "level": 2,
     "metadata": {},
     "source": [
      "Step 3: Solve Equations using Sympy"
     ]
    },
    {
     "cell_type": "markdown",
     "metadata": {},
     "source": [
      "One of the best features of Python is the ability to extend it's functionality by importing special purpose libraries of functions. Here we demonstrate the use of a symbolic algebra package [`Sympy`](http://sympy.org/en/index.html) for routine problem solving."
     ]
    },
    {
     "cell_type": "code",
     "collapsed": false,
     "input": [
      "from sympy import *\n",
      "\n",
      "var('P V n R T');\n",
      "\n",
      "# Gas constant\n",
      "R = 8.314        # J/K/gmol\n",
      "R = R * 1000     # J/K/kgmol\n",
      "\n",
      "# Moles of air\n",
      "mAir = 1         # kg\n",
      "mwAir = 28.97    # kg/kg-mol\n",
      "n = mAir/mwAir   # kg-mol\n",
      "\n",
      "# Temperature\n",
      "T = 298\n",
      "\n",
      "# Equation\n",
      "eqn = Eq(P*V,n*R*T)\n",
      "\n",
      "# Solve for P and select the first solution\n",
      "f = solve(eqn,P)[0]\n",
      "\n",
      "# Use the sympy plot function to plot\n",
      "plot(f,(V,1,10),xlabel='Volume m**3',ylabel='Pressure Pa')\n"
     ],
     "language": "python",
     "metadata": {},
     "outputs": [
      {
       "metadata": {},
       "output_type": "display_data",
       "png": "[encoded data removed]",
       "text": [
        "<matplotlib.figure.Figure at 0x107004a50>"
       ]
      },
      {
       "metadata": {},
       "output_type": "pyout",
       "prompt_number": 117,
       "text": [
        "<sympy.plotting.plot.Plot at 0x10708ff10>"
       ]
      }
     ],
     "prompt_number": 117
    },
    {
     "cell_type": "heading",
     "level": 2,
     "metadata": {},
     "source": [
      "Step 4: Learn More"
     ]
    },
    {
     "cell_type": "markdown",
     "metadata": {},
     "source": [
      "Python offers a full range of programming language features, and there is a seemingly endless range of packages for scientific and engineering computations. Here are some suggestions on places you can go for more information on programming\n",
      "\n",
      "* [Learn Python the Hard Way](http://learnpythonthehardway.org/book/)\n",
      "* [Khan Academy Videos on Python Programming](https://www.khanacademy.org/science/computer-science-subject/computer-science)\n",
      "* [Code Academy on Python](http://www.codecademy.com/tracks/python)\n",
      "\n",
      "or on engineering applications\n",
      "\n",
      "* [Engineering with Python](http://www.engineeringwithpython.com/)\n",
      "* [Matplotlib](http://matplotlib.org/index.html) \n",
      "\n",
      "Official documentation, examples, and gallery are also available.\n",
      "\n",
      "* [Notebook Examples](https://github.com/ipython/ipython/tree/master/examples/notebooks)\n",
      "* [Notebook Gallery](https://github.com/ipython/ipython/wiki/A-gallery-of-interesting-IPython-Notebooks)\n",
      "* [Official Notebook Documentation](http://ipython.org/ipython-doc/stable/interactive/notebook.html)\n"
     ]
    }
   ],
   "metadata": {}
  }
 ]
}