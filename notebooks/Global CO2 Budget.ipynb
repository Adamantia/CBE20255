{
 "cells": [
  {
   "cell_type": "markdown",
   "metadata": {},
   "source": [
    "######The latest version of this IPython notebook is available at [http://github.com/jckantor/CBE20255](http://github.com/jckantor/CBE20255)  for noncommercial use under terms of the [Creative Commons Attribution Noncommericial ShareAlike License](http://creativecommons.org/licenses/by-nc-sa/4.0/).\n",
    "\n",
    "J.C. Kantor (Kantor.1@nd.edu)"
   ]
  },
  {
   "cell_type": "markdown",
   "metadata": {},
   "source": [
    "# Global CO<sub>2</sub> Budget"
   ]
  },
  {
   "cell_type": "markdown",
   "metadata": {},
   "source": [
    "This [IPython notebook](http://ipython.org/notebook.html) demonstrates determines where the global CO<sub>2</sub> emissions go by solving a mass balance."
   ]
  },
  {
   "cell_type": "code",
   "execution_count": 2,
   "metadata": {
    "collapsed": false
   },
   "outputs": [
    {
     "data": {
      "text/html": [
       "<link href='http://fonts.googleapis.com/css?family=Fenix' rel='stylesheet' type='text/css'>\n",
       "<link href='http://fonts.googleapis.com/css?family=Alegreya+Sans:100,300,400,500,700,800,\n",
       "    900,100italic,300italic,400italic,500italic,700italic,800italic,900italic' rel='stylesheet' type='text/css'>\n",
       "<link href='http://fonts.googleapis.com/css?family=Source+Code+Pro:300,400' rel='stylesheet' type='text/css'>\n",
       "<link href='http://fonts.googleapis.com/css?family=Crimson+Text' rel='stylesheet' type='text/css'>\n",
       "<link href='http://fonts.googleapis.com/css?family=Kameron' rel='stylesheet' type='text/css'>\n",
       "<link href='http://fonts.googleapis.com/css?family=Lato:200' rel='stylesheet' type='text/css'>\n",
       "<link href='http://fonts.googleapis.com/css?family=Lato:300' rel='stylesheet' type='text/css'>\n",
       "<link href='http://fonts.googleapis.com/css?family=Lato:400' rel='stylesheet' type='text/css'>\n",
       "<link href='http://fonts.googleapis.com/css?family=Source+Code+Pro' rel='stylesheet' type='text/css'>\n",
       "\n",
       "<style>\n",
       "\n",
       "@font-face {\n",
       "    font-family: \"Computer Modern\";\n",
       "    src: url('http://mirrors.ctan.org/fonts/cm-unicode/fonts/otf/cmunss.otf');\n",
       "}\n",
       "\n",
       "#notebook_panel { /* establish main background and color */\n",
       "    background: #fff;\n",
       "    color: #ff0000;\n",
       "}\n",
       "\n",
       "div.cell { /* set cell width */\n",
       "    width:800px;\n",
       "    margin-left:0%;\n",
       "    margin-right:auto;\n",
       "}\n",
       "\n",
       "div #notebook { /* centers the content */\n",
       "    background: #fff;\n",
       "    width: 1000px;\n",
       "    margin: auto;\n",
       "    padding-left: 1em;\n",
       "}\n",
       "\n",
       "#notebook li { /* more space between bullet points */\n",
       "    margin-top:0.8em;\n",
       "}\n",
       "\n",
       "/* draw border around running cells */\n",
       "div.cell.border-box-sizing.code_cell.running {\n",
       "    border: 3px solid #111;\n",
       "}\n",
       "\n",
       "/* Put a solid color box around each code cell and its output,\n",
       "     visually linking them together */\n",
       "div.cell.code_cell {\n",
       "    background-color: /*#fff*/ rgba(171,165,131,0.2);\n",
       "    border-radius: 10px; /* rounded borders */\n",
       "    padding: 1em;\n",
       "    margin-top: 1em;\n",
       "}\n",
       "\n",
       ".CodeMirror {\n",
       "    font-family: \"Source Code Pro\";\n",
       "    font-size: 90%;\n",
       "}\n",
       "\n",
       "div.text_cell_render code {\n",
       "    font-family: \"Source Code Pro\";\n",
       "    font-size: 90%;\n",
       "    color: red;\n",
       "}\n",
       "\n",
       "pre {\n",
       "    font-family: \"Source Code Pro\";\n",
       "    font-size: 90%;\n",
       "}\n",
       "\n",
       "div.text_cell_render { /* rendering of basic text cell */\n",
       "    font-family: 'Alegreya Sans', Computer Modern, \"Helvetica Neue\", Arial, Helvetica, sans-serif;\n",
       "    line-height: 135%;\n",
       "    font-size: 120%;\n",
       "    width:700px;\n",
       "    margin-left:auto;\n",
       "    margin-right:auto;\n",
       "}\n",
       "\n",
       ".text_cell_render h1 {\n",
       "    font-family: 'Alegreya Sans', sans-serif;\n",
       "    font-weight: 300;\n",
       "    font-size: 32pt;\n",
       "    line-height: 100%;\n",
       "    color:#CD2305;\n",
       "    margin-bottom: 0.4em;\n",
       "    margin-top: 0em;\n",
       "    display: block;\n",
       "}\n",
       "\n",
       "h2 {\n",
       "    font-family: 'Fenix', serif;\n",
       "}\n",
       "\n",
       "h3 {\n",
       "    font-family: 'Fenix', serif;\n",
       "    margin-top:12px;\n",
       "    margin-bottom: 3px;\n",
       "}\n",
       "\n",
       "h4 {\n",
       "    font-family: 'Fenix', serif;\n",
       "}\n",
       "\n",
       ".text_cell_render h5 {\n",
       "    font-family: 'Alegreya Sans', sans-serif;\n",
       "    font-weight: 100;\n",
       "    font-size: 16pt;\n",
       "    color: #CD2305;\n",
       "    font-style: italic;\n",
       "    margin-bottom: .5em;\n",
       "    margin-top: 0.5em;\n",
       "    display: block;\n",
       "}\n",
       "\n",
       ".text_cell_render h6 { /*use this for copyright note*/\n",
       "    font-family: 'Alegreya Sans', sans-serif;\n",
       "    font-weight: 400;\n",
       "    font-size: 10pt;\n",
       "    font-style: normal;\n",
       "    line-height: 120%;\n",
       "    margin-bottom: 1px;\n",
       "    margin-top: 1px;\n",
       "}\n",
       "\n",
       ".MathJax, .MathJax_Display  {\n",
       "    font-family: 'Alegreya Sans', sans-serif  !important;\n",
       "    font-size: 90%  !important;\n",
       "    vertical-align: 0px  !important;\n",
       "}\n",
       "\n",
       ".warning{\n",
       "    color: rgb( 240, 20, 20 )\n",
       "}\n",
       "\n",
       "</style>\n",
       "\n",
       "<script>\n",
       "MathJax.Hub.Config({\n",
       "    TeX: {\n",
       "        extensions: [\"AMSmath.js\"]\n",
       "    },\n",
       "    tex2jax: {\n",
       "        inlineMath: [ ['$','$'], [\"\\\\(\",\"\\\\)\"] ],\n",
       "        displayMath: [ ['$$','$$'], [\"\\\\[\",\"\\\\]\"] ],\n",
       "        processEscapes: true\n",
       "    },\n",
       "    displayAlign: 'center', // Change this to 'center' to center equations.\n",
       "    \"HTML-CSS\": {\n",
       "        styles: {'.MathJax_Display': {\"margin\": 4}}\n",
       "    }\n",
       "});\n",
       "</script>\n",
       "\n"
      ],
      "text/plain": [
       "<IPython.core.display.HTML object>"
      ]
     },
     "execution_count": 2,
     "metadata": {},
     "output_type": "execute_result"
    }
   ],
   "source": [
    "#Initializations\n",
    "from IPython.core.display import HTML\n",
    "HTML(open(\"../styles/custom.css\", \"r\").read())"
   ]
  },
  {
   "cell_type": "markdown",
   "metadata": {},
   "source": [
    "## Problem Statement"
   ]
  },
  {
   "cell_type": "markdown",
   "metadata": {},
   "source": [
    "The total global emissons of CO<sub>2</sub> is estimated by the [Netherlands Environmental Assessment Agency](http://www.pbl.nl/en/publications/trends-in-global-co2-emissions-2013-report) to be 34.5 billion metric tons from all sources, including fossil fuels, cement production, and land use changes. [As measured by NOAA](http://www.esrl.noaa.gov/gmd/ccgg/trends/global.html), in recent years the atmospheric concentration of CO<sub>2</sub> is increasing at an annual rate of about 2.4 ppmv (parts per million by volume).\n",
    "\n",
    "<img src = \"http://www.esrl.noaa.gov/gmd/webdata/ccgg/trends/co2_trend_gl.png\" style=\"align:center;height:350px;margin-top:0px;margin-bottom:0px\">\n",
    "\n",
    "Assuming these numbers are accurate and that the atmosphere is well mixed, what fraction of global CO<sub>2</sub> emissions are being retained in the atmosphere?"
   ]
  },
  {
   "cell_type": "markdown",
   "metadata": {},
   "source": [
    "## Solution"
   ]
  },
  {
   "cell_type": "markdown",
   "metadata": {},
   "source": [
    "This problem requires us to perform a material balance for CO<sub>2</sub> in the atmosphere. We'll perform the using a 10 step approach outlined in the textbook."
   ]
  },
  {
   "cell_type": "markdown",
   "metadata": {},
   "source": [
    "### Step 1. Draw a diagram."
   ]
  },
  {
   "cell_type": "markdown",
   "metadata": {},
   "source": [
    "<img src=\"https://raw.github.com/jckantor/CBE20255/master/notebooks/images/Global_CO2.png\" width=400px>"
   ]
  },
  {
   "cell_type": "markdown",
   "metadata": {},
   "source": [
    "### Step 2. Define the system of interest."
   ]
  },
  {
   "cell_type": "markdown",
   "metadata": {},
   "source": [
    "The system of interest is the global atmosphere which we assume is well mixed and of uniform composition."
   ]
  },
  {
   "cell_type": "markdown",
   "metadata": {},
   "source": [
    "### Step 3. Choose components and define stream variables."
   ]
  },
  {
   "cell_type": "markdown",
   "metadata": {},
   "source": [
    "The chemical component to model is CO<sub>2</sub>. The stream variables are the mass flowrates of CO<aub>2</sub> into and out of the atmosphere."
   ]
  },
  {
   "cell_type": "markdown",
   "metadata": {},
   "source": [
    "### Step 4. Convert all units to consistent units of mass or moles."
   ]
  },
  {
   "cell_type": "markdown",
   "metadata": {},
   "source": [
    "This problem could be done on either a molar or mass basis. We'll arbitrarily choose to do this in mass units of kg/year. First we convert global emissions to kg/year."
   ]
  },
  {
   "cell_type": "code",
   "execution_count": 1,
   "metadata": {
    "collapsed": false
   },
   "outputs": [
    {
     "name": "stdout",
     "output_type": "stream",
     "text": [
      "Global CO2 emissions = 3.45e+13 kg/yr\n"
     ]
    }
   ],
   "source": [
    "mCO2_in = 34.5e9            # inflow, metric tonnes per year\n",
    "mCO2_in = mCO2_in*1000      # inflow, kg per year\n",
    "print \"Global CO2 emissions = {:8.3g} kg/yr\".format(mCO2_in)"
   ]
  },
  {
   "cell_type": "markdown",
   "metadata": {},
   "source": [
    "The rate of accumulation is given as ppm by volume per year. For ideal gases, volume fraction is equivalent to mole fraction. We need to convert the mole fraction, which is the ratio of kg-moles of CO<sub>2</sub> to kg-moles of air, to mass fraction which has units of kg of CO<sub>2</sub> to kg of air per year."
   ]
  },
  {
   "cell_type": "code",
   "execution_count": 2,
   "metadata": {
    "collapsed": false
   },
   "outputs": [
    {
     "name": "stdout",
     "output_type": "stream",
     "text": [
      "Accumulation Rate of CO2 = 3.65e-06 kg CO2/kg air\n"
     ]
    }
   ],
   "source": [
    "nCO2_accum = 2.4e-6                   # accumulation, kg-mol CO2/kg-mol air/yr\n",
    "\n",
    "mwAir = 28.97                         # kg air/kg-mol air\n",
    "mwCO2 = 44.01                         # kg CO2/kg-mol CO2\n",
    "\n",
    "wCO2_accum = nCO2_accum*mwCO2/mwAir   # kg CO2/kg air/yr\n",
    "\n",
    "print \"Accumulation Rate of CO2 = {:8.3g} kg CO2/kg air\".format(wCO2_accum)"
   ]
  },
  {
   "cell_type": "markdown",
   "metadata": {},
   "source": [
    "### Step 5. Define a basis."
   ]
  },
  {
   "cell_type": "markdown",
   "metadata": {},
   "source": [
    "The basis for the calculation are flows and change in one year. No additional work is required."
   ]
  },
  {
   "cell_type": "markdown",
   "metadata": {},
   "source": [
    "### Step 6. Define system variables."
   ]
  },
  {
   "cell_type": "markdown",
   "metadata": {},
   "source": [
    "The system variable is the rate of accumulation of CO<sub>2</sub> in kg CO2/year. We need to convert from change in concentration per year to change in total mass per year. The first step is to estimate the total mass of air."
   ]
  },
  {
   "cell_type": "code",
   "execution_count": 3,
   "metadata": {
    "collapsed": false
   },
   "outputs": [
    {
     "name": "stdout",
     "output_type": "stream",
     "text": [
      "Estimated mass of the atmosphere = 5.27e+18 kg\n"
     ]
    }
   ],
   "source": [
    "# Earth Radius in meters\n",
    "R = 6371000       # m\n",
    "\n",
    "# Earth Area in square meters\n",
    "A = 4*pi*R**2     # m**2\n",
    "\n",
    "# Mass of the atmosphere in kg\n",
    "g = 9.81          # N/kg\n",
    "P = 101325        # N/m**2\n",
    "mAir = A*P/g      # kg\n",
    "\n",
    "print \"Estimated mass of the atmosphere = {:8.3g} kg\".format(mAir)"
   ]
  },
  {
   "cell_type": "markdown",
   "metadata": {},
   "source": [
    "To get the rate of change of total CO<sub>2</sub>, multiply the total mass of by the rate of change of mass fraction of CO<sub>2</sub>."
   ]
  },
  {
   "cell_type": "code",
   "execution_count": 4,
   "metadata": {
    "collapsed": false
   },
   "outputs": [
    {
     "name": "stdout",
     "output_type": "stream",
     "text": [
      "Change in CO2 = 1.92e+13 kg CO2/year\n"
     ]
    }
   ],
   "source": [
    "mCO2_accum = wCO2_accum*mAir     # kg CO2/year\n",
    "\n",
    "print \"Change in CO2 = {:8.3g} kg CO2/year\".format(mCO2_accum)"
   ]
  },
  {
   "cell_type": "markdown",
   "metadata": {},
   "source": [
    "### Step 7. List specifications"
   ]
  },
  {
   "cell_type": "markdown",
   "metadata": {},
   "source": [
    "The inflow and rate of change of CO<sub>2</sub> are specified, and calculated above."
   ]
  },
  {
   "cell_type": "markdown",
   "metadata": {},
   "source": [
    "### Step 8. Write material balance equations for each species."
   ]
  },
  {
   "cell_type": "markdown",
   "metadata": {},
   "source": [
    "$$\\mbox{Accumulation} = \\mbox{Inflow} - \\mbox{Outflow} + \\underbrace{\\mbox{Generation}}_{=0} - \\underbrace{\\mbox{Consumption}}_{=0}$$"
   ]
  },
  {
   "cell_type": "markdown",
   "metadata": {},
   "source": [
    "### Step 9. Solve material balance equations."
   ]
  },
  {
   "cell_type": "markdown",
   "metadata": {},
   "source": [
    "$$\\mbox{Outflow} = \\mbox{Inflow} - \\mbox{Accumulation}$$"
   ]
  },
  {
   "cell_type": "code",
   "execution_count": 5,
   "metadata": {
    "collapsed": false
   },
   "outputs": [
    {
     "name": "stdout",
     "output_type": "stream",
     "text": [
      "Global CO2 outflow = 1.53e+13 kg CO2/yr\n"
     ]
    }
   ],
   "source": [
    "mCO2_out = mCO2_in - mCO2_accum\n",
    "\n",
    "print \"Global CO2 outflow = {:8.3g} kg CO2/yr\".format(mCO2_out)"
   ]
  },
  {
   "cell_type": "markdown",
   "metadata": {},
   "source": [
    "### Step 10. Check your work."
   ]
  },
  {
   "cell_type": "markdown",
   "metadata": {},
   "source": [
    "Fraction retained in the atmosphere"
   ]
  },
  {
   "cell_type": "code",
   "execution_count": 6,
   "metadata": {
    "collapsed": false
   },
   "outputs": [
    {
     "name": "stdout",
     "output_type": "stream",
     "text": [
      "Fraction of CO2 retained in the atmosphere = 0.56 \n"
     ]
    }
   ],
   "source": [
    "fCO2 = mCO2_accum/mCO2_in\n",
    "print \"Fraction of CO2 retained in the atmosphere = {:<.2g} \".format(fCO2)"
   ]
  },
  {
   "cell_type": "code",
   "execution_count": null,
   "metadata": {
    "collapsed": false
   },
   "outputs": [],
   "source": []
  }
 ],
 "metadata": {
  "kernelspec": {
   "display_name": "Python 2",
   "language": "python",
   "name": "python2"
  },
  "language_info": {
   "codemirror_mode": {
    "name": "ipython",
    "version": 2
   },
   "file_extension": ".py",
   "mimetype": "text/x-python",
   "name": "python",
   "nbconvert_exporter": "python",
   "pygments_lexer": "ipython2",
   "version": "2.7.9"
  }
 },
 "nbformat": 4,
 "nbformat_minor": 0
}
