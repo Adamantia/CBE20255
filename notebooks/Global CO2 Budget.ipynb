{
 "metadata": {
  "name": ""
 },
 "nbformat": 3,
 "nbformat_minor": 0,
 "worksheets": [
  {
   "cells": [
    {
     "cell_type": "heading",
     "level": 1,
     "metadata": {},
     "source": [
      "Global $CO_2$ Budget"
     ]
    },
    {
     "cell_type": "markdown",
     "metadata": {},
     "source": [
      "The total global emissons of $CO2$ is estimated by the [Netherlands Environmental Assessment Agency](http://www.pbl.nl/en/publications/trends-in-global-co2-emissions-2013-report) to be 34.5 billion metric tons from all sources, including fossil fuels, cement production, and land use changes. The atmospheric concentration of $CO2$ [is measured to be increasing at rate of about 2.4 ppmv (parts per million by volume)](http://www.esrl.noaa.gov/gmd/ccgg/trends/global.html) in recent years.\n",
      "\n",
      "Assuming these numbers are accurate and that the atmosphere is well mixed, what fraction of global $CO_2$ emissions are being retained in the atmosphere?"
     ]
    },
    {
     "cell_type": "heading",
     "level": 2,
     "metadata": {},
     "source": [
      "Estimate total mass of the atmosphere"
     ]
    },
    {
     "cell_type": "code",
     "collapsed": false,
     "input": [
      "# Earth Radius in meters\n",
      "R = 6371000       # m\n",
      "\n",
      "# Earth Area in square meters\n",
      "A = 4*pi*R**2     # m**2\n",
      "\n",
      "# Mass of the atmosphere in kg\n",
      "g = 9.81          # N/kg\n",
      "P = 101325        # N/m**2\n",
      "mAir = A*P/g      # kg\n",
      "print \"Estimated mass of the atmosphere = {:7.2g} kg\".format(mAir)\n",
      "\n",
      "# Average molecular weight of air\n",
      "mwAir = 28.97     # kg/kg-mol\n",
      "\n",
      "# Moles of air, kg-mol\n",
      "nAir = mAir/mwAir # kg-mol\n",
      "print \"Estimated moles in the atmosphere = {:7.2g} kg-mol\".format(nAir)\n"
     ],
     "language": "python",
     "metadata": {},
     "outputs": [
      {
       "output_type": "stream",
       "stream": "stdout",
       "text": [
        "Estimated mass of the atmosphere = 5.3e+18 kg\n",
        "Estimated moles in the atmosphere = 1.8e+17 kg-mol\n"
       ]
      }
     ],
     "prompt_number": 20
    },
    {
     "cell_type": "heading",
     "level": 2,
     "metadata": {},
     "source": [
      "Measured Rate of Accumulation of $CO_2$"
     ]
    },
    {
     "cell_type": "code",
     "collapsed": false,
     "input": [
      "nCO2_dot = 2.4e-6*nAir\n",
      "print \"Estimated rate of CO2 accumulation = {:7.2g} kg-mol/yr\".format(nCO2_dot)"
     ],
     "language": "python",
     "metadata": {},
     "outputs": [
      {
       "output_type": "stream",
       "stream": "stdout",
       "text": [
        "Estimated rate of CO2 accumulation = 4.4e+11 kg-mol/yr\n"
       ]
      }
     ],
     "prompt_number": 22
    },
    {
     "cell_type": "heading",
     "level": 2,
     "metadata": {},
     "source": [
      "Global $CO_2$ emissions"
     ]
    },
    {
     "cell_type": "markdown",
     "metadata": {},
     "source": [
      "Global $CO_2$ emissions are estimated by the [Netherlands Environmental Assessment Agency](http://www.pbl.nl/en/publications/trends-in-global-co2-emissions-2013-report) to 34.5 billion metric tonnes in 2012."
     ]
    },
    {
     "cell_type": "code",
     "collapsed": false,
     "input": [
      "# CO2 Emissions in 2012 from Fossil fuels, cement, and land use changes, in kg\n",
      "\n",
      "mCO2 = 34.5e9 * 1000   # kg/yr\n",
      "mwCO2 = 44.01          # kg/kg-mol\n",
      "nCO2 = mCO2/mwCO2\n",
      "\n",
      "print \"Global CO2 emissions = {:7.2g} kg-mol\".format(nCO2)"
     ],
     "language": "python",
     "metadata": {},
     "outputs": [
      {
       "output_type": "stream",
       "stream": "stdout",
       "text": [
        "Global CO2 emissions = 7.8e+11 kg-mol\n"
       ]
      }
     ],
     "prompt_number": 19
    },
    {
     "cell_type": "code",
     "collapsed": false,
     "input": [
      "print \"Fraction of CO2 retained in the atmosphere = {:<.2g} \".format(nCO2_dot/nCO2)"
     ],
     "language": "python",
     "metadata": {},
     "outputs": [
      {
       "output_type": "stream",
       "stream": "stdout",
       "text": [
        "Fraction of CO2 retained in the atmosphere = 0.56 \n"
       ]
      }
     ],
     "prompt_number": 25
    }
   ],
   "metadata": {}
  }
 ]
}