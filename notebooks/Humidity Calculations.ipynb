{
 "cells": [
  {
   "cell_type": "markdown",
   "metadata": {},
   "source": [
    "# Humidity Calculations\n",
    "\n",
    "Assume you are designing the air handling system for a classroom building that will accomodate up 2,000 students.  The fresh requirement is 20 cubic feet per minute of fresh air per student with a relative humidity of 45% at 75 $^\\circ$F. The building operates in a humid climate with an average summer dew point temperature of 72 $^\\circ$F.\n",
    "\n",
    "How much water will be removed from the fresh air? Express your answer in gallons/hour."
   ]
  },
  {
   "cell_type": "code",
   "execution_count": null,
   "metadata": {
    "collapsed": true
   },
   "outputs": [],
   "source": []
  }
 ],
 "metadata": {
  "kernelspec": {
   "display_name": "Python 2",
   "language": "python",
   "name": "python2"
  },
  "language_info": {
   "codemirror_mode": {
    "name": "ipython",
    "version": 2
   },
   "file_extension": ".py",
   "mimetype": "text/x-python",
   "name": "python",
   "nbconvert_exporter": "python",
   "pygments_lexer": "ipython2",
   "version": "2.7.10"
  }
 },
 "nbformat": 4,
 "nbformat_minor": 0
}
