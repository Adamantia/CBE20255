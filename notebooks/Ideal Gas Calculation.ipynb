{
 "cells": [
  {
   "cell_type": "markdown",
   "metadata": {},
   "source": [
    "# Ideal Gas Calculation\n",
    "\n",
    "## Part 1\n",
    "\n",
    "The following cell will do an ideal gas calculation.\n",
    "\n",
    "$$ P = \\frac{n R T}{V} $$"
   ]
  },
  {
   "cell_type": "code",
   "execution_count": 3,
   "metadata": {
    "collapsed": false
   },
   "outputs": [
    {
     "name": "stdout",
     "output_type": "stream",
     "text": [
      "210819.285714\n"
     ]
    }
   ],
   "source": [
    "Rgas = 8314\n",
    "T = 284\n",
    "n = 2\n",
    "V = 22.4\n",
    "\n",
    "P = n*Rgas*T/V\n",
    "print P"
   ]
  },
  {
   "cell_type": "code",
   "execution_count": null,
   "metadata": {
    "collapsed": true
   },
   "outputs": [],
   "source": []
  }
 ],
 "metadata": {
  "kernelspec": {
   "display_name": "Python 2",
   "language": "python",
   "name": "python2"
  },
  "language_info": {
   "codemirror_mode": {
    "name": "ipython",
    "version": 2
   },
   "file_extension": ".py",
   "mimetype": "text/x-python",
   "name": "python",
   "nbconvert_exporter": "python",
   "pygments_lexer": "ipython2",
   "version": "2.7.11"
  }
 },
 "nbformat": 4,
 "nbformat_minor": 0
}
