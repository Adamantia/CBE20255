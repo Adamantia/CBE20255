{
 "cells": [
  {
   "cell_type": "markdown",
   "metadata": {},
   "source": [
    "###### The latest version of this IPython notebook is available at [http://github.com/jckantor/CBE20255](http://github.com/jckantor/CBE20255)  for noncommercial use under terms of the [Creative Commons Attribution Noncommericial ShareAlike License](http://creativecommons.org/licenses/by-nc-sa/4.0/).\n",
    "\n",
    "J.C. Kantor (Kantor.1@nd.edu)"
   ]
  },
  {
   "cell_type": "markdown",
   "metadata": {},
   "source": [
    "# Isothermal Flash and the Rachford-Rice Equation"
   ]
  },
  {
   "cell_type": "markdown",
   "metadata": {},
   "source": [
    "This [IPython notebook](http://ipython.org/notebook.html) illustrates the use of the Rachford-Rice equation solve the material balances for an isothermal flash of an ideal mixture. The video is used with permission from [learnCheme.com](http://learncheme.ning.com/), a project at the University of Colorado funded by the National Science Foundation and the Shell Corporation."
   ]
  },
  {
   "cell_type": "code",
   "execution_count": 1,
   "metadata": {
    "collapsed": true
   },
   "outputs": [],
   "source": [
    "import numpy as np\n",
    "import matplotlib.pyplot as plt\n",
    "%matplotlib inline"
   ]
  },
  {
   "cell_type": "markdown",
   "metadata": {},
   "source": [
    "## Derivation of the Rachford-Rice Equation"
   ]
  },
  {
   "cell_type": "markdown",
   "metadata": {},
   "source": [
    "The derivation of the Rachford-Rice equation is a relatively straightford application of component material balances and Raoult's law for an ideal solution."
   ]
  },
  {
   "cell_type": "code",
   "execution_count": 2,
   "metadata": {
    "collapsed": false
   },
   "outputs": [
    {
     "data": {
      "text/html": [
       "\n",
       "        <iframe\n",
       "            width=\"560\"\n",
       "            height=\"315\"\n",
       "            src=\"https://www.youtube.com/embed/ACxOiXWq1SQ?rel=0\"\n",
       "            frameborder=\"0\"\n",
       "            allowfullscreen\n",
       "        ></iframe>\n",
       "        "
      ],
      "text/plain": [
       "<IPython.lib.display.YouTubeVideo at 0x1079c3950>"
      ]
     },
     "execution_count": 2,
     "metadata": {},
     "output_type": "execute_result"
    }
   ],
   "source": [
    "from IPython.display import YouTubeVideo\n",
    "YouTubeVideo(\"ACxOiXWq1SQ\",560,315,rel=0)"
   ]
  },
  {
   "cell_type": "markdown",
   "metadata": {},
   "source": [
    "The quantities, definitions, and equations are summarized in the following figure.\n",
    "\n",
    "<img src=\"files/images/FlashDrumFigure.png\" style=\"width:600px\"/>\n",
    "\n",
    "To sketch the derivation, we begin with the overall constraint on the liquid \n",
    "phase and vapor phase mole fractions $x_1 + x_2 + \\cdots + x_N = 1$ and $y_1 + y_2 + \\cdots + y_N = 1$. Subtracting the first from the second we find\n",
    "\n",
    "$$\\sum_{n=1}^N (y_n - x_n) = 0$$\n",
    "\n",
    "This doesn't look like much, but it turns out to be the essential trick in developing the development. What we need know are expressions for $y_n$ and $x_n$ that we can substitute into terms in the sum. We get these by solving the component material balance and equilibrium equations for $y_n$ and $x_n$.\n",
    "\n",
    "For each species we write a material balance\n",
    "\n",
    "$$L x_n + V y_n = F z_n$$\n",
    "\n",
    "Dividing through by the feedrate we get a parameter $\\phi = \\frac{V}{L}$ denoting the fraction of the feedstream that leaves the flash unit in the vapor stream, the remaining fraction $1-\\phi$ leaving in the liquid stream.  With this notation the material balance becomes\n",
    "\n",
    "$$(1-\\phi)x_n + \\phi y_n = z_n$$\n",
    "\n",
    "for each species.  \n",
    "\n",
    "The second equation is\n",
    "\n",
    "$$y_n = K_n x_n$$\n",
    "\n",
    "where the 'K-factor' for an ideal solution is given by Raoult's law\n",
    "\n",
    "$$K_n = \\frac{P_n^{sat}(T)}{P}$$\n",
    "\n",
    "The K-factor depends on the operating pressure and temperature of the flash unit. Solving the material balance and equilibrium equations gives\n",
    "\n",
    "$$x_n = \\frac{z_n}{1 + \\phi(K_n - 1)}$$\n",
    "\n",
    "$$y_n = \\frac{K_n z_n}{1 + \\phi(K_n - 1)}$$\n",
    "\n",
    "so that the difference $y_n - x_n$ is given by\n",
    "\n",
    "$$y_n - x_n = \\frac{(K_n - 1)z_n}{1 + \\phi(K_n - 1)}$$\n",
    "\n",
    "Substitution leads to the Rachford-Rice equation\n",
    "\n",
    "$$\\sum_{n=1}^{N} \\frac{(K_n - 1)z_n}{1 + \\phi(K_n - 1)} = 0 $$"
   ]
  },
  {
   "cell_type": "markdown",
   "metadata": {},
   "source": [
    "## Problem Classification"
   ]
  },
  {
   "cell_type": "markdown",
   "metadata": {},
   "source": [
    "| Problem Type | z<sub>i</sub>'s | T       | P       | &phi;   | Action |\n",
    "| -----------: | :-----: | :-----: | :-----: | :-----: | :----: |\n",
    "| Bubble Point | &check; | unknown | &check; | 0       | Set x<sub>i</sub> = z<sub>i</sub>. Solve for T and y<sub>i</sub>'s |\n",
    "| Bubble Point | &check; | &check; | unknown | 0       | Set x<sub>i</sub> = z<sub>i</sub>. Solve for P and y<sub>i</sub>'s |\n",
    "| Dew Point    | &check; | unknown | &check; | 1       | Set y<sub>i</sub> = z<sub>i</sub>. Solve for T and x<sub>i</sub>'s |\n",
    "| Dew Point    | &check; | &check; | unknown | 1       | Set y<sub>i</sub> = z<sub>i</sub>. Solve for P and x<sub>i</sub>'s |\n",
    "| Isothermal Flash | &check; | &check; | &check; | unknown | Solve for &phi;, x<sub>i</sub>'s, and y<sub>i</sub>'s |\n"
   ]
  },
  {
   "cell_type": "markdown",
   "metadata": {},
   "source": [
    "## Isothermal Flash of a Binary Mixture"
   ]
  },
  {
   "cell_type": "markdown",
   "metadata": {},
   "source": [
    "Problem specifications"
   ]
  },
  {
   "cell_type": "code",
   "execution_count": 3,
   "metadata": {
    "collapsed": false
   },
   "outputs": [],
   "source": [
    "A = 'acetone'\n",
    "B = 'ethanol'\n",
    "\n",
    "P = 760\n",
    "T = 65\n",
    "\n",
    "z = dict()\n",
    "z[A] = 0.6\n",
    "z[B] = 1 - z[A]"
   ]
  },
  {
   "cell_type": "markdown",
   "metadata": {},
   "source": [
    "Compute the K-factors for the given operating conditions"
   ]
  },
  {
   "cell_type": "code",
   "execution_count": 4,
   "metadata": {
    "collapsed": false
   },
   "outputs": [
    {
     "name": "stdout",
     "output_type": "stream",
     "text": [
      "Pressure     760.00 [mmHg]\n",
      "Temperature   65.00 [deg C]\n",
      "K-factors:\n",
      "   ethanol    0.576\n",
      "   acetone    1.338\n"
     ]
    }
   ],
   "source": [
    "# Antoine's equations. T [deg C], P [mmHg]\n",
    "Psat = dict()\n",
    "Psat[A] = lambda T: 10**(7.02447 - 1161.0/(224 + T))\n",
    "Psat[B] = lambda T: 10**(8.04494 - 1554.3/(222.65 + T))\n",
    "\n",
    "# Compute K-factors\n",
    "K = dict()\n",
    "K[A] = Psat[A](T)/P\n",
    "K[B] = Psat[B](T)/P\n",
    "\n",
    "print \"Pressure     {:6.2f} [mmHg]\".format(P)\n",
    "print \"Temperature  {:6.2f} [deg C]\".format(T)\n",
    "print \"K-factors:\"\n",
    "for n in Psat:\n",
    "    print \"   {:s}  {:7.3f}\".format(n,K[n])"
   ]
  },
  {
   "cell_type": "markdown",
   "metadata": {},
   "source": [
    "Rachford-Rice equation"
   ]
  },
  {
   "cell_type": "code",
   "execution_count": 6,
   "metadata": {
    "collapsed": false
   },
   "outputs": [
    {
     "data": {
      "image/png": "[encoded data removed]",
      "text/plain": [
       "<matplotlib.figure.Figure at 0x107925d10>"
      ]
     },
     "metadata": {},
     "output_type": "display_data"
    }
   ],
   "source": [
    "def RR(phi):\n",
    "    return (K[A]-1)*z[A]/(1 + phi*(K[A]-1)) + (K[B]-1)*z[B]/(1 + phi*(K[B]-1))\n",
    "\n",
    "phi = np.linspace(0,1)\n",
    "plt.plot(phi,map(RR,phi))\n",
    "plt.xlabel('Vapor Fraction phi')\n",
    "plt.title('Rachford-Rice Equation')\n",
    "plt.grid();"
   ]
  },
  {
   "cell_type": "markdown",
   "metadata": {},
   "source": [
    "Finding roots of the Rachford-Rice equation"
   ]
  },
  {
   "cell_type": "code",
   "execution_count": 7,
   "metadata": {
    "collapsed": false
   },
   "outputs": [
    {
     "name": "stdout",
     "output_type": "stream",
     "text": [
      "Vapor Fraction  0.2317\n",
      "Liquid Fraction 0.7683\n"
     ]
    }
   ],
   "source": [
    "from scipy.optimize import brentq\n",
    "\n",
    "phi = brentq(RR,0,1)\n",
    "\n",
    "print \"Vapor Fraction  {:6.4f}\".format(phi)\n",
    "print \"Liquid Fraction {:6.4f}\".format(1-phi)"
   ]
  },
  {
   "cell_type": "markdown",
   "metadata": {},
   "source": [
    "Compositions"
   ]
  },
  {
   "cell_type": "code",
   "execution_count": 8,
   "metadata": {
    "collapsed": false
   },
   "outputs": [
    {
     "name": "stdout",
     "output_type": "stream",
     "text": [
      "Component    z[n]    x[n]    y[n]\n",
      "acetone       0.6  0.5565  0.7444\n",
      "ethanol       0.4  0.4435  0.2556\n"
     ]
    }
   ],
   "source": [
    "x = dict()\n",
    "y = dict()\n",
    "\n",
    "print \"Component    z[n]    x[n]    y[n]\"\n",
    "\n",
    "for n in [A,B]:\n",
    "    x[n] = z[n]/(1 + phi*(K[n]-1))\n",
    "    y[n] = K[n]*x[n]\n",
    "    print \"{:10s} {:6.4n}  {:6.4f}  {:6.4f}\".format(n,z[n],x[n],y[n])"
   ]
  },
  {
   "cell_type": "markdown",
   "metadata": {},
   "source": [
    "## Multicomponent Mixtures"
   ]
  },
  {
   "cell_type": "code",
   "execution_count": 9,
   "metadata": {
    "collapsed": false
   },
   "outputs": [],
   "source": [
    "P = 760\n",
    "T = 65\n",
    "\n",
    "z = dict()\n",
    "z['acetone'] = 0.6\n",
    "z['benzene'] = 0.01\n",
    "z['toluene'] = 0.01\n",
    "z['ethanol'] = 1 - sum(z.values())"
   ]
  },
  {
   "cell_type": "code",
   "execution_count": 10,
   "metadata": {
    "collapsed": false
   },
   "outputs": [
    {
     "name": "stdout",
     "output_type": "stream",
     "text": [
      "Pressure     760.00 [mmHg]\n",
      "Temperature   65.00 [deg C]\n",
      "K-factors:\n",
      "   benzene    0.613\n",
      "   acetone    1.338\n",
      "   ethanol    0.576\n",
      "   toluene    0.222\n"
     ]
    }
   ],
   "source": [
    "Psat = dict()\n",
    "Psat['acetone'] = lambda T: 10**(7.02447 - 1161.0/(224 + T))\n",
    "Psat['benzene'] = lambda T: 10**(6.89272 - 1203.531/(219.888 + T))\n",
    "Psat['ethanol'] = lambda T: 10**(8.04494 - 1554.3/(222.65 + T))\n",
    "Psat['toluene'] = lambda T: 10**(6.95805 - 1346.773/(219.693 + T))\n",
    "\n",
    "K = {n : lambda P,T,n=n: Psat[n](T)/P for n in Psat}\n",
    "\n",
    "print \"Pressure     {:6.2f} [mmHg]\".format(P)\n",
    "print \"Temperature  {:6.2f} [deg C]\".format(T)\n",
    "print \"K-factors:\"\n",
    "for n in K:\n",
    "    print \"   {:s}  {:7.3f}\".format(n,K[n](P,T))"
   ]
  },
  {
   "cell_type": "code",
   "execution_count": 11,
   "metadata": {
    "collapsed": false
   },
   "outputs": [
    {
     "data": {
      "image/png": "[encoded data removed]",
      "text/plain": [
       "<matplotlib.figure.Figure at 0x107aef110>"
      ]
     },
     "metadata": {},
     "output_type": "display_data"
    }
   ],
   "source": [
    "def RR(phi):\n",
    "    return sum([(K[n](P,T)-1)*z[n]/(1 + phi*(K[n](P,T)-1)) for n in K.keys()])\n",
    "\n",
    "phi = np.linspace(0,1)\n",
    "plt.plot(phi,map(RR,phi))\n",
    "plt.xlabel('Vapor Fraction phi')\n",
    "plt.title('Rachford-Rice Equation')\n",
    "plt.grid();"
   ]
  },
  {
   "cell_type": "code",
   "execution_count": 12,
   "metadata": {
    "collapsed": false
   },
   "outputs": [
    {
     "name": "stdout",
     "output_type": "stream",
     "text": [
      "Vapor Fraction  0.2033\n",
      "Liquid Fraction 0.7967\n"
     ]
    }
   ],
   "source": [
    "from scipy.optimize import brentq\n",
    " \n",
    "phi = brentq(RR,0,1)\n",
    "\n",
    "print \"Vapor Fraction  {:6.4f}\".format(phi)\n",
    "print \"Liquid Fraction {:6.4f}\".format(1-phi)"
   ]
  },
  {
   "cell_type": "code",
   "execution_count": 13,
   "metadata": {
    "collapsed": false
   },
   "outputs": [
    {
     "name": "stdout",
     "output_type": "stream",
     "text": [
      "Component    z[n]    x[n]    y[n]\n",
      "benzene    0.0100  0.0109  0.0067\n",
      "ethanol    0.3800  0.4158  0.2396\n",
      "acetone    0.6000  0.5615  0.7511\n",
      "toluene    0.0100  0.0119  0.0026\n"
     ]
    }
   ],
   "source": [
    "x = {n: z[n]/(1 + phi*(K[n](P,T)-1)) for n in z}\n",
    "y = {n: K[n](P,T)*z[n]/(1 + phi*(K[n](P,T)-1)) for n in z}\n",
    "\n",
    "print \"Component    z[n]    x[n]    y[n]\"\n",
    "\n",
    "for n in z.keys():\n",
    "    print \"{:10s} {:6.4f}  {:6.4f}  {:6.4f}\".format(n,z[n],x[n],y[n])"
   ]
  },
  {
   "cell_type": "markdown",
   "metadata": {},
   "source": [
    "[Experiments](http://en.wikipedia.org/wiki/MythBusters_%282005_season%29#Bottle_Rocket_Blast-Off) suggest the bursting pressure of a 2 liter soda bottle is 150 psig. "
   ]
  },
  {
   "cell_type": "markdown",
   "metadata": {},
   "source": [
    "## Exercises"
   ]
  },
  {
   "cell_type": "markdown",
   "metadata": {},
   "source": [
    "### Design of a Carbonated Beverage\n",
    "\n",
    "The purpose of carbonating beverages is to provide a positive pressure inside the package to keep out oxygen and other potential contaminants. The burst pressure of 2 liter soda bottles [has been measured to be 150 psig](http://en.wikipedia.org/wiki/MythBusters_%282005_season%29#Bottle_Rocket_Blast-Off) (approx. 10 atm). For safety, suppose you want the bottle pressure to be no more than 6 atm gauge on a hot summer day in Arizona (say 50 &deg;C, ) and yet have at least 0.5 atm of positive gauge pressure at 0 &deg;C. Assuming your beverage is a mixture of CO<sub>2</sub> and water, is it possible to meet this specification? What concentration (measured in g of CO<sub>2</sub> per g of water) would you recommend?"
   ]
  },
  {
   "cell_type": "code",
   "execution_count": null,
   "metadata": {
    "collapsed": false
   },
   "outputs": [],
   "source": []
  }
 ],
 "metadata": {
  "kernelspec": {
   "display_name": "Python 2",
   "language": "python",
   "name": "python2"
  },
  "language_info": {
   "codemirror_mode": {
    "name": "ipython",
    "version": 2
   },
   "file_extension": ".py",
   "mimetype": "text/x-python",
   "name": "python",
   "nbconvert_exporter": "python",
   "pygments_lexer": "ipython2",
   "version": "2.7.10"
  }
 },
 "nbformat": 4,
 "nbformat_minor": 0
}
