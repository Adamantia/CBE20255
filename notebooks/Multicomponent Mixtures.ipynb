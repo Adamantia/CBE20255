{
 "cells": [
  {
   "cell_type": "markdown",
   "metadata": {},
   "source": [
    "###### The latest version of this IPython notebook is available at [http://github.com/jckantor/CBE20255](http://github.com/jckantor/CBE20255)  for noncommercial use under terms of the [Creative Commons Attribution Noncommericial ShareAlike License](http://creativecommons.org/licenses/by-nc-sa/4.0/).\n",
    "\n",
    "J.C. Kantor (Kantor.1@nd.edu)"
   ]
  },
  {
   "cell_type": "markdown",
   "metadata": {},
   "source": [
    "# Bubble and Dew Point Calculations"
   ]
  },
  {
   "cell_type": "markdown",
   "metadata": {},
   "source": [
    "This [IPython notebook](http://ipython.org/notebook.html) illustrates the use of Raoult's Law and Antoine's equation to compute the bubble and dew points for an ideal solution. The video is used with permission from [learnCheme.com](http://learncheme.ning.com/), a project at the University of Colorado funded by the National Science Foundation and the Shell Corporation."
   ]
  },
  {
   "cell_type": "markdown",
   "metadata": {},
   "source": [
    "Initialize the IPython workspace with with default settings for plots."
   ]
  },
  {
   "cell_type": "code",
   "execution_count": 1,
   "metadata": {
    "collapsed": false
   },
   "outputs": [],
   "source": [
    "import numpy as np\n",
    "import matplotlib.pyplot as plt\n",
    "%matplotlib inline\n",
    "\n",
    "plt.rcParams.update({'figure.figsize':(10,6)})\n",
    "plt.rcParams.update({'font.size':12})\n",
    "plt.rcParams.update({'lines.linewidth':1.6})"
   ]
  },
  {
   "cell_type": "markdown",
   "metadata": {},
   "source": [
    "## Bubble and Dew Point Equations for Ideal Mixtures"
   ]
  },
  {
   "cell_type": "markdown",
   "metadata": {},
   "source": [
    "Bubble and dew point calculations for ideal mixtures are all about solving a fixed set of equations. If we have $N$ chemical species, and refer to the liquid phase mole fractions as $x_1, \\ldots, x_N$ and the vapor phase mole fractions as $y_1, \\ldots, y_N$, then two of these equations are\n",
    "\n",
    "$$x_1 + x_2 + \\cdots + x_N = 1$$\n",
    "\n",
    "and\n",
    "\n",
    "$$y_1 + y_2 + \\cdots + y_N = 1$$\n",
    "\n",
    "The remaining equations come from Raoult's law. For each of the $n = 1, 2, \\ldots, N$ species we have an equation\n",
    "\n",
    "$$ y_n P = x_n P_n^{sat}(T)$$\n",
    "\n",
    "where $P_n^{sat}(T)$ is determined from experimental data or from a correlation such as Antoine's equation. This gives us a total $N+2$ equations. \n",
    "\n",
    "The unknown variables are the $N$ values of $x_n$, the $N$ values of $y_n$, plus temperature $T$ and pressure $P$ -- a total $2N + 2$ variables. With this as context, we can identify two types of problems.\n",
    "\n",
    "#### Bubble Point Equations\n",
    "\n",
    "If the composition of the liquid phase is known, then the equilibrium equations can be solved for the unknown vapor phase composition\n",
    "\n",
    "$$y_n = x_n \\frac{P_n^{sat}(T)}{P}$$\n",
    "\n",
    "Substituting these values into the equation $y_1 + y_2 + \\cdots + y_N = 1$ gives an equation.\n",
    "\n",
    "$$ x_1\\frac{P_1^{sat}(T)}{P} + \\cdots + x_N \\frac{P_N^{sat}(T)}{P} - 1 = 0$$\n",
    "\n",
    "If $P$ is known, then the equilibrium value of $T$ is a root to this equation that can be found using standard root-finding functions in the Python or Matlab libraries.\n",
    "\n",
    "If $T$ is known, the solution for $P$ is simply\n",
    "\n",
    "$$ P = x_1 P_1^{sat}(T) + x_2 P_2^{sat}(T) + \\cdots + x_N P_N^{sat}(T)$$\n",
    "\n",
    "Once both $T$ and $P$ are known, the vapor phase composition can be computed by substituting those values back into the first equation.\n",
    "\n",
    "#### Dew Point Equations\n",
    "\n",
    "If the composition of the vapor phase is known, then the equilibrium equations can be solved for the unknown vapor liquid phase composition\n",
    "\n",
    "$$x_n = y_n \\frac{P}{P_n^{sat}(T)}$$\n",
    "\n",
    "Substituting these values into the equation $x_1 + x_2 + \\cdots + x_N = 1$ gives an equation\n",
    "\n",
    "$$ y_1\\frac{P}{P_1^{sat}(T)} + \\cdots + y_N \\frac{P}{P_N^{sat}(T)} - 1 = 0$$\n",
    "\n",
    "If $P$ is known, then the equilibrium value of $T$ is a root to this equation that can be found using standard root-finding functions in the Python or Matlab libraries.\n",
    "\n",
    "If $T$ is known, the solution for $P$ is \n",
    "\n",
    "$$\\frac{1}{P} = \\frac{y_1}{P_1^{sat}(T)} + \\frac{y_2}{P_2^{sat}(T)} + \\cdots + \\frac{y_N}{P_N^{sat}(T)}$$\n",
    "\n",
    "Once both $T$ and $P$ are known, the liquid phase composition can be computed by substituting those values back into the first equation."
   ]
  },
  {
   "cell_type": "markdown",
   "metadata": {},
   "source": [
    "## Bubble Point Calculations for Binary Mixtures"
   ]
  },
  {
   "cell_type": "markdown",
   "metadata": {},
   "source": [
    "For an ideal binary mixture of components $A$ and $B$, from Raoult's law the bubble point temperature must satisfy\n",
    "\n",
    "$$P = x_A P_A^{sat}(T) + x_B P_B^{sat}(T)$$\n",
    "\n",
    "where $x_A P_A^{sat}(P)$ and $x_B P_B^{sat}(P)$ are the partial pressures of $A$ and $B$, respectively. This relationship is the basis for an interative procedure for computing the bubble point temperature.\n",
    "\n",
    "Step 1: Guess the temperature.\n",
    "\n",
    "Step 2: Compute the  'K-factors'\n",
    "\n",
    "$$K_A = \\frac{P^{sat}_A(T)}{P}\\qquad\\mbox{and}\\qquad K_B = \\frac{P^{sat}_B(T)}{P}$$\n",
    "\n",
    "Step 3: Compute the vapor phase mole fractions \n",
    "\n",
    "$$y_A = K_A x_A\\qquad\\mbox{and}\\qquad y_B = K_B x_B$$\n",
    "\n",
    "Step 4: Check if $y_A + y_B = 1$. Adjust the temperature and repeat until the vapor phase mole fractions sum to one.\n",
    "\n",
    "The procedure is demonstrated in the following video."
   ]
  },
  {
   "cell_type": "code",
   "execution_count": 2,
   "metadata": {
    "collapsed": false
   },
   "outputs": [
    {
     "data": {
      "text/html": [
       "\n",
       "        <iframe\n",
       "            width=\"400\"\n",
       "            height=\"300\"\n",
       "            src=\"https://www.youtube.com/embed/vjXpSWuQVLY\"\n",
       "            frameborder=\"0\"\n",
       "            allowfullscreen\n",
       "        ></iframe>\n",
       "        "
      ],
      "text/plain": [
       "<IPython.lib.display.YouTubeVideo at 0x106269ad0>"
      ]
     },
     "execution_count": 2,
     "metadata": {},
     "output_type": "execute_result"
    }
   ],
   "source": [
    "from IPython.display import YouTubeVideo\n",
    "YouTubeVideo('vjXpSWuQVLY') "
   ]
  },
  {
   "cell_type": "markdown",
   "metadata": {},
   "source": [
    "### Solution by Manual Iteration"
   ]
  },
  {
   "cell_type": "markdown",
   "metadata": {},
   "source": [
    "We're given a binary mixture composed of acetone and ethanol at atmospheric pressure where the liquid phase mole fraction of acetone is 0.40. The problem is to find the equilibrium temperature and the composition of the vapor phase."
   ]
  },
  {
   "cell_type": "code",
   "execution_count": 3,
   "metadata": {
    "collapsed": false
   },
   "outputs": [],
   "source": [
    "A = 'acetone'\n",
    "B = 'ethanol'\n",
    "\n",
    "P = 760\n",
    "xa = 0.4\n",
    "xb = 1 - xa"
   ]
  },
  {
   "cell_type": "markdown",
   "metadata": {},
   "source": [
    "We will use Antoine's equation to compute the saturation pressures for the pure components. These function are stored as entries in a simple Python dictionary."
   ]
  },
  {
   "cell_type": "code",
   "execution_count": 4,
   "metadata": {
    "collapsed": false
   },
   "outputs": [],
   "source": [
    "# Antoine's equations. T [deg C], P [mmHg]\n",
    "\n",
    "Psat = dict()\n",
    "Psat['acetone'] = lambda T: 10**(7.02447 - 1161.0/(224 + T))\n",
    "Psat['ethanol'] = lambda T: 10**(8.04494 - 1554.3/(222.65 + T))"
   ]
  },
  {
   "cell_type": "markdown",
   "metadata": {},
   "source": [
    "The next cell performs the calculations outlined in the video above. Execute this cell with different values of `T` until the vapor phase mole fractions sum to one."
   ]
  },
  {
   "cell_type": "code",
   "execution_count": 5,
   "metadata": {
    "collapsed": false
   },
   "outputs": [
    {
     "name": "stdout",
     "output_type": "stream",
     "text": [
      "0.880884611444\n"
     ]
    }
   ],
   "source": [
    "T = 65\n",
    "\n",
    "Ka = Psat[A](T)/P\n",
    "Kb = Psat[B](T)/P\n",
    "\n",
    "ya = Ka*xa\n",
    "yb = Kb*xb\n",
    "\n",
    "print ya + yb"
   ]
  },
  {
   "cell_type": "markdown",
   "metadata": {},
   "source": [
    "### Solution with a Root-Finding Function"
   ]
  },
  {
   "cell_type": "markdown",
   "metadata": {},
   "source": [
    "To compute the bubble point for a binary mixture we need to solve the equation\n",
    "\n",
    "$$P = x_A P^{sat}_A(T_{bubble}) + x_B P^{sat}_B(T_{bubble})$$\n",
    "\n",
    "where $P$ and $x_A$ (and therefore $x_B = 1 - x_A$) are known. The bubble point composition is given by\n",
    "\n",
    "$$y_A = \\frac{x_A P^{sat}_A(T)}{P}\\qquad\\mbox{and}\\qquad y_B = \\frac{x_B P^{sat}_B(T)}{P}$$\n",
    "\n",
    "Matlab and Python functions for solving equations rely on *root-finding* methods, that is, methods that find the *zeros* of a function. In this case we need to write our problem as\n",
    "\n",
    "$$x_A \\frac{P^{sat}_A(T)}{P} + x_B\\frac{P^{sat}_B(T)}{P} - 1 = 0$$\n",
    "\n",
    "Here we use the `fsolve` function from the scipy.optimize library to return the root of this equation. Note that `fsolve` returns a list of roots, so the terminal `[0]` on the expression selects the first root (and presumably only) of the bubble point equation."
   ]
  },
  {
   "cell_type": "code",
   "execution_count": 8,
   "metadata": {
    "collapsed": false
   },
   "outputs": [
    {
     "data": {
      "text/plain": [
       "68.5195836108029"
      ]
     },
     "execution_count": 8,
     "metadata": {},
     "output_type": "execute_result"
    }
   ],
   "source": [
    "from scipy.optimize import brentq\n",
    "\n",
    "brentq(lambda T: xa*Psat[A](T)/P + xb*Psat[B](T)/P - 1.0 ,0,100)"
   ]
  },
  {
   "cell_type": "code",
   "execution_count": 11,
   "metadata": {
    "collapsed": false
   },
   "outputs": [
    {
     "name": "stdout",
     "output_type": "stream",
     "text": [
      "Bubble point temperature = 68.520 [deg C]\n",
      "Bubble point composition = 0.598, 0.402\n"
     ]
    }
   ],
   "source": [
    "def Tbub((xa,xb)) :\n",
    "    return brentq(lambda T: xa*Psat[A](T)/P + xb*Psat[B](T)/P - 1.0 ,0,100)\n",
    "\n",
    "print \"Bubble point temperature = {:6.3f} [deg C]\".format(Tbub((xa,xb)))\n",
    "\n",
    "ya = xa*Psat[A](Tbub((xa,xb)))/P\n",
    "yb = xb*Psat[B](Tbub((xa,xb)))/P\n",
    "\n",
    "print \"Bubble point composition = {:.3f}, {:.3f}\".format(ya,yb)"
   ]
  },
  {
   "cell_type": "markdown",
   "metadata": {},
   "source": [
    "### Bubble Point Curve for a Txy Diagram"
   ]
  },
  {
   "cell_type": "markdown",
   "metadata": {},
   "source": [
    "It's a relatively simply matter to encapsulate the bubble point calculation into a function that, given the liquid phase mole fraction for an ideal binary mixture, uses a root-finding procedure to return the bubble point temperature."
   ]
  },
  {
   "cell_type": "code",
   "execution_count": 12,
   "metadata": {
    "collapsed": false
   },
   "outputs": [
    {
     "data": {
      "image/png": "[encoded data removed]",
      "text/plain": [
       "<matplotlib.figure.Figure at 0x108c89490>"
      ]
     },
     "metadata": {},
     "output_type": "display_data"
    }
   ],
   "source": [
    "x = np.linspace(0,1)\n",
    "plt.plot(x,map(Tbub,zip(x,1-x)))\n",
    "plt.xlabel('x [mole fraction {:s}]'.format(A))\n",
    "plt.ylabel('Temperature [deg C]')\n",
    "plt.title('Bubble Point for {:s}/{:s} at {:5.1f} [mmHg]'.format(A,B,P))\n",
    "plt.grid();"
   ]
  },
  {
   "cell_type": "markdown",
   "metadata": {},
   "source": [
    "## Dew Point Calculations for a Binary Mixture"
   ]
  },
  {
   "cell_type": "markdown",
   "metadata": {},
   "source": [
    "To compute the dew point for a binary mixture we need to solve the equation\n",
    "\n",
    "$$y_A\\frac{P}{P^{sat}_A(T)} + y_B\\frac{P}{P^{sat}_B(T)} - 1 = 0$$\n",
    "\n",
    "where $P$ and $y_A$ (and therefore $y_B = 1 - y_A$) are known. The dew point composition is given by\n",
    "\n",
    "$$x_A = y_A\\frac{P}{P^{sat}_A(T)}\\qquad\\mbox{and}\\qquad x_B = y_B\\frac{P}{P^{sat}_B(T)}$$\n",
    "\n",
    "Matlab and Python functions for solving equations rely on *root-finding* methods, that is, methods that find the *zeros* of a function. Here we use the `fsolve` function from the scipy.optimize library to return the root of the dew point equation. Note that `fsolve` returns a list of roots, so the terminal `[0]` on the expression selects the first root (and presumably only) of the bubble point equation."
   ]
  },
  {
   "cell_type": "code",
   "execution_count": 13,
   "metadata": {
    "collapsed": false
   },
   "outputs": [
    {
     "name": "stdout",
     "output_type": "stream",
     "text": [
      "Dew point temperature = 68.520 [deg C]\n",
      "Dew point composition = 0.400, 0.600\n"
     ]
    }
   ],
   "source": [
    "def Tdew((ya,yb)):\n",
    "    return brentq(lambda T:ya*P/Psat[A](T) + yb*P/Psat[B](T) - 1.0,0,100)\n",
    "\n",
    "print \"Dew point temperature = {:6.3f} [deg C]\".format(Tdew((ya,yb)))\n",
    "\n",
    "xa = ya*P/Psat[A](Tdew((ya,yb)))\n",
    "xb = yb*P/Psat[B](Tdew((ya,yb)))\n",
    "\n",
    "print \"Dew point composition = {:.3f}, {:.3f}\".format(xa,xb)"
   ]
  },
  {
   "cell_type": "markdown",
   "metadata": {},
   "source": [
    "### Dew Point Curve on the Txy diagram"
   ]
  },
  {
   "cell_type": "markdown",
   "metadata": {},
   "source": [
    "As shown above for bubble point calculations, the dew point curve on the Txy diagram can be plotted by mapping the Tdew function onto a grid of mole fractions."
   ]
  },
  {
   "cell_type": "code",
   "execution_count": 14,
   "metadata": {
    "collapsed": false
   },
   "outputs": [
    {
     "data": {
      "image/png": "[encoded data removed]",
      "text/plain": [
       "<matplotlib.figure.Figure at 0x108c7fc50>"
      ]
     },
     "metadata": {},
     "output_type": "display_data"
    }
   ],
   "source": [
    "y = np.linspace(0,1)\n",
    "plt.plot(y,map(Tdew,zip(y,1-y)))\n",
    "plt.xlabel('y [mole fraction {:s}]'.format(A))\n",
    "plt.ylabel('Temperature [deg C]')\n",
    "plt.title('Dew Point for {:s}/{:s} at {:5.1f} [mmHg]'.format(A,B,P))\n",
    "plt.grid();"
   ]
  },
  {
   "cell_type": "markdown",
   "metadata": {},
   "source": [
    "## Txy Diagram"
   ]
  },
  {
   "cell_type": "code",
   "execution_count": 15,
   "metadata": {
    "collapsed": false
   },
   "outputs": [
    {
     "ename": "IndexError",
     "evalue": "list index out of range",
     "output_type": "error",
     "traceback": [
      "\u001b[0;31m---------------------------------------------------------------------------\u001b[0m",
      "\u001b[0;31mIndexError\u001b[0m                                Traceback (most recent call last)",
      "\u001b[0;32m/Users/jeff/anaconda/lib/python2.7/site-packages/IPython/core/interactiveshell.pyc\u001b[0m in \u001b[0;36mrun_code\u001b[0;34m(self, code_obj, result)\u001b[0m\n\u001b[1;32m   3081\u001b[0m             \u001b[0;32mif\u001b[0m \u001b[0mresult\u001b[0m \u001b[0;32mis\u001b[0m \u001b[0;32mnot\u001b[0m \u001b[0mNone\u001b[0m\u001b[0;34m:\u001b[0m\u001b[0;34m\u001b[0m\u001b[0m\n\u001b[1;32m   3082\u001b[0m                 \u001b[0mresult\u001b[0m\u001b[0;34m.\u001b[0m\u001b[0merror_in_exec\u001b[0m \u001b[0;34m=\u001b[0m \u001b[0msys\u001b[0m\u001b[0;34m.\u001b[0m\u001b[0mexc_info\u001b[0m\u001b[0;34m(\u001b[0m\u001b[0;34m)\u001b[0m\u001b[0;34m[\u001b[0m\u001b[0;36m1\u001b[0m\u001b[0;34m]\u001b[0m\u001b[0;34m\u001b[0m\u001b[0m\n\u001b[0;32m-> 3083\u001b[0;31m             \u001b[0mself\u001b[0m\u001b[0;34m.\u001b[0m\u001b[0mshowtraceback\u001b[0m\u001b[0;34m(\u001b[0m\u001b[0;34m)\u001b[0m\u001b[0;34m\u001b[0m\u001b[0m\n\u001b[0m\u001b[1;32m   3084\u001b[0m         \u001b[0;32melse\u001b[0m\u001b[0;34m:\u001b[0m\u001b[0;34m\u001b[0m\u001b[0m\n\u001b[1;32m   3085\u001b[0m             \u001b[0moutflag\u001b[0m \u001b[0;34m=\u001b[0m \u001b[0;36m0\u001b[0m\u001b[0;34m\u001b[0m\u001b[0m\n",
      "\u001b[0;32m/Users/jeff/anaconda/lib/python2.7/site-packages/IPython/core/interactiveshell.pyc\u001b[0m in \u001b[0;36mshowtraceback\u001b[0;34m(self, exc_tuple, filename, tb_offset, exception_only)\u001b[0m\n\u001b[1;32m   1878\u001b[0m                     \u001b[0;32mexcept\u001b[0m \u001b[0mException\u001b[0m\u001b[0;34m:\u001b[0m\u001b[0;34m\u001b[0m\u001b[0m\n\u001b[1;32m   1879\u001b[0m                         stb = self.InteractiveTB.structured_traceback(etype,\n\u001b[0;32m-> 1880\u001b[0;31m                                             value, tb, tb_offset=tb_offset)\n\u001b[0m\u001b[1;32m   1881\u001b[0m \u001b[0;34m\u001b[0m\u001b[0m\n\u001b[1;32m   1882\u001b[0m                     \u001b[0mself\u001b[0m\u001b[0;34m.\u001b[0m\u001b[0m_showtraceback\u001b[0m\u001b[0;34m(\u001b[0m\u001b[0metype\u001b[0m\u001b[0;34m,\u001b[0m \u001b[0mvalue\u001b[0m\u001b[0;34m,\u001b[0m \u001b[0mstb\u001b[0m\u001b[0;34m)\u001b[0m\u001b[0;34m\u001b[0m\u001b[0m\n",
      "\u001b[0;32m/Users/jeff/anaconda/lib/python2.7/site-packages/IPython/core/ultratb.pyc\u001b[0m in \u001b[0;36mstructured_traceback\u001b[0;34m(self, etype, value, tb, tb_offset, number_of_lines_of_context)\u001b[0m\n\u001b[1;32m   1240\u001b[0m         \u001b[0mself\u001b[0m\u001b[0;34m.\u001b[0m\u001b[0mtb\u001b[0m \u001b[0;34m=\u001b[0m \u001b[0mtb\u001b[0m\u001b[0;34m\u001b[0m\u001b[0m\n\u001b[1;32m   1241\u001b[0m         return FormattedTB.structured_traceback(\n\u001b[0;32m-> 1242\u001b[0;31m             self, etype, value, tb, tb_offset, number_of_lines_of_context)\n\u001b[0m\u001b[1;32m   1243\u001b[0m \u001b[0;34m\u001b[0m\u001b[0m\n\u001b[1;32m   1244\u001b[0m \u001b[0;34m\u001b[0m\u001b[0m\n",
      "\u001b[0;32m/Users/jeff/anaconda/lib/python2.7/site-packages/IPython/core/ultratb.pyc\u001b[0m in \u001b[0;36mstructured_traceback\u001b[0;34m(self, etype, value, tb, tb_offset, number_of_lines_of_context)\u001b[0m\n\u001b[1;32m   1148\u001b[0m             \u001b[0;31m# Verbose modes need a full traceback\u001b[0m\u001b[0;34m\u001b[0m\u001b[0;34m\u001b[0m\u001b[0m\n\u001b[1;32m   1149\u001b[0m             return VerboseTB.structured_traceback(\n\u001b[0;32m-> 1150\u001b[0;31m                 \u001b[0mself\u001b[0m\u001b[0;34m,\u001b[0m \u001b[0metype\u001b[0m\u001b[0;34m,\u001b[0m \u001b[0mvalue\u001b[0m\u001b[0;34m,\u001b[0m \u001b[0mtb\u001b[0m\u001b[0;34m,\u001b[0m \u001b[0mtb_offset\u001b[0m\u001b[0;34m,\u001b[0m \u001b[0mnumber_of_lines_of_context\u001b[0m\u001b[0;34m\u001b[0m\u001b[0m\n\u001b[0m\u001b[1;32m   1151\u001b[0m             )\n\u001b[1;32m   1152\u001b[0m         \u001b[0;32melse\u001b[0m\u001b[0;34m:\u001b[0m\u001b[0;34m\u001b[0m\u001b[0m\n",
      "\u001b[0;32m/Users/jeff/anaconda/lib/python2.7/site-packages/IPython/core/ultratb.pyc\u001b[0m in \u001b[0;36mstructured_traceback\u001b[0;34m(self, etype, evalue, etb, tb_offset, number_of_lines_of_context)\u001b[0m\n\u001b[1;32m   1000\u001b[0m \u001b[0;34m\u001b[0m\u001b[0m\n\u001b[1;32m   1001\u001b[0m         formatted_exception = self.format_exception_as_a_whole(etype, evalue, etb, number_of_lines_of_context,\n\u001b[0;32m-> 1002\u001b[0;31m                                                                tb_offset)\n\u001b[0m\u001b[1;32m   1003\u001b[0m \u001b[0;34m\u001b[0m\u001b[0m\n\u001b[1;32m   1004\u001b[0m         \u001b[0mcolors\u001b[0m \u001b[0;34m=\u001b[0m \u001b[0mself\u001b[0m\u001b[0;34m.\u001b[0m\u001b[0mColors\u001b[0m  \u001b[0;31m# just a shorthand + quicker name lookup\u001b[0m\u001b[0;34m\u001b[0m\u001b[0m\n",
      "\u001b[0;32m/Users/jeff/anaconda/lib/python2.7/site-packages/IPython/core/ultratb.pyc\u001b[0m in \u001b[0;36mformat_exception_as_a_whole\u001b[0;34m(self, etype, evalue, etb, number_of_lines_of_context, tb_offset)\u001b[0m\n\u001b[1;32m    949\u001b[0m         \u001b[0mrecords\u001b[0m \u001b[0;34m=\u001b[0m \u001b[0mself\u001b[0m\u001b[0;34m.\u001b[0m\u001b[0mget_records\u001b[0m\u001b[0;34m(\u001b[0m\u001b[0metb\u001b[0m\u001b[0;34m,\u001b[0m \u001b[0mnumber_of_lines_of_context\u001b[0m\u001b[0;34m,\u001b[0m \u001b[0mtb_offset\u001b[0m\u001b[0;34m)\u001b[0m\u001b[0;34m\u001b[0m\u001b[0m\n\u001b[1;32m    950\u001b[0m \u001b[0;34m\u001b[0m\u001b[0m\n\u001b[0;32m--> 951\u001b[0;31m         \u001b[0mframes\u001b[0m \u001b[0;34m=\u001b[0m \u001b[0mself\u001b[0m\u001b[0;34m.\u001b[0m\u001b[0mformat_records\u001b[0m\u001b[0;34m(\u001b[0m\u001b[0mrecords\u001b[0m\u001b[0;34m)\u001b[0m\u001b[0;34m\u001b[0m\u001b[0m\n\u001b[0m\u001b[1;32m    952\u001b[0m         \u001b[0;32mif\u001b[0m \u001b[0mrecords\u001b[0m \u001b[0;32mis\u001b[0m \u001b[0mNone\u001b[0m\u001b[0;34m:\u001b[0m\u001b[0;34m\u001b[0m\u001b[0m\n\u001b[1;32m    953\u001b[0m             \u001b[0;32mreturn\u001b[0m \u001b[0;34m\"\"\u001b[0m\u001b[0;34m\u001b[0m\u001b[0m\n",
      "\u001b[0;32m/Users/jeff/anaconda/lib/python2.7/site-packages/IPython/core/ultratb.pyc\u001b[0m in \u001b[0;36mformat_records\u001b[0;34m(self, records)\u001b[0m\n\u001b[1;32m    745\u001b[0m             \u001b[0mfile\u001b[0m \u001b[0;34m=\u001b[0m \u001b[0mpy3compat\u001b[0m\u001b[0;34m.\u001b[0m\u001b[0mcast_unicode\u001b[0m\u001b[0;34m(\u001b[0m\u001b[0mfile\u001b[0m\u001b[0;34m,\u001b[0m \u001b[0mutil_path\u001b[0m\u001b[0;34m.\u001b[0m\u001b[0mfs_encoding\u001b[0m\u001b[0;34m)\u001b[0m\u001b[0;34m\u001b[0m\u001b[0m\n\u001b[1;32m    746\u001b[0m             \u001b[0mlink\u001b[0m \u001b[0;34m=\u001b[0m \u001b[0mtpl_link\u001b[0m \u001b[0;34m%\u001b[0m \u001b[0mfile\u001b[0m\u001b[0;34m\u001b[0m\u001b[0m\n\u001b[0;32m--> 747\u001b[0;31m             \u001b[0margs\u001b[0m\u001b[0;34m,\u001b[0m \u001b[0mvarargs\u001b[0m\u001b[0;34m,\u001b[0m \u001b[0mvarkw\u001b[0m\u001b[0;34m,\u001b[0m \u001b[0mlocals\u001b[0m \u001b[0;34m=\u001b[0m \u001b[0minspect\u001b[0m\u001b[0;34m.\u001b[0m\u001b[0mgetargvalues\u001b[0m\u001b[0;34m(\u001b[0m\u001b[0mframe\u001b[0m\u001b[0;34m)\u001b[0m\u001b[0;34m\u001b[0m\u001b[0m\n\u001b[0m\u001b[1;32m    748\u001b[0m \u001b[0;34m\u001b[0m\u001b[0m\n\u001b[1;32m    749\u001b[0m             \u001b[0;32mif\u001b[0m \u001b[0mfunc\u001b[0m \u001b[0;34m==\u001b[0m \u001b[0;34m'?'\u001b[0m\u001b[0;34m:\u001b[0m\u001b[0;34m\u001b[0m\u001b[0m\n",
      "\u001b[0;32m/Users/jeff/anaconda/lib/python2.7/inspect.pyc\u001b[0m in \u001b[0;36mgetargvalues\u001b[0;34m(frame)\u001b[0m\n\u001b[1;32m    827\u001b[0m     \u001b[0;34m'varargs'\u001b[0m \u001b[0;32mand\u001b[0m \u001b[0;34m'varkw'\u001b[0m \u001b[0mare\u001b[0m \u001b[0mthe\u001b[0m \u001b[0mnames\u001b[0m \u001b[0mof\u001b[0m \u001b[0mthe\u001b[0m \u001b[0;34m*\u001b[0m \u001b[0;32mand\u001b[0m \u001b[0;34m**\u001b[0m \u001b[0marguments\u001b[0m \u001b[0;32mor\u001b[0m \u001b[0mNone\u001b[0m\u001b[0;34m.\u001b[0m\u001b[0;34m\u001b[0m\u001b[0m\n\u001b[1;32m    828\u001b[0m     'locals' is the locals dictionary of the given frame.\"\"\"\n\u001b[0;32m--> 829\u001b[0;31m     \u001b[0margs\u001b[0m\u001b[0;34m,\u001b[0m \u001b[0mvarargs\u001b[0m\u001b[0;34m,\u001b[0m \u001b[0mvarkw\u001b[0m \u001b[0;34m=\u001b[0m \u001b[0mgetargs\u001b[0m\u001b[0;34m(\u001b[0m\u001b[0mframe\u001b[0m\u001b[0;34m.\u001b[0m\u001b[0mf_code\u001b[0m\u001b[0;34m)\u001b[0m\u001b[0;34m\u001b[0m\u001b[0m\n\u001b[0m\u001b[1;32m    830\u001b[0m     \u001b[0;32mreturn\u001b[0m \u001b[0mArgInfo\u001b[0m\u001b[0;34m(\u001b[0m\u001b[0margs\u001b[0m\u001b[0;34m,\u001b[0m \u001b[0mvarargs\u001b[0m\u001b[0;34m,\u001b[0m \u001b[0mvarkw\u001b[0m\u001b[0;34m,\u001b[0m \u001b[0mframe\u001b[0m\u001b[0;34m.\u001b[0m\u001b[0mf_locals\u001b[0m\u001b[0;34m)\u001b[0m\u001b[0;34m\u001b[0m\u001b[0m\n\u001b[1;32m    831\u001b[0m \u001b[0;34m\u001b[0m\u001b[0m\n",
      "\u001b[0;32m/Users/jeff/anaconda/lib/python2.7/inspect.pyc\u001b[0m in \u001b[0;36mgetargs\u001b[0;34m(co)\u001b[0m\n\u001b[1;32m    789\u001b[0m                                 \u001b[0mremain\u001b[0m\u001b[0;34m[\u001b[0m\u001b[0;34m-\u001b[0m\u001b[0;36m1\u001b[0m\u001b[0;34m]\u001b[0m \u001b[0;34m=\u001b[0m \u001b[0mremain\u001b[0m\u001b[0;34m[\u001b[0m\u001b[0;34m-\u001b[0m\u001b[0;36m1\u001b[0m\u001b[0;34m]\u001b[0m \u001b[0;34m-\u001b[0m \u001b[0;36m1\u001b[0m\u001b[0;34m\u001b[0m\u001b[0m\n\u001b[1;32m    790\u001b[0m                             \u001b[0;32mif\u001b[0m \u001b[0;32mnot\u001b[0m \u001b[0mremain\u001b[0m\u001b[0;34m:\u001b[0m \u001b[0;32mbreak\u001b[0m\u001b[0;34m\u001b[0m\u001b[0m\n\u001b[0;32m--> 791\u001b[0;31m             \u001b[0margs\u001b[0m\u001b[0;34m[\u001b[0m\u001b[0mi\u001b[0m\u001b[0;34m]\u001b[0m \u001b[0;34m=\u001b[0m \u001b[0mstack\u001b[0m\u001b[0;34m[\u001b[0m\u001b[0;36m0\u001b[0m\u001b[0;34m]\u001b[0m\u001b[0;34m\u001b[0m\u001b[0m\n\u001b[0m\u001b[1;32m    792\u001b[0m \u001b[0;34m\u001b[0m\u001b[0m\n\u001b[1;32m    793\u001b[0m     \u001b[0mvarargs\u001b[0m \u001b[0;34m=\u001b[0m \u001b[0mNone\u001b[0m\u001b[0;34m\u001b[0m\u001b[0m\n",
      "\u001b[0;31mIndexError\u001b[0m: list index out of range"
     ]
    }
   ],
   "source": [
    "Psat = dict()\n",
    "Psat['acetone'] = lambda T: 10**(7.02447 - 1161.0/(224 + T))\n",
    "Psat['benzene'] = lambda T: 10**(6.89272 - 1203.531/(219.888 + T))\n",
    "Psat['ethanol'] = lambda T: 10**(8.04494 - 1554.3/(222.65 + T))\n",
    "Psat['toluene'] = lambda T: 10**(6.95805 - 1346.773/(219.693 + T))\n",
    "\n",
    "P = 0.8*760\n",
    "A = 'benzene'\n",
    "B = 'toluene'\n",
    "\n",
    "x = np.linspace(0,1)\n",
    "y = np.linspace(0,1)\n",
    "\n",
    "plt.plot(x,map(Tbub,zip(x,1-x)),y,map(Tdew,zip(y,1-y)))\n",
    "plt.xlabel('x mole fraction {:s}'.format(A))\n",
    "plt.ylabel('Temperature [deg C]')\n",
    "plt.title('Txy Diagram for {:s}/{:s} at {:5.1f} [mmHg]'.format(A,B,P))\n",
    "plt.grid();"
   ]
  },
  {
   "cell_type": "markdown",
   "metadata": {},
   "source": [
    "## xy Diagram"
   ]
  },
  {
   "cell_type": "code",
   "execution_count": 206,
   "metadata": {
    "collapsed": false
   },
   "outputs": [
    {
     "data": {
      "image/png": "[encoded data removed]",
      "text/plain": [
       "<matplotlib.figure.Figure at 0x10a36bb50>"
      ]
     },
     "metadata": {},
     "output_type": "display_data"
    }
   ],
   "source": [
    "P = 0.8*760\n",
    "A = 'benzene'\n",
    "B = 'toluene'\n",
    "\n",
    "x = linspace(0,1)\n",
    "y = map(lambda x: x*Psat[A](Tbub((x,1-x)))/P, x)\n",
    "\n",
    "figure(figsize=(6,6))\n",
    "plot(x,y)\n",
    "xlabel('x mole fraction {:s}'.format(A))\n",
    "ylabel('y mole fraction {:s}'.format(A))\n",
    "title('xy Diagram for {:s}/{:s} at {:5.1f} [mmHg]'.format(A,B,P))\n",
    "grid();"
   ]
  },
  {
   "cell_type": "markdown",
   "metadata": {},
   "source": [
    "## Multicomponent Mixtures"
   ]
  },
  {
   "cell_type": "code",
   "execution_count": 207,
   "metadata": {
    "collapsed": false
   },
   "outputs": [],
   "source": [
    "Psat = dict()\n",
    "Psat['acetone'] = lambda T: 10**(7.02447 - 1161.0/(224 + T))\n",
    "Psat['benzene'] = lambda T: 10**(6.89272 - 1203.531/(219.888 + T))\n",
    "Psat['ethanol'] = lambda T: 10**(8.04494 - 1554.3/(222.65 + T))\n",
    "Psat['toluene'] = lambda T: 10**(6.95805 - 1346.773/(219.693 + T))"
   ]
  },
  {
   "cell_type": "markdown",
   "metadata": {},
   "source": [
    "For the multicomponent case we will use Python dictionaries to store compositions of the liquid phases. Bubble point functions"
   ]
  },
  {
   "cell_type": "code",
   "execution_count": null,
   "metadata": {
    "collapsed": false
   },
   "outputs": [],
   "source": [
    "def Tbub(species,x):\n",
    "    return fsolve(lambda T : sum([x[s]*Psat[s](T)/P for s in species]) - 1.0,60)[0]\n",
    "\n",
    "def ybub(species,x):\n",
    "    return {s: x[s]*Psat[s](Tbub(species,x))/P for s in species}"
   ]
  },
  {
   "cell_type": "markdown",
   "metadata": {},
   "source": [
    "Dew point functions"
   ]
  },
  {
   "cell_type": "code",
   "execution_count": null,
   "metadata": {
    "collapsed": false
   },
   "outputs": [],
   "source": [
    "def Tdew(species,y):\n",
    "    return fsolve(lambda T : sum([y[s]*P/Psat[s](T) for s in species]) - 1.0,60)[0]\n",
    "\n",
    "def xdew(species,y):\n",
    "    return {s: y[s]*P/Psat[s](Tdew(species,y)) for s in species}"
   ]
  },
  {
   "cell_type": "markdown",
   "metadata": {},
   "source": [
    "Demonstration"
   ]
  },
  {
   "cell_type": "code",
   "execution_count": 230,
   "metadata": {
    "collapsed": false
   },
   "outputs": [
    {
     "name": "stdout",
     "output_type": "stream",
     "text": [
      "\n",
      "Bubble Point Calculations\n",
      "Temperature = 82.50 [deg C]\n",
      "Pressure  =  608.00 [mmHg]\n",
      "  Composition    x[s]   y[s]\n",
      "    acetone     0.100  0.284\n",
      "    benzene     0.300  0.403\n",
      "    toluene     0.600  0.313\n",
      "\n",
      "Dew Point Calculations\n",
      "Temperature = 93.17 [deg C]\n",
      "Pressure  =  608.00 [mmHg]\n",
      "  Composition    x[s]   y[s]\n",
      "    acetone     0.026  0.100\n",
      "    benzene     0.163  0.300\n",
      "    toluene     0.810  0.600\n"
     ]
    }
   ],
   "source": [
    "species = ['acetone','benzene','toluene']\n",
    "z = dict()\n",
    "\n",
    "P = 0.8*760\n",
    "z['acetone'] = 0.1\n",
    "z['benzene'] = 0.3\n",
    "z['toluene'] = 0.6\n",
    "\n",
    "print \"\\nBubble Point Calculations\"\n",
    "\n",
    "x = z\n",
    "T = Tbub(species,x)\n",
    "y = ybub(species,x)\n",
    "\n",
    "print \"Temperature = {:5.2f} [deg C]\".format(T)\n",
    "print \"Pressure  = {:7.2f} [mmHg]\".format(P)\n",
    "print \"  Composition    x[s]   y[s]\"\n",
    "for s in species:\n",
    "    print \"    {:10s} {:6.3f} {:6.3f}\".format(s,x[s],y[s])\n",
    "\n",
    "print \"\\nDew Point Calculations\"\n",
    "\n",
    "y = z\n",
    "T = Tdew(species,y)\n",
    "x = xdew(species,y)\n",
    "\n",
    "print \"Temperature = {:5.2f} [deg C]\".format(T)\n",
    "print \"Pressure  = {:7.2f} [mmHg]\".format(P)\n",
    "print \"  Composition    x[s]   y[s]\"\n",
    "for s in species:\n",
    "    print \"    {:10s} {:6.3f} {:6.3f}\".format(s,x[s],y[s])\n"
   ]
  },
  {
   "cell_type": "code",
   "execution_count": null,
   "metadata": {
    "collapsed": false
   },
   "outputs": [],
   "source": []
  }
 ],
 "metadata": {
  "kernelspec": {
   "display_name": "Python 2",
   "language": "python",
   "name": "python2"
  },
  "language_info": {
   "codemirror_mode": {
    "name": "ipython",
    "version": 2
   },
   "file_extension": ".py",
   "mimetype": "text/x-python",
   "name": "python",
   "nbconvert_exporter": "python",
   "pygments_lexer": "ipython2",
   "version": "2.7.10"
  }
 },
 "nbformat": 4,
 "nbformat_minor": 0
}
