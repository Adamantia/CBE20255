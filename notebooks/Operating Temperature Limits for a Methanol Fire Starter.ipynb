{
 "cells": [
  {
   "cell_type": "markdown",
   "metadata": {},
   "source": [
    "###### The latest version of this IPython notebook is available at [http://github.com/jckantor/CBE20255](http://github.com/jckantor/CBE20255)  for noncommercial use under terms of the [Creative Commons Attribution Noncommericial ShareAlike License](http://creativecommons.org/licenses/by-nc-sa/4.0/).\n",
    "\n",
    "Jeffrey C. Kantor (Kantor.1@nd.edu)"
   ]
  },
  {
   "cell_type": "markdown",
   "metadata": {},
   "source": [
    "# Operating Temperature Limits for a Methanol Fire Starter"
   ]
  },
  {
   "cell_type": "markdown",
   "metadata": {},
   "source": [
    "## Problem"
   ]
  },
  {
   "cell_type": "markdown",
   "metadata": {},
   "source": [
    "We'd like to estimate range of temperatures over which this methanol fueled fire starter will successfully operate."
   ]
  },
  {
   "cell_type": "code",
   "execution_count": 16,
   "metadata": {
    "collapsed": false
   },
   "outputs": [
    {
     "data": {
      "text/html": [
       "\n",
       "        <iframe\n",
       "            width=\"400\"\n",
       "            height=\"300\"\n",
       "            src=\"https://www.youtube.com/embed/8gFqzbnUO-Y\"\n",
       "            frameborder=\"0\"\n",
       "            allowfullscreen\n",
       "        ></iframe>\n",
       "        "
      ],
      "text/plain": [
       "<IPython.lib.display.YouTubeVideo at 0x106263fd0>"
      ]
     },
     "execution_count": 16,
     "metadata": {},
     "output_type": "execute_result"
    }
   ],
   "source": [
    "from IPython.display import YouTubeVideo\n",
    "YouTubeVideo(\"8gFqzbnUO-Y\")"
   ]
  },
  {
   "cell_type": "markdown",
   "metadata": {},
   "source": [
    "The flammability limits of methanol in air at 1 atmosphere pressure correspond to vapor phase mole fractions in the range\n",
    "\n",
    "$$ 6.7 \\mbox{ mol%} \\leq y_{MeOH} \\leq 36 \\mbox{ mol%} $$\n",
    "\n",
    "Assuming the pure methanol located in the wick of this fire starter reaches a vapor-liquid with air in the device, find the lower and upper operating temperatures for this device."
   ]
  },
  {
   "cell_type": "markdown",
   "metadata": {},
   "source": [
    "## Antoine's Equation for the Saturation Pressure of Methanol"
   ]
  },
  {
   "cell_type": "markdown",
   "metadata": {},
   "source": [
    "The first thing we'll do is define a simple python function to calculate the saturation pressure of methanol at a given temperature using Antoine's equation\n",
    "\n",
    "$$\\log_{10} P^{sat} = A - \\frac{B}{T + C}$$\n",
    "\n",
    "Constants for methanol can be found in the back of the course textbook for the case where pressure is given in units of mmHg and temperature in degrees centigrade."
   ]
  },
  {
   "cell_type": "code",
   "execution_count": 2,
   "metadata": {
    "collapsed": true
   },
   "outputs": [],
   "source": [
    "# Pressure in mmHg, Temperature in degrees C\n",
    "\n",
    "A = 7.89750\n",
    "B = 1474.08\n",
    "C = 229.13\n",
    "\n",
    "def Psat(T):\n",
    "    return 10**(A - B/(T+C))"
   ]
  },
  {
   "cell_type": "markdown",
   "metadata": {},
   "source": [
    "To test the function, we'll plot the saturation pressure of methanol for a limited range of temperatures."
   ]
  },
  {
   "cell_type": "code",
   "execution_count": 3,
   "metadata": {
    "collapsed": false
   },
   "outputs": [
    {
     "data": {
      "image/png": "[encoded data removed]",
      "text/plain": [
       "<matplotlib.figure.Figure at 0x106c3e090>"
      ]
     },
     "metadata": {},
     "output_type": "display_data"
    }
   ],
   "source": [
    "import numpy as np\n",
    "import matplotlib.pyplot as plt\n",
    "\n",
    "%matplotlib inline\n",
    "\n",
    "T = np.linspace(-14.0, 65.0, 200)\n",
    "\n",
    "plt.plot(T,Psat(T))\n",
    "\n",
    "plt.xlabel('Temperature [deg C]')\n",
    "plt.ylabel('Pressure [mmHg]')\n",
    "plt.title('Saturation Pressure of Methanol')\n",
    "plt.grid()"
   ]
  },
  {
   "cell_type": "markdown",
   "metadata": {},
   "source": [
    "## Equilibrium Vapor Composition at Room Temperature\n",
    "\n",
    "By Dalton's law, the partial pressure of pure methanol is equal to the saturation pressure,\n",
    "\n",
    "$$y_{MeOH} P = P^{sat}_{MeOH}(T)$$\n",
    "\n",
    "Solving for the mole fraction of methanol in the vapor phase\n",
    "\n",
    "$$y_{MeOH} = \\frac{P^{sat}_{MeOH}(T)}{P}$$\n"
   ]
  },
  {
   "cell_type": "code",
   "execution_count": 4,
   "metadata": {
    "collapsed": false
   },
   "outputs": [
    {
     "name": "stdout",
     "output_type": "stream",
     "text": [
      "Methanol Vapor Pressure at 25 deg C = 125.027109478 mmHg\n"
     ]
    }
   ],
   "source": [
    "print \"Methanol Vapor Pressure at 25 deg C =\", \n",
    "print Psat(25.0),\n",
    "print \"mmHg\""
   ]
  },
  {
   "cell_type": "markdown",
   "metadata": {},
   "source": [
    "At atmospheric pressure of 760 mmHg, the mole fraction of methanol is given by"
   ]
  },
  {
   "cell_type": "code",
   "execution_count": 5,
   "metadata": {
    "collapsed": false
   },
   "outputs": [
    {
     "name": "stdout",
     "output_type": "stream",
     "text": [
      "Mole Fraction Methanol at 25 deg C and 1 atmosphere =  0.164509354576\n"
     ]
    }
   ],
   "source": [
    "print \"Mole Fraction Methanol at 25 deg C and 1 atmosphere = \",\n",
    "print Psat(25.0)/760.0"
   ]
  },
  {
   "cell_type": "markdown",
   "metadata": {},
   "source": [
    "Since this is within the flammability limits of methanol, the fire starter should work at room temperatures."
   ]
  },
  {
   "cell_type": "markdown",
   "metadata": {},
   "source": [
    "## Lower Operating Temperature Limit\n",
    "\n",
    "At the lower flammability limit, the partial pressure of methanol will be\n",
    "\n",
    "$$P_{MeOH} = y_{MeOH}P$$"
   ]
  },
  {
   "cell_type": "code",
   "execution_count": 6,
   "metadata": {
    "collapsed": false
   },
   "outputs": [
    {
     "name": "stdout",
     "output_type": "stream",
     "text": [
      "50.92 mm Hg\n"
     ]
    }
   ],
   "source": [
    "P_MeOH = 0.067*760\n",
    "print P_MeOH, \"mm Hg\""
   ]
  },
  {
   "cell_type": "markdown",
   "metadata": {},
   "source": [
    "Next we need to solve for the temperature at which the partial pressure of methanol is at the lower flammability limit.\n",
    "\n",
    "$$P^{sat}_{MeOH}(T) = P_{MeOH}$$\n",
    "\n",
    "We'll first attempt a solution by trial and error, then we'll use an equation solve to get an accurate solution.  Let's start with a guess of 15 deg C."
   ]
  },
  {
   "cell_type": "code",
   "execution_count": 7,
   "metadata": {
    "collapsed": false
   },
   "outputs": [
    {
     "name": "stdout",
     "output_type": "stream",
     "text": [
      "72.3445037836 mmHg\n"
     ]
    }
   ],
   "source": [
    "print Psat(15.0), \"mmHg\""
   ]
  },
  {
   "cell_type": "markdown",
   "metadata": {},
   "source": [
    "That's too high. Let's try some more values"
   ]
  },
  {
   "cell_type": "code",
   "execution_count": 8,
   "metadata": {
    "collapsed": false
   },
   "outputs": [
    {
     "name": "stdout",
     "output_type": "stream",
     "text": [
      "54.0946414618 mmHg\n"
     ]
    }
   ],
   "source": [
    "print Psat(10.0), \"mmHg\""
   ]
  },
  {
   "cell_type": "code",
   "execution_count": 9,
   "metadata": {
    "collapsed": false
   },
   "outputs": [
    {
     "name": "stdout",
     "output_type": "stream",
     "text": [
      "39.9494304822 mmHg\n"
     ]
    }
   ],
   "source": [
    "print Psat(5.0), \"mmHg\""
   ]
  },
  {
   "cell_type": "code",
   "execution_count": 10,
   "metadata": {
    "collapsed": false
   },
   "outputs": [
    {
     "name": "stdout",
     "output_type": "stream",
     "text": [
      "46.5615927804 mmHg\n"
     ]
    }
   ],
   "source": [
    "print Psat(7.5), \"mmHg\""
   ]
  },
  {
   "cell_type": "code",
   "execution_count": 11,
   "metadata": {
    "collapsed": false
   },
   "outputs": [
    {
     "name": "stdout",
     "output_type": "stream",
     "text": [
      "50.2067545772 mmHg\n"
     ]
    }
   ],
   "source": [
    "print Psat(8.75), \"mmHg\""
   ]
  },
  {
   "cell_type": "code",
   "execution_count": 12,
   "metadata": {
    "collapsed": false
   },
   "outputs": [
    {
     "name": "stdout",
     "output_type": "stream",
     "text": [
      "50.9645007148 mmHg\n"
     ]
    }
   ],
   "source": [
    "print Psat(9.0), \"mmHg\""
   ]
  },
  {
   "cell_type": "markdown",
   "metadata": {},
   "source": [
    "So $T = 9$ deg C is pretty close.  To get a precise answer, use the `brentq` equation solving function from `scipy.optimize`."
   ]
  },
  {
   "cell_type": "code",
   "execution_count": 14,
   "metadata": {
    "collapsed": false
   },
   "outputs": [
    {
     "name": "stdout",
     "output_type": "stream",
     "text": [
      "Lower Flammability Temperature =  8.98540669181 deg C\n",
      "Lower Flammability Temperature =  48.1737320453 deg F\n"
     ]
    }
   ],
   "source": [
    "from scipy.optimize import brentq\n",
    "\n",
    "def f(T):\n",
    "    return Psat(T) - P_MeOH\n",
    "\n",
    "Tlow = brentq(f,5,15)\n",
    "print \"Lower Flammability Temperature = \", Tlow, \"deg C\"\n",
    "print \"Lower Flammability Temperature = \", 32.0 + 9.0*Tlow/5.0, \"deg F\""
   ]
  },
  {
   "cell_type": "markdown",
   "metadata": {
    "collapsed": true
   },
   "source": [
    "## Exercise\n",
    "\n",
    "Calculate the upper limit on temperature at which this lighter can operate."
   ]
  },
  {
   "cell_type": "code",
   "execution_count": null,
   "metadata": {
    "collapsed": false
   },
   "outputs": [],
   "source": []
  }
 ],
 "metadata": {
  "kernelspec": {
   "display_name": "Python 2",
   "language": "python",
   "name": "python2"
  },
  "language_info": {
   "codemirror_mode": {
    "name": "ipython",
    "version": 2
   },
   "file_extension": ".py",
   "mimetype": "text/x-python",
   "name": "python",
   "nbconvert_exporter": "python",
   "pygments_lexer": "ipython2",
   "version": "2.7.10"
  }
 },
 "nbformat": 4,
 "nbformat_minor": 0
}
