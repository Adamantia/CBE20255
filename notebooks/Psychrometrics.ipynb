{
 "cells": [
  {
   "cell_type": "markdown",
   "metadata": {},
   "source": [
    "# Psychrometrics\n",
    "\n",
    "![](../images/20160618_090132.jpg)\n",
    "\n",
    "Psychrometrics is the study of the physical and thermodynamic properties of air and water vapor mixtures. Psychrometrics has a wide range of drying, humidification, weather, and environmental applications. The same principles, however, apply to any mixture of a condensable vapor mixed with non-condensable gase.\n",
    "\n",
    "* [Definitions of Humidity](#Definitions)\n",
    "    * [Relative Humidity](#RelativeHumidity)\n",
    "    * [Absolute Humidity](#AbsoluteHumidity)\n",
    "    * [Specific Humidity](#SpecificHumidity)\n",
    "    * [Mixing Ratio](#MixingRatio)\n",
    "    * [Dew Point](#DewPoint)\n",
    "* [Data Sources](#DataSources)\n",
    "    * [Molar Masses](#MolarMasses)\n",
    "    * [Vapor Pressure of Water](#VaporPressure)\n",
    "    * [Steam Tables](#SteamTables)\n",
    "* [Thermodynamic Modeling](#ThermodynamicModeling)\n",
    "    * [Specific Volume](#SpecificVolume)\n",
    "    * [Enthalpy](#Enthapy)\n",
    "    * [Wet Bulb Temperature](#WetBulb)\n",
    "* [Psychrometric Chart](#PsychrometricChart)\n",
    "* [References](#References)\n",
    "* [Exercises and Applications](#ExercisesApplications)\n"
   ]
  },
  {
   "cell_type": "markdown",
   "metadata": {},
   "source": [
    "## Definitions of Humidity <a id='Definitions'></a>\n",
    "\n",
    "The familiar definitions of mass and mole fraction, of course, apply to a mixture of a vapor and condensable gas. But there are also additional methods for expressing composition and the relative amount of the condensable component.\n",
    "\n",
    "For the definitions below, we will use $A$ to represent the non-condensable component (typically air), and $W$ to denote the condensable component (typically water)."
   ]
  },
  {
   "cell_type": "markdown",
   "metadata": {},
   "source": [
    "### Relative Humidity <a id='RelativeHumidity'></a>\n",
    "\n",
    "Relative humidity (symbol RH or $\\phi$) is the ratio of the partial pressure of water vapor to the equilibrium saturation pressure. \n",
    "\n",
    "$$\\mbox{Relative Humidity} = RH = \\phi = \\frac{p_W}{p^{sat}_W(T)}$$\n",
    "\n",
    "Relative humidity depends on temperature and, for mixtures of fixed composition, pressure. It is commonly expressed as a percentage."
   ]
  },
  {
   "cell_type": "markdown",
   "metadata": {},
   "source": [
    "### Absolute Humidity <a id='AbsoluteHumidity'></a>\n",
    "\n",
    "Absolute humidity (symbol AH) is the total mass of water vapor per unit volume of humid air. \n",
    "\n",
    "$$\\mbox{Absolute Humidity} = AH = \\frac{m_W}{V}$$\n",
    "\n",
    "Typical units are $kg/m^3$ or $g/m^3$. Absolute humidity is useful for expressing how much water is present in a given volume at a particular pressure and temperature. However, because volume varies with temperature and pressure, volumetric measures are generally not used directly in mass and energy balances.\n",
    "\n",
    "Assuming the ideal gas law holds, the mass of water in a given volume is\n",
    "\n",
    "$$AH = \\frac{m_W}{V} \\approx \\frac{M_W p_W}{RT} \\approx \\frac{M_W y_W P}{RT}$$\n",
    "\n",
    "where $M_W$ is the molar mass of water, $p_W$ is the partial pressure, and $y_W$ is mole fraction. For a given mixture, increasing pressure compresses the mixture into a smaller volume and therefore increases absolute humidity. Conversely, increasing temperature expands the volume and therefore descreases absolute humidity. "
   ]
  },
  {
   "cell_type": "markdown",
   "metadata": {},
   "source": [
    "### Specific Humidity\n",
    "\n",
    "Specific Humidity (symbol SH) is the mass of water divided by total mass of moist air. \n",
    "\n",
    "$$\\mbox{Specific Humidity} = SH = \\frac{m_W}{m_A + m_W}$$\n",
    "\n",
    "This is equivalent to mass fraction. While this would work for a variety of applications, the resulting calculations are more complicated than necessay for the majority of cases where the mass flow of dry air is often constant. "
   ]
  },
  {
   "cell_type": "markdown",
   "metadata": {},
   "source": [
    "### Mixing Ratio (or Moisture Content, or Humidity Ratio) <a id='Mixing Ratio'></a>\n",
    "\n",
    "Mixing Ratio (or Moisture Content) (symbol $w$) is ratio of the mass of water vapor to the mass of dry air.\n",
    "\n",
    "$$\\mbox{Mixing Ratio} = w = \\frac{m_W}{m_A}$$\n",
    "\n",
    "Typical units are kg of water per kg of dry air. (Older literature will sometimes show units of grains of water per pound of dry air. There are 7000 grains per pound.)\n",
    "\n",
    "Mixing ratio is the most commonly encountered measure of humidity because of it's computational utility in humidifciation and drying applications.\n",
    "\n",
    "From the ideal gas law\n",
    "\n",
    "$$m_W = \\frac{M_W p_W v}{RT}$$\n",
    "\n",
    "and\n",
    "\n",
    "$$m_A = \\frac{M_A p_A v}{RT} = \\frac{M_A (P-p_W) v}{RT}$$\n",
    "\n",
    "Taking the ratio\n",
    "\n",
    "$$w = \\frac{m_W}{m_A} = \\frac{M_W}{M_A} \\frac{p_W}{P - p_W} = \\frac{\\omega p_W}{P - p_W}$$\n",
    "\n",
    "where $\\omega = \\frac{M_W}{M_A} = 0.622$ is the ratio of molar masses. At saturation the mixing ratio is\n",
    "\n",
    "$$w_{sat}(T,P) = \\frac{\\omega p_W^{sat}(T)}{P - p_W^{sat}(T)}$$\n",
    "\n",
    "For a relative humidity $\\phi$, the mixing ratio is\n",
    "\n",
    "$$w(T,P,\\phi) = \\frac{\\omega \\phi p_W^{sat}(T)}{P - \\phi p_W^{sat}(T)}$$\n",
    "\n",
    "This expression demonstrates that the mixing ratio depends on temperature, pressure, and relative humidity."
   ]
  },
  {
   "cell_type": "markdown",
   "metadata": {},
   "source": [
    "### Dew Point <a id='DewPoint'></a>\n",
    "\n",
    "The dew point (symbol $T_{dew}$) is the temperature at which the first drop of dew is formed when air is cooled at constant pressure.  It is an indirect measure of moisture content."
   ]
  },
  {
   "cell_type": "markdown",
   "metadata": {},
   "source": [
    "## Data Sources <a id=\"DataSources\"></a>"
   ]
  },
  {
   "cell_type": "markdown",
   "metadata": {},
   "source": [
    "### Molar Masses of Air and Water <a id=\"MolarMasses\"></a>"
   ]
  },
  {
   "cell_type": "code",
   "execution_count": 1,
   "metadata": {
    "collapsed": false
   },
   "outputs": [
    {
     "name": "stdout",
     "output_type": "stream",
     "text": [
      "Molar Mass of Air = 28.97\n",
      "Molar Mass of Water = 18.02\n",
      "Ratio Mw/Ma = 0.6219\n"
     ]
    }
   ],
   "source": [
    "Ma = 0.78*(2*14.00675) + 0.21*(2*15.994) + 0.01*39.948\n",
    "print \"Molar Mass of Air = {0:0.2f}\".format(Ma)\n",
    "\n",
    "Mw = 2*1.00794 + 15.9994\n",
    "print \"Molar Mass of Water = {0:0.2f}\".format(Mw)\n",
    "\n",
    "print \"Ratio Mw/Ma = {0:0.4f}\".format(Mw/Ma)"
   ]
  },
  {
   "cell_type": "markdown",
   "metadata": {},
   "source": [
    "### Vapor Pressure of Water <a id=\"VaporPressure\"></a>\n",
    "\n",
    "There are a number of widely used correlations for the vapor pressure of water, among them Antoine's equation, Goff-Gratch equation, and the Arden Buck equation. The following cell implements correlations recommended by [Wagner and Pru&#223;](http://thermophysics.ru/pdf_doc/IAPWS_1995.pdf) for the IAPWS 1995 Steam Tables.\n",
    "\n",
    "For the range 0 $^\\circ$C to 373 $^\\circ$C, the vapor pressure of liquid water is given by\n",
    "\n",
    "$$\\ln\\frac{p^{sat}_w}{p_c} = \\frac{T_c}{T}\\left(a_1\\vartheta + a_2\\vartheta^{1.5}\n",
    "+ a_3\\vartheta^3 + a_4\\vartheta^{3.5} + a_5\\vartheta^4 + a_6\\vartheta^{7.5}\\right)$$\n",
    "\n",
    "where \n",
    "\n",
    "$$\\vartheta = 1 - \\frac{T}{T_c}$$\n",
    "\n",
    "and $T_c = 647.096\\,K$ and $P_c = 220.640$ bar are the temperature and pressure at the critical point. For the range -100 $^\\circ$C to 0.01 $^\\circ$C, the vapor pressure of ice is calculated using \n",
    "\n",
    "$$\\ln\\frac{p^{sat}_w}{p_n} = b_0(1 - \\theta^{-1.5}) + b_1(1-\\theta^{-1.25})$$\n",
    "\n",
    "where\n",
    "\n",
    "$$\\theta = \\frac{T}{T_n}$$\n",
    "\n",
    "and $T_n = 0.01 ^\\circ$C and $p_n = 0.00611657\\,bar$ are the triple point temperature and pressure. These correlations assume temperature in Kelvin, and returns pressure in the same units at $p_c$ and $p_n$."
   ]
  },
  {
   "cell_type": "code",
   "execution_count": 2,
   "metadata": {
    "collapsed": false
   },
   "outputs": [
    {
     "data": {
      "image/png": "[encoded data removed]",
      "text/plain": [
       "<matplotlib.figure.Figure at 0x10bfe6d90>"
      ]
     },
     "metadata": {},
     "output_type": "display_data"
    }
   ],
   "source": [
    "%matplotlib inline\n",
    "\n",
    "import matplotlib.pyplot as plt\n",
    "import numpy as np\n",
    "\n",
    "\n",
    "def pSatW_(T):\n",
    "    \"\"\"Calculates the saturation pressure of water.\n",
    "    \n",
    "    Args:\n",
    "        T: Temperature in degrees Celsius between -100C and 373C.\n",
    "        \n",
    "    Returns:\n",
    "        The saturation pressure in bars.\n",
    "\n",
    "    \"\"\"\n",
    "    Tc = 647.096         # critcal temperature in K\n",
    "    Pc = 220.640         # critical pressure of water in bar\n",
    "    a = np.array([0.0, -7.85951783, 1.84408259, -11.7866497, 22.6807411, -15.9618719, 1.80122502])\n",
    "    \n",
    "    Tn = 273.16          # triple point temperature in K\n",
    "    Pn = 0.00611657      # triple point pressure in bar\n",
    "    b = np.array([-13.928169, 34.707823])\n",
    "\n",
    "    if T >= 0.01 and T <= 373.0:\n",
    "        phi = 1.0 - (T + 273.15)/Tc\n",
    "        return Pc*np.exp((Tc/(T + 273.15))*(a[1]*phi + a[2]*phi**1.5\n",
    "            + a[3]*phi**3.0 + a[4]*phi**3.5 + a[5]*phi**4.0 + a[6]*phi**7.5))\n",
    "    elif T < 0.01 and T >= -100.0:\n",
    "        theta = (T+273.15)/Tn\n",
    "        return Pn*np.exp(b[0]*(1 - theta**-1.5) + b[1]*(1 - theta**-1.25))\n",
    "    else:\n",
    "        return float('nan')\n",
    "        #raise ValueError('Temperture {0:0.2f} outside of valid range for pSatW.'.format(T))\n",
    "  \n",
    "# extend function to nparray\n",
    "pSatW = np.vectorize(pSatW_)\n",
    "\n",
    "\n",
    "T = np.linspace(-20.0, 100.0)\n",
    "plt.semilogy(T,pSatW(T))\n",
    "plt.xlabel('Dry Bulb Temperature [deg C]')\n",
    "plt.ylabel('Pressure [bar]')\n",
    "plt.grid()"
   ]
  },
  {
   "cell_type": "markdown",
   "metadata": {},
   "source": [
    "### Steam Tables  <a id=\"SteamTables\"></a>\n",
    "\n",
    "The International Association for the Properties of Water and Steam (IAPWS) produces highly authoritative data sets for the properties of water and steam.  Their 'recommended formulations' are the foundation for the steam tables most widely used by engineers.\n",
    "\n",
    "[iapws](https://pypi.python.org/pypi/iapws) is an implementation of IAPWS-IF97 formulation for the properties of water and steam. The following cells demonstrate the installation of iapws, and use iapws to calculate properties needed for psychrometry."
   ]
  },
  {
   "cell_type": "markdown",
   "metadata": {},
   "source": [
    "#### Installation"
   ]
  },
  {
   "cell_type": "code",
   "execution_count": 3,
   "metadata": {
    "collapsed": false
   },
   "outputs": [
    {
     "name": "stdout",
     "output_type": "stream",
     "text": [
      "Requirement already satisfied (use --upgrade to upgrade): iapws in /Users/jeff/anaconda/lib/python2.7/site-packages\n",
      "Requirement already satisfied (use --upgrade to upgrade): scipy in /Users/jeff/anaconda/lib/python2.7/site-packages (from iapws)\n",
      "\u001b[33mYou are using pip version 8.1.2, however version 9.0.1 is available.\n",
      "You should consider upgrading via the 'pip install --upgrade pip' command.\u001b[0m\n",
      "(2777.1195376846617, 405.81466030352686, 2811.704862899988)\n"
     ]
    }
   ],
   "source": [
    "# shell escape command to install iapws\n",
    "!pip install iapws\n",
    "\n",
    "# sample usage of iapws to demonstrate successful installation\n",
    "from iapws import IAPWS97\n",
    "\n",
    "# units are MPa, K, kJ/kg\n",
    "\n",
    "sat_steam=IAPWS97(P=1,x=1)                #saturated steam with known P\n",
    "sat_liquid=IAPWS97(T=370, x=0)            #saturated liquid with known T\n",
    "steam=IAPWS97(P=2.5, T=500)               #steam with known P and T\n",
    "print(sat_steam.h, sat_liquid.h, steam.h) #calculated enthalpies"
   ]
  },
  {
   "cell_type": "markdown",
   "metadata": {},
   "source": [
    "#### Heat of Vaporization"
   ]
  },
  {
   "cell_type": "code",
   "execution_count": 4,
   "metadata": {
    "collapsed": false
   },
   "outputs": [
    {
     "name": "stdout",
     "output_type": "stream",
     "text": [
      "Heat of Vaporization at O deg C = 2500.93 kJ/kg\n"
     ]
    }
   ],
   "source": [
    "def Hvap(T):\n",
    "    sat_vapor = IAPWS97(T = T + 273.15, x=1)\n",
    "    sat_liquid = IAPWS97(T = T + 273.15, x=0)\n",
    "    return sat_vapor.h - sat_liquid.h\n",
    "    \n",
    "print \"Heat of Vaporization at O deg C = {0:0.2f} kJ/kg\".format(Hvap(0.0))"
   ]
  },
  {
   "cell_type": "markdown",
   "metadata": {},
   "source": [
    "#### Heat Capacities"
   ]
  },
  {
   "cell_type": "code",
   "execution_count": null,
   "metadata": {
    "collapsed": false
   },
   "outputs": [
    {
     "name": "stdout",
     "output_type": "stream",
     "text": [
      "Heat Capacity of Water Vapor at 25.0C = 1.912 kJ/kg/K\n",
      "Heat Capacity of Water Liquid at 25.0C = 4.182 kJ/kg/K\n"
     ]
    }
   ],
   "source": [
    "T = 25.0\n",
    "\n",
    "def Cpvap(T):\n",
    "    return IAPWS97(T = T + 273.15, x=1).cp\n",
    "\n",
    "def Cpliq(T):\n",
    "    return IAPWS97(T = T + 273.15, x=0).cp\n",
    "\n",
    "sat_vapor = IAPWS97(T = T + 273.15, x=1)\n",
    "print \"Heat Capacity of Water Vapor at {0:0.1f}C = {1:0.3f} kJ/kg/K\".format(T,Cpvap(25))\n",
    "\n",
    "sat_liq = IAPWS97(T = T + 273.15, x=0)\n",
    "print \"Heat Capacity of Water Liquid at {0:0.1f}C = {1:0.3f} kJ/kg/K\".format(T,Cpliq(25))"
   ]
  },
  {
   "cell_type": "markdown",
   "metadata": {},
   "source": [
    "## Thermodynamic Modeling <a id=\"ThermodynamicModeling\"></a>"
   ]
  },
  {
   "cell_type": "markdown",
   "metadata": {},
   "source": [
    "### Specific Volume <a id=\"SpecificVolume\"></a>\n",
    "\n",
    "For the purposes of psychrometric modeling, the specific volume (symbol $v$) is defined as the volume of humid air per kilogram of dry air.\n",
    "\n",
    "Given 1 kilograms of dry air containing $w$ kilograms of water vapor, from the ideal gas law the specific volume is\n",
    "\n",
    "$$ v = (\\frac{1}{M_a} + \\frac{w}{M_w})\\frac{RT}{P}$$\n",
    "\n",
    "Contours of constant specific volume are typically plotted on the psychrometric chart. For this purpose we need a relationship of $w$ to the dry bulb temperature $T$. Solving for $w$ as a function of $T$\n",
    "\n",
    "$$w = \\frac{M_wPv}{RT} - \\frac{M_w}{M_a}$$"
   ]
  },
  {
   "cell_type": "markdown",
   "metadata": {},
   "source": [
    "### Enthalpy <a id=\"Enthalpy\"></a>\n",
    "\n",
    "For humidification operations, a convenient reference state for enthalpy calculations is ($T_{ref}$ = 0 $^\\circ$C, $P_{ref}$ = 1 bar) with water a saturated liquid. \n",
    "\n",
    "For a dry bulb temperature $T$, the specific enthalpy of saturated water vapor relative to the reference temperature is\n",
    "\n",
    "$$\\hat{h}_w(T) = \\Delta \\hat{H}_{vap}(T_{ref}) + \\hat{C}_{p,vap}(T - T_{ref})$$\n",
    "\n",
    "The specific enthalpy of air\n",
    "\n",
    "$$\\hat{h}_a(T) = \\hat{C}_{p,air}(T - T_{ref})$$\n",
    "\n",
    "Combining these for a mixture of 1 kilogram of dry air and $w$ kilograms of water vapor, the enthalpy per kilogram of dry air is\n",
    "\n",
    "$$h(T,w) =  \\hat{C}_{p,air}(T - T_{ref}) + w \\left( \\Delta \\hat{H}_{vap}(T_{ref}) + \\hat{C}_{p,vap}(T - T_{ref})\\right)$$\n",
    "\n",
    "Psychrometric charts typically show contours of constant specific enthalpy. Solving for $w$ in terms of $h$ and $T$\n",
    "\n",
    "$$w = \\frac{h - \\hat{C}_{p,air}(T - T_{ref})}{\\Delta \\hat{H}_{vap}(T_{ref}) + \\hat{C}_{p,vap}(T - T_{ref})}$$"
   ]
  },
  {
   "cell_type": "markdown",
   "metadata": {},
   "source": [
    "### Wet Bulb Temperature <a id=\"WetBulb\"></a>\n",
    "\n",
    "Considered an insulated chamber containing a long, closed water bath. Humid air enters at temperature $T$ with $w$ kilogram of water vapor per kilogram of dry air. Upon passing over the water bath, evaporative cooling lowers the bath temperature to a steady-state value $T_s$.  To makeup for evaporative losses, liquid water is added to the bath at temperature $T_s$ and a rate $w_s-w$ per kilogram of dry air. The following model assumes the humid air passes exits the chamber at temperture $T_{s}$ and a partial pressure of water equal to the vapor pressure at temperature $T_s$.\n",
    "\n",
    "The enthalpy of humid air per kilogram of dry air is given by\n",
    "\n",
    "$$h(T,w) = \\hat{C}_{p,air}(T-T_{ref}) + w \\left[\\Delta \\hat{H}_{vap}(T_{ref}) + \\hat{C}_{p,vap}(T - T_{ref})\\right]$$\n",
    "\n",
    "where $T_{ref}$ is a common reference temperature.  The enthalpy balance for the humidification device per kilogram of dry air is \n",
    "\n",
    "$$h(T,w) + (w_s-w)\\hat{C}_{p,liq. water}(T_s-T_{ref}) = h(T_s,w_s)$$\n",
    "\n",
    "The enthalpy balance establishes a relationship between $T_s$ and $w_s$ given the initial conditions of the humid air stream, $T$ and $w$.\n",
    "\n",
    "For the psychrometric chart it is necessary to plot $w$ as a function of $T$. Given $T_s$ and $w_s$, the solution for $w$ is\n",
    "\n",
    "$$w = \\frac{w_s\\left[\\Delta\\hat{H}(T_{ref})+\\hat{C}_{p,vap}(T_s-T_{ref})-\\hat{C}_{p,liq}(T_s-T_{ref})\\right] - \\hat{C}_{p,air}(T-T_s)}{\\Delta\\hat{H}(T_{ref})+\\hat{C}_{p,vap}(T-T_{ref})-\\hat{C}_{p,liq}(T_s-T_{ref})}$$\n",
    "\n"
   ]
  },
  {
   "cell_type": "markdown",
   "metadata": {},
   "source": [
    "## Psychrometric Chart  <a id=\"PsychrometricChart\"></a>"
   ]
  },
  {
   "cell_type": "code",
   "execution_count": null,
   "metadata": {
    "collapsed": false
   },
   "outputs": [],
   "source": [
    "%matplotlib inline\n",
    "\n",
    "import numpy as np\n",
    "import matplotlib.pyplot as plt\n",
    "import matplotlib.ticker as ticker\n",
    "from scipy.optimize import fsolve\n",
    "from ipywidgets import interact\n",
    "\n",
    "P = 1.01325        # bar\n",
    "R = 0.08314        # m3 bar /K kg-mol\n",
    "Tref = 0.0         # Celsius\n",
    "\n",
    "Cpair = 1.005      # kJ/kg K\n",
    "Cpvap = 1.912      # kJ/kg K\n",
    "Cpliq = 4.182      # kJ/kg K\n",
    "Hvap = 2500.9      # kJ/kg at Tref\n",
    "\n",
    "def pChart(P = 1.01325, wmax=0.044, tmin=0.0, tmax=50.0,\n",
    "           Relative_Humidity=True, Volume=True, Enthalpy=True, Wet_Bulb=True):\n",
    "    \n",
    "    fig = plt.figure(figsize=(12,8))\n",
    "    plt.axis([tmin,tmax,0.0,wmax])\n",
    "    \n",
    "    ax = plt.axes()\n",
    "    ax.xaxis.set_major_locator(ticker.MultipleLocator(10))\n",
    "    ax.xaxis.set_minor_locator(ticker.MultipleLocator(1))\n",
    "    ax.yaxis.set_major_locator(ticker.MultipleLocator(0.010))\n",
    "    ax.yaxis.set_minor_locator(ticker.MultipleLocator(0.001))\n",
    "\n",
    "    plt.title('Psychrometric Chart for P = {0:0.5f} bar'.format(P))\n",
    "    plt.xlabel('Dry Bulb Temperature [deg C]')\n",
    "    plt.ylabel('Humidity Ratio [kg water/kg dry air]')\n",
    "    plt.grid()\n",
    "\n",
    "    # scale factors to convert slopes to angle of rotation on display\n",
    "    DX = (tmax - tmin)/fig.get_size_inches()[0]\n",
    "    DY = wmax/fig.get_size_inches()[1]\n",
    "\n",
    "    # temperature where saturation curve intersects display axes\n",
    "    wmin = (Mw/Ma)/(P/pSatW(tmin) - 1.0)\n",
    "\n",
    "    tmid = min(tmax,fsolve(lambda t: (Mw/Ma)/(P/pSatW(t)-1.0) - wmax,(tmin+tmax)/2.0)[0])\n",
    "    wmid = (Mw/Ma)/(P/pSatW(tmid) - 1.0)\n",
    "    \n",
    "    # saturation \n",
    "    \n",
    "    T = np.linspace(tmin,tmax,200)\n",
    "    plt.plot(T,(Mw/Ma)/(P/pSatW(T)-1.0),'r')\n",
    "\n",
    "    if Relative_Humidity:\n",
    "        k = 2*len(T)/3\n",
    "        dk = len(T)/40\n",
    "\n",
    "        for rh in np.linspace(0,1.0,11):\n",
    "            w = (Mw/Ma)*rh/(P/pSatW(T)-rh)\n",
    "            plt.plot(T,w,'r',linewidth=0.5)\n",
    "            k -= dk\n",
    "            plt.text(T[k], w[k], \"{0:0.0f}%\".format(100*rh),\n",
    "                 va=\"bottom\",\n",
    "                 ha=\"center\",\n",
    "                 rotation = 180.0*np.arctan2((w[k+1]-w[k])/DY,((T[k+1]-T[k]))/DX)/np.pi,\n",
    "                 color=\"r\")\n",
    "\n",
    "    if Volume:\n",
    "        vmin = round((1.0/Ma)*R*(tmin+273.15)/P,2)\n",
    "        vmax = round((1.0/Ma + wmax/Mw)*R*(tmax+273.15)/P,2)\n",
    "        for v in np.linspace(vmin,vmax,(vmax-vmin)/0.01 + 1):\n",
    "            w0 = 0.0    \n",
    "            t0 = P*v/(R*(1.0/Ma + w0/Mw)) - 273.15\n",
    "            t1 = t0\n",
    "            w1 = w0\n",
    "            for k in range(1,5):\n",
    "                w1 = (w1 + (Mw/Ma)/(P/pSatW(t1) - 1.0))/2.0\n",
    "                t1 = P*v/(R*(1.0/Ma + w1/Mw)) - 273.15\n",
    "            if t1 < tmax:\n",
    "                t = np.linspace(t1,t0)\n",
    "                w = Mw*P*v/(R*(t+273.15)) - Mw/Ma\n",
    "                plt.plot(t,w,'g',alpha=0.5) \n",
    "            tc = (t0 + t1)/2.0\n",
    "            wc = (w0 + w1)/2.0\n",
    "            if tc > tmin and tc < tmax and wc < wmax:\n",
    "                plt.text(tc, wc, \"{0:0.2f} \".format(v),\n",
    "                     ha = 'center', \n",
    "                     va = 'bottom', \n",
    "                     rotation = 180.0*np.arctan2((w0-w1)/DY,(t0-t1)/DX)/np.pi, \n",
    "                     color = 'g')\n",
    "                \n",
    "    if Enthalpy:\n",
    "        hmax = round(Cpair*(tmax-Tref) + wmax*(Hvap + Cpvap*(tmax-Tref)), -1)+10\n",
    "        hmin = round(Cpair*(tmin-Tref), -1)-10\n",
    "        for h in np.linspace(hmin,hmax,(hmax-hmin)/10 + 1):\n",
    "            \n",
    "            #f = lambda t: 0.02*wmax + wmin + (t-tmin)*wmid/(tmid-tmin)\n",
    "            f = lambda t: (Mw/Ma)/(P/pSatW(t) - 1.0)\n",
    "            g = lambda t: (h - Cpair*(t-Tref))/(Hvap + Cpvap*(t-Tref))\n",
    "            \n",
    "            t = -3 + fsolve(lambda t: f(t)-g(t), (tmin+tmid)/2.0)\n",
    "            \n",
    "            t = np.linspace(t,tmax)\n",
    "            w = (h - Cpair*(t-Tref))/(Hvap + Cpvap*(t-Tref))\n",
    "            plt.plot(t, w, 'k--', linewidth=1, alpha=0.8)\n",
    "            if (t[0] > tmin and t[0] < tmax and w[0] < 0.97*wmax):\n",
    "                plt.text(t[0], w[0], \"{0:0.1f} \".format(h),\n",
    "                     ha = 'right', \n",
    "                     va = 'bottom', \n",
    "                     rotation = 0*180.0*np.arctan2(-Cpair/Hvap/DY,1.0/DX)/np.pi, \n",
    "                     color = 'k')\n",
    "\n",
    "        hc = (hmax+hmin)/2.0\n",
    "        tc = (tmid-tmin)*(hc-hmin)/(hmax-hmin) - 2.0\n",
    "        wc = (hc - Cpair*(tc-Tref))/(Hvap + Cpvap*(tc-Tref))\n",
    "\n",
    "        #plt.text(tc-3, wc, 'Enthalpy kJ/kg of Dry Air', \n",
    "        #     color = 'k', \n",
    "        #     va = 'bottom',\n",
    "        #     ha = 'right')\n",
    "        \n",
    "    if Wet_Bulb:\n",
    "        for ts in np.linspace(tmin,round(tmax),round(tmax-tmin)+1):\n",
    "            ws = (Mw/Ma)/(P/pSatW(ts) - 1.0)\n",
    "            t = np.linspace(ts,tmax)\n",
    "            num = Cpair*(ts-t) + ws*(Hvap + Cpvap*(ts-Tref) - Cpliq*(ts-Tref))\n",
    "            den = Hvap + Cpvap*(t-Tref) - Cpliq*(ts-Tref)\n",
    "            w = num/den\n",
    "            plt.plot(t,w,'b',alpha=0.2)\n",
    " \n",
    "            if ts > tmin and ts < tmid:\n",
    "                plt.text(ts,ws,\"{0:-2.0f} \".format(ts),\n",
    "                    ha = 'right', \n",
    "                    va = 'bottom', \n",
    "                    rotation = 180.0*np.arctan2(-Cpair/Hvap/DY,1.0/DX)/np.pi, \n",
    "                    color = 'b')\n",
    "    plt.savefig('PsychrometricChart.png')\n",
    "            \n",
    "interact(pChart,\n",
    "         P=(0.5,3,.1),\n",
    "         wmax = (0.02,0.06,0.005),\n",
    "         tmin = (-20,20,2),\n",
    "         tmax = (30,60,2));"
   ]
  },
  {
   "cell_type": "markdown",
   "metadata": {},
   "source": [
    "## References <a id=\"References\"></a>\n",
    "\n",
    "1. \n",
    "http://www.vaisala.com/Vaisala%20Documents/Application%20notes/Humidity_Conversion_Formulas_B210973EN-F.pdf\n",
    "\n",
    "2. W. Wagner and A. Pru&#223;. The IAPWS Formulation 1995 for the Thermodynamic Properties of Ordinary Water Substance for General and Scientific Use.  J. Phys. Chem. Ref. Data, Vol. 31, No. 2, 2002. http://thermophysics.ru/pdf_doc/IAPWS_1995.pdf\n",
    "\n"
   ]
  },
  {
   "cell_type": "markdown",
   "metadata": {},
   "source": [
    "## Exercises and Applications <a id=\"ExercisesApplications\"></a>"
   ]
  },
  {
   "cell_type": "markdown",
   "metadata": {},
   "source": [
    "### Warmups\n",
    "\n",
    "1. What is the dew point of air 20 $^\\circ$C at 50% relative humidity?\n",
    "\n",
    "2. Normal human breathing warms air to body temperature, 37$^\\circ$C, saturated with water vapor.  What is the water content of exhaled air? If inhalation and exhalation rates are the same, and inhaled air is at 20$^\\circ$C and a relative humidity of 40%, how much water is lost per 12 hours by normal breathing?\n",
    "\n",
    "3. The makeup air supply for a commercial building must take exterior air at 30$^\\circ$C and 80% relative humidity and condition it for distribution at 20$^\\circ$C and 40% relative humidity. Show the steps needed for this operation on a psychrometric chart.  How much energy is required per kilogram of dry air?"
   ]
  },
  {
   "cell_type": "markdown",
   "metadata": {},
   "source": [
    "### Laboratory Air Supply\n",
    "\n",
    "A university educational science laboratory must supply fresh air at rate of 5 liters/sec/person. On a cool day in South Bend, Indiana, the outdoor air temperature is 0$^\\circ$C at 20% relative humidity.  The air must be heated and conditioned to 21$^\\circ$C at 60% relative humidity before venting into the laboratory.  \n",
    "\n",
    "1. What is the mass flow of air into the laboratory (on a dry air basis)?  What is the volumetric flow?\n",
    "2. How much water must be added through humidification?\n",
    "3. What is the energy requirement (in watts)?\n",
    "4. Can you suggest means of recoving energy and water from the laboratory exhaust without compromising air quality?  What is the maximum possible energy efficienty?\n"
   ]
  },
  {
   "cell_type": "markdown",
   "metadata": {},
   "source": [
    "### Snowmaking \n",
    "\n",
    "Snowmaking equipment for ski resorts operate by spraying fine water droplets in a large flow of air. The droplet temperature is lowered by evaporative cooling and can be no higher than -2 degrees Celsius for effective snow making. \n",
    "\n",
    "1. If the liquid water temperature is initially the same temperature as the air, what is the maximum air temperature for which snowmaking is possible?\n",
    "2. Assuming the relative humidity is 30%, sketch a flow diagram. What should be the water flowrate per cubic meter of air? "
   ]
  },
  {
   "cell_type": "markdown",
   "metadata": {},
   "source": [
    "### WaterSeer\n",
    "\n",
    "[WaterSeer](http://waterseer.org/) is an indiegogo project developed by students at UC Berkeley for the capture and condensation of water vapor from air.  The goal of the project is to develop a practical device to augment water supplies in regions of the world without access to safe water. "
   ]
  },
  {
   "cell_type": "code",
   "execution_count": null,
   "metadata": {
    "collapsed": false
   },
   "outputs": [],
   "source": [
    "from IPython.display import HTML\n",
    "HTML('<iframe src=\"https://player.vimeo.com/video/182748120'\n",
    "     + '?title=0&byline=0&portrait=0\" width=\"640\" height=\"360\"'\n",
    "     + 'frameborder=\"0\" webkitallowfullscreen mozallowfullscreen allowfullscreen></iframe>')"
   ]
  },
  {
   "cell_type": "markdown",
   "metadata": {},
   "source": [
    "Can you validate the claim that a device like this can potentially extract 37 liters of water per day in an arid or semi-arid region of the world? Assume an average day of 24$^\\circ$C with 70% relative humidity (a typical October day in Los Angeles). Assume the soil temperature is 54$^\\circ$F $\\approx$ 12$^\\circ$C.\n",
    "\n",
    "1. What is the Humidity Ratio of the incoming air? (i.e., water vapor content in units of kg water / kg dry air.)\n",
    "2. What is the dew point of the incoming air?\n",
    "3. How much water can be extracted per kilogram of dry air?\n",
    "4. What volume of humid air must be treated to produce 37 liters of water per day?  Does this seem plausible? If the pipe connecting the upper and lower part of the unit has an internal diameter of 6 inches, what is the average air speed? (Keep in mind that air must be routed in both directions.)\n",
    "5. How much heat is released by condensation? Express your answer in watts. Where does the heat go?  Think carefully about this one, and devise a way to discharge at least a portion of the heat in the exiting air.\n",
    "\n",
    "#### Solution\n",
    "\n",
    "**Question 1.** Using the psychrometric chart, the mixing ratio (i.e., humidity ratio) for a temperature 24$^\\circ$C with 70% relative humidity is \n",
    "\n",
    "$$w_{in} = 0.013 \\mbox{ kg/kg dry air}$$\n",
    "\n",
    "**Question 2.** Starting with humid air at 24$^\\circ$C with 70% relative humidity, the dew point is found by cooling air until the saturation curve is reached on the psychrometric chart. The dew point found is approximately 18$^\\circ$C.\n",
    "\n",
    "**Question 3.** The condensor can operate at a temperature no lower than the soil temperature of 12$^\\circ$C. At 12$^\\circ$C the humidity ratio \n",
    "\n",
    "$$w_{out} = 0.009 \\mbox{ kg/kg dry air}$$\n",
    "\n",
    "The total amount of water that can be extracted is \n",
    "\n",
    "$$w_{out} - w_{in} = 0.013 - 0.009 = 0.004 \\mbox{ kg/kg dry air}$$\n",
    "\n",
    "**Question 4.** Assuming a liquid density of 1 kg/liter, the requirement is to produce $\\dot{m}_W = 37$ kg of water per day. From the mass balance, the unit must process\n",
    "\n",
    "$$\\dot{m}_A = \\frac{\\dot{m}_W}{w_{in}-w_{out}} = \\frac{37}{0.013 - 0.009} = 9250 \\mbox{ kg dry air / day}$$\n",
    "\n",
    "From the psychrometric chart, the specific volume $v_{in}$ is 0.855 cubic meters per kg dry air. The total volume of air to be treated is \n",
    "\n",
    "$$\\dot{V}_{in} = v_{in} \\dot{m}_W =  0.855 \\times 9250 = 7,909 \\mbox{cu. m/day}$$\n",
    "\n",
    "The cross sectional area of a 6 inch pipe is 182 sq. cm, of which half, 91 sq cm = 0.0091 sq m would be available for downflow to the condenser chamber. The average air speed would be 7,909/24/3600/0.0091 = 10 meters per second.\n",
    "\n",
    "**Question 5.** The specific enthalpy of the entering air $h_{in}$ is approximately 58 kJ/kg dry air. If the processed air exits at 12$^\\circ$C the specific enthalpy $h_{out}$ would be  34 kJ/kg dry air. The specific enthalpy of the exiting water is $\\hat{C}_{p,liq}(T - T_{ref})$"
   ]
  },
  {
   "cell_type": "code",
   "execution_count": null,
   "metadata": {
    "collapsed": false
   },
   "outputs": [],
   "source": [
    "mw = 9250.0     # inlet flow of humid air, in kg dry air\n",
    "win = 0.013     # kg water / kg dry air\n",
    "wout = 0.009    # kg water / kg dry air\n",
    "hin = 58.0      # kJ/kg dry air\n",
    "hout = 34.0     # kJ/kg dry air  at 24 deg C\n",
    "hliq = Cpliq*(12.0 - 0.0)\n",
    "\n",
    "Q = mw*(hin - hout) - mw*(win-wout)*hliq\n",
    "print \"Condenser Heat Duty = \", Q, \" kJ/day\"\n",
    "print \"Condenser Heat Duty = \", Q/24/3600, \" kJ/sec\""
   ]
  },
  {
   "cell_type": "markdown",
   "metadata": {},
   "source": [
    "The condenser heat duty could be reduced by using the exiting air stream to cool incoming air. The maximum heat recovery corresponds to an exit air stream at the external temperature with  specific enthalpy $h_{out}$ of 46 kJ/kg dry air. In that case"
   ]
  },
  {
   "cell_type": "code",
   "execution_count": null,
   "metadata": {
    "collapsed": false
   },
   "outputs": [],
   "source": [
    "mw = 9250.0     # inlet flow of humid air, in kg dry air\n",
    "win = 0.013     # kg water / kg dry air\n",
    "wout = 0.009    # kg water / kg dry air\n",
    "hin = 58.0      # kJ/kg dry air\n",
    "hout = 46.0     # kJ/kg dry air  at 24 deg C\n",
    "hliq = Cpliq*(12.0 - 0.0)\n",
    "\n",
    "Q = mw*(hin - hout) - mw*(win-wout)*hliq\n",
    "print \"Condenser Heat Duty = \", Q, \" kJ/day\"\n",
    "print \"Condenser Heat Duty = \", Q/24/3600, \" kJ/sec\""
   ]
  },
  {
   "cell_type": "markdown",
   "metadata": {},
   "source": [
    "These numbers are high for a device with no external power supplies and to be built at very low cost.  Of particular concern are the high gas flow rates which limit the opportunity for heat transfer, and the substantial condenser heat duty.  "
   ]
  },
  {
   "cell_type": "code",
   "execution_count": null,
   "metadata": {
    "collapsed": true
   },
   "outputs": [],
   "source": []
  }
 ],
 "metadata": {
  "anaconda-cloud": {},
  "kernelspec": {
   "display_name": "Python [default]",
   "language": "python",
   "name": "python2"
  },
  "language_info": {
   "codemirror_mode": {
    "name": "ipython",
    "version": 2
   },
   "file_extension": ".py",
   "mimetype": "text/x-python",
   "name": "python",
   "nbconvert_exporter": "python",
   "pygments_lexer": "ipython2",
   "version": "2.7.12"
  },
  "widgets": {
   "state": {
    "f21e6a7bc5964205a87a14ec39769efc": {
     "views": [
      {
       "cell_index": 24
      }
     ]
    }
   },
   "version": "1.2.0"
  }
 },
 "nbformat": 4,
 "nbformat_minor": 1
}
