{
 "metadata": {
  "name": ""
 },
 "nbformat": 3,
 "nbformat_minor": 0,
 "worksheets": [
  {
   "cells": [
    {
     "cell_type": "heading",
     "level": 1,
     "metadata": {},
     "source": [
      "Semester Project Ideas"
     ]
    },
    {
     "cell_type": "markdown",
     "metadata": {},
     "source": [
      "## Production of dimethyl carbonate from methanol and carbon dioxide"
     ]
    },
    {
     "cell_type": "markdown",
     "metadata": {},
     "source": [
      "## Analysis of the [PNNL concentrating solar power system](http://www.pnnl.gov/news/release.aspx?id=981)\n",
      "\n",
      "What additional efficiencies are obtained by the solar thermochemical conversion of natural gas to syngas prior to power plant combustion?\n"
     ]
    },
    {
     "cell_type": "markdown",
     "metadata": {},
     "source": [
      "## Develop alternative uses for the [acid whey by-product of yogurt production](http://modernfarmer.com/2013/05/whey-too-much-greek-yogurts-dark-side/)\n",
      "\n",
      "Acid whey is a by-product from the production of Greek yogurt. It's high acidity and biological oxygen demand make it a difficult material to process for disposal or subsequent consumption. The purpose of this project is to screen alternative uses and processes to find highest and best use of this by-product."
     ]
    },
    {
     "cell_type": "code",
     "collapsed": false,
     "input": [],
     "language": "python",
     "metadata": {},
     "outputs": []
    }
   ],
   "metadata": {}
  }
 ]
}