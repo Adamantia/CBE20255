{
 "cells": [
  {
   "cell_type": "markdown",
   "metadata": {},
   "source": [
    "######The latest version of this IPython notebook is available at [http://github.com/jckantor/CBE20255](http://github.com/jckantor/CBE20255)  for noncommercial use under terms of the [Creative Commons Attribution Noncommericial ShareAlike License](http://creativecommons.org/licenses/by-nc-sa/4.0/).\n",
    "\n",
    "J.C. Kantor (Kantor.1@nd.edu)"
   ]
  },
  {
   "cell_type": "markdown",
   "metadata": {},
   "source": [
    "# Separating Milk"
   ]
  },
  {
   "cell_type": "code",
   "execution_count": 1,
   "metadata": {
    "collapsed": false
   },
   "outputs": [
    {
     "data": {
      "text/html": [
       "<link href='http://fonts.googleapis.com/css?family=Fenix' rel='stylesheet' type='text/css'>\n",
       "<link href='http://fonts.googleapis.com/css?family=Alegreya+Sans:100,300,400,500,700,800,\n",
       "    900,100italic,300italic,400italic,500italic,700italic,800italic,900italic' rel='stylesheet' type='text/css'>\n",
       "<link href='http://fonts.googleapis.com/css?family=Source+Code+Pro:300,400' rel='stylesheet' type='text/css'>\n",
       "<link href='http://fonts.googleapis.com/css?family=Crimson+Text' rel='stylesheet' type='text/css'>\n",
       "<link href='http://fonts.googleapis.com/css?family=Kameron' rel='stylesheet' type='text/css'>\n",
       "<link href='http://fonts.googleapis.com/css?family=Lato:200' rel='stylesheet' type='text/css'>\n",
       "<link href='http://fonts.googleapis.com/css?family=Lato:300' rel='stylesheet' type='text/css'>\n",
       "<link href='http://fonts.googleapis.com/css?family=Lato:400' rel='stylesheet' type='text/css'>\n",
       "<link href='http://fonts.googleapis.com/css?family=Source+Code+Pro' rel='stylesheet' type='text/css'>\n",
       "\n",
       "<style>\n",
       "\n",
       "@font-face {\n",
       "    font-family: \"Computer Modern\";\n",
       "    src: url('http://mirrors.ctan.org/fonts/cm-unicode/fonts/otf/cmunss.otf');\n",
       "}\n",
       "\n",
       "#notebook_panel { /* establish main background and color */\n",
       "    background: #fff;\n",
       "    color: #ff0000;\n",
       "}\n",
       "\n",
       "div.cell { /* set cell width */\n",
       "    width:800px;\n",
       "    margin-left:0%;\n",
       "    margin-right:auto;\n",
       "}\n",
       "\n",
       "div #notebook { /* centers the content */\n",
       "    background: #fff;\n",
       "    width: 1000px;\n",
       "    margin: auto;\n",
       "    padding-left: 1em;\n",
       "}\n",
       "\n",
       "#notebook li { /* more space between bullet points */\n",
       "    margin-top:0.8em;\n",
       "}\n",
       "\n",
       "/* draw border around running cells */\n",
       "div.cell.border-box-sizing.code_cell.running {\n",
       "    border: 3px solid #111;\n",
       "}\n",
       "\n",
       "/* Put a solid color box around each code cell and its output,\n",
       "     visually linking them together */\n",
       "div.cell.code_cell {\n",
       "    background-color: /*#fff*/ rgba(171,165,131,0.2);\n",
       "    border-radius: 10px; /* rounded borders */\n",
       "    padding: 1em;\n",
       "    margin-top: 1em;\n",
       "}\n",
       "\n",
       ".CodeMirror {\n",
       "    font-family: \"Source Code Pro\";\n",
       "    font-size: 90%;\n",
       "}\n",
       "\n",
       "div.text_cell_render code {\n",
       "    font-family: \"Source Code Pro\";\n",
       "    font-size: 90%;\n",
       "    color: red;\n",
       "}\n",
       "\n",
       "pre {\n",
       "    font-family: \"Source Code Pro\";\n",
       "    font-size: 90%;\n",
       "}\n",
       "\n",
       "div.text_cell_render { /* rendering of basic text cell */\n",
       "    font-family: 'Alegreya Sans', Computer Modern, \"Helvetica Neue\", Arial, Helvetica, sans-serif;\n",
       "    line-height: 135%;\n",
       "    font-size: 120%;\n",
       "    width:700px;\n",
       "    margin-left:auto;\n",
       "    margin-right:auto;\n",
       "}\n",
       "\n",
       ".text_cell_render h1 {\n",
       "    font-family: 'Alegreya Sans', sans-serif;\n",
       "    font-weight: 300;\n",
       "    font-size: 32pt;\n",
       "    line-height: 100%;\n",
       "    color:#CD2305;\n",
       "    margin-bottom: 0.4em;\n",
       "    margin-top: 0em;\n",
       "    display: block;\n",
       "}\n",
       "\n",
       "h2 {\n",
       "    font-family: 'Fenix', serif;\n",
       "}\n",
       "\n",
       "h3 {\n",
       "    font-family: 'Fenix', serif;\n",
       "    margin-top:12px;\n",
       "    margin-bottom: 3px;\n",
       "}\n",
       "\n",
       "h4 {\n",
       "    font-family: 'Fenix', serif;\n",
       "}\n",
       "\n",
       ".text_cell_render h5 {\n",
       "    font-family: 'Alegreya Sans', sans-serif;\n",
       "    font-weight: 100;\n",
       "    font-size: 16pt;\n",
       "    color: #CD2305;\n",
       "    font-style: italic;\n",
       "    margin-bottom: .5em;\n",
       "    margin-top: 0.5em;\n",
       "    display: block;\n",
       "}\n",
       "\n",
       ".text_cell_render h6 { /*use this for copyright note*/\n",
       "    font-family: 'Alegreya Sans', sans-serif;\n",
       "    font-weight: 400;\n",
       "    font-size: 10pt;\n",
       "    font-style: normal;\n",
       "    line-height: 120%;\n",
       "    margin-bottom: 1px;\n",
       "    margin-top: 1px;\n",
       "}\n",
       "\n",
       ".MathJax, .MathJax_Display  {\n",
       "    font-family: 'Alegreya Sans', sans-serif  !important;\n",
       "    font-size: 90%  !important;\n",
       "    vertical-align: 0px  !important;\n",
       "}\n",
       "\n",
       ".warning{\n",
       "    color: rgb( 240, 20, 20 )\n",
       "}\n",
       "\n",
       "</style>\n",
       "\n",
       "<script>\n",
       "MathJax.Hub.Config({\n",
       "    TeX: {\n",
       "        extensions: [\"AMSmath.js\"]\n",
       "    },\n",
       "    tex2jax: {\n",
       "        inlineMath: [ ['$','$'], [\"\\\\(\",\"\\\\)\"] ],\n",
       "        displayMath: [ ['$$','$$'], [\"\\\\[\",\"\\\\]\"] ],\n",
       "        processEscapes: true\n",
       "    },\n",
       "    displayAlign: 'center', // Change this to 'center' to center equations.\n",
       "    \"HTML-CSS\": {\n",
       "        styles: {'.MathJax_Display': {\"margin\": 4}}\n",
       "    }\n",
       "});\n",
       "</script>\n",
       "\n"
      ],
      "text/plain": [
       "<IPython.core.display.HTML object>"
      ]
     },
     "execution_count": 1,
     "metadata": {},
     "output_type": "execute_result"
    }
   ],
   "source": [
    "%matplotlib inline\n",
    "\n",
    "#Initializations\n",
    "from IPython.core.display import HTML\n",
    "HTML(url=\"https://raw.githubusercontent.com/jckantor/CBE20255/master/styles/custom.css\")"
   ]
  },
  {
   "cell_type": "markdown",
   "metadata": {},
   "source": [
    "## Problem Statement"
   ]
  },
  {
   "cell_type": "markdown",
   "metadata": {},
   "source": [
    "A dairy processor can separate raw milk into a number of commodity products, each with a price determined by the spot market. An example of commodity prices and product specifications is given in this table.\n",
    "\n",
    "<table>\n",
    "<thead><td> Component </td><td> Fat (wt%) </td><td> Non-fat Milk Solids (wt%) </td><td> Price </td></thead>\n",
    "<tr><td> Raw Milk </td><td> 3.85 </td><td> 8.85 </td><td>   </td></tr>\n",
    "<tr><td> Regular Milk </td><td> 3.25 </td><td> 8.25 </td><td> 21.48 \\$/cwt </td></tr>\n",
    "<tr><td> Skim Milk </td><td> 0.10 </td><td> 8.25 </td><td> 16.01 \\$/cwt </td></tr>\n",
    "<tr><td> Nonfat Dry Milk </td><td> 0.0 </td><td> 100.0 </td><td> 1.95 \\$/lb </td></tr>\n",
    "<tr><td> Butterfat </td><td> 100 </td><td> 0.0 </td><td> 1.77 \\$/lb </td></tr>\n",
    "</table>\n",
    "\n",
    "Suppose a source can provide 5000 lb/hour of raw whole milk containing 3.85 wt% fat, and 8.85 wt% non-fat solids. The processor can produce a slate of products consisting of regular milk, skim milk, non-fat dry milk, and butterfat in whatever quantities are needed. Specify the product flows that maximize the revenue returned by this operation. What is the highest price the processor can pay for raw milk and still generate a positive cash flow?\n",
    "\n",
    "(See [here](http://www.dailydairyreport.com/) for more background on the diary industry.)\n"
   ]
  },
  {
   "cell_type": "markdown",
   "metadata": {},
   "source": [
    "## Solution"
   ]
  },
  {
   "cell_type": "code",
   "execution_count": 2,
   "metadata": {
    "collapsed": false
   },
   "outputs": [],
   "source": [
    "import sympy as sym\n",
    "sym.init_printing()"
   ]
  },
  {
   "cell_type": "markdown",
   "metadata": {},
   "source": [
    "### Define Streams\n",
    "\n",
    "The first step is to label the streams, and create mass flow variables corresponding to each stream."
   ]
  },
  {
   "cell_type": "code",
   "execution_count": 3,
   "metadata": {
    "collapsed": false
   },
   "outputs": [
    {
     "data": {
      "image/png": "[encoded data removed]",
      "text/latex": [
       "$$\\left [ M_{1}, \\quad M_{2}, \\quad M_{3}, \\quad M_{4}, \\quad M_{5}\\right ]$$"
      ],
      "text/plain": [
       "[M₁, M₂, M₃, M₄, M₅]"
      ]
     },
     "execution_count": 3,
     "metadata": {},
     "output_type": "execute_result"
    }
   ],
   "source": [
    "sym.var(['M1','M2','M3','M4','M5'])"
   ]
  },
  {
   "cell_type": "code",
   "execution_count": 4,
   "metadata": {
    "collapsed": false
   },
   "outputs": [
    {
     "data": {
      "text/plain": [
       "{M2: 'Regular Milk Product',\n",
       " M1: 'Raw Milk',\n",
       " M4: 'Nonfat Dry Milk Product',\n",
       " M3: 'Skim Milk Product',\n",
       " M5: 'Butterfat Product'}"
      ]
     },
     "execution_count": 4,
     "metadata": {},
     "output_type": "execute_result"
    }
   ],
   "source": [
    "prods = {};\n",
    "prods[M1] = \"Raw Milk\"\n",
    "prods[M2] = \"Regular Milk Product\"\n",
    "prods[M3] = \"Skim Milk Product\"\n",
    "prods[M4] = \"Nonfat Dry Milk Product\"\n",
    "prods[M5] = \"Butterfat Product\"\n",
    "prods"
   ]
  },
  {
   "cell_type": "markdown",
   "metadata": {},
   "source": [
    "### Material Balances"
   ]
  },
  {
   "cell_type": "code",
   "execution_count": 5,
   "metadata": {
    "collapsed": false
   },
   "outputs": [
    {
     "name": "stdout",
     "output_type": "stream",
     "text": [
      "M1 == M2 + M3 + M4 + M5\n",
      "0.0385*M1 == 0.0325*M2 + 0.001*M3 + 1.0*M5\n",
      "0.0885*M1 == 0.0825*M2 + 0.0825*M3 + 1.0*M4\n"
     ]
    }
   ],
   "source": [
    "mbal = [\n",
    "    sym.Eq(M1, M2 + M3 + M4 + M5),\n",
    "    sym.Eq(0.0385*M1, 0.0325*M2 + 0.001*M3 + 0*M4 + 1.00*M5),\n",
    "    sym.Eq(0.0885*M1, 0.0825*M2 + 0.0825*M3 + 1.00*M4 + 0*M5)\n",
    "]\n",
    "\n",
    "for m in mbal:\n",
    "    print m"
   ]
  },
  {
   "cell_type": "markdown",
   "metadata": {},
   "source": [
    "### Specifications"
   ]
  },
  {
   "cell_type": "code",
   "execution_count": 6,
   "metadata": {
    "collapsed": false
   },
   "outputs": [],
   "source": [
    "specs = [\n",
    "    sym.Eq(M1, 5000)\n",
    "]"
   ]
  },
  {
   "cell_type": "markdown",
   "metadata": {},
   "source": [
    "### Finding Feasible Solutions to the Material Balances"
   ]
  },
  {
   "cell_type": "code",
   "execution_count": 7,
   "metadata": {
    "collapsed": false
   },
   "outputs": [
    {
     "name": "stdout",
     "output_type": "stream",
     "text": [
      "M2 : -31.711431166472*M5 + 5953.41896976774\n",
      "M1 : 5000.00000000000\n",
      "M4 : 0.0899182561307902*M5 + 32.6975476839237\n",
      "M3 : 30.6215129103412*M5 - 986.116517451667\n"
     ]
    }
   ],
   "source": [
    "soln = sym.solve(specs + mbal)\n",
    "\n",
    "for m in soln.keys():\n",
    "    print m, \":\", soln[m]"
   ]
  },
  {
   "cell_type": "markdown",
   "metadata": {},
   "source": [
    "Let's repeat this step, this time specifying precisely which variables to solve for. The solutions will be found in terms of the remaining variables of the problem."
   ]
  },
  {
   "cell_type": "code",
   "execution_count": 8,
   "metadata": {
    "collapsed": false
   },
   "outputs": [
    {
     "name": "stdout",
     "output_type": "stream",
     "text": [
      "M2 : -31.711431166472*M5 + 5953.41896976774\n",
      "M1 : 5000.00000000000\n",
      "M4 : 0.0899182561307902*M5 + 32.6975476839237\n",
      "M3 : 30.6215129103412*M5 - 986.116517451667\n"
     ]
    }
   ],
   "source": [
    "soln = sym.solve(specs + mbal,[M1,M2,M3,M4])\n",
    "\n",
    "for m in soln.keys():\n",
    "    print m, \":\", soln[m]"
   ]
  },
  {
   "cell_type": "markdown",
   "metadata": {},
   "source": [
    "What are the feasible values of $M_5$?"
   ]
  },
  {
   "cell_type": "code",
   "execution_count": 9,
   "metadata": {
    "collapsed": false,
    "scrolled": true
   },
   "outputs": [
    {
     "data": {
      "image/png": "[encoded data removed]",
      "text/plain": [
       "<matplotlib.figure.Figure at 0x10be4ac90>"
      ]
     },
     "metadata": {},
     "output_type": "display_data"
    },
    {
     "name": "stdout",
     "output_type": "stream",
     "text": [
      "[187.737315875614]\n"
     ]
    },
    {
     "data": {
      "image/png": "[encoded data removed]",
      "text/plain": [
       "<matplotlib.figure.Figure at 0x10c036b10>"
      ]
     },
     "metadata": {},
     "output_type": "display_data"
    },
    {
     "name": "stdout",
     "output_type": "stream",
     "text": [
      "[32.2033898305085]\n"
     ]
    },
    {
     "data": {
      "image/png": "[encoded data removed]",
      "text/plain": [
       "<matplotlib.figure.Figure at 0x10c04ef10>"
      ]
     },
     "metadata": {},
     "output_type": "display_data"
    },
    {
     "name": "stdout",
     "output_type": "stream",
     "text": [
      "[-363.636363636364]\n"
     ]
    }
   ],
   "source": [
    "sym.plot(M2.subs(soln),(M5,0,200))\n",
    "print sym.solve(M2.subs(soln),M5)\n",
    "\n",
    "sym.plot(M3.subs(soln),(M5,0,200))\n",
    "print sym.solve(M3.subs(soln),M5)\n",
    "\n",
    "sym.plot(M4.subs(soln),(M5,0,200))\n",
    "print sym.solve(M4.subs(soln),M5)"
   ]
  },
  {
   "cell_type": "code",
   "execution_count": 10,
   "metadata": {
    "collapsed": true
   },
   "outputs": [],
   "source": [
    "M5_max = sym.solve(M2.subs(soln))[0]\n",
    "M5_min = sym.solve(M3.subs(soln))[0]"
   ]
  },
  {
   "cell_type": "markdown",
   "metadata": {},
   "source": [
    "### Finding a Solution to Maximize Revenue"
   ]
  },
  {
   "cell_type": "code",
   "execution_count": 11,
   "metadata": {
    "collapsed": false
   },
   "outputs": [
    {
     "name": "stdout",
     "output_type": "stream",
     "text": [
      "0.0362294018424814*M5 + 1184.67735824575\n"
     ]
    }
   ],
   "source": [
    "Revenue = 21.48*M2.subs(soln)/100.0 \\\n",
    "          + 16.01*M3.subs(soln)/100.0 \\\n",
    "          + 1.95*M4.subs(soln) \\\n",
    "          + 1.77*M5\n",
    "\n",
    "print Revenue"
   ]
  },
  {
   "cell_type": "code",
   "execution_count": 12,
   "metadata": {
    "collapsed": false
   },
   "outputs": [
    {
     "data": {
      "image/png": "[encoded data removed]",
      "text/plain": [
       "<matplotlib.figure.Figure at 0x10c0f9dd0>"
      ]
     },
     "metadata": {},
     "output_type": "display_data"
    },
    {
     "data": {
      "text/plain": [
       "<sympy.plotting.plot.Plot at 0x10c0f9a10>"
      ]
     },
     "execution_count": 12,
     "metadata": {},
     "output_type": "execute_result"
    }
   ],
   "source": [
    "sym.plot(Revenue,(M5,M5_min,M5_max))"
   ]
  },
  {
   "cell_type": "code",
   "execution_count": 13,
   "metadata": {
    "collapsed": false
   },
   "outputs": [
    {
     "name": "stdout",
     "output_type": "stream",
     "text": [
      "M2 :   4932.2 lb/hr  Regular Milk Product\n",
      "M1 :   5000.0 lb/hr  Raw Milk\n",
      "M4 :     35.6 lb/hr  Nonfat Dry Milk Product\n",
      "M3 :      0.0 lb/hr  Skim Milk Product\n",
      "M5 :     32.2 lb/hr  Butterfat Product\n"
     ]
    }
   ],
   "source": [
    "opt = [sym.Eq(M5_min,M5)]\n",
    "\n",
    "soln = sym.solve(mbal + specs + opt)\n",
    "\n",
    "for m in soln.keys():\n",
    "    print \"{0:2s} : {1:8.1f} lb/hr  {2}\".format(m,soln[m], prods[m])"
   ]
  },
  {
   "cell_type": "markdown",
   "metadata": {},
   "source": [
    "Revenue and Milk Price Calculations"
   ]
  },
  {
   "cell_type": "code",
   "execution_count": 14,
   "metadata": {
    "collapsed": false
   },
   "outputs": [
    {
     "name": "stdout",
     "output_type": "stream",
     "text": [
      "   Maximum Revenue = $ 1185.84/hr\n",
      "Max Raw Milk Price = $    0.24/lb\n"
     ]
    }
   ],
   "source": [
    "print \"   Maximum Revenue = ${0:8.2f}/hr\".format(Revenue.subs(soln))\n",
    "print \"Max Raw Milk Price = ${0:8.2f}/lb\".format(Revenue.subs(soln)/5000.0)\n",
    "\n"
   ]
  },
  {
   "cell_type": "code",
   "execution_count": null,
   "metadata": {
    "collapsed": false
   },
   "outputs": [],
   "source": []
  }
 ],
 "metadata": {
  "kernelspec": {
   "display_name": "Python 2",
   "language": "python",
   "name": "python2"
  },
  "language_info": {
   "codemirror_mode": {
    "name": "ipython",
    "version": 2
   },
   "file_extension": ".py",
   "mimetype": "text/x-python",
   "name": "python",
   "nbconvert_exporter": "python",
   "pygments_lexer": "ipython2",
   "version": "2.7.9"
  }
 },
 "nbformat": 4,
 "nbformat_minor": 0
}
