{
 "metadata": {
  "name": ""
 },
 "nbformat": 3,
 "nbformat_minor": 0,
 "worksheets": [
  {
   "cells": [
    {
     "cell_type": "heading",
     "level": 1,
     "metadata": {},
     "source": [
      "Solving Material Balances using SymPy"
     ]
    },
    {
     "cell_type": "markdown",
     "metadata": {},
     "source": [
      "This [IPython notebook](http://ipython.org/notebook.html) demonstrates the formulation and solution of material balances for process flowsheets using the [symbolic algebra package Sympy](http://sympy.org/en/index.html).\n",
      "\n",
      "J.C. Kantor (Kantor.1@nd.edu)\n",
      "\n",
      "The latest version of this IPython notebook is available at [http://github.com/jckantor/CBE20255](http://github.com/jckantor/CBE20255)  for noncommercial use under terms of the [Creative Commons Attribution Noncommericial ShareAlike License](http://creativecommons.org/licenses/by-nc-sa/4.0/)."
     ]
    },
    {
     "cell_type": "heading",
     "level": 2,
     "metadata": {},
     "source": [
      "Introduction"
     ]
    },
    {
     "cell_type": "markdown",
     "metadata": {},
     "source": [
      "While material balances for chemical processes are readily expressed as linear equations, extracting the matrix of coefficients for the linear equations can be tedious and error-prone. Fortunately, symbolic calculations can be used to solve material balance problems typical of introductory chemical engineering courses. This is demonstrated below using an example from the textbook *\n",
      "Introduction to Chemical Processes: Principles, Analysis, and Synthesis* by Regina Murphy."
     ]
    },
    {
     "cell_type": "heading",
     "level": 2,
     "metadata": {},
     "source": [
      "Problem Statement (Murphy 2005, Example 3.19)"
     ]
    },
    {
     "cell_type": "markdown",
     "metadata": {},
     "source": [
      "The problem is to analyze the capability of an existing process for the production of ethylene oxide by the reaction of ethylene and oxygen\n",
      "\n",
      "$$2\\,C_2H_4 + O_2 \\longrightarrow 2\\,C_2H_4O$$\n",
      "\n",
      "The target production is 1.7 kgmol/year of an ethylene oxide product with 98 mol% purity. The feedrate of ethylene is specified as 196 kgmol/hr, and of oxygen is specified as 84.5 kgmol/hr. The reactor has a nominal single pass conversion of 6% ethylene. The separator recovers 98% of the ethylene and 99.5% of the oxygen for recycle, and 97% of the ethylene oxide for the product stream.  \n",
      "\n",
      "<img src=\"https://raw.github.com/jckantor/CBE20255/master/notebooks/images/ethylene_oxide_flowsheet.png\" width=600px>\n",
      "\n",
      "The problem is to find the nominal product purity and production rates, and to examine the sensitivity of product purity and production to the equipment specifications."
     ]
    },
    {
     "cell_type": "heading",
     "level": 2,
     "metadata": {},
     "source": [
      "Solution"
     ]
    },
    {
     "cell_type": "markdown",
     "metadata": {},
     "source": [
      "Sympy is a library written in pure python for symbolic algebra. The solution strategy is to represent the stream variables and reaction extents as symbolic variables, then express the material balances and process specifications as symbolic equations, and finally to use the Sympy solver to find a nominal solution and to perform parametric analyses."
     ]
    },
    {
     "cell_type": "code",
     "collapsed": false,
     "input": [
      "import sympy as sym\n",
      "from sympy import *"
     ],
     "language": "python",
     "metadata": {},
     "outputs": [],
     "prompt_number": 1
    },
    {
     "cell_type": "heading",
     "level": 3,
     "metadata": {},
     "source": [
      "Variables"
     ]
    },
    {
     "cell_type": "heading",
     "level": 4,
     "metadata": {},
     "source": [
      "Stream Variables"
     ]
    },
    {
     "cell_type": "markdown",
     "metadata": {},
     "source": [
      "The stream variables are systematically created using the Sympy `symbols` function, and added to the list `stream_variables`."
     ]
    },
    {
     "cell_type": "code",
     "collapsed": false,
     "input": [
      "stream_variables = []\n",
      "\n",
      "# Stream 1\n",
      "var('E1 O1')\n",
      "stream_variables += [E1,O1]\n",
      "\n",
      "# Stream 2\n",
      "var('E2 O2 EO2')\n",
      "stream_variables += [E2,O2,EO2]\n",
      "\n",
      "# Stream 3\n",
      "var('E3 O3 EO3')\n",
      "stream_variables += [E3,O3,EO2]\n",
      "\n",
      "# Stream 4\n",
      "var('E4 O4 EO4')\n",
      "stream_variables += [E4,O4,EO4]\n",
      "\n",
      "# Stream 5\n",
      "var('E5 O5 EO5')\n",
      "stream_variables += [E5,O5,EO5]"
     ],
     "language": "python",
     "metadata": {},
     "outputs": [],
     "prompt_number": 2
    },
    {
     "cell_type": "heading",
     "level": 4,
     "metadata": {},
     "source": [
      "Extent of Reaction"
     ]
    },
    {
     "cell_type": "markdown",
     "metadata": {},
     "source": [
      "This problem includes only a single reaction in a single reactor. A corresponding extent of reaction variable is created, and a master list of all process variables is created."
     ]
    },
    {
     "cell_type": "code",
     "collapsed": false,
     "input": [
      "X = symbols('X')\n",
      "extents = [X]\n",
      "\n",
      "variables = stream_variables + extents"
     ],
     "language": "python",
     "metadata": {},
     "outputs": [],
     "prompt_number": 3
    },
    {
     "cell_type": "heading",
     "level": 3,
     "metadata": {},
     "source": [
      "Equations"
     ]
    },
    {
     "cell_type": "heading",
     "level": 4,
     "metadata": {},
     "source": [
      "Material Balances"
     ]
    },
    {
     "cell_type": "markdown",
     "metadata": {},
     "source": [
      "Material balances are written for each process unit using the symbolic stream and extent of reaction variables created above. Each material balance is expressed as the net rate of accumulation that will be set to zero to specify steady-state operation. The material balances are gathered into a list for each process unit, then the lists are concantenated to create a list of all material balances."
     ]
    },
    {
     "cell_type": "code",
     "collapsed": false,
     "input": [
      "mixer = [\n",
      "    E1 + E5 - E2,\n",
      "    O1 + O5 - O2,\n",
      "    EO5 - EO2]\n",
      "\n",
      "reactor = [\n",
      "    E2 - E3 - 2*X,\n",
      "    O2 - O3 - X,\n",
      "    EO2 - EO3 + 2*X]\n",
      "\n",
      "separator = [\n",
      "    E3 - E4 - E5,\n",
      "    O3 - O4 - O5,\n",
      "    EO3 - EO4 - EO5]\n",
      "\n",
      "material_balances = mixer + reactor + separator"
     ],
     "language": "python",
     "metadata": {},
     "outputs": [],
     "prompt_number": 4
    },
    {
     "cell_type": "markdown",
     "metadata": {},
     "source": [
      "#### Specifications\n",
      "\n",
      "Process specifications are written as equalities using the Sympy `Eq` function."
     ]
    },
    {
     "cell_type": "code",
     "collapsed": false,
     "input": [
      "feed_spec = [\n",
      "    Eq(E1, 196.0),\n",
      "    Eq(O1, 84.5)]\n",
      "\n",
      "reactor_spec = [\n",
      "    Eq(E2 - E3, 0.06*E2)]\n",
      "\n",
      "separator_spec = [\n",
      "    Eq(E5, 0.98*E3),\n",
      "    Eq(O5, 0.995*O3),\n",
      "    Eq(EO4, 0.97*EO3)]\n",
      "\n",
      "specifications = feed_spec + reactor_spec + separator_spec"
     ],
     "language": "python",
     "metadata": {},
     "outputs": [],
     "prompt_number": 5
    },
    {
     "cell_type": "heading",
     "level": 3,
     "metadata": {},
     "source": [
      "Degree of Freedom Analysis"
     ]
    },
    {
     "cell_type": "markdown",
     "metadata": {},
     "source": [
      "A simple degree of freedom analysis is to compare the number of variables to the number of equations."
     ]
    },
    {
     "cell_type": "code",
     "collapsed": false,
     "input": [
      "print \"\\n%d Variables = %d Stream Variables + %d Extents of Reaction \" \\\n",
      "    % (size(variables),size(stream_variables),size(extents))\n",
      "\n",
      "print \"\\n%d Stream Variables\\n\" % size(stream_variables)\n",
      "for v in stream_variables:\n",
      "    print \"Variable: \", v\n",
      "\n",
      "print \"\\n%d Extents of Reaction\\n\" % size(extents)\n",
      "for v in extents:\n",
      "    print \"Extent: \", v\n"
     ],
     "language": "python",
     "metadata": {},
     "outputs": [
      {
       "output_type": "stream",
       "stream": "stdout",
       "text": [
        "\n",
        "15 Variables = 14 Stream Variables + 1 Extents of Reaction \n",
        "\n",
        "14 Stream Variables\n",
        "\n",
        "Variable:  E1\n",
        "Variable:  O1\n",
        "Variable:  E2\n",
        "Variable:  O2\n",
        "Variable:  EO2\n",
        "Variable:  E3\n",
        "Variable:  O3\n",
        "Variable:  EO2\n",
        "Variable:  E4\n",
        "Variable:  O4\n",
        "Variable:  EO4\n",
        "Variable:  E5\n",
        "Variable:  O5\n",
        "Variable:  EO5\n",
        "\n",
        "1 Extents of Reaction\n",
        "\n",
        "Extent:  X\n"
       ]
      }
     ],
     "prompt_number": 6
    },
    {
     "cell_type": "code",
     "collapsed": false,
     "input": [
      "equations = material_balances + specifications\n",
      "print \"\\n%d Equations = %d Material Balances + %d Specifications\" \\\n",
      "    % (size(equations),size(material_balances),size(specifications))\n",
      "\n",
      "print \"\\n%d Material Balances\\n\" % size(material_balances)\n",
      "for mb in material_balances:\n",
      "    print \"0 == \", mb\n",
      "\n",
      "print \"\\n%d Specifications\\n\" % size(specifications)\n",
      "for spec in specifications:\n",
      "    print spec"
     ],
     "language": "python",
     "metadata": {},
     "outputs": [
      {
       "output_type": "stream",
       "stream": "stdout",
       "text": [
        "\n",
        "15 Equations = 9 Material Balances + 6 Specifications\n",
        "\n",
        "9 Material Balances\n",
        "\n",
        "0 ==  E1 - E2 + E5\n",
        "0 ==  O1 - O2 + O5\n",
        "0 ==  -EO2 + EO5\n",
        "0 ==  E2 - E3 - 2*X\n",
        "0 ==  O2 - O3 - X\n",
        "0 ==  EO2 - EO3 + 2*X\n",
        "0 ==  E3 - E4 - E5\n",
        "0 ==  O3 - O4 - O5\n",
        "0 ==  EO3 - EO4 - EO5\n",
        "\n",
        "6 Specifications\n",
        "\n",
        "E1 == 196.0\n",
        "O1 == 84.5\n",
        "E2 - E3 == 0.06*E2\n",
        "E5 == 0.98*E3\n",
        "O5 == 0.995*O3\n",
        "EO4 == 0.97*EO3\n"
       ]
      }
     ],
     "prompt_number": 7
    },
    {
     "cell_type": "heading",
     "level": 3,
     "metadata": {},
     "source": [
      "Solution"
     ]
    },
    {
     "cell_type": "heading",
     "level": 4,
     "metadata": {},
     "source": [
      "Nominal Solution"
     ]
    },
    {
     "cell_type": "code",
     "collapsed": false,
     "input": [
      "soln = solve(material_balances + specifications)\n",
      "\n",
      "for k in sorted(soln.keys()):\n",
      "    print '%-3s   %8.2f' % (k,soln[k])"
     ],
     "language": "python",
     "metadata": {},
     "outputs": [
      {
       "output_type": "stream",
       "stream": "stdout",
       "text": [
        "E1      196.00\n",
        "E2     2487.31\n",
        "E3     2338.07\n",
        "E4       46.76\n",
        "E5     2291.31\n",
        "EO2       4.62\n",
        "EO3     153.85\n",
        "EO4     149.24\n",
        "EO5       4.62\n",
        "O1       84.50\n",
        "O2     2050.76\n",
        "O3     1976.14\n",
        "O4        9.88\n",
        "O5     1966.26\n",
        "X        74.62\n"
       ]
      }
     ],
     "prompt_number": 8
    },
    {
     "cell_type": "code",
     "collapsed": false,
     "input": [
      "purity = soln[EO4]/(soln[EO4]+soln[E4]+soln[O4])\n",
      "production = 24*350*(soln[EO4] + soln[E4] + soln[O4])/1000000\n",
      "print \"Annual Production %4.2f million kgmol/year at %5.3f purity.\" \\\n",
      "    % (production,purity)"
     ],
     "language": "python",
     "metadata": {},
     "outputs": [
      {
       "output_type": "stream",
       "stream": "stdout",
       "text": [
        "Annual Production 1.73 million kgmol/year at 0.725 purity.\n"
       ]
      }
     ],
     "prompt_number": 9
    },
    {
     "cell_type": "heading",
     "level": 4,
     "metadata": {},
     "source": [
      "Parametric Analysis: Fractional Conversion of Ethylene"
     ]
    },
    {
     "cell_type": "markdown",
     "metadata": {},
     "source": [
      "The problem asked for an analysis of the sensitivity of the problem results to changes in unit performance. This is implemented by restating the specifications where a key parameter is replaced by a symbolic variable, and the process the performance plotted as a function of the parameter."
     ]
    },
    {
     "cell_type": "code",
     "collapsed": false,
     "input": [
      "feed_spec = [\n",
      "    Eq(E1, 196.0),\n",
      "    Eq(O1, 84.5)]\n",
      "\n",
      "fconv = symbols('fconv')\n",
      "reactor_spec = [\n",
      "    Eq(E2 - E3, fconv*E2)]\n",
      "\n",
      "separator_spec = [\n",
      "    Eq(E5, 0.98*E3),\n",
      "    Eq(O5, 0.995*O3),\n",
      "    Eq(EO4, 0.97*EO3)]\n",
      "\n",
      "specifications = feed_spec + reactor_spec + separator_spec"
     ],
     "language": "python",
     "metadata": {},
     "outputs": [],
     "prompt_number": 10
    },
    {
     "cell_type": "code",
     "collapsed": false,
     "input": [
      "soln = solve(material_balances + specifications)[0]\n",
      "\n",
      "purity = soln[EO4]/(soln[EO4]+soln[E4]+soln[O4])\n",
      "plot(purity,(fconv,0.06,0.12));"
     ],
     "language": "python",
     "metadata": {},
     "outputs": [
      {
       "metadata": {},
       "output_type": "display_data",
       "png": "[encoded data removed]",
       "text": [
        "<matplotlib.figure.Figure at 0x1069a5990>"
       ]
      }
     ],
     "prompt_number": 11
    },
    {
     "cell_type": "code",
     "collapsed": false,
     "input": [
      "production = 24*350*(soln[EO4] + soln[E4] + soln[O4])/1000000\n",
      "plot(production,(fconv,0.06,0.12));"
     ],
     "language": "python",
     "metadata": {},
     "outputs": [
      {
       "metadata": {},
       "output_type": "display_data",
       "png": "[encoded data removed]",
       "text": [
        "<matplotlib.figure.Figure at 0x1069a6bd0>"
       ]
      }
     ],
     "prompt_number": 12
    },
    {
     "cell_type": "heading",
     "level": 4,
     "metadata": {},
     "source": [
      "Parametric Analysis: Fractional Recovery of Ethylene Oxide to Product"
     ]
    },
    {
     "cell_type": "code",
     "collapsed": false,
     "input": [
      "feed_spec = [\n",
      "    Eq(E1,196.0),\n",
      "    Eq(O1, 84.5)]\n",
      "\n",
      "reactor_spec = [\n",
      "    Eq(E2 - E3, 0.06*E2)]\n",
      "\n",
      "frcvr = symbols('frcvr')\n",
      "separator_spec = [\n",
      "    Eq(E5, 0.98*E3),\n",
      "    Eq(O5, 0.995*O3),\n",
      "    Eq(EO4, frcvr*EO3)]\n",
      "\n",
      "specifications = feed_spec + reactor_spec + separator_spec\n",
      "soln = solve(material_balances + specifications)[0]"
     ],
     "language": "python",
     "metadata": {},
     "outputs": [],
     "prompt_number": 13
    },
    {
     "cell_type": "code",
     "collapsed": false,
     "input": [
      "purity = soln[EO4]/(soln[EO4]+soln[E4]+soln[O4])\n",
      "plot(purity,(frcvr,0.97,1.00));"
     ],
     "language": "python",
     "metadata": {},
     "outputs": [
      {
       "metadata": {},
       "output_type": "display_data",
       "png": "[encoded data removed]",
       "text": [
        "<matplotlib.figure.Figure at 0x1066d9510>"
       ]
      }
     ],
     "prompt_number": 14
    },
    {
     "cell_type": "code",
     "collapsed": false,
     "input": [
      "production = 24*350*(soln[EO4] + soln[E4] + soln[O4])/1000000\n",
      "plot(production,(frcvr,0.97,1.00));"
     ],
     "language": "python",
     "metadata": {},
     "outputs": [
      {
       "metadata": {},
       "output_type": "display_data",
       "png": "[encoded data removed]",
       "text": [
        "<matplotlib.figure.Figure at 0x106921210>"
       ]
      }
     ],
     "prompt_number": 15
    },
    {
     "cell_type": "heading",
     "level": 4,
     "metadata": {},
     "source": [
      "Parametric Analysis: Fractional Recovery of Ethylene to Recycle"
     ]
    },
    {
     "cell_type": "code",
     "collapsed": false,
     "input": [
      "feed_spec = [\n",
      "    Eq(E1,196.0),\n",
      "    Eq(O1, 84.5)]\n",
      "\n",
      "reactor_spec = [\n",
      "    Eq(E2 - E3, 0.06*E2)]\n",
      "\n",
      "frcvr = symbols('frcvr')\n",
      "separator_spec = [\n",
      "    Eq(E5, frcvr*E3),\n",
      "    Eq(O5, 0.995*O3),\n",
      "    Eq(EO4, 0.97*EO3)]\n",
      "\n",
      "specifications = feed_spec + reactor_spec + separator_spec\n",
      "soln = solve(material_balances + specifications)[0]"
     ],
     "language": "python",
     "metadata": {},
     "outputs": [],
     "prompt_number": 16
    },
    {
     "cell_type": "code",
     "collapsed": false,
     "input": [
      "purity = soln[EO4]/(soln[EO4]+soln[E4]+soln[O4])\n",
      "plot(purity,(frcvr,0.98,0.99));"
     ],
     "language": "python",
     "metadata": {},
     "outputs": [
      {
       "metadata": {},
       "output_type": "display_data",
       "png": "[encoded data removed]",
       "text": [
        "<matplotlib.figure.Figure at 0x106921ad0>"
       ]
      }
     ],
     "prompt_number": 17
    },
    {
     "cell_type": "code",
     "collapsed": false,
     "input": [
      "production = 24*350*(soln[EO4] + soln[E4] + soln[O4])/1000000\n",
      "plot(production,(frcvr,0.98,0.99));"
     ],
     "language": "python",
     "metadata": {},
     "outputs": [
      {
       "metadata": {},
       "output_type": "display_data",
       "png": "[encoded data removed]",
       "text": [
        "<matplotlib.figure.Figure at 0x1067460d0>"
       ]
      }
     ],
     "prompt_number": 18
    },
    {
     "cell_type": "heading",
     "level": 4,
     "metadata": {},
     "source": [
      "Parametric Analysis: Decrease Oxygen Feed Rate"
     ]
    },
    {
     "cell_type": "code",
     "collapsed": false,
     "input": [
      "oxyfeed = symbols('oxyfeed')\n",
      "feed_spec = [\n",
      "    Eq(E1,196.0),\n",
      "    Eq(O1,oxyfeed)]\n",
      "\n",
      "reactor_spec = [\n",
      "    Eq(E2 - E3, 0.06*E2)]\n",
      "\n",
      "separator_spec = [\n",
      "    Eq(E5, 0.98*E3),\n",
      "    Eq(O5, 0.995*O3),\n",
      "    Eq(EO4, 0.97*EO3)]\n",
      "\n",
      "specifications = feed_spec + reactor_spec + separator_spec\n",
      "soln = solve(material_balances + specifications)"
     ],
     "language": "python",
     "metadata": {},
     "outputs": [],
     "prompt_number": 19
    },
    {
     "cell_type": "code",
     "collapsed": false,
     "input": [
      "purity = soln[EO4]/(soln[EO4]+soln[E4]+soln[O4])\n",
      "plot(purity,(oxyfeed,74.5,84.5));"
     ],
     "language": "python",
     "metadata": {},
     "outputs": [
      {
       "metadata": {},
       "output_type": "display_data",
       "png": "[encoded data removed]",
       "text": [
        "<matplotlib.figure.Figure at 0x1069c3c50>"
       ]
      }
     ],
     "prompt_number": 20
    },
    {
     "cell_type": "code",
     "collapsed": false,
     "input": [
      "production = 24*350*(soln[EO4] + soln[E4] + soln[O4])/1000000\n",
      "plot(production,(oxyfeed,74.5,84.5));"
     ],
     "language": "python",
     "metadata": {},
     "outputs": [
      {
       "metadata": {},
       "output_type": "display_data",
       "png": "[encoded data removed]",
       "text": [
        "<matplotlib.figure.Figure at 0x106921fd0>"
       ]
      }
     ],
     "prompt_number": 21
    },
    {
     "cell_type": "heading",
     "level": 2,
     "metadata": {},
     "source": [
      "Conclusions"
     ]
    },
    {
     "cell_type": "markdown",
     "metadata": {},
     "source": [
      "* The nominal process specifications yield a product purity of 72.5 mol% and a production of 1.73 million kgmol/year. The product purity falls significantly short of the desired purity of 98 mol%.\n",
      "* Product purity can be increased by increasing the single-pass reactor conversion, increasing the recovery of ethylene to recycle, and decreasing oxygen feed. These changes, however, are not sufficient to meet to the desired purity, and all result in shortfall in desired production.\n",
      "* Symbolic computation provides a useful method for the analysis of simple process flowsheets."
     ]
    }
   ],
   "metadata": {}
  }
 ]
}