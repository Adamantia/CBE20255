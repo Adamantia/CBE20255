{
 "metadata": {
  "name": ""
 },
 "nbformat": 3,
 "nbformat_minor": 0,
 "worksheets": [
  {
   "cells": [
    {
     "cell_type": "heading",
     "level": 1,
     "metadata": {},
     "source": [
      "Torpedo Propulsion"
     ]
    },
    {
     "cell_type": "markdown",
     "metadata": {},
     "source": [
      "This [IPython notebook](http://ipython.org/notebook.html) demonstrates a variety of energy calculations analyzing the design requirements for propulsion systems of naval torpedos.\n",
      "\n",
      "J.C. Kantor (Kantor.1@nd.edu)\n",
      "\n",
      "The latest version of this IPython notebook is available at [http://github.com/jckantor/CBE20255](http://github.com/jckantor/CBE20255)  for noncommercial use under terms of the [Creative Commons Attribution Noncommericial ShareAlike License](http://creativecommons.org/licenses/by-nc-sa/4.0/)."
     ]
    },
    {
     "cell_type": "heading",
     "level": 2,
     "metadata": {},
     "source": [
      "Background"
     ]
    },
    {
     "cell_type": "markdown",
     "metadata": {},
     "source": [
      "[Torpedo technology](https://www.youtube.com/watch?v=RV8MF-440xg) contributes to the security and safety of naval forces. In this notebook we explore requirements and design alternatives for torpedo propulsion."
     ]
    },
    {
     "cell_type": "markdown",
     "metadata": {},
     "source": [
      "<img src = \"https://www.fas.org/man/dod-101/sys/ship/weaps/torpedo_comp.gif\">"
     ]
    },
    {
     "cell_type": "heading",
     "level": 2,
     "metadata": {},
     "source": [
      "1. Propulsion Energy Requirements"
     ]
    },
    {
     "cell_type": "markdown",
     "metadata": {},
     "source": [
      "The [drag force on a torpedo](http://tglang.com/uploads/Hydrodynamic_Drag_of_Torpedoes.pdf) is given by the formula\n",
      "\n",
      "$$F_D = \\frac{1}{2}\\rho v^2 C_D A $$\n",
      "\n",
      "where $C_D$ is the drag coefficient, $\\rho$ is the density of the fluid, $v$ is velocity, and $A$ is the cross-sectional area. Assume $C_D = 0.095$ for a well-designed torpedo. \n",
      "\n",
      "The Mk-48 ADCAP, which is 21 inches in diameter and a mass of 1,663 kg, is claimed to have a range of 42,530 yards at 55 knots. \n",
      "\n",
      "* What is the power requirement in kw and horsepower at these speeds? \n",
      "* How much energy is required to accelerate the torpedo to its operating speed?  \n",
      "* How much energy is required to cover the range of operation? \n",
      "* Assuming the propulsion system has an overall efficiency of 25%, how much fuel energy is required?"
     ]
    },
    {
     "cell_type": "heading",
     "level": 3,
     "metadata": {},
     "source": [
      "1.a Hydrodynamic Power Requirement"
     ]
    },
    {
     "cell_type": "code",
     "collapsed": false,
     "input": [
      "# One knot = 0.51444 meters per sec\n",
      "v = 55*0.51444\n",
      "\n",
      "# One inch = 0.0254 meters\n",
      "A = 0.25*pi*(21*0.0254)**2\n",
      "\n",
      "Cd = 0.095\n",
      "rho = 1025.0   # kg/m**3 (sea water)\n",
      "Fd = 0.5*rho*v**2*Cd*A\n",
      "\n",
      "print \"Drag force at 55 knots = {:6.1f} Newtons\".format(Fd)\n",
      "\n",
      "W = v*Fd\n",
      "\n",
      "print \"Power requirement at 55 knots = {:6.1f} Watts\".format(W)\n",
      "print \"Power requirement at 55 knots = {:6.1f} Hp\".format(W/745.7)"
     ],
     "language": "python",
     "metadata": {},
     "outputs": [
      {
       "output_type": "stream",
       "stream": "stdout",
       "text": [
        "Drag force at 55 knots = 8709.8 Newtons\n",
        "Power requirement at 55 knots = 246436.8 Watts\n",
        "Power requirement at 55 knots =  330.5 Hp\n"
       ]
      }
     ],
     "prompt_number": 1
    },
    {
     "cell_type": "heading",
     "level": 3,
     "metadata": {},
     "source": [
      "1.b Energy to Accelerate"
     ]
    },
    {
     "cell_type": "code",
     "collapsed": false,
     "input": [
      "m = 1663.0       # kg\n",
      "v = 55*0.51444   # m/s\n",
      "Ea = 0.5*m*v**2   # Joules\n",
      "\n",
      "print \"Energy required to accelerate to 55 knots= {:6.1f} kJ\".format(Ea/1000.0)"
     ],
     "language": "python",
     "metadata": {},
     "outputs": [
      {
       "output_type": "stream",
       "stream": "stdout",
       "text": [
        "Energy required to accelerate to 55 knots=  665.7 kJ\n"
       ]
      }
     ],
     "prompt_number": 2
    },
    {
     "cell_type": "heading",
     "level": 3,
     "metadata": {},
     "source": [
      "1.c Energy to Reach Terminal Range"
     ]
    },
    {
     "cell_type": "code",
     "collapsed": false,
     "input": [
      "d = 42530*0.9144       # meters\n",
      "v = 55*0.51444         # m/s\n",
      "t = d/v                # seconds to range\n",
      "Er = W*t               # energy required\n",
      "\n",
      "print \"Time required for range = {:6.1f} sec\".format(t)\n",
      "print \"Energy required for range = {:7.1f} kJ\".format(Er/1000)"
     ],
     "language": "python",
     "metadata": {},
     "outputs": [
      {
       "output_type": "stream",
       "stream": "stdout",
       "text": [
        "Time required for range = 1374.5 sec\n",
        "Energy required for range = 338719.2 kJ\n"
       ]
      }
     ],
     "prompt_number": 3
    },
    {
     "cell_type": "heading",
     "level": 3,
     "metadata": {},
     "source": [
      "1.d Fuel Energy Requirement"
     ]
    },
    {
     "cell_type": "code",
     "collapsed": false,
     "input": [
      "E_fuel = (Er + Ea)/0.25/1000.0      # kJ\n",
      "print \"Fuel Energy Requirment at 25% eff. = {:6.1f} kJ\".format(E_fuel)"
     ],
     "language": "python",
     "metadata": {},
     "outputs": [
      {
       "output_type": "stream",
       "stream": "stdout",
       "text": [
        "Fuel Energy Requirment at 25% eff. = 1357539.5 kJ\n"
       ]
      }
     ],
     "prompt_number": 4
    },
    {
     "cell_type": "heading",
     "level": 2,
     "metadata": {},
     "source": [
      "2. Mk 48 Torpedos"
     ]
    },
    {
     "cell_type": "markdown",
     "metadata": {},
     "source": [
      "<table>\n",
      "<tr><td>\n",
      "<img src=\"http://upload.wikimedia.org/wikipedia/commons/thumb/8/80/Mk_48_torpedo_maintenance_1982.JPEG/642px-Mk_48_torpedo_maintenance_1982.JPEG\" style=\"height:250px\"/>\n",
      "</td><td><img src=\"https://www.fas.org/man/dod-101/sys/ship/weaps/mk-48-dvic472.jpg\" style=\"height:250px\"/>\n",
      "</td></tr>\n",
      "</table>\n",
      "\n",
      "The Mk 48 and torpedos use an a monopropellant knowns at Otto Fuel to drive a hot-gas piston engine. The principle component of Otto fuel is propylene glycol dinitrate (PGDN, also called by its IUPAC name 1,2-propanediol dinitrate) that makes up 76% of the fuel by weight. Assuming the reaction proceeds as\n",
      "\n",
      "C<sub>3</sub>H<sub>6</sub>N<sub>2</sub>O<sub>6</sub> &rarr; 3 CO<sub>2</sub> + 3 NH<sub>3</sub>\n",
      "\n",
      "* What is the specific energy content measured as kJ/kg of fuel at standard conditions?\n",
      "\n",
      "* The Mk 48 torpedo has an estimated maximum operating depth of 800m. What is specific energy content of the fuel at the pressure encountered at that depth?\n",
      "\n",
      "* How much fuel will be required by the Mk 48 ADCAP?"
     ]
    },
    {
     "cell_type": "heading",
     "level": 3,
     "metadata": {},
     "source": [
      "2.a Specific Enthalpy of Reaction"
     ]
    },
    {
     "cell_type": "markdown",
     "metadata": {},
     "source": [
      "The [density of Otto fuel](http://www.copperheadchemical.com/Defense/OTTOFuelII_0106.pdf) is 1.232 g/ml. The thermochemical data for [1,2-propanediol dinitrate](http://webbook.nist.gov/cgi/cbook.cgi?Name=1%2C2-propanediol+dinitrate&Units=SI) is available from the NIST Webbook."
     ]
    },
    {
     "cell_type": "code",
     "collapsed": false,
     "input": [
      "mw = dict()\n",
      "mw['PGDN'] = 166.0895   # g/gmol\n",
      "\n",
      "Hf = dict()\n",
      "Hf['PGDN'] = -296.9    # kJ/gmol\n",
      "Hf['CO2'] = -393.5      \n",
      "Hf['NH3'] = -45.94  \n",
      "\n",
      "dH = 3*Hf['CO2'] + 3*Hf['NH3'] - Hf['PGDN']\n",
      "print \"Molar Heat of Reaction = {:6.1f} kJ/gmol PGDN\".format(dH)\n",
      "\n",
      "dH_fuel = 0.76*1000*dH/mw['PGDN']\n",
      "print \"Heat of Reaction = {:6.1f} kJ/kg fuel\".format(dH_fuel)\n"
     ],
     "language": "python",
     "metadata": {},
     "outputs": [
      {
       "output_type": "stream",
       "stream": "stdout",
       "text": [
        "Molar Heat of Reaction = -1021.4 kJ/gmol PGDN\n",
        "Heat of Reaction = -4673.9 kJ/kg fuel\n"
       ]
      }
     ],
     "prompt_number": 5
    },
    {
     "cell_type": "heading",
     "level": 3,
     "metadata": {},
     "source": [
      "2.b Specific Enthalpy of Reaction at 800m"
     ]
    },
    {
     "cell_type": "code",
     "collapsed": false,
     "input": [
      "# volume of fuel per kg-mol of PGDN\n",
      "rho = 1232.0         # kg/m**3\n",
      "gmols = rho*0.76*1000.0/mw['PGDN'] # gmols/m**3\n",
      "Vhat = 1.0/gmols     # m**3/gmol\n",
      "\n",
      "\n",
      "Patm = 101325.0      # N/m**2\n",
      "P800 = Patm + 800.0*1025.0*9.81   # N/m**2\n",
      "R = 8.314            # m**3Pa/K/gmol\n",
      "T = 298.15           # standard temperature\n",
      "\n",
      "Hf['PGDN'] = -296.9 + Vhat*(P800-Patm)/1000\n",
      "Hf['CO2'] = -393.5 + R*T*log(P800/Patm)/1000\n",
      "Hf['NH3'] = -45.94 + R*T*log(P800/Patm)/1000\n",
      "\n",
      "dH = 3*Hf['CO2'] + 3*Hf['NH3'] - Hf['PGDN']\n",
      "print \"Molar Heat of Reaction = {:6.1f} kJ/gmol PGDN\".format(dH)\n",
      "\n",
      "dH_fuel_800 = 0.76*1000*dH/mw['PGDN']\n",
      "print \"Heat of Reaction = {:6.1f} kJ/kg fuel\".format(dH_fuel_800)\n"
     ],
     "language": "python",
     "metadata": {},
     "outputs": [
      {
       "output_type": "stream",
       "stream": "stdout",
       "text": [
        "Molar Heat of Reaction = -957.6 kJ/gmol PGDN\n",
        "Heat of Reaction = -4381.8 kJ/kg fuel\n"
       ]
      }
     ],
     "prompt_number": 6
    },
    {
     "cell_type": "heading",
     "level": 3,
     "metadata": {},
     "source": [
      "2.c Fuel Requirements"
     ]
    },
    {
     "cell_type": "code",
     "collapsed": false,
     "input": [
      "mass_fuel = E_fuel/(-dH_fuel)\n",
      "print \"Otto Fuel Required = {:6.1f} kg\".format(mass_fuel)"
     ],
     "language": "python",
     "metadata": {},
     "outputs": [
      {
       "output_type": "stream",
       "stream": "stdout",
       "text": [
        "Otto Fuel Required =  290.5 kg\n"
       ]
      }
     ],
     "prompt_number": 7
    },
    {
     "cell_type": "markdown",
     "metadata": {},
     "source": [
      "We can also try and estimate the fuel capacity from [avialable diagrams of the Mk 48 torpedo](http://www.navsea.navy.mil/nuwc/newport/MAST/MK48.pdf). "
     ]
    },
    {
     "cell_type": "code",
     "collapsed": false,
     "input": [
      "L = (400.0/1951.0)*5.86         # length of fuel tank in m\n",
      "A = 0.25*pi*(0.50)**2          # cross-sectional area in m\n",
      "V = A*L*1000.0                  # volume in liters\n",
      "rho = 1.232                     # Otto fuel density in g/ml\n",
      "\n",
      "print \"Maximum fuel capacity = {:6.1f} liters\".format(V)\n",
      "print \"Maximum fuel capacity = {:6.1f} kg\".format(V*rho)"
     ],
     "language": "python",
     "metadata": {},
     "outputs": [
      {
       "output_type": "stream",
       "stream": "stdout",
       "text": [
        "Maximum fuel capacity =  235.9 liters\n",
        "Maximum fuel capacity =  290.6 kg\n"
       ]
      }
     ],
     "prompt_number": 8
    },
    {
     "cell_type": "heading",
     "level": 3,
     "metadata": {},
     "source": [
      "2.d Second Estimate of Fuel Requirements"
     ]
    },
    {
     "cell_type": "markdown",
     "metadata": {},
     "source": [
      "Compute the engine work requirement assuming an 85% propulsion system efficiency, and a motor conversion efficiency of 88% (same as a Tesla roadster)."
     ]
    },
    {
     "cell_type": "code",
     "collapsed": false,
     "input": [
      "W_engine = (Ea+Er)/0.85/0.88"
     ],
     "language": "python",
     "metadata": {},
     "outputs": [],
     "prompt_number": 9
    },
    {
     "cell_type": "markdown",
     "metadata": {},
     "source": [
      "Estimate the adiabatic combustion temperature assuming that 76% of the fuel mass is available for a sensible temperature increase."
     ]
    },
    {
     "cell_type": "code",
     "collapsed": false,
     "input": [
      "Cp = dict()\n",
      "Cp['CO2'] = 35.6           # J/K/gmol\n",
      "Cp['NH3'] = 37.0           # J/K/gmol\n",
      "\n",
      "Tcomb = 298.15 - 0.76*dH*1000.0/(3*Cp['CO2'] + 3*Cp['NH3'])\n",
      "print \"Estimated Combustion Temperature = {:6.1f} K\".format(Tcomb)"
     ],
     "language": "python",
     "metadata": {},
     "outputs": [
      {
       "output_type": "stream",
       "stream": "stdout",
       "text": [
        "Estimated Combustion Temperature = 3639.6 K\n"
       ]
      }
     ],
     "prompt_number": 10
    },
    {
     "cell_type": "markdown",
     "metadata": {},
     "source": [
      "Assume that work is extracted by a 12-to-1 [adiabatic expansion of the combustion gases](http://en.wikipedia.org/wiki/Adiabatic_process) in a hot-gas piston engine, compute the moles of hot gas required."
     ]
    },
    {
     "cell_type": "code",
     "collapsed": false,
     "input": [
      "R = 8.314                  #  m**3\u2009Pa/K/gmol\n",
      "gamma = (0.52+0.21)/(0.4 + 0.16)\n",
      "alpha = 1.0/(gamma-1)\n",
      "Vr = 1.0 - 12.0**(1-gamma)\n",
      "n_gas = W_engine/alpha/8.314/Tcomb/Vr\n",
      "print \"gram-moles of hot gas required = {:6.1f}\".format(n_gas)"
     ],
     "language": "python",
     "metadata": {},
     "outputs": [
      {
       "output_type": "stream",
       "stream": "stdout",
       "text": [
        "gram-moles of hot gas required = 8593.5\n"
       ]
      }
     ],
     "prompt_number": 11
    },
    {
     "cell_type": "markdown",
     "metadata": {},
     "source": [
      "Assume the fuel additives have the same average molecular weight as the ammonia/carbon dioxide mixture."
     ]
    },
    {
     "cell_type": "code",
     "collapsed": false,
     "input": [
      "n_pgdn = (0.76*n_gas)/6.0\n",
      "\n",
      "mass_pgdn = mw['PGDN']*n_pgdn\n",
      "mass_otto = mass_pgdn/0.76/1000.0\n",
      "\n",
      "print \"Otto fuel required = {:6.1f} kg\".format(mass_otto)"
     ],
     "language": "python",
     "metadata": {},
     "outputs": [
      {
       "output_type": "stream",
       "stream": "stdout",
       "text": [
        "Otto fuel required =  237.9 kg\n"
       ]
      }
     ],
     "prompt_number": 12
    },
    {
     "cell_type": "heading",
     "level": 2,
     "metadata": {},
     "source": [
      "3. Mk 50 Torpedo"
     ]
    },
    {
     "cell_type": "markdown",
     "metadata": {},
     "source": [
      "The [Mk 50 torpedo](http://en.wikipedia.org/wiki/Mark_50_torpedo) was designed a lightweight device that could be used against fast and deep-diving submarines. A critical part of its design is the Stored Chemical Energy Propulsion System (SCEPS) in which sulfur hexaflouride gas is sprayed onto a solid block of lithium to produce the heat necessary to run a steam-powered, closed-cycle rankine engine. "
     ]
    },
    {
     "cell_type": "markdown",
     "metadata": {},
     "source": [
      "<iframe width=\"420\" height=\"315\" src=\"//www.youtube.com/embed/d-XbjFn3aqE\" frameborder=\"0\" allowfullscreen></iframe>"
     ]
    },
    {
     "cell_type": "markdown",
     "metadata": {},
     "source": [
      "Sulfur hexaflouride is relatively inert, but does react with lithium at an operating temperature of about 790 &deg;C via the [stoichiometric reaction](http://www.dtic.mil/dtic/tr/fulltext/u2/a224846.pdf)\n",
      "\n",
      "8 Li + SF<sub>6</sub> &rarr; Li<sub>2</sub>S + 6 LiF\n",
      "\n",
      "This reaction produces no gaseous products allowing the propulsion system can be self-contained, an enormous design advantage for the power system of a torpedo that must operate under high pressure conditions in deep ocean waters.\n",
      "\n",
      "* Estimate the heat of reaction at the normal operating conditions. \n",
      "* What is the heat of reaction per unit mass of reactants?  Per unit volume? Compare to the lower heating values of some common fuels.\n",
      "* The heat is used to generate steam for a closed cycle Rankine engine employing a steam turbine. The creep limit of stainless steel limits the inlet temperature of the steam turbine to 565 &deg;C. If the condenser temperature is 30 &deg;C, what is the maximum acheivable Carnot efficiency of the steam engine?  \n",
      "* An alternative formula for estimating the heat engine efficiency under maximum power conditions is the Curzon-Ahlborn efficiency given by $\\eta = 1-\\sqrt{\\frac{T_{cold}}{T_{hot}}}$. Estimate the Curzon-Ahlborn efficiency of this steam engine. \n",
      "* The Mk 50 torpedo has a diameter of 12.75 inches, an estimated speed of 50 knots, and an estimated range of 15 km. Assuming a drag coefficient 0.10, an engine efficiency equal to the Curzon-Ahlborn efficiency, and an overall propulsion system efficiency of 85%, how much fuel is required?\n",
      "\n",
      "The core issue for this problem is finding reliable thermodynamic information.  Here's one source ( [http://www.update.uu.se/~jolkkonen/pdf/CRC_TD.pdf](http://www.update.uu.se/~jolkkonen/pdf/CRC_TD.pdf)) that you may find useful in addition to the [NIST Webbook](http://webbook.nist.gov/chemistry/)."
     ]
    },
    {
     "cell_type": "heading",
     "level": 3,
     "metadata": {},
     "source": [
      "3.a Heat of Reaction"
     ]
    },
    {
     "cell_type": "code",
     "collapsed": false,
     "input": [
      "Hf = dict()    # kJ/gmol\n",
      "Cp = dict()    # J/K/gmol\n",
      "\n",
      "Hf['Li'] = 0.0\n",
      "Cp['Li'] = 24.8\n",
      "\n",
      "Hf['SF6'] = -1220.5\n",
      "Cp['SF6'] = 97.0\n",
      "\n",
      "Hf['Li2S'] = -441.4\n",
      "Cp['Li2S'] = 54.1           # Missing Data, use Li2O\n",
      "\n",
      "Hf['LiF'] = -616.0\n",
      "Cp['LiF'] = 41.6\n",
      "\n",
      "Hr = Hf['Li2S'] + Cp['Li2S']*(25-790)/1000.0 \\\n",
      "     + 6*(Hf['LiF'] + Cp['LiF']*(25-790)/1000.0) \\\n",
      "     - 8*Hf['Li'] - Hf['SF6']\n",
      "\n",
      "print \"Heat of Reaction at 790 deg C = {:6.1f} kJ/gmol\".format(Hr)"
     ],
     "language": "python",
     "metadata": {},
     "outputs": [
      {
       "output_type": "stream",
       "stream": "stdout",
       "text": [
        "Heat of Reaction at 790 deg C = -3149.2 kJ/gmol\n"
       ]
      }
     ],
     "prompt_number": 13
    },
    {
     "cell_type": "heading",
     "level": 3,
     "metadata": {},
     "source": [
      "3.b Specific Heat of Reaction"
     ]
    },
    {
     "cell_type": "code",
     "collapsed": false,
     "input": [
      "mw = dict()\n",
      "mw['Li'] = 6.941\n",
      "mw['SF6'] = 146.06\n",
      "\n",
      "dH = Hr*1000.0/(8*mw['Li'] + mw['SF6'])\n",
      "print \"Heat of Reaction at 790 deg C = {:6.1f} kJ/kg\".format(dH)"
     ],
     "language": "python",
     "metadata": {},
     "outputs": [
      {
       "output_type": "stream",
       "stream": "stdout",
       "text": [
        "Heat of Reaction at 790 deg C = -15622.1 kJ/kg\n"
       ]
      }
     ],
     "prompt_number": 14
    },
    {
     "cell_type": "heading",
     "level": 3,
     "metadata": {},
     "source": [
      "3.c Carnot Efficiency"
     ]
    },
    {
     "cell_type": "code",
     "collapsed": false,
     "input": [
      "eta_carnot = 1 - (30+273.15)/(565+273.15)\n",
      "print \"Carnot efficiency = {:6.3f}\".format(eta_carnot)"
     ],
     "language": "python",
     "metadata": {},
     "outputs": [
      {
       "output_type": "stream",
       "stream": "stdout",
       "text": [
        "Carnot efficiency =  0.638\n"
       ]
      }
     ],
     "prompt_number": 15
    },
    {
     "cell_type": "heading",
     "level": 3,
     "metadata": {},
     "source": [
      "3.d Curzon-Ahlborn Efficiency"
     ]
    },
    {
     "cell_type": "code",
     "collapsed": false,
     "input": [
      "eta_ca = 1 - sqrt((30+273.15)/(565+273.15))\n",
      "print \"Curzon-Ahlborn efficiency = {:6.3f}\".format(eta_ca)"
     ],
     "language": "python",
     "metadata": {},
     "outputs": [
      {
       "output_type": "stream",
       "stream": "stdout",
       "text": [
        "Curzon-Ahlborn efficiency =  0.399\n"
       ]
      }
     ],
     "prompt_number": 16
    },
    {
     "cell_type": "heading",
     "level": 3,
     "metadata": {},
     "source": [
      "3.e Fuel Requirement"
     ]
    },
    {
     "cell_type": "code",
     "collapsed": false,
     "input": [
      "A = 0.25*pi*(12.75*0.0254)**2     # area in m**2\n",
      "rho = 1025.0                      # kg/m**3\n",
      "v = 50*0.5144                     # m/s\n",
      "Cd = 0.10\n",
      "Fd = 0.5*rho*Cd*A*v**2            # drag force in Newtons\n",
      "\n",
      "print \"Drag force at 50 knots = {:6.1f} Newtons\".format(Fd)\n",
      "\n",
      "W = v*Fd\n",
      "\n",
      "print \"Power requirement at 50 knots = {:6.1f} Watts\".format(W)\n",
      "print \"Power requirement at 50 knots = {:6.1f} Hp\".format(W/745.7)\n",
      "\n",
      "t = 15000.0/v                     # time in sec\n",
      "E = W*t/1000.0                    # energy required in kJ\n",
      "\n",
      "print \"Hydrodynamic Energy requirement at 50 knots = {:6.1f} kJ\".format(E)\n",
      "\n",
      "E_fuel = E/0.85/eta_ca\n",
      "\n",
      "print \"Fuel Energy requirement at 50 knots = {:6.1f} kJ\".format(E_fuel)\n",
      "\n",
      "print \"Fuel Requirement at 50 knots = {:6.1f} kg\".format(E_fuel/(-dH))\n",
      "w_Li = 8*mw['Li']/(8*mw['Li'] + mw['SF6'])\n",
      "print \"Li Requirement = {:6.2f} kg\".format(w_Li*E_fuel/(-dH))\n",
      "print \"SF6 Requirement = {:6.2f} kg\".format((1-w_Li)*E_fuel/(-dH))"
     ],
     "language": "python",
     "metadata": {},
     "outputs": [
      {
       "output_type": "stream",
       "stream": "stdout",
       "text": [
        "Drag force at 50 knots = 2792.6 Newtons\n",
        "Power requirement at 50 knots = 71826.5 Watts\n",
        "Power requirement at 50 knots =   96.3 Hp\n",
        "Hydrodynamic Energy requirement at 50 knots = 41889.5 kJ\n",
        "Fuel Energy requirement at 50 knots = 123638.9 kJ\n",
        "Fuel Requirement at 50 knots =    7.9 kg\n",
        "Li Requirement =   2.18 kg\n",
        "SF6 Requirement =   5.73 kg\n"
       ]
      }
     ],
     "prompt_number": 23
    },
    {
     "cell_type": "heading",
     "level": 2,
     "metadata": {},
     "source": [
      "4. Black Shark Torpedo"
     ]
    },
    {
     "cell_type": "markdown",
     "metadata": {},
     "source": [
      "The [Black Shark torpedo](http://en.wikipedia.org/wiki/Black_Shark_torpedo) is an electrically powered, 21 inch diameter torpedo produced by Whitehead Sistemi Subacquei (WASS) group of Italy. It has an estimated range of 22 km at a speed of 52 knots.  \n",
      "\n",
      "<img src = \"http://www.naval.com.br/blog/wp-content/uploads/2009/02/al-torpedos.jpg\"/ style = \"height:600px\">\n",
      "\n",
      "The Black Shark torpedo employs a salt water activated [AgO-Al battery[(http://www.saftbatteries.com/force_download/Torpedo_brochure09_13.pdf) The anode half-reaction is\n",
      "\n",
      "2 Al + 8 OH<sup>-</sup> &rarr; 2 Al0<sub>2</sub><sup>-</sup> + 4 H<sub>2</sub>O + 6 electrons\n",
      "\n",
      "The OH<sup>-</sup> is produced by the dissolution of NaOH when then the torpedo enters the water. The cathode half-reaction is\n",
      "\n",
      "3 AgO + 3 H<sub>2</sub>O + 6 electrons &rarr; 3 Ag + 6 OH<sup>-</sup>\n",
      "\n",
      "for an overall electrochemical reaction\n",
      "\n",
      "2 Al + 3 AgO + 2 OH<sup>-</sup> &rarr; 2 AlO<sub>2</sub><sup>-</sup> + 3 AgO + H<sub>2</sub>O\n",
      "\n",
      "An individual battery cell has a measured potential of E<sub>cell</sub> = 1.33 volts under operating conditions.  The Gibb's free energy $\\Delta G$, is related to the number of electrons transferred in the reaction, $n$, and the cell potential by\n",
      "\n",
      "$$\\Delta G = -n F E_{cell} $$\n",
      "\n",
      "where $F = 96,485$ Columbs/gmol is the charge on one gram-mole of electrons.\n",
      "\n",
      "Assuming the battery/motor system has an overall efficiency of a Tesla roadster (88% efficient), and the propulsion system is 85% efficient, estimate the chemical reactants necessary to power the Black Shark torpedo."
     ]
    },
    {
     "cell_type": "heading",
     "level": 3,
     "metadata": {},
     "source": [
      "4.a Gibb's Free Energy"
     ]
    },
    {
     "cell_type": "code",
     "collapsed": false,
     "input": [
      "dG = -6.0*96485.0*1.33/1000.0\n",
      "print \"Gibb's Free Energy = {:6.1f} kJ\".format(dG)\n",
      "\n",
      "mw['Al'] = 26.98\n",
      "mw['AgO'] = 231.735\n",
      "mw['NaOH'] = 39.997\n",
      "\n",
      "dG = 1000.0*dG/(2*mw['Al'] + 3*mw['AgO'] + 2*mw['NaOH'])\n",
      "print \"Gibb's Free Energy = {:6.1f} kJ/kg\".format(dG)\n"
     ],
     "language": "python",
     "metadata": {},
     "outputs": [
      {
       "output_type": "stream",
       "stream": "stdout",
       "text": [
        "Gibb's Free Energy = -770.0 kJ\n",
        "Gibb's Free Energy = -928.6 kJ/kg\n"
       ]
      }
     ],
     "prompt_number": 18
    },
    {
     "cell_type": "heading",
     "level": 3,
     "metadata": {},
     "source": [
      "4.b Energy Requirement"
     ]
    },
    {
     "cell_type": "code",
     "collapsed": false,
     "input": [
      "A = 0.25*pi*(21.0*0.0254)**2     # area in m**2\n",
      "rho = 1025.0                      # kg/m**3\n",
      "v = 52*0.5144                     # m/s\n",
      "Cd = 0.095\n",
      "Fd = 0.5*rho*Cd*A*v**2            # drag force in Newtons\n",
      "\n",
      "print \"Drag force at 52 knots = {:6.1f} Newtons\".format(Fd)\n",
      "\n",
      "W = v*Fd\n",
      "\n",
      "print \"Power requirement at 52 knots = {:6.1f} Watts\".format(W)\n",
      "print \"Power requirement at 52 knots = {:6.1f} Hp\".format(W/745.7)\n",
      "\n",
      "t = 22000.0/v                     # time in sec\n",
      "E = W*t/1000.0                    # energy required in kJ\n",
      "\n",
      "print \"Hydrodynamic Energy requirement at 52 knots = {:6.1f} kJ\".format(E)"
     ],
     "language": "python",
     "metadata": {},
     "outputs": [
      {
       "output_type": "stream",
       "stream": "stdout",
       "text": [
        "Drag force at 52 knots = 7784.3 Newtons\n",
        "Power requirement at 52 knots = 208221.8 Watts\n",
        "Power requirement at 52 knots =  279.2 Hp\n",
        "Hydrodynamic Energy requirement at 52 knots = 171255.6 kJ\n"
       ]
      }
     ],
     "prompt_number": 19
    },
    {
     "cell_type": "heading",
     "level": 3,
     "metadata": {},
     "source": [
      "4.c Battery Requirement"
     ]
    },
    {
     "cell_type": "code",
     "collapsed": false,
     "input": [
      "E_battery = E/0.85/0.88\n",
      "\n",
      "print \"Battery Energy requirement at 52 knots = {:6.1f} kJ\".format(E_battery)\n",
      "\n",
      "print \"Battery Reactant Requirements at 52 knots = {:6.1f} kg\".format(E_battery/(-dG))"
     ],
     "language": "python",
     "metadata": {},
     "outputs": [
      {
       "output_type": "stream",
       "stream": "stdout",
       "text": [
        "Battery Energy requirement at 52 knots = 228951.3 kJ\n",
        "Battery Reactant Requirements at 52 knots =  246.6 kg\n"
       ]
      }
     ],
     "prompt_number": 20
    },
    {
     "cell_type": "code",
     "collapsed": false,
     "input": [],
     "language": "python",
     "metadata": {},
     "outputs": [],
     "prompt_number": 20
    }
   ],
   "metadata": {}
  }
 ]
}