{
 "cells": [
  {
   "cell_type": "markdown",
   "metadata": {},
   "source": [
    "# Transportation Fuels"
   ]
  },
  {
   "cell_type": "markdown",
   "metadata": {},
   "source": [
    "This [IPython notebook](http://ipython.org/notebook.html) demonstrates a energy calculations for the analysis of an infrastructure for transportation fuels.\n",
    "\n",
    "J.C. Kantor (Kantor.1@nd.edu)\n",
    "\n",
    "The latest version of this IPython notebook is available at [http://github.com/jckantor/CBE20255](http://github.com/jckantor/CBE20255)  for noncommercial use under terms of the [Creative Commons Attribution Noncommericial ShareAlike License](http://creativecommons.org/licenses/by-nc-sa/4.0/)."
   ]
  },
  {
   "cell_type": "markdown",
   "metadata": {},
   "source": [
    "## Background"
   ]
  },
  {
   "cell_type": "markdown",
   "metadata": {},
   "source": [
    "Are electric cars 'greener' than other vehicle technologies?  That's a question that appears frequently in the popular press (see [here](http://nbcnews.to/RPKxmM) and [here](http://www.nytimes.com/2012/04/15/automobiles/how-green-are-electric-cars-depends-on-where-you-plug-in.html?pagewanted=all&_r=0), for example), and one that we should be able to address through basic material and energy balances. In fact, we can extend the analysis to examine alternative vehicle energy technologies."
   ]
  },
  {
   "cell_type": "markdown",
   "metadata": {},
   "source": [
    "## Electric Vehicles"
   ]
  },
  {
   "cell_type": "markdown",
   "metadata": {},
   "source": [
    "### Natural Gas"
   ]
  },
  {
   "cell_type": "markdown",
   "metadata": {},
   "source": [
    "Assume that natural gas produces heat through the combustion reaction\n",
    "\n",
    "$$CH_4 + 2\\,O_2 \\longrightarrow CO_2 + 2\\,H_2O$$\n",
    "\n",
    "for the generation of electricity in a combined cycle turbine at a net heat rate of 6,300 BTU/kwh. (that is, the net generation of 1 kwh requires 6,300 BTU of natural gas at its higher heat value). The higher heating value of natural gas is 52.225 MJ/kg."
   ]
  },
  {
   "cell_type": "code",
   "execution_count": 28,
   "metadata": {
    "collapsed": false
   },
   "outputs": [
    {
     "data": {
      "text/plain": [
       "(0.12488215688116486, 0.6117850700232199)"
      ]
     },
     "execution_count": 28,
     "metadata": {},
     "output_type": "execute_result"
    }
   ],
   "source": [
    "HR = 6300                  # BTU/kwh\n",
    "HHV = 53.225               # MJ/kg\n",
    "\n",
    "HR = 0.001055056*HR        # MJ/kwh\n",
    "\n",
    "mCH4 = HR/HHV              # kg/kwh\n",
    "nCH4 = mCH4/16.01          # kg-mol/kwh\n",
    "nCO2 = nCH4\n",
    "mCO2 = 44.0*nCO2\n",
    "\n",
    "eCO2 = mCO2/(0.935*0.60)   # kg CO2/brake-kwh\n",
    "mCH4,eCO2"
   ]
  },
  {
   "cell_type": "markdown",
   "metadata": {},
   "source": [
    "### Coal"
   ]
  },
  {
   "cell_type": "markdown",
   "metadata": {},
   "source": [
    "* Gross Heating Value of 12,000 BTU/lb\n",
    "* Ash 13.5%\n",
    "* Moisture 10%\n",
    "\n",
    "Ash-free and moisture-free\n",
    "\n",
    "* Carbon 81.3%\n",
    "* Hydrogen 5.3%\n",
    "* Oxygen 9.8%\n",
    "\n",
    "Per kilogram"
   ]
  },
  {
   "cell_type": "code",
   "execution_count": 12,
   "metadata": {
    "collapsed": false
   },
   "outputs": [
    {
     "data": {
      "text/plain": [
       "(0.621945, 0.040545, 0.07497000000000001)"
      ]
     },
     "execution_count": 12,
     "metadata": {},
     "output_type": "execute_result"
    }
   ],
   "source": [
    "mC = (1 - 0.235)*0.813\n",
    "mH = (1 - 0.235)*0.053\n",
    "mO = (1 - 0.235)*0.098\n",
    "\n",
    "mC,mH,mO"
   ]
  },
  {
   "cell_type": "code",
   "execution_count": 38,
   "metadata": {
    "collapsed": false
   },
   "outputs": [
    {
     "data": {
      "text/plain": [
       "(0.39122388438823924, 1.5903250900381922)"
      ]
     },
     "execution_count": 38,
     "metadata": {},
     "output_type": "execute_result"
    }
   ],
   "source": [
    "HR = 0.001055056*10350             # MJ/kwh\n",
    "GHV = 2.20462*0.001055056*12000    # MJ/kg\n",
    "\n",
    "mCOAL = HR/GHV\n",
    "mCO2 = (44.0/12.0)*mCOAL*((1-0.235)*0.813)\n",
    "eCO2 = mCO2/(0.935*0.6)\n",
    "mCOAL,eCO2"
   ]
  },
  {
   "cell_type": "code",
   "execution_count": null,
   "metadata": {
    "collapsed": false
   },
   "outputs": [],
   "source": []
  }
 ],
 "metadata": {
  "kernelspec": {
   "display_name": "Python 2",
   "language": "python",
   "name": "python2"
  },
  "language_info": {
   "codemirror_mode": {
    "name": "ipython",
    "version": 2
   },
   "file_extension": ".py",
   "mimetype": "text/x-python",
   "name": "python",
   "nbconvert_exporter": "python",
   "pygments_lexer": "ipython2",
   "version": "2.7.9"
  }
 },
 "nbformat": 4,
 "nbformat_minor": 0
}
