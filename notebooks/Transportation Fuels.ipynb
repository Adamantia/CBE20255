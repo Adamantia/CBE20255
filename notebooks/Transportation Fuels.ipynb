{
 "metadata": {
  "name": "",
  "signature": "sha256:99396e611a56f38953a1686ec20101c8a5fce12869645d01858853534124cf23"
 },
 "nbformat": 3,
 "nbformat_minor": 0,
 "worksheets": [
  {
   "cells": [
    {
     "cell_type": "heading",
     "level": 1,
     "metadata": {},
     "source": [
      "Transportation Fuels"
     ]
    },
    {
     "cell_type": "markdown",
     "metadata": {},
     "source": [
      "This [IPython notebook](http://ipython.org/notebook.html) demonstrates a energy calculations for the analysis of an infrastructure for transportation fuels.\n",
      "\n",
      "J.C. Kantor (Kantor.1@nd.edu)\n",
      "\n",
      "The latest version of this IPython notebook is available at [http://github.com/jckantor/CBE20255](http://github.com/jckantor/CBE20255)  for noncommercial use under terms of the [Creative Commons Attribution Noncommericial ShareAlike License](http://creativecommons.org/licenses/by-nc-sa/4.0/)."
     ]
    },
    {
     "cell_type": "heading",
     "level": 2,
     "metadata": {},
     "source": [
      "Background"
     ]
    },
    {
     "cell_type": "markdown",
     "metadata": {},
     "source": [
      "Are electric cars 'greener' than other vehicle technologies?  That's a question that appears frequently in the popular press (see [here](http://nbcnews.to/RPKxmM) and [here](http://www.nytimes.com/2012/04/15/automobiles/how-green-are-electric-cars-depends-on-where-you-plug-in.html?pagewanted=all&_r=0), for example), and one that we should be able to address through basic material and energy balances. In fact, we can extend the analysis to examine alternative vehicle energy technologies."
     ]
    },
    {
     "cell_type": "heading",
     "level": 2,
     "metadata": {},
     "source": [
      "Electric Vehicles"
     ]
    },
    {
     "cell_type": "heading",
     "level": 3,
     "metadata": {},
     "source": [
      "Natural Gas"
     ]
    },
    {
     "cell_type": "markdown",
     "metadata": {},
     "source": [
      "Assume that natural gas produces heat through the combustion reaction\n",
      "\n",
      "$$CH_4 + 2\\,O_2 \\longrightarrow CO_2 + 2\\,H_2O$$\n",
      "\n",
      "for the generation of electricity in a combined cycle turbine at a net heat rate of 6,300 BTU/kwh. (that is, the net generation of 1 kwh requires 6,300 BTU of natural gas at its higher heat value). The higher heating value of natural gas is 52.225 MJ/kg."
     ]
    },
    {
     "cell_type": "code",
     "collapsed": false,
     "input": [
      "HR = 6300                  # BTU/kwh\n",
      "HHV = 53.225               # MJ/kg\n",
      "\n",
      "HR = 0.001055056*HR        # MJ/kwh\n",
      "\n",
      "mCH4 = HR/HHV              # kg/kwh\n",
      "nCH4 = mCH4/16.01          # kg-mol/kwh\n",
      "nCO2 = nCH4\n",
      "mCO2 = 44.0*nCO2\n",
      "\n",
      "eCO2 = mCO2/(0.935*0.60)   # kg CO2/brake-kwh\n",
      "mCH4,eCO2"
     ],
     "language": "python",
     "metadata": {},
     "outputs": [
      {
       "metadata": {},
       "output_type": "pyout",
       "prompt_number": 28,
       "text": [
        "(0.12488215688116486, 0.6117850700232199)"
       ]
      }
     ],
     "prompt_number": 28
    },
    {
     "cell_type": "heading",
     "level": 3,
     "metadata": {},
     "source": [
      "Coal"
     ]
    },
    {
     "cell_type": "markdown",
     "metadata": {},
     "source": [
      "* Gross Heating Value of 12,000 BTU/lb\n",
      "* Ash 13.5%\n",
      "* Moisture 10%\n",
      "\n",
      "Ash-free and moisture-free\n",
      "\n",
      "* Carbon 81.3%\n",
      "* Hydrogen 5.3%\n",
      "* Oxygen 9.8%\n",
      "\n",
      "Per kilogram"
     ]
    },
    {
     "cell_type": "code",
     "collapsed": false,
     "input": [
      "mC = (1 - 0.235)*0.813\n",
      "mH = (1 - 0.235)*0.053\n",
      "mO = (1 - 0.235)*0.098\n",
      "\n",
      "mC,mH,mO"
     ],
     "language": "python",
     "metadata": {},
     "outputs": [
      {
       "metadata": {},
       "output_type": "pyout",
       "prompt_number": 12,
       "text": [
        "(0.621945, 0.040545, 0.07497000000000001)"
       ]
      }
     ],
     "prompt_number": 12
    },
    {
     "cell_type": "code",
     "collapsed": false,
     "input": [
      "HR = 0.001055056*10350             # MJ/kwh\n",
      "GHV = 2.20462*0.001055056*12000    # MJ/kg\n",
      "\n",
      "mCOAL = HR/GHV\n",
      "mCO2 = (44.0/12.0)*mCOAL*((1-0.235)*0.813)\n",
      "eCO2 = mCO2/(0.935*0.6)\n",
      "mCOAL,eCO2"
     ],
     "language": "python",
     "metadata": {},
     "outputs": [
      {
       "metadata": {},
       "output_type": "pyout",
       "prompt_number": 38,
       "text": [
        "(0.39122388438823924, 1.5903250900381922)"
       ]
      }
     ],
     "prompt_number": 38
    },
    {
     "cell_type": "code",
     "collapsed": false,
     "input": [],
     "language": "python",
     "metadata": {},
     "outputs": []
    }
   ],
   "metadata": {}
  }
 ]
}