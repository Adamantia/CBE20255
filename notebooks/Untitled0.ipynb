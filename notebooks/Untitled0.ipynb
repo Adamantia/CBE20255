{
 "metadata": {
  "name": ""
 },
 "nbformat": 3,
 "nbformat_minor": 0,
 "worksheets": [
  {
   "cells": [
    {
     "cell_type": "code",
     "collapsed": false,
     "input": [
      "!glpsol"
     ],
     "language": "python",
     "metadata": {},
     "outputs": [
      {
       "output_type": "stream",
       "stream": "stdout",
       "text": [
        "GLPSOL: GLPK LP/MIP Solver, v4.52\r\n",
        "No input problem file specified; try glpsol --help\r\n"
       ]
      }
     ],
     "prompt_number": 1
    },
    {
     "cell_type": "code",
     "collapsed": false,
     "input": [
      "%%writefile test.mod\n",
      "\n",
      "printf \"Hello, World\\n\";\n"
     ],
     "language": "python",
     "metadata": {},
     "outputs": [
      {
       "output_type": "stream",
       "stream": "stdout",
       "text": [
        "Writing test.mod\n"
       ]
      }
     ],
     "prompt_number": 2
    },
    {
     "cell_type": "code",
     "collapsed": false,
     "input": [
      "!glpsol -m test.mod"
     ],
     "language": "python",
     "metadata": {},
     "outputs": [
      {
       "output_type": "stream",
       "stream": "stdout",
       "text": [
        "GLPSOL: GLPK LP/MIP Solver, v4.52\r\n",
        "Parameter(s) specified in the command line:\r\n",
        " -m test.mod\r\n",
        "Reading model section from test.mod...\r\n",
        "test.mod:1: warning: final NL missing before end of file\r\n",
        "test.mod:1: warning: unexpected end of file; missing end statement inserted\r\n",
        "1 line were read\r\n",
        "Hello, World\r\n",
        "Model has been successfully generated\r\n",
        "GLPK Simplex Optimizer, v4.52\r\n",
        "0 rows, 0 columns, 0 non-zeros\r\n",
        "~     0: obj =   0.000000000e+00  infeas =  0.000e+00\r\n",
        "OPTIMAL SOLUTION FOUND\r\n",
        "Time used:   0.0 secs\r\n",
        "Memory used: 0.0 Mb (41521 bytes)\r\n"
       ]
      }
     ],
     "prompt_number": 3
    },
    {
     "cell_type": "code",
     "collapsed": false,
     "input": [
      "%%script glpsol -m <<\n",
      "\n",
      "printf \"Hello\\n\";"
     ],
     "language": "python",
     "metadata": {},
     "outputs": [
      {
       "output_type": "stream",
       "stream": "stdout",
       "text": [
        "GLPSOL: GLPK LP/MIP Solver, v4.52\n",
        "Parameter(s) specified in the command line:\n",
        " -m <<\n",
        "Reading model section from <<...\n",
        "(unknown):0: unable to open << - No such file or directory\n",
        "Context:                                                             \n",
        "MathProg model processing error\n"
       ]
      }
     ],
     "prompt_number": 6
    },
    {
     "cell_type": "code",
     "collapsed": false,
     "input": [
      "%%script glpsol -m /dev/stdin\n",
      "\n",
      "printf \"Hello, World\\n\";\n"
     ],
     "language": "python",
     "metadata": {},
     "outputs": [
      {
       "output_type": "stream",
       "stream": "stdout",
       "text": [
        "GLPSOL: GLPK LP/MIP Solver, v4.52\n",
        "Parameter(s) specified in the command line:\n",
        " -m /dev/stdin\n",
        "Reading model section from /dev/stdin...\n",
        "/dev/stdin:1: warning: final NL missing before end of file\n",
        "/dev/stdin:1: warning: unexpected end of file; missing end statement inserted\n",
        "1 line were read\n",
        "Hello, World\n",
        "Model has been successfully generated\n",
        "GLPK Simplex Optimizer, v4.52\n",
        "0 rows, 0 columns, 0 non-zeros\n",
        "~     0: obj =   0.000000000e+00  infeas =  0.000e+00\n",
        "OPTIMAL SOLUTION FOUND\n",
        "Time used:   0.0 secs\n",
        "Memory used: 0.0 Mb (41523 bytes)\n"
       ]
      }
     ],
     "prompt_number": 7
    },
    {
     "cell_type": "code",
     "collapsed": false,
     "input": [],
     "language": "python",
     "metadata": {},
     "outputs": []
    }
   ],
   "metadata": {}
  }
 ]
}