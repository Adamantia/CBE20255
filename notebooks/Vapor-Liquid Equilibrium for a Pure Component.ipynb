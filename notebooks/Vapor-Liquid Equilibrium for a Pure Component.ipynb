{
 "cells": [
  {
   "cell_type": "markdown",
   "metadata": {},
   "source": [
    "######The latest version of this IPython notebook is available at [http://github.com/jckantor/CBE20255](http://github.com/jckantor/CBE20255)  for noncommercial use under terms of the [Creative Commons Attribution Noncommericial ShareAlike License](http://creativecommons.org/licenses/by-nc-sa/4.0/).\n",
    "\n",
    "J.C. Kantor (Kantor.1@nd.edu)"
   ]
  },
  {
   "cell_type": "markdown",
   "metadata": {},
   "source": [
    "# Vapor-Liquid Equilibrium for Pure Components"
   ]
  },
  {
   "cell_type": "markdown",
   "metadata": {},
   "source": [
    "This [IPython notebook](http://ipython.org/notebook.html) describes the modeling of vapor-liquid equilibrium with Antoine's equation, including the calculation of saturation pressure, saturation temperature, relative humidity, and normal boiling points."
   ]
  },
  {
   "cell_type": "code",
   "execution_count": 1,
   "metadata": {
    "collapsed": false
   },
   "outputs": [
    {
     "data": {
      "text/html": [
       "<link href='http://fonts.googleapis.com/css?family=Fenix' rel='stylesheet' type='text/css'>\n",
       "<link href='http://fonts.googleapis.com/css?family=Alegreya+Sans:100,300,400,500,700,800,\n",
       "    900,100italic,300italic,400italic,500italic,700italic,800italic,900italic' rel='stylesheet' type='text/css'>\n",
       "<link href='http://fonts.googleapis.com/css?family=Source+Code+Pro:300,400' rel='stylesheet' type='text/css'>\n",
       "<link href='http://fonts.googleapis.com/css?family=Crimson+Text' rel='stylesheet' type='text/css'>\n",
       "<link href='http://fonts.googleapis.com/css?family=Kameron' rel='stylesheet' type='text/css'>\n",
       "<link href='http://fonts.googleapis.com/css?family=Lato:200' rel='stylesheet' type='text/css'>\n",
       "<link href='http://fonts.googleapis.com/css?family=Lato:300' rel='stylesheet' type='text/css'>\n",
       "<link href='http://fonts.googleapis.com/css?family=Lato:400' rel='stylesheet' type='text/css'>\n",
       "<link href='http://fonts.googleapis.com/css?family=Source+Code+Pro' rel='stylesheet' type='text/css'>\n",
       "\n",
       "<style>\n",
       "\n",
       "@font-face {\n",
       "    font-family: \"Computer Modern\";\n",
       "    src: url('http://mirrors.ctan.org/fonts/cm-unicode/fonts/otf/cmunss.otf');\n",
       "}\n",
       "\n",
       "#notebook_panel { /* establish main background and color */\n",
       "    background: #fff;\n",
       "    color: #ff0000;\n",
       "}\n",
       "\n",
       "div.cell { /* set cell width */\n",
       "    width:800px;\n",
       "    margin-left:0%;\n",
       "    margin-right:auto;\n",
       "}\n",
       "\n",
       "div #notebook { /* centers the content */\n",
       "    background: #fff;\n",
       "    width: 1000px;\n",
       "    margin: auto;\n",
       "    padding-left: 1em;\n",
       "}\n",
       "\n",
       "#notebook li { /* more space between bullet points */\n",
       "    margin-top:0.8em;\n",
       "}\n",
       "\n",
       "/* draw border around running cells */\n",
       "div.cell.border-box-sizing.code_cell.running {\n",
       "    border: 3px solid #111;\n",
       "}\n",
       "\n",
       "/* Put a solid color box around each code cell and its output,\n",
       "     visually linking them together */\n",
       "div.cell.code_cell {\n",
       "    background-color: /*#fff*/ rgba(171,165,131,0.2);\n",
       "    border-radius: 10px; /* rounded borders */\n",
       "    padding: 1em;\n",
       "    margin-top: 1em;\n",
       "}\n",
       "\n",
       ".CodeMirror {\n",
       "    font-family: \"Source Code Pro\";\n",
       "    font-size: 90%;\n",
       "}\n",
       "\n",
       "div.text_cell_render code {\n",
       "    font-family: \"Source Code Pro\";\n",
       "    font-size: 90%;\n",
       "    color: red;\n",
       "}\n",
       "\n",
       "pre {\n",
       "    font-family: \"Source Code Pro\";\n",
       "    font-size: 90%;\n",
       "}\n",
       "\n",
       "div.text_cell_render { /* rendering of basic text cell */\n",
       "    font-family: 'Alegreya Sans', Computer Modern, \"Helvetica Neue\", Arial, Helvetica, sans-serif;\n",
       "    line-height: 135%;\n",
       "    font-size: 120%;\n",
       "    width:700px;\n",
       "    margin-left:auto;\n",
       "    margin-right:auto;\n",
       "}\n",
       "\n",
       ".text_cell_render h1 {\n",
       "    font-family: 'Alegreya Sans', sans-serif;\n",
       "    font-weight: 300;\n",
       "    font-size: 32pt;\n",
       "    line-height: 100%;\n",
       "    color:#CD2305;\n",
       "    margin-bottom: 0.4em;\n",
       "    margin-top: 0em;\n",
       "    display: block;\n",
       "}\n",
       "\n",
       "h2 {\n",
       "    font-family: 'Fenix', serif;\n",
       "}\n",
       "\n",
       "h3 {\n",
       "    font-family: 'Fenix', serif;\n",
       "    margin-top:12px;\n",
       "    margin-bottom: 3px;\n",
       "}\n",
       "\n",
       "h4 {\n",
       "    font-family: 'Fenix', serif;\n",
       "}\n",
       "\n",
       ".text_cell_render h5 {\n",
       "    font-family: 'Alegreya Sans', sans-serif;\n",
       "    font-weight: 100;\n",
       "    font-size: 16pt;\n",
       "    color: #CD2305;\n",
       "    font-style: italic;\n",
       "    margin-bottom: .5em;\n",
       "    margin-top: 0.5em;\n",
       "    display: block;\n",
       "}\n",
       "\n",
       ".text_cell_render h6 { /*use this for copyright note*/\n",
       "    font-family: 'Alegreya Sans', sans-serif;\n",
       "    font-weight: 400;\n",
       "    font-size: 10pt;\n",
       "    font-style: normal;\n",
       "    line-height: 120%;\n",
       "    margin-bottom: 1px;\n",
       "    margin-top: 1px;\n",
       "}\n",
       "\n",
       ".MathJax, .MathJax_Display  {\n",
       "    font-family: 'Alegreya Sans', sans-serif  !important;\n",
       "    font-size: 90%  !important;\n",
       "    vertical-align: 0px  !important;\n",
       "}\n",
       "\n",
       ".warning{\n",
       "    color: rgb( 240, 20, 20 )\n",
       "}\n",
       "\n",
       "</style>\n",
       "\n",
       "<script>\n",
       "MathJax.Hub.Config({\n",
       "    TeX: {\n",
       "        extensions: [\"AMSmath.js\"]\n",
       "    },\n",
       "    tex2jax: {\n",
       "        inlineMath: [ ['$','$'], [\"\\\\(\",\"\\\\)\"] ],\n",
       "        displayMath: [ ['$$','$$'], [\"\\\\[\",\"\\\\]\"] ],\n",
       "        processEscapes: true\n",
       "    },\n",
       "    displayAlign: 'center', // Change this to 'center' to center equations.\n",
       "    \"HTML-CSS\": {\n",
       "        styles: {'.MathJax_Display': {\"margin\": 4}}\n",
       "    }\n",
       "});\n",
       "</script>\n",
       "\n"
      ],
      "text/plain": [
       "<IPython.core.display.HTML object>"
      ]
     },
     "execution_count": 1,
     "metadata": {},
     "output_type": "execute_result"
    }
   ],
   "source": [
    "%matplotlib inline\n",
    "from pylab import *\n",
    "\n",
    "from IPython.core.display import HTML\n",
    "HTML(open(\"../styles/custom.css\", \"r\").read())"
   ]
  },
  {
   "cell_type": "markdown",
   "metadata": {},
   "source": [
    "## Gibb's Phase Rule"
   ]
  },
  {
   "cell_type": "markdown",
   "metadata": {},
   "source": [
    "The Gibb's phase rule tells us how many independent thermodynamic variables (such as $T$, $P$, $\\hat{V}$, or $x_i$) are required to completely specify the state of a substance.\n",
    "\n",
    "$$ F = C + 2 - \\Pi $$\n",
    "\n",
    "where\n",
    "\n",
    "$$\n",
    "\\begin{align*}\n",
    "F & = \\mbox{Thermodynamic Degrees of Freedom} \\\\\n",
    "C & = \\mbox{Number of Components} \\\\\n",
    "\\Pi & = \\mbox{Number of Phases}\n",
    "\\end{align*}\n",
    "$$\n",
    "\n",
    "This is a deep and profound rule that has many implications for engineering analysis that you will study this more in your thermodynamics courses."
   ]
  },
  {
   "cell_type": "markdown",
   "metadata": {},
   "source": [
    "## Phase Diagram for a Pure Component"
   ]
  },
  {
   "cell_type": "markdown",
   "metadata": {},
   "source": [
    "For a pure component $C = 1$, so the Gibb's phase rule reads\n",
    "\n",
    "$$ F = 3-\\Pi$$\n",
    "\n",
    "which tells that two independent thermodynamic variables, such as $T$ and $P$, are sufficient to specify the state of a single phase. Furthermore, if two phases are in coexistence, then there must be a relationship between $T$ and $P$. And that the coexistence of three phases completely specifies the thermodynamic state.\n",
    "\n",
    "These observations are conveniently summarized in a 2-dimensional phase diagram for a pure substance. [Here is the phase diagram for water](http://en.wikipedia.org/wiki/File:Phase_diagram_of_water.svg)."
   ]
  },
  {
   "cell_type": "markdown",
   "metadata": {},
   "source": [
    "<img src=\"http://upload.wikimedia.org/wikipedia/commons/0/08/Phase_diagram_of_water.svg\" style=\"width: 600px;\"/>"
   ]
  },
  {
   "cell_type": "markdown",
   "metadata": {},
   "source": [
    "## Triple Point"
   ]
  },
  {
   "cell_type": "code",
   "execution_count": 2,
   "metadata": {
    "collapsed": false
   },
   "outputs": [
    {
     "data": {
      "text/html": [
       "\n",
       "        <iframe\n",
       "            width=\"560\"\n",
       "            height=\"315\"\n",
       "            src=\"https://www.youtube.com/embed/BLRqpJN9zeA?rel=0\"\n",
       "            frameborder=\"0\"\n",
       "            allowfullscreen\n",
       "        ></iframe>\n",
       "        "
      ],
      "text/plain": [
       "<IPython.lib.display.YouTubeVideo at 0x1062a7690>"
      ]
     },
     "execution_count": 2,
     "metadata": {},
     "output_type": "execute_result"
    }
   ],
   "source": [
    "from IPython.display import YouTubeVideo\n",
    "YouTubeVideo(\"BLRqpJN9zeA\",560,315,rel=0)"
   ]
  },
  {
   "cell_type": "markdown",
   "metadata": {},
   "source": [
    "### Critical Point"
   ]
  },
  {
   "cell_type": "code",
   "execution_count": 3,
   "metadata": {
    "collapsed": false
   },
   "outputs": [
    {
     "data": {
      "text/html": [
       "\n",
       "        <iframe\n",
       "            width=\"560\"\n",
       "            height=\"315\"\n",
       "            src=\"https://www.youtube.com/embed/-gCTKteN5Y4?rel=0\"\n",
       "            frameborder=\"0\"\n",
       "            allowfullscreen\n",
       "        ></iframe>\n",
       "        "
      ],
      "text/plain": [
       "<IPython.lib.display.YouTubeVideo at 0x1062a7790>"
      ]
     },
     "execution_count": 3,
     "metadata": {},
     "output_type": "execute_result"
    }
   ],
   "source": [
    "from IPython.display import YouTubeVideo\n",
    "YouTubeVideo(\"-gCTKteN5Y4\",560,315,rel=0)"
   ]
  },
  {
   "cell_type": "markdown",
   "metadata": {},
   "source": [
    "## Antoine's Equation"
   ]
  },
  {
   "cell_type": "markdown",
   "metadata": {
    "slideshow": {
     "slide_type": "-"
    }
   },
   "source": [
    "Antoine's equation is used to estimate the saturation pressure (also called vapor pressure) of pure substances between the triple and critical points. Louis Charles Antoine, an engineer working in the French Navy, in 1886 published the equation as method for representing the vapor pressure of water. \n",
    "\n",
    "A common form of the equation is\n",
    "\n",
    "$$\\log_{10}P^{sat} [mmHg]= A - \\frac{B}{T[^{\\circ}C] + C}$$\n",
    "\n",
    "where pressure is units of millimeters of mercury (mmHg, also called torr), and temperature in degrees Celcius. An alternative form of the equation is to calculate the saturation temperature as a function of pressure\n",
    "\n",
    "$$T^{sat}[^{\\circ}C] =\\frac{B}{A-\\log_{10}P[mmHg]} - C$$\n",
    "\n",
    "Values for the constants $A$, $B$, and $C$ are tabulated in various references, including the NIST Chemistry Webbook. The values of the constants depend on the units used for pressure and temperature, and whether the logarithm is computed for base $e$ or base 10. \n",
    "\n",
    "Standard practice is to specify a range of temperatures over which a particular set of constants is known to offer an accurate representation. Multiple ranges may be pieced together to obtain saturation pressure over wider ranges."
   ]
  },
  {
   "cell_type": "code",
   "execution_count": 4,
   "metadata": {
    "collapsed": false
   },
   "outputs": [
    {
     "data": {
      "image/png": "[encoded data removed]",
      "text/plain": [
       "<matplotlib.figure.Figure at 0x108303c90>"
      ]
     },
     "metadata": {},
     "output_type": "display_data"
    }
   ],
   "source": [
    "# Antoine's equation for water from 1 to 374 degrees C\n",
    "    \n",
    "def Psat(T):\n",
    "    if (1 <= T < 100):\n",
    "        return 10**(8.07131 - 1730.63/(T + 233.426))\n",
    "    elif (100 <= T <= 374):\n",
    "        return 10**(8.14019 - 1810.94/(T + 244.485))\n",
    "    else:\n",
    "        return float('nan')\n",
    "\n",
    "# Use Psat(T) to construct to show the vapor-liquid equilibrium diagram\n",
    "\n",
    "T = linspace(1,374)\n",
    "figure(figsize = (10,6))\n",
    "semilogy(T,map(Psat,T),linewidth=2)\n",
    "xlabel('Temperature $^{\\circ}C$')\n",
    "ylabel('Pressure [mmHg]')\n",
    "title('Vapor Pressure of Water')\n",
    "\n",
    "# Additional annotations\n",
    "\n",
    "semilogy(0.01,4.58,'o',markersize=10)\n",
    "annotate('Triple Point', xy=(10,4.58), xytext=(20,3))\n",
    "semilogy(100,760,'o',markersize=10)\n",
    "annotate('Normal Boiling Point', xy=(100,760), xytext=(110,500))\n",
    "semilogy(374,1.67e5,'o',markersize=10)\n",
    "annotate('Critical Point', xy=(374,1.67e5), xytext=(300,2e5))\n",
    "text(250,200,'Vapor',fontsize=16)\n",
    "text(75,100000,'Liquid',fontsize=16)\n",
    "xlim([-10,400])\n",
    "grid()"
   ]
  },
  {
   "cell_type": "markdown",
   "metadata": {},
   "source": [
    "### Example: Boiling Point of Water on Mount Everest"
   ]
  },
  {
   "cell_type": "markdown",
   "metadata": {},
   "source": [
    "The barometric pressure at the top of Mount Everest is about 260 mmHg. What is the boiling point of water?"
   ]
  },
  {
   "cell_type": "code",
   "execution_count": 5,
   "metadata": {
    "collapsed": false
   },
   "outputs": [
    {
     "data": {
      "text/plain": [
       "259.590244400894"
      ]
     },
     "execution_count": 5,
     "metadata": {},
     "output_type": "execute_result"
    }
   ],
   "source": [
    "# Through trial-and-error, we find\n",
    "Psat(72.5)"
   ]
  },
  {
   "cell_type": "markdown",
   "metadata": {},
   "source": [
    "### Example: Operating Temperature of a Steam Catapult"
   ]
  },
  {
   "cell_type": "markdown",
   "metadata": {},
   "source": [
    "The catapults on aircraft carriers require steam at 520 psig. What is the minimum operating temperature?"
   ]
  },
  {
   "cell_type": "code",
   "execution_count": 6,
   "metadata": {
    "collapsed": false
   },
   "outputs": [
    {
     "name": "stdout",
     "output_type": "stream",
     "text": [
      "Operating Pressure (absolute) = 21446.1 mmHg\n",
      "Minimum Operating Temperature =  230.97 deg C\n"
     ]
    }
   ],
   "source": [
    "# import a root-finding algorithm\n",
    "from scipy.optimize import brentq as fzero\n",
    "\n",
    "# convert pressure to absolute mmHg\n",
    "P = (400+14.7)*760/14.696\n",
    "\n",
    "# function to solve\n",
    "f = lambda T: Psat(T) - P\n",
    "\n",
    "# solve\n",
    "T = fzero(f,1,374)\n",
    "\n",
    "print \"Operating Pressure (absolute) = {:7.1f} mmHg\".format(P)\n",
    "print \"Minimum Operating Temperature = {:7.2f} deg C\".format(T)"
   ]
  },
  {
   "cell_type": "markdown",
   "metadata": {},
   "source": [
    "### Example: Relative Humidity"
   ]
  },
  {
   "cell_type": "markdown",
   "metadata": {},
   "source": [
    "On a summer morning you notice dew on the grass. The temperature is $58^{\\circ}F$. What is the mole fraction of water in the air? In the afternoon the air temperature reaches $80^{\\circ}F$. What is the relative humidity?\n",
    "\n",
    "#### Solution\n",
    "\n",
    "Applying the ideal gas law, we set the partial pressure of water to the observed dew point temperature.\n",
    "\n",
    "$$y_{H_2O}P = P^{sat}_{H_2O}(T_{dew})$$\n",
    "\n",
    "which can be solved for $y_{H_2O}$. The relative humidity is just the ratio of teh partial pressure of water to the saturation pressure.\n",
    "\n",
    "$$RH\\% = \\frac{y_{H_2O}P}{P^{sat}_{H_2O}(T)}\\times 100\\%$$"
   ]
  },
  {
   "cell_type": "code",
   "execution_count": 7,
   "metadata": {
    "collapsed": false
   },
   "outputs": [
    {
     "name": "stdout",
     "output_type": "stream",
     "text": [
      "Mole fraction water =  0.0162\n",
      "Relative humidity at 26.7 deg C = 47.0%\n"
     ]
    }
   ],
   "source": [
    "def f2c(T):\n",
    "    return 5*(T-32.0)/9\n",
    "\n",
    "Tdew = f2c(58)\n",
    "P = 760\n",
    "y = Psat(Tdew)/P\n",
    "\n",
    "print \"Mole fraction water = {:7.4f}\".format(y)\n",
    "\n",
    "T = f2c(80)\n",
    "RH = y*P/Psat(T)\n",
    "\n",
    "print \"Relative humidity at {:.1f} deg C = {:.1f}%\".format(T,100*RH)"
   ]
  },
  {
   "cell_type": "markdown",
   "metadata": {},
   "source": [
    "## A Database of Antoine Equations"
   ]
  },
  {
   "cell_type": "markdown",
   "metadata": {},
   "source": [
    "A simple database of Antoine equations for a set of chemical compounds is easily implemented with a Python dictionary. The unique names for each compound form keys for dictionary. Then for each key, Antoine's equation is implement as an anonymous function. Piecewise functions are implemented using standard Python logical statements. The supplementary dictionaries Psat_Tmin and Psat_Tmax represent upper and lower limits on the range of validity for the corresponding entry in Psat."
   ]
  },
  {
   "cell_type": "code",
   "execution_count": 8,
   "metadata": {
    "collapsed": false
   },
   "outputs": [],
   "source": [
    "Psat = dict()\n",
    "Psat_Tmin = dict()\n",
    "Psat_Tmax = dict()\n",
    "\n",
    "Psat['benzene'] = lambda T: 10**(6.90565 - 1211.033/(T + 220.790))\n",
    "Psat_Tmin['benzene'] = 8\n",
    "Psat_Tmax['benzene'] = 103\n",
    "    \n",
    "Psat['ethanol'] = lambda T: 10**(8.04494 - 1554.3/(T + 222.65))\n",
    "Psat_Tmin['ethanol'] = -2\n",
    "Psat_Tmax['ethanol'] = 100\n",
    "    \n",
    "Psat['methanol'] = lambda T: \\\n",
    "    (T <= 65) and 10**(7.89750 - 1474.08/(T + 229.13)) or \\\n",
    "    (T > 65) and 10**(7.97328 - 1515.14/(T + 232.85))\n",
    "Psat_Tmin['methanol'] = -14\n",
    "Psat_Tmax['methanol'] = 110\n",
    "    \n",
    "Psat['toluene'] = lambda T: 10**(6.95464 - 1344.8/(T + 219.48))\n",
    "Psat_Tmin['toluene'] = 6\n",
    "Psat_Tmax['toluene'] = 137\n",
    "\n",
    "Psat['water'] = lambda T: \\\n",
    "    (T <= 60) and 10**(8.10765 - 1750.286/(T + 235.0)) or \\\n",
    "    (T > 60) and 10**(7.96681 - 1668.21/(T + 228.0))\n",
    "Psat_Tmin['water'] = 0\n",
    "Psat_Tmax['water'] = 150\n",
    "    "
   ]
  },
  {
   "cell_type": "markdown",
   "metadata": {},
   "source": [
    "Generate a report of chemical compounds and temperature ranges for which saturation pressure can be computed."
   ]
  },
  {
   "cell_type": "code",
   "execution_count": 9,
   "metadata": {
    "collapsed": false
   },
   "outputs": [
    {
     "name": "stdout",
     "output_type": "stream",
     "text": [
      "Species          Tmin[C]  Tmax[C]\n",
      "-------          -------  -------\n",
      "benzene              8.0    103.0\n",
      "water                0.0    150.0\n",
      "methanol           -14.0    110.0\n",
      "ethanol             -2.0    100.0\n",
      "toluene              6.0    137.0\n"
     ]
    }
   ],
   "source": [
    "print \"{:15s}  {:7s}  {:7s}\".format('Species','Tmin[C]','Tmax[C]')\n",
    "print \"{:15s}  {:7s}  {:7s}\".format('-------','-------','-------')\n",
    "species = Psat.keys()\n",
    "for s in species:\n",
    "    print \"{:15s}  {:7.1f}  {:7.1f}\".format(s,Psat_Tmin[s],Psat_Tmax[s])"
   ]
  },
  {
   "cell_type": "markdown",
   "metadata": {},
   "source": [
    "## Example: Vapor pressure of Water at 25 $^{\\circ}C$"
   ]
  },
  {
   "cell_type": "code",
   "execution_count": 10,
   "metadata": {
    "collapsed": false
   },
   "outputs": [
    {
     "name": "stdout",
     "output_type": "stream",
     "text": [
      "Vapor pressure of water at 25 deg C = 23.8 mmHg\n"
     ]
    }
   ],
   "source": [
    "P = Psat['water'](25)\n",
    "\n",
    "print \"Vapor pressure of water at 25 deg C = {:4.1f} mmHg\".format(P)"
   ]
  },
  {
   "cell_type": "markdown",
   "metadata": {},
   "source": [
    "## Example: Plotting Saturation Pressure for a Group of Compounds"
   ]
  },
  {
   "cell_type": "code",
   "execution_count": 11,
   "metadata": {
    "collapsed": false
   },
   "outputs": [
    {
     "data": {
      "image/png": "[encoded data removed]",
      "text/plain": [
       "<matplotlib.figure.Figure at 0x109a11150>"
      ]
     },
     "metadata": {},
     "output_type": "display_data"
    }
   ],
   "source": [
    "# Select a list of species\n",
    "species = Psat.keys()\n",
    "\n",
    "# Plot the saturation pressures over the individual temperature ranges\n",
    "for s in species:\n",
    "    T = linspace(Psat_Tmin[s],Psat_Tmax[s])\n",
    "    plot(T,map(Psat[s],T))\n",
    "    \n",
    "legend(species,loc='best')\n",
    "xlabel('Temperature $^{\\circ}C$')\n",
    "ylabel('mmHg')\n",
    "title('Vapor Pressure by Antoine\\'s Equation');"
   ]
  },
  {
   "cell_type": "markdown",
   "metadata": {},
   "source": [
    "## Saturation Temperatures"
   ]
  },
  {
   "cell_type": "code",
   "execution_count": 12,
   "metadata": {
    "collapsed": false
   },
   "outputs": [],
   "source": [
    "Tsat = dict()\n",
    "Tsat_Pmin = dict()\n",
    "Tsat_Pmax = dict()\n",
    "\n",
    "from scipy.optimize import brentq as fzero \n",
    "\n",
    "for s in Psat.keys():\n",
    "    Tsat_Pmin[s] = Psat[s](Psat_Tmin[s])\n",
    "    Tsat_Pmax[s] = Psat[s](Psat_Tmax[s])\n",
    "    Tsat[s] = lambda P,s = s: fzero(lambda T: Psat[s](T)-P,Psat_Tmin[s],Psat_Tmax[s])"
   ]
  },
  {
   "cell_type": "code",
   "execution_count": 13,
   "metadata": {
    "collapsed": false
   },
   "outputs": [
    {
     "data": {
      "image/png": "[encoded data removed]",
      "text/plain": [
       "<matplotlib.figure.Figure at 0x109ae7050>"
      ]
     },
     "metadata": {},
     "output_type": "display_data"
    }
   ],
   "source": [
    "# Select a subset of species\n",
    "s = ['methanol','ethanol']\n",
    "s = Psat.keys()\n",
    "\n",
    "# Plot the saturation pressure over the individual pressure ranges\n",
    "for k in s:\n",
    "    P = linspace(Tsat_Pmin[k],Tsat_Pmax[k])\n",
    "    plot(P,map(Tsat[k],P))\n",
    "    \n",
    "legend(s,loc='best')\n",
    "xlabel('mmHg')\n",
    "ylabel('Temperature $^{\\circ}C$')\n",
    "title('Saturation Temperature by Antoine\\'s Equation');  "
   ]
  },
  {
   "cell_type": "markdown",
   "metadata": {},
   "source": [
    "## Normal Boiling Points"
   ]
  },
  {
   "cell_type": "code",
   "execution_count": 14,
   "metadata": {
    "collapsed": false
   },
   "outputs": [
    {
     "name": "stdout",
     "output_type": "stream",
     "text": [
      "Species        Tb [C]\n",
      "-------        ------\n",
      "benzene         80.10\n",
      "water          100.00\n",
      "methanol        64.71\n",
      "ethanol         78.33\n",
      "toluene        110.63\n"
     ]
    }
   ],
   "source": [
    "species = Psat.keys()\n",
    "\n",
    "print \"{:12s}  {:>7s}\".format('Species','Tb [C]')\n",
    "print \"{:12s}  {:>7s}\".format('-------','------')\n",
    "\n",
    "for s in species:\n",
    "    Tb = Tsat[s](760)\n",
    "    print \"{:12s}  {:7.2f}\".format(s,Tb)"
   ]
  },
  {
   "cell_type": "code",
   "execution_count": null,
   "metadata": {
    "collapsed": false
   },
   "outputs": [],
   "source": []
  }
 ],
 "metadata": {
  "kernelspec": {
   "display_name": "Python 2",
   "language": "python",
   "name": "python2"
  },
  "language_info": {
   "codemirror_mode": {
    "name": "ipython",
    "version": 2
   },
   "file_extension": ".py",
   "mimetype": "text/x-python",
   "name": "python",
   "nbconvert_exporter": "python",
   "pygments_lexer": "ipython2",
   "version": "2.7.9"
  }
 },
 "nbformat": 4,
 "nbformat_minor": 0
}
